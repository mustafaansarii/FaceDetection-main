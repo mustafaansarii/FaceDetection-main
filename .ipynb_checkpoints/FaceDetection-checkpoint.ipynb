{
 "cells": [
  {
   "cell_type": "markdown",
   "metadata": {},
   "source": [
    "# 1. Setup and Get Data"
   ]
  },
  {
   "cell_type": "markdown",
   "metadata": {},
   "source": [
    "### 1.1 Install Dependencies and Setup"
   ]
  },
  {
   "cell_type": "code",
   "execution_count": null,
   "metadata": {
    "tags": []
   },
   "outputs": [
    {
     "name": "stdout",
     "output_type": "stream",
     "text": [
      "Collecting labelme\n",
      "  Downloading labelme-5.4.1.tar.gz (1.4 MB)\n",
      "\u001b[K     |████████████████████████████████| 1.4 MB 1.2 MB/s eta 0:00:01\n",
      "\u001b[?25hCollecting tensorflow\n",
      "  Downloading tensorflow-2.16.1-cp39-cp39-manylinux_2_17_x86_64.manylinux2014_x86_64.whl (589.8 MB)\n",
      "\u001b[K     |████████████████████████████████| 589.8 MB 51 kB/s  eta 0:00:012     |█████████▋                      | 177.1 MB 6.4 MB/s eta 0:01:05     |██████████▉                     | 198.7 MB 5.5 MB/s eta 0:01:11     |████████████▌                   | 230.7 MB 1.6 MB/s eta 0:03:39     |█████████████▌                  | 248.7 MB 54.5 MB/s eta 0:00:07     |██████████████▊                 | 272.1 MB 3.0 MB/s eta 0:01:45     |██████████████████▏             | 334.4 MB 3.4 MB/s eta 0:01:15     |█████████████████████▍          | 393.5 MB 14.9 MB/s eta 0:00:14     |█████████████████████████▎      | 466.8 MB 7.9 MB/s eta 0:00:16\n",
      "\u001b[?25hCollecting tensorflow-gpu\n",
      "  Downloading tensorflow-gpu-2.12.0.tar.gz (2.6 kB)\n",
      "\u001b[31m    ERROR: Command errored out with exit status 1:\n",
      "     command: /home/mustafa/anaconda3/bin/python -c 'import io, os, sys, setuptools, tokenize; sys.argv[0] = '\"'\"'/tmp/pip-install-tycmbst4/tensorflow-gpu_f404d93cbb86415aa959eb442e8fa994/setup.py'\"'\"'; __file__='\"'\"'/tmp/pip-install-tycmbst4/tensorflow-gpu_f404d93cbb86415aa959eb442e8fa994/setup.py'\"'\"';f = getattr(tokenize, '\"'\"'open'\"'\"', open)(__file__) if os.path.exists(__file__) else io.StringIO('\"'\"'from setuptools import setup; setup()'\"'\"');code = f.read().replace('\"'\"'\\r\\n'\"'\"', '\"'\"'\\n'\"'\"');f.close();exec(compile(code, __file__, '\"'\"'exec'\"'\"'))' egg_info --egg-base /tmp/pip-pip-egg-info-xz36a3zu\n",
      "         cwd: /tmp/pip-install-tycmbst4/tensorflow-gpu_f404d93cbb86415aa959eb442e8fa994/\n",
      "    Complete output (38 lines):\n",
      "    Traceback (most recent call last):\n",
      "      File \"/home/mustafa/anaconda3/lib/python3.9/site-packages/setuptools/_vendor/packaging/requirements.py\", line 35, in __init__\n",
      "        parsed = _parse_requirement(requirement_string)\n",
      "      File \"/home/mustafa/anaconda3/lib/python3.9/site-packages/setuptools/_vendor/packaging/_parser.py\", line 64, in parse_requirement\n",
      "        return _parse_requirement(Tokenizer(source, rules=DEFAULT_RULES))\n",
      "      File \"/home/mustafa/anaconda3/lib/python3.9/site-packages/setuptools/_vendor/packaging/_parser.py\", line 82, in _parse_requirement\n",
      "        url, specifier, marker = _parse_requirement_details(tokenizer)\n",
      "      File \"/home/mustafa/anaconda3/lib/python3.9/site-packages/setuptools/_vendor/packaging/_parser.py\", line 126, in _parse_requirement_details\n",
      "        marker = _parse_requirement_marker(\n",
      "      File \"/home/mustafa/anaconda3/lib/python3.9/site-packages/setuptools/_vendor/packaging/_parser.py\", line 147, in _parse_requirement_marker\n",
      "        tokenizer.raise_syntax_error(\n",
      "      File \"/home/mustafa/anaconda3/lib/python3.9/site-packages/setuptools/_vendor/packaging/_tokenizer.py\", line 165, in raise_syntax_error\n",
      "        raise ParserSyntaxError(\n",
      "    setuptools.extern.packaging._tokenizer.ParserSyntaxError: Expected end or semicolon (after name and no valid version specifier)\n",
      "        python_version>\"3.7\"\n",
      "                      ^\n",
      "    \n",
      "    The above exception was the direct cause of the following exception:\n",
      "    \n",
      "    Traceback (most recent call last):\n",
      "      File \"<string>\", line 1, in <module>\n",
      "      File \"/tmp/pip-install-tycmbst4/tensorflow-gpu_f404d93cbb86415aa959eb442e8fa994/setup.py\", line 40, in <module>\n",
      "        setuptools.setup()\n",
      "      File \"/home/mustafa/anaconda3/lib/python3.9/site-packages/setuptools/__init__.py\", line 102, in setup\n",
      "        _install_setup_requires(attrs)\n",
      "      File \"/home/mustafa/anaconda3/lib/python3.9/site-packages/setuptools/__init__.py\", line 73, in _install_setup_requires\n",
      "        dist.parse_config_files(ignore_option_errors=True)\n",
      "      File \"/home/mustafa/anaconda3/lib/python3.9/site-packages/setuptools/dist.py\", line 634, in parse_config_files\n",
      "        self._finalize_requires()\n",
      "      File \"/home/mustafa/anaconda3/lib/python3.9/site-packages/setuptools/dist.py\", line 368, in _finalize_requires\n",
      "        self._normalize_requires()\n",
      "      File \"/home/mustafa/anaconda3/lib/python3.9/site-packages/setuptools/dist.py\", line 383, in _normalize_requires\n",
      "        self.install_requires = list(map(str, _reqs.parse(install_requires)))\n",
      "      File \"/home/mustafa/anaconda3/lib/python3.9/site-packages/setuptools/_vendor/packaging/requirements.py\", line 37, in __init__\n",
      "        raise InvalidRequirement(str(e)) from e\n",
      "    setuptools.extern.packaging.requirements.InvalidRequirement: Expected end or semicolon (after name and no valid version specifier)\n",
      "        python_version>\"3.7\"\n",
      "                      ^\n",
      "    ----------------------------------------\u001b[0m\n",
      "\u001b[33mWARNING: Discarding https://files.pythonhosted.org/packages/8a/45/fa31ced1db38f9424f262dfbf35747fe5378b5c808cecb373c8cb8e515d3/tensorflow-gpu-2.12.0.tar.gz#sha256=51cc56493594840814e55545cf36c006e174a6186f71418cc29aafa62e77b756 (from https://pypi.org/simple/tensorflow-gpu/). Command errored out with exit status 1: python setup.py egg_info Check the logs for full command output.\u001b[0m\n",
      "  Downloading tensorflow_gpu-2.11.0-cp39-cp39-manylinux_2_17_x86_64.manylinux2014_x86_64.whl (588.3 MB)\n",
      "\u001b[K     |████████████████████████████████| 588.3 MB 48 kB/s  eta 0:00:011    |███▎                            | 61.0 MB 8.8 MB/s eta 0:01:01     |██████████▍                     | 191.8 MB 6.5 MB/s eta 0:01:01     |███████████▌                    | 211.3 MB 6.8 MB/s eta 0:00:56     |███████████████████████████████▏| 572.0 MB 5.1 MB/s eta 0:00:04\n",
      "\u001b[?25hRequirement already satisfied: opencv-python in /home/mustafa/anaconda3/lib/python3.9/site-packages (4.9.0.80)\n",
      "Requirement already satisfied: matplotlib in /home/mustafa/anaconda3/lib/python3.9/site-packages (3.5.1)\n",
      "Collecting albumentations\n",
      "  Downloading albumentations-1.4.8-py3-none-any.whl (156 kB)\n",
      "\u001b[K     |████████████████████████████████| 156 kB 3.0 MB/s eta 0:00:01\n",
      "\u001b[?25hCollecting gdown\n",
      "  Downloading gdown-5.2.0-py3-none-any.whl (18 kB)\n",
      "Collecting imgviz>=1.7.5\n",
      "  Downloading imgviz-1.7.5.tar.gz (7.7 MB)\n",
      "\u001b[K     |████████████████████████████████| 7.7 MB 5.2 MB/s eta 0:00:01\n",
      "\u001b[?25hCollecting natsort>=7.1.0\n",
      "  Downloading natsort-8.4.0-py3-none-any.whl (38 kB)\n",
      "Requirement already satisfied: numpy in /home/mustafa/anaconda3/lib/python3.9/site-packages (from labelme) (1.22.0)\n",
      "Collecting onnxruntime!=1.16.0,>=1.14.1\n",
      "  Downloading onnxruntime-1.18.0-cp39-cp39-manylinux_2_27_x86_64.manylinux_2_28_x86_64.whl (6.8 MB)\n",
      "\u001b[K     |████████████████████████████████| 6.8 MB 2.4 MB/s eta 0:00:01\n",
      "\u001b[?25hRequirement already satisfied: Pillow>=2.8 in /home/mustafa/anaconda3/lib/python3.9/site-packages (from labelme) (10.3.0)\n",
      "Requirement already satisfied: PyYAML in /home/mustafa/anaconda3/lib/python3.9/site-packages (from labelme) (6.0)\n",
      "Requirement already satisfied: qtpy!=1.11.2 in /home/mustafa/anaconda3/lib/python3.9/site-packages (from labelme) (2.0.1)\n",
      "Requirement already satisfied: scikit-image in /home/mustafa/anaconda3/lib/python3.9/site-packages (from labelme) (0.19.2)\n",
      "Collecting termcolor\n",
      "  Downloading termcolor-2.4.0-py3-none-any.whl (7.7 kB)\n",
      "Collecting absl-py>=1.0.0\n",
      "  Downloading absl_py-2.1.0-py3-none-any.whl (133 kB)\n",
      "\u001b[K     |████████████████████████████████| 133 kB 2.9 MB/s eta 0:00:01\n",
      "\u001b[?25hCollecting tensorboard<2.17,>=2.16\n",
      "  Downloading tensorboard-2.16.2-py3-none-any.whl (5.5 MB)\n",
      "\u001b[K     |████████████████████████████████| 5.5 MB 5.2 MB/s eta 0:00:01\n",
      "\u001b[?25hCollecting numpy\n",
      "  Downloading numpy-1.26.4-cp39-cp39-manylinux_2_17_x86_64.manylinux2014_x86_64.whl (18.2 MB)\n",
      "\u001b[K     |████████████████████████████████| 18.2 MB 9.1 MB/s eta 0:00:01\n",
      "\u001b[?25hCollecting gast!=0.5.0,!=0.5.1,!=0.5.2,>=0.2.1\n",
      "  Downloading gast-0.5.4-py3-none-any.whl (19 kB)\n",
      "Requirement already satisfied: protobuf!=4.21.0,!=4.21.1,!=4.21.2,!=4.21.3,!=4.21.4,!=4.21.5,<5.0.0dev,>=3.20.3 in /home/mustafa/anaconda3/lib/python3.9/site-packages (from tensorflow) (4.25.3)\n",
      "Requirement already satisfied: typing-extensions>=3.6.6 in /home/mustafa/anaconda3/lib/python3.9/site-packages (from tensorflow) (4.12.0)\n",
      "Requirement already satisfied: setuptools in /home/mustafa/anaconda3/lib/python3.9/site-packages (from tensorflow) (70.0.0)\n",
      "Collecting google-pasta>=0.1.1\n"
     ]
    },
    {
     "name": "stdout",
     "output_type": "stream",
     "text": [
      "  Downloading google_pasta-0.2.0-py3-none-any.whl (57 kB)\n",
      "\u001b[K     |████████████████████████████████| 57 kB 3.0 MB/s eta 0:00:011\n",
      "\u001b[?25hCollecting h5py>=3.10.0\n",
      "  Downloading h5py-3.11.0-cp39-cp39-manylinux_2_17_x86_64.manylinux2014_x86_64.whl (5.3 MB)\n",
      "\u001b[K     |████████████████████████████████| 5.3 MB 2.8 MB/s eta 0:00:01\n",
      "\u001b[?25hCollecting tensorflow-io-gcs-filesystem>=0.23.1\n",
      "  Downloading tensorflow_io_gcs_filesystem-0.37.0-cp39-cp39-manylinux_2_17_x86_64.manylinux2014_x86_64.whl (5.1 MB)\n",
      "\u001b[K     |████████████████████████████████| 5.1 MB 5.9 MB/s eta 0:00:01\n",
      "\u001b[?25hCollecting opt-einsum>=2.3.2\n",
      "  Downloading opt_einsum-3.3.0-py3-none-any.whl (65 kB)\n",
      "\u001b[K     |████████████████████████████████| 65 kB 3.9 MB/s eta 0:00:01\n",
      "\u001b[?25hRequirement already satisfied: six>=1.12.0 in /home/mustafa/anaconda3/lib/python3.9/site-packages (from tensorflow) (1.16.0)\n",
      "Collecting flatbuffers>=23.5.26\n",
      "  Downloading flatbuffers-24.3.25-py2.py3-none-any.whl (26 kB)\n",
      "Requirement already satisfied: requests<3,>=2.21.0 in /home/mustafa/anaconda3/lib/python3.9/site-packages (from tensorflow) (2.32.2)\n",
      "Collecting astunparse>=1.6.0\n",
      "  Downloading astunparse-1.6.3-py2.py3-none-any.whl (12 kB)\n",
      "Collecting ml-dtypes~=0.3.1\n",
      "  Downloading ml_dtypes-0.3.2-cp39-cp39-manylinux_2_17_x86_64.manylinux2014_x86_64.whl (2.2 MB)\n",
      "\u001b[K     |████████████████████████████████| 2.2 MB 4.6 MB/s eta 0:00:01\n",
      "\u001b[?25hRequirement already satisfied: packaging in /home/mustafa/anaconda3/lib/python3.9/site-packages (from tensorflow) (21.3)\n",
      "Requirement already satisfied: wrapt>=1.11.0 in /home/mustafa/anaconda3/lib/python3.9/site-packages (from tensorflow) (1.12.1)\n",
      "Collecting keras>=3.0.0\n",
      "  Downloading keras-3.3.3-py3-none-any.whl (1.1 MB)\n",
      "\u001b[K     |████████████████████████████████| 1.1 MB 3.1 MB/s eta 0:00:01\n",
      "\u001b[?25hRequirement already satisfied: grpcio<2.0,>=1.24.3 in /home/mustafa/anaconda3/lib/python3.9/site-packages (from tensorflow) (1.42.0)\n",
      "Collecting libclang>=13.0.0\n",
      "  Downloading libclang-18.1.1-py2.py3-none-manylinux2010_x86_64.whl (24.5 MB)\n",
      "\u001b[K     |████████████████████████████████| 24.5 MB 19.1 MB/s eta 0:00:01\n",
      "\u001b[?25hCollecting tensorflow-gpu\n",
      "  Downloading tensorflow_gpu-2.10.1-cp39-cp39-manylinux_2_17_x86_64.manylinux2014_x86_64.whl (578.1 MB)\n",
      "\u001b[K     |████████████████████████████████| 578.1 MB 82 kB/s  eta 0:00:012    |█                               | 18.9 MB 1.1 MB/s eta 0:08:21     |███████████▋                    | 209.7 MB 4.7 MB/s eta 0:01:19     |████████████▋                   | 228.1 MB 5.3 MB/s eta 0:01:07     |███████████████                 | 271.0 MB 10.0 MB/s eta 0:00:31     |████████████████████▌           | 371.3 MB 5.4 MB/s eta 0:00:39     |█████████████████████████▏      | 455.0 MB 2.8 MB/s eta 0:00:45\n",
      "\u001b[?25h  Downloading tensorflow_gpu-2.10.0-cp39-cp39-manylinux_2_17_x86_64.manylinux2014_x86_64.whl (578.1 MB)\n",
      "\u001b[K     |████████████████████████████████| 578.1 MB 76 kB/s  eta 0:00:014    |██▋                             | 46.5 MB 5.7 MB/s eta 0:01:34     |████████▌                       | 154.0 MB 11.2 MB/s eta 0:00:39     |███████████▎                    | 203.0 MB 4.5 MB/s eta 0:01:23�██                 | 271.5 MB 10.0 MB/s eta 0:00:31     |███████████████▍                | 278.0 MB 10.0 MB/s eta 0:00:30     |████████████████▌               | 297.4 MB 6.0 MB/s eta 0:00:47     |███████████████████████████▉    | 503.3 MB 177 kB/s eta 0:07:01\n",
      "\u001b[?25h  Downloading tensorflow_gpu-2.9.3-cp39-cp39-manylinux_2_17_x86_64.manylinux2014_x86_64.whl (511.8 MB)\n",
      "\u001b[K     |████████████████████████████████| 511.8 MB 90 kB/s  eta 0:00:015███▌                 | 231.9 MB 140 kB/s eta 0:33:16MB/s eta 0:00:08     |██████████████████████████▎     | 421.0 MB 14 kB/s eta 1:45:25     |████████████████████████████▌   | 456.6 MB 671 kB/s eta 0:01:23\n",
      "\u001b[?25h  Downloading tensorflow_gpu-2.9.2-cp39-cp39-manylinux_2_17_x86_64.manylinux2014_x86_64.whl (511.8 MB)\n",
      "\u001b[K     |████████████████████████████████| 511.8 MB 44 kB/s  eta 0:00:013    |██████▊                         | 106.7 MB 203 kB/s eta 0:33:08412 kB/s eta 0:11:44\n",
      "\u001b[?25h  Downloading tensorflow_gpu-2.9.1-cp39-cp39-manylinux_2_17_x86_64.manylinux2014_x86_64.whl (511.7 MB)\n",
      "\u001b[K     |████████████████████████████████| 511.7 MB 9.5 kB/s  eta 0:00:01    |███████                         | 113.4 MB 207 kB/s eta 0:32:04     |██████████████████████████████▋ | 490.2 MB 364 kB/s eta 0:00:59\n",
      "\u001b[?25h  Downloading tensorflow_gpu-2.9.0-cp39-cp39-manylinux_2_17_x86_64.manylinux2014_x86_64.whl (511.7 MB)\n",
      "\u001b[K     |████████████████████████████████| 511.7 MB 108 kB/s eta 0:00:012   |██                              | 31.2 MB 40 kB/s eta 3:18:32     |█████████▉                      | 157.0 MB 89 kB/s eta 1:05:46��███████████████████▊   | 458.6 MB 1.6 MB/s eta 0:00:33     |██████████████████████████████▎ | 483.8 MB 14.5 MB/s eta 0:00:02     |███████████████████████████████▍| 501.6 MB 107 kB/s eta 0:01:34\n",
      "\u001b[?25h  Downloading tensorflow_gpu-2.8.4-cp39-cp39-manylinux2010_x86_64.whl (498.1 MB)\n",
      "\u001b[K     |████████████████████████████████| 498.1 MB 73 kB/s  eta 0:00:013     | 175.3 MB 468 kB/s eta 0:11:29     |███████████████████▍            | 301.2 MB 276 kB/s eta 0:11:51\n",
      "\u001b[?25h  Downloading tensorflow_gpu-2.8.3-cp39-cp39-manylinux2010_x86_64.whl (498.5 MB)\n",
      "\u001b[K     |████████████████████████████████| 498.5 MB 38 kB/s  eta 0:00:018              | 155.4 MB 377 kB/s eta 0:15:09     |████████████████████▎           | 315.3 MB 7.2 MB/s eta 0:00:26\n",
      "\u001b[?25h  Downloading tensorflow_gpu-2.8.2-cp39-cp39-manylinux2010_x86_64.whl (498.0 MB)\n",
      "\u001b[K     |████████████████████████████████| 498.0 MB 6.3 kB/s eta 0:00:014\n",
      "\u001b[?25h  Downloading tensorflow_gpu-2.8.1-cp39-cp39-manylinux2010_x86_64.whl (498.0 MB)\n",
      "\u001b[K     |████████████████████████████████| 498.0 MB 93 kB/s  eta 0:00:011   |██████                          | 93.7 MB 134 kB/s eta 0:49:58     |████████████▍                   | 193.6 MB 8.9 MB/s eta 0:00:35     |████████████████████▎           | 315.7 MB 2.6 MB/s eta 0:01:11\n",
      "\u001b[?25h  Downloading tensorflow_gpu-2.8.0-cp39-cp39-manylinux2010_x86_64.whl (497.6 MB)\n"
     ]
    },
    {
     "name": "stdout",
     "output_type": "stream",
     "text": [
      "\u001b[K     |██████████�██▊                  | 214.1 MB 164 kB/s eta 0:28:400    |██████████▉                     | 167.7 MB 679 kB/s eta 0:08:06    |██████████▉                     | 168.2 MB 679 kB/s eta 0:08:05██████████▉                     | 168.4 MB 679 kB/s eta 0:08:05�████████▉                     | 168.7 MB 679 kB/s eta 0:08:05��██████▉                     | 168.9 MB 679 kB/s eta 0:08:04█████▉                     | 169.1 MB 679 kB/s eta 0:08:04�███▉                     | 169.3 MB 679 kB/s eta 0:08:04��██                     | 169.5 MB 679 kB/s eta 0:08:03█                     | 169.7 MB 679 kB/s eta 0:08:03                   | 169.9 MB 679 kB/s eta 0:08:03              | 170.2 MB 679 kB/s eta 0:08:02         | 170.4 MB 679 kB/s eta 0:08:02    | 170.6 MB 679 kB/s eta 0:08:02 170.8 MB 679 kB/s eta 0:08:010 MB 679 kB/s eta 0:08:01679 kB/s eta 0:08:01B/s eta 0:08:00ta 0:08:0001:09    |███████████                     | 172.3 MB 4.7 MB/s eta 0:01:09███████████                     | 172.5 MB 4.7 MB/s eta 0:01:09    |███████████▏                    | 172.8 MB 4.7 MB/s eta 0:01:09 | 173.0 MB 4.7 MB/s eta 0:01:09█████▏                    | 173.2 MB 4.7 MB/s eta 0:01:09a 0:01:09               | 173.6 MB 4.7 MB/s eta 0:01:09��█████████▏                    | 173.9 MB 4.7 MB/s eta 0:01:09MB 4.7 MB/s eta 0:01:09██▏                    | 174.3 MB 4.7 MB/s eta 0:01:09      | 174.8 MB 164 kB/s eta 0:32:46��██████▎                    | 175.0 MB 164 kB/s eta 0:32:45/s eta 0:32:43                    | 175.4 MB 164 kB/s eta 0:32:42|███████████▎                    | 175.6 MB 164 kB/s eta 0:32:4175.8 MB 164 kB/s eta 0:32:39��███▎                    | 176.1 MB 164 kB/s eta 0:32:3832:37           | 176.5 MB 164 kB/s eta 0:32:36      | 176.8 MB 164 kB/s eta 0:32:34��██████▍                    | 177.0 MB 164 kB/s eta 0:32:32/s eta 0:32:31                    | 177.4 MB 164 kB/s eta 0:32:30|███████████▍                    | 177.6 MB 164 kB/s eta 0:32:2977.8 MB 164 kB/s eta 0:32:27��███▌                    | 178.1 MB 164 kB/s eta 0:32:2632:25           | 178.5 MB 164 kB/s eta 0:32:23      | 178.8 MB 164 kB/s eta 0:32:13��██████▌                    | 179.0 MB 164 kB/s eta 0:32:12/s eta 0:32:10|███████████▌                    | 179.6 MB 164 kB/s eta 0:32:0879.8 MB 164 kB/s eta 0:32:07��███▋                    | 180.1 MB 164 kB/s eta 0:32:0532:04           | 180.5 MB 164 kB/s eta 0:32:03      | 180.8 MB 164 kB/s eta 0:32:01��██████▋                    | 181.0 MB 164 kB/s eta 0:32:00/s eta 0:31:58                    | 181.4 MB 164 kB/s eta 0:31:57|███████████▊                    | 181.6 MB 164 kB/s eta 0:31:5681.8 MB 164 kB/s eta 0:31:55��███▊                    | 182.0 MB 164 kB/s eta 0:31:5331:52           | 182.5 MB 164 kB/s eta 0:31:51      | 182.8 MB 166 kB/s eta 0:31:35��██████▊                    | 183.0 MB 166 kB/s eta 0:31:34/s eta 0:31:33                    | 183.4 MB 166 kB/s eta 0:31:32|███████████▉                    | 183.6 MB 166 kB/s eta 0:31:3083.8 MB 166 kB/s eta 0:31:29��███▉                    | 184.0 MB 166 kB/s eta 0:31:2831:27           | 184.5 MB 166 kB/s eta 0:31:25      | 184.8 MB 166 kB/s eta 0:31:23��███████                    | 185.0 MB 166 kB/s eta 0:31:22/s eta 0:31:21                    | 185.4 MB 166 kB/s eta 0:31:20|████████████                    | 185.6 MB 166 kB/s eta 0:31:1885.8 MB 166 kB/s eta 0:31:17��████                    | 186.0 MB 166 kB/s eta 0:31:1631:15           | 186.5 MB 166 kB/s eta 0:31:13      | 186.8 MB 165 kB/s eta 0:31:16��███████                    | 187.0 MB 165 kB/s eta 0:31:15/s eta 0:31:13                    | 187.4 MB 165 kB/s eta 0:31:12|████████████                    | 187.6 MB 165 kB/s eta 0:31:1187.8 MB 165 kB/s eta 0:31:10��████                    | 188.0 MB 165 kB/s eta 0:31:0831:07��███▏                   | 188.5 MB 165 kB/s eta 0:31:06��████████▏                   | 188.8 MB 165 kB/s eta 0:31:04██▏                   | 189.0 MB 165 kB/s eta 0:31:03        | 189.2 MB 165 kB/s eta 0:31:0265 kB/s eta 0:31:00�████████▏                   | 189.8 MB 165 kB/s eta 0:30:58��█▏                   | 190.0 MB 165 kB/s eta 0:30:57       | 190.2 MB 165 kB/s eta 0:30:555 kB/s eta 0:30:54��████████▎                   | 190.8 MB 166 kB/s eta 0:30:39██▎                   | 191.0 MB 166 kB/s eta 0:30:37        | 191.2 MB 166 kB/s eta 0:30:3666 kB/s eta 0:30:35�████████▎                   | 191.8 MB 166 kB/s eta 0:30:32��█▍                   | 192.0 MB 166 kB/s eta 0:30:31       | 192.2 MB 166 kB/s eta 0:30:306 kB/s eta 0:30:29��████████▍                   | 192.8 MB 166 kB/s eta 0:30:27██▍                   | 193.0 MB 166 kB/s eta 0:30:25        | 193.2 MB 166 kB/s eta 0:30:2466 kB/s eta 0:30:23�████████▌                   | 193.8 MB 166 kB/s eta 0:30:20��█▌                   | 194.0 MB 166 kB/s eta 0:30:19       | 194.2 MB 166 kB/s eta 0:30:186 kB/s eta 0:30:17��████████▌                   | 194.8 MB 150 kB/s eta 0:33:39██▌                   | 195.0 MB 150 kB/s eta 0:33:38        | 195.2 MB 150 kB/s eta 0:33:3650 kB/s eta 0:33:35�████████▋                   | 195.8 MB 150 kB/s eta 0:33:32��█▋                   | 196.0 MB 150 kB/s eta 0:33:31       | 196.2 MB 150 kB/s eta 0:33:290 kB/s eta 0:33:28��████████▋                   | 196.8 MB 150 kB/s eta 0:33:26██▋                   | 197.0 MB 150 kB/s eta 0:33:24        | 197.2 MB 150 kB/s eta 0:33:2350 kB/s eta 0:33:22�████████▊                   | 197.8 MB 150 kB/s eta 0:33:19��█▊                   | 198.0 MB 150 kB/s eta 0:33:17       | 198.2 MB 150 kB/s eta 0:33:160 kB/s eta 0:33:15��████████▉                   | 198.8 MB 165 kB/s eta 0:30:01██▉                   | 199.0 MB 165 kB/s eta 0:30:00        | 199.2 MB 165 kB/s eta 0:29:5965 kB/s eta 0:29:57�████████▉                   | 199.8 MB 165 kB/s eta 0:29:55��█▉                   | 200.0 MB 165 kB/s eta 0:29:54       | 200.2 MB 165 kB/s eta 0:29:525 kB/s eta 0:29:51��█████████                   | 200.7 MB 165 kB/s eta 0:29:49███                   | 200.9 MB 165 kB/s eta 0:29:48        | 201.2 MB 165 kB/s eta 0:29:4765 kB/s eta 0:29:45�█████████                   | 201.8 MB 165 kB/s eta 0:29:43��██                   | 202.0 MB 165 kB/s eta 0:29:42       | 202.2 MB 165 kB/s eta 0:29:405 kB/s eta 0:29:39��█████████                   | 202.7 MB 166 kB/s eta 0:29:36███                   | 202.9 MB 166 kB/s eta 0:29:35        | 203.2 MB 166 kB/s eta 0:29:3366 kB/s eta 0:29:32�█████████                   | 203.8 MB 166 kB/s eta 0:29:30████████▏                  | 204.0 MB 166 kB/s eta 0:29:28    |█████████████▏                  | 204.2 MB 166 kB/s eta 0:29:27B/s eta 0:29:26166 kB/s eta 0:29:24         | 204.9 MB 166 kB/s eta 0:29:23��██▏                  | 205.1 MB 166 kB/s eta 0:29:22�█████████▏                  | 205.3 MB 166 kB/s eta 0:29:2066 kB/s eta 0:29:18        | 205.9 MB 166 kB/s eta 0:29:17�██▎                  | 206.2 MB 166 kB/s eta 0:29:15█████████▎                  | 206.4 MB 166 kB/s eta 0:29:14165 kB/s eta 0:29:16         | 206.9 MB 165 kB/s eta 0:29:15��██▎                  | 207.1 MB 165 kB/s eta 0:29:14�█████████▎                  | 207.3 MB 165 kB/s eta 0:29:1265 kB/s eta 0:29:10        | 207.9 MB 165 kB/s eta 0:29:09�██▍                  | 208.1 MB 165 kB/s eta 0:29:07█████████▍                  | 208.4 MB 165 kB/s eta 0:29:06165 kB/s eta 0:29:04         | 208.9 MB 165 kB/s eta 0:29:03��██▌                  | 209.1 MB 165 kB/s eta 0:29:01�█████████▌                  | 209.3 MB 165 kB/s eta 0:29:0065 kB/s eta 0:28:58        | 209.9 MB 165 kB/s eta 0:28:57�██▌                  | 210.1 MB 165 kB/s eta 0:28:55█████████▌                  | 210.4 MB 165 kB/s eta 0:28:54164 kB/s eta 0:29:01         | 210.9 MB 164 kB/s eta 0:29:00��██▋                  | 211.1 MB 164 kB/s eta 0:28:59�█████████▋                  | 211.3 MB 164 kB/s eta 0:28:5764 kB/s eta 0:28:55        | 211.9 MB 164 kB/s eta 0:28:54�██▋                  | 212.1 MB 164 kB/s eta 0:28:52█████████▋                  | 212.3 MB 164 kB/s eta 0:28:51164 kB/s eta 0:28:49         | 212.9 MB 164 kB/s eta 0:28:48��██▊                  | 213.1 MB 164 kB/s eta 0:28:47�█████████▊                  | 213.3 MB 164 kB/s eta 0:28:4564 kB/s eta 0:28:43        | 213.9 MB 164 kB/s eta 0:28:42"
     ]
    },
    {
     "name": "stdout",
     "output_type": "stream",
     "text": [
      "\u001b[K     |██████�█████████                | 249.3 MB 161 kB/s eta 0:25:34165 kB/s eta 0:28:26         | 214.9 MB 165 kB/s eta 0:28:25��██▉                  | 215.1 MB 165 kB/s eta 0:28:24�█████████▉                  | 215.3 MB 165 kB/s eta 0:28:2365 kB/s eta 0:28:20        | 215.9 MB 165 kB/s eta 0:28:19�███                  | 216.1 MB 165 kB/s eta 0:28:18██████████                  | 216.3 MB 165 kB/s eta 0:28:17165 kB/s eta 0:28:14         | 216.9 MB 165 kB/s eta 0:28:13��███                  | 217.1 MB 165 kB/s eta 0:28:12�██████████                  | 217.3 MB 165 kB/s eta 0:28:1165 kB/s eta 0:28:08        | 217.9 MB 165 kB/s eta 0:28:07�███                  | 218.1 MB 165 kB/s eta 0:28:06██████████                  | 218.3 MB 165 kB/s eta 0:28:05166 kB/s eta 0:28:00         | 218.9 MB 166 kB/s eta 0:27:59��███                  | 219.1 MB 166 kB/s eta 0:27:58�██████████                  | 219.3 MB 166 kB/s eta 0:27:56s eta 0:27:55�███████▏                 | 219.7 MB 166 kB/s eta 0:27:54 219.9 MB 166 kB/s eta 0:27:53█████████████▏                 | 220.1 MB 166 kB/s eta 0:27:52                | 220.3 MB 166 kB/s eta 0:27:50███▏                 | 220.6 MB 166 kB/s eta 0:27:49 kB/s eta 0:27:48��████████▏                 | 221.0 MB 166 kB/s eta 0:27:46   | 221.2 MB 166 kB/s eta 0:27:45|██████████████▎                 | 221.4 MB 166 kB/s eta 0:27:44▎                 | 221.6 MB 166 kB/s eta 0:27:43 0:27:42��█████▎                 | 222.0 MB 166 kB/s eta 0:27:402 MB 166 kB/s eta 0:27:39�███████████▎                 | 222.4 MB 181 kB/s eta 0:25:14           | 222.6 MB 181 kB/s eta 0:25:13��██▍                 | 223.0 MB 181 kB/s eta 0:25:11kB/s eta 0:25:09�████████▍                 | 223.4 MB 181 kB/s eta 0:25:08  | 223.6 MB 181 kB/s eta 0:25:07██████████████▍                 | 223.8 MB 181 kB/s eta 0:25:06��                 | 224.0 MB 181 kB/s eta 0:25:05███▍                 | 224.2 MB 181 kB/s eta 0:25:04 kB/s eta 0:25:03��████████▍                 | 224.6 MB 181 kB/s eta 0:25:02   | 224.8 MB 181 kB/s eta 0:25:01|██████████████▌                 | 225.0 MB 181 kB/s eta 0:24:59▌                 | 225.2 MB 181 kB/s eta 0:24:58 0:24:57��█████▌                 | 225.6 MB 181 kB/s eta 0:24:568 MB 181 kB/s eta 0:24:55�███████████▌                 | 226.0 MB 149 kB/s eta 0:30:13           | 226.2 MB 149 kB/s eta 0:30:11��██▋                 | 226.6 MB 149 kB/s eta 0:30:09kB/s eta 0:30:07�████████▋                 | 227.0 MB 149 kB/s eta 0:30:06  | 227.2 MB 149 kB/s eta 0:30:05██████████████▋                 | 227.4 MB 149 kB/s eta 0:30:03��                 | 227.6 MB 149 kB/s eta 0:30:02███▋                 | 227.8 MB 149 kB/s eta 0:30:01 kB/s eta 0:29:59��████████▊                 | 228.2 MB 149 kB/s eta 0:29:58   | 228.4 MB 149 kB/s eta 0:29:57|██████████████▊                 | 228.6 MB 149 kB/s eta 0:29:55▊                 | 228.8 MB 149 kB/s eta 0:29:54 0:29:53��█████▊                 | 229.2 MB 149 kB/s eta 0:29:514 MB 149 kB/s eta 0:29:50███▊                 | 229.6 MB 164 kB/s eta 0:27:07 kB/s eta 0:27:06��████████▉                 | 230.0 MB 164 kB/s eta 0:27:05   | 230.2 MB 164 kB/s eta 0:27:04|██████████████▉                 | 230.4 MB 164 kB/s eta 0:27:03▉                 | 230.6 MB 164 kB/s eta 0:27:01 0:27:00��█████▉                 | 231.0 MB 164 kB/s eta 0:26:592 MB 164 kB/s eta 0:26:58�███████████▉                 | 231.4 MB 164 kB/s eta 0:26:56           | 231.6 MB 164 kB/s eta 0:26:55��███                 | 232.0 MB 164 kB/s eta 0:26:53kB/s eta 0:26:52�█████████                 | 232.4 MB 164 kB/s eta 0:26:50  | 232.6 MB 164 kB/s eta 0:26:49███████████████                 | 232.8 MB 164 kB/s eta 0:26:48��                 | 233.0 MB 164 kB/s eta 0:26:47████                 | 233.2 MB 159 kB/s eta 0:27:40 kB/s eta 0:27:38��█████████                 | 233.6 MB 159 kB/s eta 0:27:37   | 233.8 MB 159 kB/s eta 0:27:36|███████████████                 | 234.0 MB 159 kB/s eta 0:27:35█                 | 234.2 MB 159 kB/s eta 0:27:33 0:27:32��██████                 | 234.6 MB 159 kB/s eta 0:27:318 MB 159 kB/s eta 0:27:30█████████████▏                | 235.0 MB 159 kB/s eta 0:27:28�███████████▏                | 235.2 MB 159 kB/s eta 0:27:27��█████████▏                | 235.4 MB 159 kB/s eta 0:27:26████████▏                | 235.6 MB 159 kB/s eta 0:27:25�██████▏                | 235.8 MB 159 kB/s eta 0:27:24��████▏                | 236.0 MB 159 kB/s eta 0:27:22███▏                | 236.2 MB 159 kB/s eta 0:27:21�█▏                | 236.4 MB 159 kB/s eta 0:27:20    |███████████████▏                | 236.7 MB 181 kB/s eta 0:23:56███████████████▎                | 236.9 MB 181 kB/s eta 0:23:55�█████████████▎                | 237.1 MB 181 kB/s eta 0:23:54��███████████▎                | 237.3 MB 181 kB/s eta 0:23:53██████████▎                | 237.5 MB 181 kB/s eta 0:23:51�████████▎                | 237.7 MB 181 kB/s eta 0:23:50��██████▎                | 237.9 MB 181 kB/s eta 0:23:49█████▎                | 238.0 MB 181 kB/s eta 0:23:48    |███████████████▎                | 238.3 MB 181 kB/s eta 0:23:47███████████████▍                | 238.5 MB 181 kB/s eta 0:23:46�█████████████▍                | 238.7 MB 181 kB/s eta 0:23:45��███████████▍                | 238.9 MB 181 kB/s eta 0:23:44██████████▍                | 239.1 MB 181 kB/s eta 0:23:42�████████▍                | 239.3 MB 181 kB/s eta 0:23:41��██████▍                | 239.5 MB 181 kB/s eta 0:23:40█████▍                | 239.7 MB 181 kB/s eta 0:23:39    |███████████████▍                | 240.0 MB 161 kB/s eta 0:26:36███████████████▍                | 240.2 MB 161 kB/s eta 0:26:35�█████████████▌                | 240.4 MB 161 kB/s eta 0:26:33��███████████▌                | 240.6 MB 161 kB/s eta 0:26:32██████████▌                | 240.8 MB 161 kB/s eta 0:26:31�████████▌                | 240.9 MB 161 kB/s eta 0:26:30��██████▌                | 241.1 MB 161 kB/s eta 0:26:29█████▌                | 241.3 MB 161 kB/s eta 0:26:27    |███████████████▌                | 241.7 MB 161 kB/s eta 0:26:25███████████████▌                | 241.8 MB 161 kB/s eta 0:26:24�█████████████▋                | 242.0 MB 161 kB/s eta 0:26:23��███████████▋                | 242.2 MB 161 kB/s eta 0:26:22██████████▋                | 242.4 MB 161 kB/s eta 0:26:21�████████▋                | 242.6 MB 161 kB/s eta 0:26:19��██████▋                | 242.8 MB 161 kB/s eta 0:26:18█████▋                | 243.0 MB 161 kB/s eta 0:26:17    |███████████████▋                | 243.3 MB 179 kB/s eta 0:23:40███████████████▋                | 243.5 MB 179 kB/s eta 0:23:39�█████████████▊                | 243.7 MB 179 kB/s eta 0:23:38��███████████▊                | 243.9 MB 179 kB/s eta 0:23:37██████████▊                | 244.1 MB 179 kB/s eta 0:23:36�████████▊                | 244.3 MB 179 kB/s eta 0:23:35��██████▊                | 244.5 MB 179 kB/s eta 0:23:34█████▊                | 244.7 MB 179 kB/s eta 0:23:33    |███████████████▊                | 245.0 MB 179 kB/s eta 0:23:31███████████████▊                | 245.2 MB 179 kB/s eta 0:23:30�█████████████▉                | 245.4 MB 179 kB/s eta 0:23:29��███████████▉                | 245.6 MB 179 kB/s eta 0:23:28██████████▉                | 245.8 MB 179 kB/s eta 0:23:26�████████▉                | 246.0 MB 179 kB/s eta 0:23:25��██████▉                | 246.2 MB 179 kB/s eta 0:23:24█████▉                | 246.4 MB 179 kB/s eta 0:23:23    |███████████████▉                | 246.7 MB 161 kB/s eta 0:25:50███████████████▉                | 246.9 MB 161 kB/s eta 0:25:49�█████████████▉                | 247.1 MB 161 kB/s eta 0:25:48��████████████                | 247.3 MB 161 kB/s eta 0:25:46███████████                | 247.5 MB 161 kB/s eta 0:25:45�█████████                | 247.7 MB 161 kB/s eta 0:25:44��███████                | 247.8 MB 161 kB/s eta 0:25:43██████                | 248.0 MB 161 kB/s eta 0:25:42    |████████████████                | 248.3 MB 161 kB/s eta 0:25:40████████████████                | 248.5 MB 161 kB/s eta 0:25:39�██████████████                | 248.7 MB 161 kB/s eta 0:25:38��████████████                | 248.9 MB 161 kB/s eta 0:25:36███████████                | 249.1 MB 161 kB/s eta 0:25:35"
     ]
    },
    {
     "name": "stdout",
     "output_type": "stream",
     "text": [
      "\u001b[K     |██████████████████▎             | 285.0 MB 178 kB/s eta 0:19:4933██████                | 249.7 MB 161 kB/s eta 0:25:32    |████████████████                | 250.0 MB 179 kB/s eta 0:23:04████████████████                | 250.2 MB 179 kB/s eta 0:23:03�██████████████                | 250.3 MB 179 kB/s eta 0:23:02��████████████                | 250.5 MB 179 kB/s eta 0:23:01eta 0:23:00             | 250.9 MB 179 kB/s eta 0:22:58�█████████▏               | 251.1 MB 179 kB/s eta 0:22:57:56  | 251.6 MB 179 kB/s eta 0:22:55��█████▏               | 251.8 MB 179 kB/s eta 0:22:54 |████████████████▏               | 252.0 MB 179 kB/s eta 0:22:532 MB 179 kB/s eta 0:22:52███▎               | 252.4 MB 179 kB/s eta 0:22:50██████████████▎               | 252.5 MB 179 kB/s eta 0:22:49 kB/s eta 0:22:48�▎               | 252.9 MB 179 kB/s eta 0:22:47  | 253.2 MB 179 kB/s eta 0:22:45��█████▎               | 253.4 MB 179 kB/s eta 0:22:44 |████████████████▎               | 253.6 MB 179 kB/s eta 0:22:438 MB 179 kB/s eta 0:22:42███▎               | 254.0 MB 179 kB/s eta 0:22:41██████████████▍               | 254.2 MB 179 kB/s eta 0:22:40 kB/s eta 0:22:38�▍               | 254.6 MB 179 kB/s eta 0:22:37  | 254.9 MB 179 kB/s eta 0:22:36��█████▍               | 255.1 MB 179 kB/s eta 0:22:35 |████████████████▍               | 255.3 MB 179 kB/s eta 0:22:344 MB 179 kB/s eta 0:22:33███▍               | 255.6 MB 179 kB/s eta 0:22:31██████████████▌               | 255.8 MB 179 kB/s eta 0:22:30 kB/s eta 0:22:29�▌               | 256.2 MB 179 kB/s eta 0:22:28  | 256.5 MB 163 kB/s eta 0:24:35��█████▌               | 256.7 MB 163 kB/s eta 0:24:34 |████████████████▌               | 256.9 MB 163 kB/s eta 0:24:321 MB 163 kB/s eta 0:24:31███▌               | 257.3 MB 163 kB/s eta 0:24:30██████████████▋               | 257.5 MB 163 kB/s eta 0:24:29 kB/s eta 0:24:28�▋               | 257.9 MB 163 kB/s eta 0:24:27  | 258.2 MB 163 kB/s eta 0:24:25��█████▋               | 258.4 MB 163 kB/s eta 0:24:23 |████████████████▋               | 258.6 MB 163 kB/s eta 0:24:228 MB 163 kB/s eta 0:24:21███▋               | 258.9 MB 163 kB/s eta 0:24:20██████████████▋               | 259.1 MB 163 kB/s eta 0:24:19 kB/s eta 0:24:17�▊               | 259.5 MB 163 kB/s eta 0:24:16  | 259.8 MB 181 kB/s eta 0:21:50��█████▊               | 260.0 MB 181 kB/s eta 0:21:49 |████████████████▊               | 260.2 MB 181 kB/s eta 0:21:484 MB 181 kB/s eta 0:21:47███▊               | 260.6 MB 181 kB/s eta 0:21:45██████████████▊               | 260.8 MB 181 kB/s eta 0:21:44 kB/s eta 0:21:43�▉               | 261.2 MB 181 kB/s eta 0:21:42  | 261.5 MB 181 kB/s eta 0:21:40��█████▉               | 261.7 MB 181 kB/s eta 0:21:39 |████████████████▉               | 261.9 MB 181 kB/s eta 0:21:381 MB 181 kB/s eta 0:21:37███▉               | 262.3 MB 181 kB/s eta 0:21:36██████████████▉               | 262.5 MB 181 kB/s eta 0:21:35 kB/s eta 0:21:34�█               | 262.9 MB 181 kB/s eta 0:21:33  | 263.2 MB 180 kB/s eta 0:21:37��██████               | 263.4 MB 180 kB/s eta 0:21:36 |█████████████████               | 263.6 MB 180 kB/s eta 0:21:358 MB 180 kB/s eta 0:21:34████               | 263.9 MB 180 kB/s eta 0:21:33███████████████               | 264.1 MB 180 kB/s eta 0:21:32 kB/s eta 0:21:31�█               | 264.5 MB 180 kB/s eta 0:21:30  | 264.8 MB 180 kB/s eta 0:21:28��██████               | 265.0 MB 180 kB/s eta 0:21:27 |█████████████████               | 265.2 MB 180 kB/s eta 0:21:264 MB 180 kB/s eta 0:21:25████               | 265.6 MB 180 kB/s eta 0:21:24███████████████               | 265.8 MB 180 kB/s eta 0:21:23 kB/s eta 0:21:22��████▏              | 266.2 MB 180 kB/s eta 0:21:21��███████▏              | 266.5 MB 178 kB/s eta 0:21:32  | 266.6 MB 178 kB/s eta 0:21:31    |█████████████████▏              | 266.8 MB 178 kB/s eta 0:21:30██████▏              | 267.0 MB 178 kB/s eta 0:21:2967.2 MB 178 kB/s eta 0:21:28█████████████████▏              | 267.4 MB 178 kB/s eta 0:21:27�████▏              | 267.6 MB 178 kB/s eta 0:21:26MB 178 kB/s eta 0:21:25��███████▎              | 268.1 MB 178 kB/s eta 0:21:23  | 268.3 MB 178 kB/s eta 0:21:22    |█████████████████▎              | 268.5 MB 178 kB/s eta 0:21:21██████▎              | 268.7 MB 178 kB/s eta 0:21:2068.8 MB 178 kB/s eta 0:21:19█████████████████▎              | 269.0 MB 178 kB/s eta 0:21:18�████▎              | 269.2 MB 178 kB/s eta 0:21:17MB 178 kB/s eta 0:21:16��███████▍              | 269.7 MB 178 kB/s eta 0:21:18  | 269.9 MB 178 kB/s eta 0:21:17    |█████████████████▍              | 270.1 MB 178 kB/s eta 0:21:16██████▍              | 270.3 MB 178 kB/s eta 0:21:1570.5 MB 178 kB/s eta 0:21:14█████████████████▍              | 270.7 MB 178 kB/s eta 0:21:13�████▍              | 270.9 MB 178 kB/s eta 0:21:12MB 178 kB/s eta 0:21:11��███████▌              | 271.4 MB 178 kB/s eta 0:21:09  | 271.6 MB 178 kB/s eta 0:21:08    |█████████████████▌              | 271.8 MB 178 kB/s eta 0:21:07██████▌              | 271.9 MB 178 kB/s eta 0:21:0672.1 MB 178 kB/s eta 0:21:05█████████████████▌              | 272.3 MB 178 kB/s eta 0:21:04�████▌              | 272.5 MB 178 kB/s eta 0:21:03MB 178 kB/s eta 0:21:02��███████▌              | 273.0 MB 164 kB/s eta 0:22:50  | 273.2 MB 164 kB/s eta 0:22:49    |█████████████████▋              | 273.4 MB 164 kB/s eta 0:22:48██████▋              | 273.6 MB 164 kB/s eta 0:22:4673.8 MB 164 kB/s eta 0:22:45█████████████████▋              | 274.0 MB 164 kB/s eta 0:22:44�████▋              | 274.1 MB 164 kB/s eta 0:22:43MB 164 kB/s eta 0:22:42��███████▋              | 274.6 MB 164 kB/s eta 0:22:40  | 274.8 MB 164 kB/s eta 0:22:39    |█████████████████▊              | 275.0 MB 164 kB/s eta 0:22:38██████▊              | 275.2 MB 164 kB/s eta 0:22:3775.4 MB 164 kB/s eta 0:22:35█████████████████▊              | 275.6 MB 164 kB/s eta 0:22:34�████▊              | 275.8 MB 164 kB/s eta 0:22:33MB 164 kB/s eta 0:22:32��███████▊              | 276.3 MB 181 kB/s eta 0:20:18  | 276.5 MB 181 kB/s eta 0:20:17    |█████████████████▉              | 276.7 MB 181 kB/s eta 0:20:16██████▉              | 276.8 MB 181 kB/s eta 0:20:1577.0 MB 181 kB/s eta 0:20:14█████████████████▉              | 277.2 MB 181 kB/s eta 0:20:13�████▉              | 277.4 MB 181 kB/s eta 0:20:12MB 181 kB/s eta 0:20:11��███████▉              | 277.9 MB 181 kB/s eta 0:20:09  | 278.1 MB 181 kB/s eta 0:20:08    |██████████████████              | 278.3 MB 181 kB/s eta 0:20:07███████              | 278.5 MB 181 kB/s eta 0:20:0678.7 MB 181 kB/s eta 0:20:05██████████████████              | 278.9 MB 181 kB/s eta 0:20:04�█████              | 279.1 MB 181 kB/s eta 0:20:03MB 181 kB/s eta 0:20:02��████████              | 279.6 MB 181 kB/s eta 0:20:01  | 279.7 MB 181 kB/s eta 0:20:00    |██████████████████              | 279.9 MB 181 kB/s eta 0:19:59███████              | 280.1 MB 181 kB/s eta 0:19:5880.3 MB 181 kB/s eta 0:19:57██████████████████              | 280.5 MB 181 kB/s eta 0:19:56�█████              | 280.7 MB 181 kB/s eta 0:19:55MB 181 kB/s eta 0:19:54��████████              | 281.2 MB 181 kB/s eta 0:19:52  | 281.4 MB 181 kB/s eta 0:19:51    |██████████████████              | 281.6 MB 181 kB/s eta 0:19:50��█████████████▏             | 281.8 MB 181 kB/s eta 0:19:49█████████████▏             | 281.9 MB 181 kB/s eta 0:19:48�████████████▏             | 282.1 MB 181 kB/s eta 0:19:47��███████████▏             | 282.3 MB 181 kB/s eta 0:19:46███████████▏             | 282.5 MB 181 kB/s eta 0:19:45[K     |██████████████████▏             | 282.8 MB 178 kB/s eta 0:20:01     |██████████████████▏             | 283.0 MB 178 kB/s eta 0:20:00   |██████████████████▏             | 283.2 MB 178 kB/s eta 0:19:59 |██████████████████▎             | 283.4 MB 178 kB/s eta 0:19:58██████████████████▎             | 283.6 MB 178 kB/s eta 0:19:57�█████████████████▎             | 283.8 MB 178 kB/s eta 0:19:56��████████████████▎             | 283.9 MB 178 kB/s eta 0:19:55████████████████▎             | 284.1 MB 178 kB/s eta 0:19:54[K     |██████████████████▎             | 284.5 MB 178 kB/s eta 0:19:52     |██████████████████▎             | 284.7 MB 178 kB/s eta 0:19:51   |██████████████████▎             | 284.8 MB 178 kB/s eta 0:19:50"
     ]
    },
    {
     "name": "stdout",
     "output_type": "stream",
     "text": [
      "\u001b[K     |█�██████████████████▍           | 316.8 MB 158 kB/s eta 0:19:00�█████████████████▍             | 285.4 MB 178 kB/s eta 0:19:47��████████████████▍             | 285.6 MB 178 kB/s eta 0:19:46████████████████▍             | 285.8 MB 178 kB/s eta 0:19:45[K     |██████████████████▍             | 286.1 MB 178 kB/s eta 0:19:43     |██████████████████▍             | 286.3 MB 178 kB/s eta 0:19:42   |██████████████████▍             | 286.5 MB 178 kB/s eta 0:19:41 |██████████████████▍             | 286.7 MB 178 kB/s eta 0:19:40██████████████████▌             | 286.9 MB 178 kB/s eta 0:19:39�█████████████████▌             | 287.0 MB 178 kB/s eta 0:19:38��████████████████▌             | 287.2 MB 178 kB/s eta 0:19:37████████████████▌             | 287.4 MB 178 kB/s eta 0:19:36[K     |██████████████████▌             | 287.8 MB 178 kB/s eta 0:19:34     |██████████████████▌             | 287.9 MB 178 kB/s eta 0:19:33   |██████████████████▌             | 288.1 MB 178 kB/s eta 0:19:32 |██████████████████▌             | 288.3 MB 178 kB/s eta 0:19:31██████████████████▌             | 288.5 MB 178 kB/s eta 0:19:30�█████████████████▋             | 288.7 MB 178 kB/s eta 0:19:29��████████████████▋             | 288.9 MB 178 kB/s eta 0:19:28████████████████▋             | 289.0 MB 178 kB/s eta 0:19:27[K     |██████████████████▋             | 289.4 MB 178 kB/s eta 0:19:26     |██████████████████▋             | 289.6 MB 178 kB/s eta 0:19:25   |██████████████████▋             | 289.8 MB 178 kB/s eta 0:19:24 |██████████████████▋             | 289.9 MB 178 kB/s eta 0:19:23██████████████████▋             | 290.1 MB 178 kB/s eta 0:19:22�█████████████████▊             | 290.3 MB 178 kB/s eta 0:19:21��████████████████▊             | 290.5 MB 178 kB/s eta 0:19:20████████████████▊             | 290.7 MB 178 kB/s eta 0:19:19[K     |██████████████████▊             | 291.0 MB 178 kB/s eta 0:19:17     |██████████████████▊             | 291.2 MB 178 kB/s eta 0:19:16   |██████████████████▊             | 291.4 MB 178 kB/s eta 0:19:15 |██████████████████▊             | 291.6 MB 178 kB/s eta 0:19:14██████████████████▊             | 291.8 MB 178 kB/s eta 0:19:13�█████████████████▊             | 292.0 MB 178 kB/s eta 0:19:12��████████████████▉             | 292.1 MB 178 kB/s eta 0:19:11████████████████▉             | 292.3 MB 178 kB/s eta 0:19:10[K     |██████████████████▉             | 292.7 MB 177 kB/s eta 0:19:14     |██████████████████▉             | 292.9 MB 177 kB/s eta 0:19:13   |██████████████████▉             | 293.0 MB 177 kB/s eta 0:19:12 |██████████████████▉             | 293.2 MB 177 kB/s eta 0:19:10██████████████████▉             | 293.4 MB 177 kB/s eta 0:19:09�█████████████████▉             | 293.6 MB 177 kB/s eta 0:19:08��█████████████████             | 293.8 MB 177 kB/s eta 0:19:07█████████████████             | 294.0 MB 177 kB/s eta 0:19:06[K     |███████████████████             | 294.3 MB 177 kB/s eta 0:19:04     |███████████████████             | 294.5 MB 177 kB/s eta 0:19:03   |███████████████████             | 294.7 MB 177 kB/s eta 0:19:02 |███████████████████             | 294.9 MB 177 kB/s eta 0:19:01███████████████████             | 295.0 MB 177 kB/s eta 0:19:00�██████████████████             | 295.2 MB 177 kB/s eta 0:18:59��█████████████████             | 295.4 MB 177 kB/s eta 0:18:58█████████████████             | 295.6 MB 177 kB/s eta 0:18:57[K     |███████████████████             | 295.9 MB 175 kB/s eta 0:19:11     |███████████████████             | 296.1 MB 175 kB/s eta 0:19:10   |███████████████████             | 296.3 MB 175 kB/s eta 0:19:09 |███████████████████             | 296.5 MB 175 kB/s eta 0:19:08███████████████████             | 296.7 MB 175 kB/s eta 0:19:07�██████████████████             | 296.9 MB 175 kB/s eta 0:19:06��█████████████████             | 297.1 MB 175 kB/s eta 0:19:05�██████████████████▏            | 297.2 MB 175 kB/s eta 0:19:04   | 297.6 MB 175 kB/s eta 0:19:02�███████▏            | 297.8 MB 175 kB/s eta 0:19:01��██████████████████▏            | 297.9 MB 175 kB/s eta 0:19:00MB 175 kB/s eta 0:18:59��███▏            | 298.3 MB 175 kB/s eta 0:18:58███████████████▏            | 298.5 MB 175 kB/s eta 0:18:57 eta 0:18:56▏            | 298.8 MB 175 kB/s eta 0:18:55�███████████▎            | 299.0 MB 175 kB/s eta 0:18:542    | 299.4 MB 178 kB/s eta 0:18:31��███████▎            | 299.6 MB 178 kB/s eta 0:18:30███████████████████▎            | 299.8 MB 178 kB/s eta 0:18:29 MB 178 kB/s eta 0:18:28████▎            | 300.1 MB 178 kB/s eta 0:18:27�███████████████▎            | 300.3 MB 178 kB/s eta 0:18:26s eta 0:18:25�▎            | 300.7 MB 178 kB/s eta 0:18:24   | 300.9 MB 178 kB/s eta 0:18:23�███████▍            | 301.0 MB 178 kB/s eta 0:18:22��██████████████████▍            | 301.2 MB 178 kB/s eta 0:18:20MB 178 kB/s eta 0:18:20��███▍            | 301.6 MB 178 kB/s eta 0:18:18███████████████▍            | 301.8 MB 178 kB/s eta 0:18:17 eta 0:18:16▍            | 302.1 MB 178 kB/s eta 0:18:15�███████████▍            | 302.3 MB 178 kB/s eta 0:18:143    | 302.7 MB 178 kB/s eta 0:18:12��███████▌            | 302.8 MB 178 kB/s eta 0:18:11███████████████████▌            | 303.0 MB 178 kB/s eta 0:18:10 MB 178 kB/s eta 0:18:09████▌            | 303.4 MB 178 kB/s eta 0:18:08�███████████████▌            | 303.6 MB 178 kB/s eta 0:18:07s eta 0:18:06�▌            | 303.9 MB 178 kB/s eta 0:18:05   | 304.1 MB 178 kB/s eta 0:18:04�███████▋            | 304.3 MB 178 kB/s eta 0:18:03��██████████████████▋            | 304.5 MB 178 kB/s eta 0:18:02MB 178 kB/s eta 0:18:01��███▋            | 304.9 MB 178 kB/s eta 0:18:00███████████████▋            | 305.0 MB 178 kB/s eta 0:17:59 eta 0:17:58▋            | 305.4 MB 178 kB/s eta 0:17:57�███████████▋            | 305.6 MB 178 kB/s eta 0:17:564    | 305.9 MB 175 kB/s eta 0:18:13��███████▊            | 306.1 MB 175 kB/s eta 0:18:12███████████████████▊            | 306.3 MB 175 kB/s eta 0:18:11 MB 175 kB/s eta 0:18:10████▊            | 306.7 MB 175 kB/s eta 0:18:09�███████████████▊            | 306.9 MB 175 kB/s eta 0:18:08s eta 0:18:07�▊            | 307.2 MB 175 kB/s eta 0:18:06   | 307.4 MB 175 kB/s eta 0:18:05�███████▉            | 307.6 MB 175 kB/s eta 0:18:04��██████████████████▉            | 307.8 MB 175 kB/s eta 0:18:02MB 175 kB/s eta 0:18:01��███▉            | 308.1 MB 175 kB/s eta 0:18:00███████████████▉            | 308.3 MB 175 kB/s eta 0:17:59 eta 0:17:58▉            | 308.7 MB 175 kB/s eta 0:17:57�███████████▉            | 308.9 MB 175 kB/s eta 0:17:567    | 309.2 MB 175 kB/s eta 0:17:56��████████            | 309.4 MB 175 kB/s eta 0:17:55████████████████████            | 309.6 MB 175 kB/s eta 0:17:54 MB 175 kB/s eta 0:17:53█████            | 309.9 MB 175 kB/s eta 0:17:52�████████████████            | 310.1 MB 175 kB/s eta 0:17:51s eta 0:17:50�█            | 310.5 MB 175 kB/s eta 0:17:48   | 310.7 MB 175 kB/s eta 0:17:47�████████            | 310.9 MB 175 kB/s eta 0:17:46��███████████████████            | 311.1 MB 175 kB/s eta 0:17:45MB 175 kB/s eta 0:17:44��████            | 311.4 MB 175 kB/s eta 0:17:43████████████████            | 311.6 MB 175 kB/s eta 0:17:42 eta 0:17:41█            | 312.0 MB 175 kB/s eta 0:17:40�████████████            | 312.1 MB 175 kB/s eta 0:17:392    | 312.5 MB 174 kB/s eta 0:17:41��████████            | 312.7 MB 174 kB/s eta 0:17:40ta 0:17:39��███████████▏           | 313.0 MB 174 kB/s eta 0:17:38    | 313.2 MB 174 kB/s eta 0:17:37████████████████████▏           | 313.4 MB 174 kB/s eta 0:17:36█████▏           | 313.6 MB 174 kB/s eta 0:17:35B/s eta 0:17:34�████████▏           | 314.0 MB 174 kB/s eta 0:17:321 MB 174 kB/s eta 0:17:31��████████████████▏           | 314.3 MB 174 kB/s eta 0:17:30��█▎           | 314.5 MB 174 kB/s eta 0:17:2917:28██████████▎           | 314.8 MB 174 kB/s eta 0:17:27 315.0 MB 174 kB/s eta 0:17:26�██████████████████▎           | 315.2 MB 174 kB/s eta 0:17:25�███▎           | 315.4 MB 174 kB/s eta 0:17:24�████████▎           | 315.6 MB 158 kB/s eta 0:19:088 MB 158 kB/s eta 0:19:07��████████████████▎           | 316.0 MB 158 kB/s eta 0:19:06��█▎           | 316.1 MB 158 kB/s eta 0:19:0419:03██████████▍           | 316.5 MB 158 kB/s eta 0:19:02 316.7 MB 158 kB/s eta 0:19:01"
     ]
    },
    {
     "name": "stdout",
     "output_type": "stream",
     "text": [
      "\u001b[K     |██████████████████████▌         | 349.4 MB 159 kB/s eta 0:15:329�████████▍           | 317.2 MB 158 kB/s eta 0:18:574 MB 158 kB/s eta 0:18:56��████████████████▍           | 317.6 MB 158 kB/s eta 0:18:55��█▍           | 317.8 MB 158 kB/s eta 0:18:5418:53██████████▌           | 318.1 MB 158 kB/s eta 0:18:52 318.3 MB 158 kB/s eta 0:18:51�██████████████████▌           | 318.5 MB 158 kB/s eta 0:18:50�███▌           | 318.7 MB 158 kB/s eta 0:18:49�████████▌           | 318.9 MB 158 kB/s eta 0:18:510 MB 158 kB/s eta 0:18:50��████████████████▌           | 319.2 MB 158 kB/s eta 0:18:49��█▌           | 319.4 MB 158 kB/s eta 0:18:4818:47██████████▋           | 319.8 MB 158 kB/s eta 0:18:46 319.9 MB 158 kB/s eta 0:18:45�██████████████████▋           | 320.1 MB 158 kB/s eta 0:18:43�███▋           | 320.3 MB 158 kB/s eta 0:18:42�████████▋           | 320.5 MB 158 kB/s eta 0:18:417 MB 158 kB/s eta 0:18:40��████████████████▋           | 320.9 MB 158 kB/s eta 0:18:39��█▋           | 321.0 MB 158 kB/s eta 0:18:3818:36██████████▊           | 321.4 MB 158 kB/s eta 0:18:35 321.6 MB 158 kB/s eta 0:18:34�██████████████████▊           | 321.8 MB 158 kB/s eta 0:18:33�███▊           | 321.9 MB 158 kB/s eta 0:18:32�████████▊           | 322.2 MB 158 kB/s eta 0:18:303 MB 158 kB/s eta 0:18:29��████████████████▊           | 322.5 MB 158 kB/s eta 0:18:27��█▊           | 322.7 MB 158 kB/s eta 0:18:2618:25██████████▊           | 323.0 MB 158 kB/s eta 0:18:24 323.2 MB 158 kB/s eta 0:18:23�██████████████████▉           | 323.4 MB 158 kB/s eta 0:18:22�███▉           | 323.6 MB 158 kB/s eta 0:18:21�████████▉           | 323.8 MB 158 kB/s eta 0:18:190 MB 158 kB/s eta 0:18:18��████████████████▉           | 324.1 MB 158 kB/s eta 0:18:17��█▉           | 324.3 MB 158 kB/s eta 0:18:1618:15██████████▉           | 324.7 MB 158 kB/s eta 0:18:14 324.9 MB 158 kB/s eta 0:18:13�███████████████████           | 325.0 MB 158 kB/s eta 0:18:11�████           | 325.2 MB 158 kB/s eta 0:18:10�█████████           | 325.4 MB 158 kB/s eta 0:18:066 MB 158 kB/s eta 0:18:04��█████████████████           | 325.8 MB 158 kB/s eta 0:18:03��██           | 326.0 MB 158 kB/s eta 0:18:0218:01███████████           | 326.3 MB 158 kB/s eta 0:18:00 326.5 MB 158 kB/s eta 0:17:59�███████████████████           | 326.7 MB 158 kB/s eta 0:17:58�████           | 326.9 MB 158 kB/s eta 0:17:57�█████████           | 327.1 MB 158 kB/s eta 0:17:552 MB 158 kB/s eta 0:17:54��█████████████████           | 327.4 MB 158 kB/s eta 0:17:53��██           | 327.6 MB 158 kB/s eta 0:17:5217:51███████████           | 328.0 MB 158 kB/s eta 0:17:50 328.1 MB 158 kB/s eta 0:17:48�███████████████████▏          | 328.3 MB 158 kB/s eta 0:17:47��███████████████▏          | 328.5 MB 158 kB/s eta 0:17:46��████████████████████▏          | 328.7 MB 159 kB/s eta 0:17:40█████████████████▏          | 328.9 MB 159 kB/s eta 0:17:39�█████████████▏          | 329.1 MB 159 kB/s eta 0:17:38��█████████▏          | 329.2 MB 159 kB/s eta 0:17:37██████▏          | 329.4 MB 159 kB/s eta 0:17:36�██▏          | 329.6 MB 159 kB/s eta 0:17:35         | 329.7 MB 159 kB/s eta 0:17:34329.9 MB 159 kB/s eta 0:17:339 kB/s eta 0:17:32��████████████████████▎          | 330.3 MB 159 kB/s eta 0:17:30█████████████████▎          | 330.5 MB 159 kB/s eta 0:17:29�█████████████▎          | 330.6 MB 159 kB/s eta 0:17:28��█████████▎          | 330.8 MB 159 kB/s eta 0:17:27██████▎          | 331.0 MB 159 kB/s eta 0:17:26�██▎          | 331.2 MB 159 kB/s eta 0:17:25         | 331.3 MB 159 kB/s eta 0:17:24331.5 MB 159 kB/s eta 0:17:239 kB/s eta 0:17:22��████████████████████▍          | 331.9 MB 129 kB/s eta 0:21:22█████████████████▍          | 332.1 MB 129 kB/s eta 0:21:21�█████████████▍          | 332.3 MB 129 kB/s eta 0:21:19��█████████▍          | 332.4 MB 129 kB/s eta 0:21:18██████▍          | 332.6 MB 129 kB/s eta 0:21:17�██▍          | 332.8 MB 129 kB/s eta 0:21:15         | 333.0 MB 129 kB/s eta 0:21:14333.1 MB 129 kB/s eta 0:21:139 kB/s eta 0:21:11     |█████████████████████▍          | 333.4 MB 129 kB/s eta 0:21:11�███████████████████▌          | 333.5 MB 129 kB/s eta 0:21:09��███████████████▌          | 333.7 MB 129 kB/s eta 0:21:08████████████▌          | 333.9 MB 129 kB/s eta 0:21:07�████████▌          | 334.1 MB 129 kB/s eta 0:21:05��████▌          | 334.2 MB 129 kB/s eta 0:21:04█▌          | 334.4 MB 129 kB/s eta 0:21:03     | 334.6 MB 129 kB/s eta 0:21:018 MB 129 kB/s eta 0:21:00/s eta 0:20:59��████████████████████▌          | 335.2 MB 159 kB/s eta 0:16:57█████████████████▋          | 335.4 MB 159 kB/s eta 0:16:56�█████████████▋          | 335.5 MB 159 kB/s eta 0:16:54��█████████▋          | 335.7 MB 159 kB/s eta 0:16:53██████▋          | 335.9 MB 159 kB/s eta 0:16:52�██▋          | 336.1 MB 159 kB/s eta 0:16:51         | 336.2 MB 159 kB/s eta 0:16:50336.4 MB 159 kB/s eta 0:16:499 kB/s eta 0:16:48��████████████████████▋          | 336.8 MB 159 kB/s eta 0:16:46█████████████████▊          | 337.0 MB 159 kB/s eta 0:16:45�█████████████▊          | 337.2 MB 159 kB/s eta 0:16:44��█████████▊          | 337.3 MB 159 kB/s eta 0:16:43██████▊          | 337.5 MB 159 kB/s eta 0:16:42�██▊          | 337.7 MB 159 kB/s eta 0:16:41         | 337.9 MB 159 kB/s eta 0:16:40338.0 MB 159 kB/s eta 0:16:399 kB/s eta 0:16:38��████████████████████▊          | 338.4 MB 144 kB/s eta 0:18:25█████████████████▊          | 338.6 MB 144 kB/s eta 0:18:23�█████████████▉          | 338.8 MB 144 kB/s eta 0:18:22��█████████▉          | 338.9 MB 144 kB/s eta 0:18:21██████▉          | 339.1 MB 144 kB/s eta 0:18:20�██▉          | 339.3 MB 144 kB/s eta 0:18:19         | 339.5 MB 144 kB/s eta 0:18:17339.6 MB 144 kB/s eta 0:18:164 kB/s eta 0:18:15��████████████████████▉          | 340.0 MB 144 kB/s eta 0:18:14█████████████████▉          | 340.2 MB 144 kB/s eta 0:18:12�█████████████▉          | 340.4 MB 144 kB/s eta 0:18:11��██████████          | 340.5 MB 144 kB/s eta 0:18:10███████          | 340.7 MB 144 kB/s eta 0:18:09�███          | 340.9 MB 144 kB/s eta 0:18:07         | 341.1 MB 144 kB/s eta 0:18:06341.2 MB 144 kB/s eta 0:18:054 kB/s eta 0:18:04��█████████████████████          | 341.6 MB 145 kB/s eta 0:17:49██████████████████          | 341.8 MB 145 kB/s eta 0:17:48�██████████████          | 342.0 MB 145 kB/s eta 0:17:47��██████████          | 342.1 MB 145 kB/s eta 0:17:46███████          | 342.3 MB 145 kB/s eta 0:17:45�███          | 342.5 MB 145 kB/s eta 0:17:43         | 342.7 MB 145 kB/s eta 0:17:42342.8 MB 145 kB/s eta 0:17:415 kB/s eta 0:17:40��█████████████████████          | 343.2 MB 145 kB/s eta 0:17:39██████████████████          | 343.4 MB 145 kB/s eta 0:17:37�██████████████          | 343.6 MB 145 kB/s eta 0:17:36��██████████          | 343.7 MB 145 kB/s eta 0:17:35█████████▏         | 343.9 MB 145 kB/s eta 0:17:34��████████████████▏         | 344.1 MB 145 kB/s eta 0:17:33K     |██████████████████████▏         | 344.2 MB 145 kB/s eta 0:17:31145 kB/s eta 0:17:30▏         | 344.6 MB 145 kB/s eta 0:17:29MB 159 kB/s eta 0:16:02█▏         | 345.0 MB 159 kB/s eta 0:16:00��████████▏         | 345.1 MB 159 kB/s eta 0:15:59�████████████████▏         | 345.3 MB 159 kB/s eta 0:15:58     |██████████████████████▏         | 345.5 MB 159 kB/s eta 0:15:5759 kB/s eta 0:15:56��         | 345.8 MB 159 kB/s eta 0:15:55�███████▎         | 346.0 MB 159 kB/s eta 0:15:54███████████████▎         | 346.2 MB 159 kB/s eta 0:15:53MB 159 kB/s eta 0:15:52█▎         | 346.6 MB 159 kB/s eta 0:15:50��████████▎         | 346.7 MB 159 kB/s eta 0:15:49�████████████████▎         | 346.9 MB 159 kB/s eta 0:15:48     |██████████████████████▎         | 347.1 MB 159 kB/s eta 0:15:4759 kB/s eta 0:15:46��         | 347.4 MB 159 kB/s eta 0:15:45�███████▍         | 347.6 MB 159 kB/s eta 0:15:44███████████████▍         | 347.8 MB 159 kB/s eta 0:15:43MB 159 kB/s eta 0:15:41█▍         | 348.2 MB 159 kB/s eta 0:15:39��████████▍         | 348.3 MB 159 kB/s eta 0:15:38�████████████████▍         | 348.5 MB 159 kB/s eta 0:15:37     |██████████████████████▍         | 348.7 MB 159 kB/s eta 0:15:3659 kB/s eta 0:15:35��         | 349.0 MB 159 kB/s eta 0:15:34�███████▌         | 349.2 MB 159 kB/s eta 0:15:33███████████████▌         | 349.4 MB 159 kB/s eta 0:15:32"
     ]
    },
    {
     "name": "stdout",
     "output_type": "stream",
     "text": [
      "\u001b[K     |████████████████████████▌       | 380.3 MB 157 kB/s eta 0:12:24█▌         | 349.8 MB 159 kB/s eta 0:15:29��████████▌         | 349.9 MB 159 kB/s eta 0:15:28�████████████████▌         | 350.1 MB 159 kB/s eta 0:15:27     |██████████████████████▌         | 350.3 MB 159 kB/s eta 0:15:2659 kB/s eta 0:15:25��         | 350.6 MB 159 kB/s eta 0:15:24�███████▋         | 350.8 MB 159 kB/s eta 0:15:23███████████████▋         | 351.0 MB 159 kB/s eta 0:15:22MB 159 kB/s eta 0:15:18█▋         | 351.4 MB 159 kB/s eta 0:15:17��████████▋         | 351.5 MB 159 kB/s eta 0:15:16�████████████████▋         | 351.7 MB 159 kB/s eta 0:15:15     |██████████████████████▋         | 351.9 MB 159 kB/s eta 0:15:1459 kB/s eta 0:15:13��         | 352.2 MB 159 kB/s eta 0:15:12�███████▋         | 352.4 MB 159 kB/s eta 0:15:11███████████████▊         | 352.6 MB 159 kB/s eta 0:15:09MB 159 kB/s eta 0:15:08█▊         | 353.0 MB 159 kB/s eta 0:15:07��████████▊         | 353.1 MB 159 kB/s eta 0:15:06�████████████████▊         | 353.3 MB 159 kB/s eta 0:15:05     |██████████████████████▊         | 353.5 MB 159 kB/s eta 0:15:0459 kB/s eta 0:15:03��         | 353.8 MB 159 kB/s eta 0:15:02�███████▊         | 354.0 MB 159 kB/s eta 0:15:01███████████████▊         | 354.2 MB 159 kB/s eta 0:14:59MB 158 kB/s eta 0:15:02█▉         | 354.5 MB 158 kB/s eta 0:15:01��████████▉         | 354.7 MB 158 kB/s eta 0:15:00�████████████████▉         | 354.9 MB 158 kB/s eta 0:14:59     |██████████████████████▉         | 355.1 MB 158 kB/s eta 0:14:5858 kB/s eta 0:14:57��         | 355.4 MB 158 kB/s eta 0:14:56�███████▉         | 355.6 MB 158 kB/s eta 0:14:55███████████████▉         | 355.8 MB 158 kB/s eta 0:14:53MB 158 kB/s eta 0:14:52██         | 356.1 MB 158 kB/s eta 0:14:51��█████████         | 356.3 MB 158 kB/s eta 0:14:50�█████████████████         | 356.5 MB 158 kB/s eta 0:14:49     |███████████████████████         | 356.7 MB 158 kB/s eta 0:14:4858 kB/s eta 0:14:47��         | 357.0 MB 158 kB/s eta 0:14:46�████████         | 357.2 MB 158 kB/s eta 0:14:45████████████████         | 357.4 MB 158 kB/s eta 0:14:43MB 160 kB/s eta 0:14:34██         | 357.7 MB 160 kB/s eta 0:14:33��█████████         | 357.9 MB 160 kB/s eta 0:14:32�█████████████████         | 358.1 MB 160 kB/s eta 0:14:31     |███████████████████████         | 358.3 MB 160 kB/s eta 0:14:3060 kB/s eta 0:14:29��         | 358.6 MB 160 kB/s eta 0:14:28�████████         | 358.8 MB 160 kB/s eta 0:14:27████████████████         | 359.0 MB 160 kB/s eta 0:14:25MB 160 kB/s eta 0:14:24██         | 359.3 MB 160 kB/s eta 0:14:23�████████████████▏        | 359.5 MB 160 kB/s eta 0:14:229.7 MB 160 kB/s eta 0:14:21██████████████▏        | 359.9 MB 160 kB/s eta 0:14:20160 kB/s eta 0:14:19��███████████▏        | 360.2 MB 160 kB/s eta 0:14:18s eta 0:14:17�█████████▏        | 360.5 MB 160 kB/s eta 0:14:16█████▏        | 360.8 MB 158 kB/s eta 0:14:22  |███████████████████████▏        | 360.9 MB 158 kB/s eta 0:14:21��██▏        | 361.1 MB 158 kB/s eta 0:14:20��█████████████████████▎        | 361.3 MB 158 kB/s eta 0:14:19�▎        | 361.4 MB 158 kB/s eta 0:14:18�███████████████████▎        | 361.6 MB 158 kB/s eta 0:14:17     | 361.8 MB 158 kB/s eta 0:14:16█████████████████▎        | 362.0 MB 158 kB/s eta 0:14:14362.1 MB 158 kB/s eta 0:14:13█████▎        | 362.4 MB 158 kB/s eta 0:14:12  |███████████████████████▎        | 362.5 MB 158 kB/s eta 0:14:11��██▎        | 362.7 MB 158 kB/s eta 0:14:10��█████████████████████▍        | 362.9 MB 158 kB/s eta 0:14:09�▍        | 363.0 MB 158 kB/s eta 0:14:08�███████████████████▍        | 363.2 MB 158 kB/s eta 0:14:07     | 363.4 MB 158 kB/s eta 0:14:06█████████████████▍        | 363.6 MB 158 kB/s eta 0:14:04363.7 MB 158 kB/s eta 0:14:03█████▍        | 364.0 MB 157 kB/s eta 0:14:08  |███████████████████████▍        | 364.1 MB 157 kB/s eta 0:14:07��██▍        | 364.3 MB 157 kB/s eta 0:14:06��█████████████████████▍        | 364.5 MB 157 kB/s eta 0:14:05�▌        | 364.6 MB 157 kB/s eta 0:14:04�███████████████████▌        | 364.8 MB 157 kB/s eta 0:14:03     | 365.0 MB 157 kB/s eta 0:14:02█████████████████▌        | 365.1 MB 157 kB/s eta 0:14:01365.3 MB 157 kB/s eta 0:14:00█████▌        | 365.6 MB 157 kB/s eta 0:13:58  |███████████████████████▌        | 365.7 MB 157 kB/s eta 0:13:57��██▌        | 365.9 MB 157 kB/s eta 0:13:56��█████████████████████▌        | 366.1 MB 157 kB/s eta 0:13:55�▌        | 366.2 MB 157 kB/s eta 0:13:54�███████████████████▋        | 366.4 MB 157 kB/s eta 0:13:53     | 366.6 MB 157 kB/s eta 0:13:52█████████████████▋        | 366.7 MB 157 kB/s eta 0:13:51366.9 MB 157 kB/s eta 0:13:50█████▋        | 367.2 MB 159 kB/s eta 0:13:40  |███████████████████████▋        | 367.3 MB 159 kB/s eta 0:13:39��██▋        | 367.5 MB 159 kB/s eta 0:13:38��█████████████████████▋        | 367.7 MB 159 kB/s eta 0:13:37�▋        | 367.8 MB 159 kB/s eta 0:13:36�███████████████████▋        | 368.0 MB 159 kB/s eta 0:13:35     | 368.2 MB 159 kB/s eta 0:13:34█████████████████▊        | 368.3 MB 159 kB/s eta 0:13:33368.5 MB 159 kB/s eta 0:13:32█████▊        | 368.8 MB 159 kB/s eta 0:13:30  |███████████████████████▊        | 368.9 MB 159 kB/s eta 0:13:29��██▊        | 369.1 MB 159 kB/s eta 0:13:28��█████████████████████▊        | 369.3 MB 159 kB/s eta 0:13:27�▊        | 369.4 MB 159 kB/s eta 0:13:26�███████████████████▊        | 369.6 MB 159 kB/s eta 0:13:25     | 369.8 MB 159 kB/s eta 0:13:24█████████████████▉        | 369.9 MB 159 kB/s eta 0:13:23370.1 MB 159 kB/s eta 0:13:22█████▉        | 370.4 MB 159 kB/s eta 0:13:21  |███████████████████████▉        | 370.5 MB 159 kB/s eta 0:13:19��██▉        | 370.7 MB 159 kB/s eta 0:13:18��█████████████████████▉        | 370.9 MB 159 kB/s eta 0:13:17�▉        | 371.0 MB 159 kB/s eta 0:13:16�███████████████████▉        | 371.2 MB 159 kB/s eta 0:13:15     | 371.4 MB 159 kB/s eta 0:13:14██████████████████        | 371.5 MB 159 kB/s eta 0:13:13371.7 MB 159 kB/s eta 0:13:12██████        | 371.9 MB 159 kB/s eta 0:13:11  |████████████████████████        | 372.1 MB 159 kB/s eta 0:13:09��███        | 372.3 MB 159 kB/s eta 0:13:08��██████████████████████        | 372.5 MB 159 kB/s eta 0:13:07�█        | 372.6 MB 159 kB/s eta 0:13:06�████████████████████        | 372.8 MB 159 kB/s eta 0:13:05     | 373.0 MB 159 kB/s eta 0:13:04██████████████████        | 373.1 MB 159 kB/s eta 0:13:03373.3 MB 159 kB/s eta 0:13:02██████        | 373.5 MB 159 kB/s eta 0:12:59  |████████████████████████        | 373.7 MB 159 kB/s eta 0:12:58��███        | 373.9 MB 159 kB/s eta 0:12:57��██████████████████████        | 374.1 MB 159 kB/s eta 0:12:56�█        | 374.2 MB 159 kB/s eta 0:12:55�████████████████████        | 374.4 MB 159 kB/s eta 0:12:54     | 374.6 MB 159 kB/s eta 0:12:53██████████████████        | 374.7 MB 159 kB/s eta 0:12:52374.9 MB 159 kB/s eta 0:12:51��████████████████▏       | 375.1 MB 159 kB/s eta 0:12:49██████▏       | 375.3 MB 159 kB/s eta 0:12:485.5 MB 159 kB/s eta 0:12:47    |████████████████████████▏       | 375.6 MB 159 kB/s eta 0:12:46███████████████▏       | 375.8 MB 159 kB/s eta 0:12:45�████▏       | 376.0 MB 159 kB/s eta 0:12:44B 159 kB/s eta 0:12:43████████████████████████▏       | 376.3 MB 159 kB/s eta 0:12:42�█████████████▏       | 376.5 MB 159 kB/s eta 0:12:41��████████████████▎       | 376.7 MB 144 kB/s eta 0:14:00██████▎       | 376.9 MB 144 kB/s eta 0:13:597.1 MB 144 kB/s eta 0:13:58    |████████████████████████▎       | 377.2 MB 144 kB/s eta 0:13:57███████████████▎       | 377.4 MB 144 kB/s eta 0:13:56�████▎       | 377.6 MB 144 kB/s eta 0:13:54B 144 kB/s eta 0:13:53████████████████████████▎       | 377.9 MB 144 kB/s eta 0:13:52�█████████████▎       | 378.1 MB 144 kB/s eta 0:13:51��████████████████▎       | 378.3 MB 144 kB/s eta 0:13:49██████▍       | 378.5 MB 144 kB/s eta 0:13:488.7 MB 144 kB/s eta 0:13:47    |████████████████████████▍       | 378.8 MB 144 kB/s eta 0:13:46███████████████▍       | 379.0 MB 144 kB/s eta 0:13:44�████▍       | 379.2 MB 144 kB/s eta 0:13:43B 144 kB/s eta 0:13:42████████████████████████▍       | 379.5 MB 144 kB/s eta 0:13:41�█████████████▍       | 379.7 MB 144 kB/s eta 0:13:40��████████████████▍       | 379.9 MB 157 kB/s eta 0:12:26██████▍       | 380.1 MB 157 kB/s eta 0:12:25"
     ]
    },
    {
     "name": "stdout",
     "output_type": "stream",
     "text": [
      "\u001b[K     |████████████████████�██████▋    | 429.4 MB 165 kB/s eta 0:06:53███████████████▌       | 380.6 MB 157 kB/s eta 0:12:22�████▌       | 380.8 MB 157 kB/s eta 0:12:21B 157 kB/s eta 0:12:20████████████████████████▌       | 381.1 MB 157 kB/s eta 0:12:19�█████████████▌       | 381.3 MB 157 kB/s eta 0:12:18��████████████████▌       | 381.5 MB 157 kB/s eta 0:12:16██████▌       | 381.7 MB 157 kB/s eta 0:12:151.9 MB 157 kB/s eta 0:12:14    |████████████████████████▋       | 382.0 MB 157 kB/s eta 0:12:13███████████████▋       | 382.2 MB 157 kB/s eta 0:12:12�████▋       | 382.4 MB 157 kB/s eta 0:12:11B 157 kB/s eta 0:12:10████████████████████████▋       | 382.7 MB 157 kB/s eta 0:12:09�█████████████▋       | 382.9 MB 157 kB/s eta 0:12:08��████████████████▋       | 383.1 MB 159 kB/s eta 0:11:57██████▋       | 383.3 MB 159 kB/s eta 0:11:563.5 MB 159 kB/s eta 0:11:55    |████████████████████████▊       | 383.6 MB 159 kB/s eta 0:11:54███████████████▊       | 383.8 MB 159 kB/s eta 0:11:53�████▊       | 384.0 MB 159 kB/s eta 0:11:52B 159 kB/s eta 0:11:51████████████████████████▊       | 384.3 MB 159 kB/s eta 0:11:50�█████████████▊       | 384.5 MB 159 kB/s eta 0:11:49��████████████████▊       | 384.7 MB 159 kB/s eta 0:11:47██████▊       | 384.9 MB 159 kB/s eta 0:11:465.1 MB 159 kB/s eta 0:11:45    |████████████████████████▊       | 385.2 MB 159 kB/s eta 0:11:44███████████████▉       | 385.4 MB 159 kB/s eta 0:11:43�████▉       | 385.6 MB 159 kB/s eta 0:11:42B 159 kB/s eta 0:11:41████████████████████████▉       | 385.9 MB 159 kB/s eta 0:11:40�█████████████▉       | 386.1 MB 159 kB/s eta 0:11:39��████████████████▉       | 386.3 MB 158 kB/s eta 0:11:44██████▉       | 386.5 MB 158 kB/s eta 0:11:436.7 MB 158 kB/s eta 0:11:42    |████████████████████████▉       | 386.8 MB 158 kB/s eta 0:11:41███████████████▉       | 387.0 MB 158 kB/s eta 0:11:40�█████       | 387.2 MB 158 kB/s eta 0:11:39B 158 kB/s eta 0:11:38█████████████████████████       | 387.5 MB 158 kB/s eta 0:11:36�██████████████       | 387.7 MB 158 kB/s eta 0:11:35��█████████████████       | 387.9 MB 158 kB/s eta 0:11:34███████       | 388.1 MB 158 kB/s eta 0:11:338.2 MB 158 kB/s eta 0:11:32    |█████████████████████████       | 388.4 MB 158 kB/s eta 0:11:31████████████████       | 388.6 MB 158 kB/s eta 0:11:29�█████       | 388.8 MB 158 kB/s eta 0:11:28B 158 kB/s eta 0:11:27█████████████████████████       | 389.1 MB 158 kB/s eta 0:11:26�██████████████       | 389.3 MB 158 kB/s eta 0:11:25��█████████████████       | 389.5 MB 159 kB/s eta 0:11:20███████       | 389.7 MB 159 kB/s eta 0:11:199.8 MB 159 kB/s eta 0:11:18    |█████████████████████████       | 390.0 MB 159 kB/s eta 0:11:16████████████████       | 390.2 MB 159 kB/s eta 0:11:15�█████       | 390.3 MB 159 kB/s eta 0:11:14B 159 kB/s eta 0:11:13B 159 kB/s eta 0:11:12B 159 kB/s eta 0:11:11kB/s eta 0:09:37███▏     | 406.3 MB 158 kB/s eta 0:09:36��█████████████▏     | 406.5 MB 158 kB/s eta 0:09:35�████████████████████████▏     | 406.6 MB 158 kB/s eta 0:09:34 kB/s eta 0:09:33 | 407.1 MB 158 kB/s eta 0:09:31�████████▏     | 407.3 MB 158 kB/s eta 0:09:30███████████████████▏     | 407.4 MB 158 kB/s eta 0:09:298  | 407.7 MB 158 kB/s eta 0:09:27��████████▎     | 407.9 MB 158 kB/s eta 0:09:26�███████████████████▎     | 408.1 MB 158 kB/s eta 0:09:2524   | 408.4 MB 158 kB/s eta 0:09:23 | 408.7 MB 153 kB/s eta 0:09:40�████████▎     | 408.8 MB 153 kB/s eta 0:09:38███████████████████▎     | 409.0 MB 153 kB/s eta 0:09:376  | 409.3 MB 153 kB/s eta 0:09:35��████████▎     | 409.5 MB 153 kB/s eta 0:09:34�███████████████████▍     | 409.7 MB 153 kB/s eta 0:09:3332   | 410.0 MB 153 kB/s eta 0:09:31 | 410.3 MB 153 kB/s eta 0:09:29�████████▍     | 410.4 MB 153 kB/s eta 0:09:28███████████████████▍     | 410.6 MB 153 kB/s eta 0:09:276  | 410.9 MB 153 kB/s eta 0:09:25��████████▍     | 411.1 MB 153 kB/s eta 0:09:24�███████████████████▍     | 411.2 MB 153 kB/s eta 0:09:2322   | 411.6 MB 153 kB/s eta 0:09:21 | 411.9 MB 153 kB/s eta 0:09:21�████████▌     | 412.0 MB 153 kB/s eta 0:09:20███████████████████▌     | 412.2 MB 153 kB/s eta 0:09:198  | 412.5 MB 153 kB/s eta 0:09:17��████████▌     | 412.7 MB 153 kB/s eta 0:09:16�███████████████████▌     | 412.8 MB 153 kB/s eta 0:09:1514   | 413.2 MB 153 kB/s eta 0:09:13 | 413.5 MB 153 kB/s eta 0:09:11�████████▋     | 413.6 MB 153 kB/s eta 0:09:10███████████████████▋     | 413.8 MB 153 kB/s eta 0:09:098  | 414.1 MB 153 kB/s eta 0:09:06��████████▋     | 414.3 MB 153 kB/s eta 0:09:05�███████████████████▋     | 414.4 MB 153 kB/s eta 0:09:0403   | 414.8 MB 153 kB/s eta 0:09:02 | 415.1 MB 144 kB/s eta 0:09:33�████████▊     | 415.2 MB 144 kB/s eta 0:09:32███████████████████▊     | 415.4 MB 144 kB/s eta 0:09:310  | 415.7 MB 144 kB/s eta 0:09:28��████████▊     | 415.9 MB 144 kB/s eta 0:09:27�███████████████████▊     | 416.0 MB 144 kB/s eta 0:09:2625   | 416.4 MB 144 kB/s eta 0:09:24 | 416.7 MB 144 kB/s eta 0:09:22�████████▉     | 416.8 MB 144 kB/s eta 0:09:21███████████████████▉     | 417.0 MB 144 kB/s eta 0:09:208  | 417.3 MB 144 kB/s eta 0:09:17��████████▉     | 417.5 MB 144 kB/s eta 0:09:16�███████████████████▉     | 417.6 MB 144 kB/s eta 0:09:1514   | 418.0 MB 144 kB/s eta 0:09:13 | 418.3 MB 135 kB/s eta 0:09:46�█████████     | 418.4 MB 135 kB/s eta 0:09:44████████████████████     | 418.6 MB 135 kB/s eta 0:09:432  | 418.9 MB 135 kB/s eta 0:09:41��█████████     | 419.1 MB 135 kB/s eta 0:09:40�████████████████████     | 419.2 MB 135 kB/s eta 0:09:3837   | 419.6 MB 135 kB/s eta 0:09:36 | 419.9 MB 135 kB/s eta 0:09:34�█████████     | 420.0 MB 135 kB/s eta 0:09:33████████████████████     | 420.2 MB 135 kB/s eta 0:09:310  | 420.5 MB 135 kB/s eta 0:09:29��█████████     | 420.7 MB 135 kB/s eta 0:09:28�████████████████████     | 420.8 MB 135 kB/s eta 0:09:2726   | 421.2 MB 135 kB/s eta 0:09:24 | 421.5 MB 149 kB/s eta 0:08:31�█████████▏    | 421.6 MB 149 kB/s eta 0:08:309█████████▏    | 421.9 MB 149 kB/s eta 0:08:28��████████▏    | 422.3 MB 149 kB/s eta 0:08:26�████████▏    | 422.6 MB 149 kB/s eta 0:08:23[K     |███████████████████████████▏    | 422.7 MB 149 kB/s eta 0:08:22████████▏    | 422.9 MB 149 kB/s eta 0:08:21K     |███████████████████████████▏    | 423.1 MB 149 kB/s eta 0:08:20��███████▏    | 423.2 MB 149 kB/s eta 0:08:19     |███████████████████████████▎    | 423.4 MB 149 kB/s eta 0:08:18�███████▎    | 423.5 MB 149 kB/s eta 0:08:17    |███████████████████████████▎    | 423.7 MB 149 kB/s eta 0:08:16███████▎    | 423.8 MB 149 kB/s eta 0:08:15   |███████████████████████████▎    | 424.0 MB 149 kB/s eta 0:08:14��██████▎    | 424.2 MB 149 kB/s eta 0:08:13  |███████████████████████████▎    | 424.3 MB 150 kB/s eta 0:08:07�██████▎    | 424.5 MB 150 kB/s eta 0:08:06 |███████████████████████████▎    | 424.6 MB 150 kB/s eta 0:08:05██████▎    | 424.8 MB 150 kB/s eta 0:08:04|███████████████████████████▎    | 425.0 MB 150 kB/s eta 0:08:03��█████▍    | 425.1 MB 150 kB/s eta 0:08:02███████████████████████████▍    | 425.3 MB 150 kB/s eta 0:08:01�█████▍    | 425.4 MB 150 kB/s eta 0:08:00��██████████████████████████▍    | 425.6 MB 150 kB/s eta 0:07:59█████▍    | 425.7 MB 150 kB/s eta 0:07:58�██████████████████████████▍    | 425.9 MB 150 kB/s eta 0:07:57��████▍    | 426.1 MB 150 kB/s eta 0:07:56██████████████████████████▍    | 426.2 MB 150 kB/s eta 0:07:55�████▍    | 426.4 MB 150 kB/s eta 0:07:54��█████████████████████████▍    | 426.5 MB 150 kB/s eta 0:07:52████▍    | 426.7 MB 150 kB/s eta 0:07:51�█████████████████████████▌    | 426.9 MB 150 kB/s eta 0:07:50��████████▌    | 427.2 MB 165 kB/s eta 0:07:06�████████▌    | 427.5 MB 165 kB/s eta 0:07:04[K     |███████████████████████████▌    | 427.6 MB 165 kB/s eta 0:07:03████████▌    | 427.8 MB 165 kB/s eta 0:07:03K     |███████████████████████████▌    | 428.0 MB 165 kB/s eta 0:07:02��███████▌    | 428.1 MB 165 kB/s eta 0:07:01     |███████████████████████████▌    | 428.3 MB 165 kB/s eta 0:07:00�███████▌    | 428.4 MB 165 kB/s eta 0:06:59    |███████████████████████████▋    | 428.6 MB 165 kB/s eta 0:06:58███████▋    | 428.7 MB 165 kB/s eta 0:06:57   |███████████████████████████▋    | 428.9 MB 165 kB/s eta 0:06:56��██████▋    | 429.1 MB 165 kB/s eta 0:06:55  |███████████████████████████▋    | 429.2 MB 165 kB/s eta 0:06:54"
     ]
    },
    {
     "name": "stdout",
     "output_type": "stream",
     "text": [
      "\u001b[K     |█████████████████████████████▍  | 457.2 MB 165 kB/s eta 0:04:05██████▋    | 429.7 MB 165 kB/s eta 0:06:51|███████████████████████████▋    | 429.9 MB 165 kB/s eta 0:06:50��█████▋    | 430.0 MB 164 kB/s eta 0:06:52███████████████████████████▋    | 430.2 MB 164 kB/s eta 0:06:51�█████▊    | 430.3 MB 164 kB/s eta 0:06:50��██████████████████████████▊    | 430.5 MB 164 kB/s eta 0:06:49█████▊    | 430.7 MB 164 kB/s eta 0:06:48�██████████████████████████▊    | 430.8 MB 164 kB/s eta 0:06:47��████▊    | 431.0 MB 164 kB/s eta 0:06:46██████████████████████████▊    | 431.1 MB 164 kB/s eta 0:06:45��████████▊    | 431.4 MB 164 kB/s eta 0:06:44�████████▊    | 431.7 MB 164 kB/s eta 0:06:42[K     |███████████████████████████▊    | 431.9 MB 164 kB/s eta 0:06:41████████▉    | 432.1 MB 164 kB/s eta 0:06:40K     |███████████████████████████▉    | 432.2 MB 164 kB/s eta 0:06:39��███████▉    | 432.4 MB 164 kB/s eta 0:06:38     |███████████████████████████▉    | 432.5 MB 164 kB/s eta 0:06:37     |███████████████████████████▉    | 432.7 MB 164 kB/s eta 0:06:36�███████▉    | 432.9 MB 148 kB/s eta 0:07:16    |███████████████████████████▉    | 433.0 MB 148 kB/s eta 0:07:14███████▉    | 433.2 MB 148 kB/s eta 0:07:13   |███████████████████████████▉    | 433.3 MB 148 kB/s eta 0:07:12��██████▉    | 433.5 MB 148 kB/s eta 0:07:11  |███████████████████████████▉    | 433.7 MB 148 kB/s eta 0:07:10�███████    | 433.8 MB 148 kB/s eta 0:07:09 |████████████████████████████    | 434.0 MB 148 kB/s eta 0:07:08███████    | 434.1 MB 148 kB/s eta 0:07:07|████████████████████████████    | 434.3 MB 148 kB/s eta 0:07:06��██████    | 434.4 MB 148 kB/s eta 0:07:05████████████████████████████    | 434.6 MB 148 kB/s eta 0:07:04�██████    | 434.8 MB 148 kB/s eta 0:07:03��███████████████████████████    | 434.9 MB 148 kB/s eta 0:07:02██████    | 435.1 MB 148 kB/s eta 0:07:01�███████████████████████████    | 435.2 MB 148 kB/s eta 0:07:00��█████    | 435.4 MB 148 kB/s eta 0:06:58███████████████████████████    | 435.6 MB 148 kB/s eta 0:06:57�█████    | 435.7 MB 163 kB/s eta 0:06:20��██████████████████████████    | 435.9 MB 163 kB/s eta 0:06:19█████    | 436.0 MB 163 kB/s eta 0:06:18�██████████████████████████    | 436.2 MB 163 kB/s eta 0:06:17��████    | 436.3 MB 163 kB/s eta 0:06:16██████████████████████████    | 436.5 MB 163 kB/s eta 0:06:15�████    | 436.7 MB 163 kB/s eta 0:06:14��█████████████████████████    | 436.8 MB 163 kB/s eta 0:06:13��█████████    | 437.1 MB 163 kB/s eta 0:06:11MB 163 kB/s eta 0:06:10�███████████████████████████▏   | 437.5 MB 163 kB/s eta 0:06:09��███████████████▏   | 437.6 MB 163 kB/s eta 0:06:08████▏   | 437.8 MB 163 kB/s eta 0:06:07/s eta 0:06:06�████████████████████████▏   | 438.1 MB 163 kB/s eta 0:06:05��████████████▏   | 438.2 MB 163 kB/s eta 0:06:04��███████████████████▏   | 438.4 MB 163 kB/s eta 0:06:02████████▏   | 438.6 MB 163 kB/s eta 0:06:01.7 MB 163 kB/s eta 0:06:00|████████████████████████████▏   | 438.9 MB 163 kB/s eta 0:05:59��████████████████▎   | 439.1 MB 163 kB/s eta 0:05:58█████▎   | 439.2 MB 163 kB/s eta 0:05:57 kB/s eta 0:05:56�█████████████████████████▎   | 439.5 MB 163 kB/s eta 0:05:55��███████████████████▎   | 439.7 MB 163 kB/s eta 0:05:54████████▎   | 439.9 MB 163 kB/s eta 0:05:53.0 MB 163 kB/s eta 0:05:52|████████████████████████████▎   | 440.2 MB 163 kB/s eta 0:05:51��████████████████▎   | 440.3 MB 163 kB/s eta 0:05:50█████▎   | 440.5 MB 163 kB/s eta 0:05:49 kB/s eta 0:05:48�█████████████████████████▍   | 440.8 MB 163 kB/s eta 0:05:47��█████████████▍   | 441.0 MB 186 kB/s eta 0:05:05██▍   | 441.1 MB 186 kB/s eta 0:05:04 0:05:03�██████████████████████▍   | 441.4 MB 186 kB/s eta 0:05:02��██████████▍   | 441.6 MB 186 kB/s eta 0:05:01   | 441.7 MB 186 kB/s eta 0:05:01�███████████████████▍   | 442.1 MB 186 kB/s eta 0:04:59��███████████████████▍   | 442.2 MB 186 kB/s eta 0:04:58████████▌   | 442.4 MB 186 kB/s eta 0:04:57.5 MB 186 kB/s eta 0:04:56|████████████████████████████▌   | 442.7 MB 186 kB/s eta 0:04:55��████████████████▌   | 442.8 MB 186 kB/s eta 0:04:55█████▌   | 443.0 MB 186 kB/s eta 0:04:54 kB/s eta 0:04:53�█████████████████████████▌   | 443.3 MB 186 kB/s eta 0:04:52��█████████████▌   | 443.5 MB 186 kB/s eta 0:04:51██▌   | 443.6 MB 186 kB/s eta 0:04:50 0:04:50�██████████████████████▌   | 443.9 MB 186 kB/s eta 0:04:49��██████████▋   | 444.1 MB 186 kB/s eta 0:04:48   | 444.3 MB 186 kB/s eta 0:04:47�███████████████████▋   | 444.6 MB 186 kB/s eta 0:04:45��███████████████████▋   | 444.7 MB 186 kB/s eta 0:04:44████████▋   | 444.9 MB 186 kB/s eta 0:04:44.1 MB 186 kB/s eta 0:04:43|████████████████████████████▋   | 445.2 MB 186 kB/s eta 0:04:42��████████████████▋   | 445.4 MB 186 kB/s eta 0:04:41█████▋   | 445.5 MB 186 kB/s eta 0:04:40 kB/s eta 0:04:39�█████████████████████████▊   | 445.8 MB 186 kB/s eta 0:04:38��█████████████▊   | 446.0 MB 186 kB/s eta 0:04:38██▊   | 446.1 MB 186 kB/s eta 0:04:37 0:04:36�██████████████████████▊   | 446.5 MB 186 kB/s eta 0:04:35��██████████▊   | 446.6 MB 186 kB/s eta 0:04:34   | 446.8 MB 186 kB/s eta 0:04:34�███████████████████▊   | 447.1 MB 186 kB/s eta 0:04:32��███████████████████▊   | 447.3 MB 186 kB/s eta 0:04:31████████▊   | 447.4 MB 186 kB/s eta 0:04:30.6 MB 186 kB/s eta 0:04:29|████████████████████████████▉   | 447.7 MB 186 kB/s eta 0:04:28��████████████████▉   | 447.9 MB 186 kB/s eta 0:04:28█████▉   | 448.1 MB 186 kB/s eta 0:04:27 kB/s eta 0:04:26�█████████████████████████▉   | 448.4 MB 186 kB/s eta 0:04:25��███████████████████▉   | 448.6 MB 166 kB/s eta 0:04:55████████▉   | 448.7 MB 166 kB/s eta 0:04:55.9 MB 166 kB/s eta 0:04:54|████████████████████████████▉   | 449.0 MB 166 kB/s eta 0:04:53��████████████████▉   | 449.2 MB 166 kB/s eta 0:04:52██████   | 449.3 MB 166 kB/s eta 0:04:51 kB/s eta 0:04:50�██████████████████████████   | 449.6 MB 166 kB/s eta 0:04:49��██████████████   | 449.8 MB 166 kB/s eta 0:04:48███   | 450.0 MB 166 kB/s eta 0:04:47 0:04:46�███████████████████████   | 450.3 MB 166 kB/s eta 0:04:45��███████████   | 450.4 MB 166 kB/s eta 0:04:44   | 450.6 MB 166 kB/s eta 0:04:43�████████████████████   | 450.9 MB 166 kB/s eta 0:04:41��████████████████████   | 451.1 MB 166 kB/s eta 0:04:40█████████   | 451.2 MB 166 kB/s eta 0:04:39.4 MB 166 kB/s eta 0:04:38|█████████████████████████████   | 451.5 MB 166 kB/s eta 0:04:37��█████████████████   | 451.7 MB 166 kB/s eta 0:04:36██████   | 451.9 MB 166 kB/s eta 0:04:35 kB/s eta 0:04:35�██████████████████████████   | 452.2 MB 166 kB/s eta 0:04:34��██████████████   | 452.3 MB 166 kB/s eta 0:04:33███   | 452.5 MB 166 kB/s eta 0:04:32 0:04:31�███████████████████████████▏  | 452.8 MB 166 kB/s eta 0:04:30��█████████████████████████▏  | 452.9 MB 166 kB/s eta 0:04:29████████████████████████▏  | 453.1 MB 166 kB/s eta 0:04:28�██████████████████████▏  | 453.3 MB 166 kB/s eta 0:04:27��████████████████████▏  | 453.4 MB 166 kB/s eta 0:04:26    |█████████████████████████████▏  | 453.6 MB 166 kB/s eta 0:04:25█████████████████████████████▏  | 453.7 MB 166 kB/s eta 0:04:24�███████████████████████████▏  | 453.9 MB 166 kB/s eta 0:04:23��█████████████████████████▏  | 454.1 MB 166 kB/s eta 0:04:22████████████████████████▏  | 454.2 MB 166 kB/s eta 0:04:21�██████████████████████▏  | 454.4 MB 166 kB/s eta 0:04:21��████████████████████▎  | 454.5 MB 166 kB/s eta 0:04:20███████████████████▎  | 454.7 MB 166 kB/s eta 0:04:19    |█████████████████████████████▎  | 454.9 MB 166 kB/s eta 0:04:18█████████████████████████████▎  | 455.0 MB 166 kB/s eta 0:04:17�███████████████████████████▎  | 455.2 MB 166 kB/s eta 0:04:16��█████████████████████████▎  | 455.3 MB 166 kB/s eta 0:04:15████████████████████████▎  | 455.5 MB 166 kB/s eta 0:04:14�██████████████████████▎  | 455.6 MB 166 kB/s eta 0:04:13��████████████████████▎  | 455.8 MB 166 kB/s eta 0:04:12███████████████████▎  | 455.9 MB 166 kB/s eta 0:04:11    |█████████████████████████████▎  | 456.1 MB 165 kB/s eta 0:04:12█████████████████████████████▍  | 456.3 MB 165 kB/s eta 0:04:11�███████████████████████████▍  | 456.4 MB 165 kB/s eta 0:04:10��█████████████████████████▍  | 456.6 MB 165 kB/s eta 0:04:09████████████████████████▍  | 456.7 MB 165 kB/s eta 0:04:08�██████████████████████▍  | 456.9 MB 165 kB/s eta 0:04:07��████████████████████▍  | 457.0 MB 165 kB/s eta 0:04:06"
     ]
    },
    {
     "name": "stdout",
     "output_type": "stream",
     "text": [
      "\u001b[K     |███████████████████████████████ | 483.7 MB 163 kB/s eta 0:01:26    |█████████████████████████████▍  | 457.4 MB 165 kB/s eta 0:04:04█████████████████████████████▍  | 457.5 MB 165 kB/s eta 0:04:03�███████████████████████████▍  | 457.7 MB 165 kB/s eta 0:04:02��█████████████████████████▍  | 457.8 MB 165 kB/s eta 0:04:01████████████████████████▌  | 458.0 MB 165 kB/s eta 0:04:00�██████████████████████▌  | 458.1 MB 165 kB/s eta 0:03:59��████████████████████▌  | 458.3 MB 165 kB/s eta 0:03:58███████████████████▌  | 458.4 MB 165 kB/s eta 0:03:58    |█████████████████████████████▌  | 458.6 MB 168 kB/s eta 0:03:52█████████████████████████████▌  | 458.8 MB 168 kB/s eta 0:03:51�███████████████████████████▌  | 458.9 MB 168 kB/s eta 0:03:50��█████████████████████████▌  | 459.1 MB 168 kB/s eta 0:03:49████████████████████████▌  | 459.2 MB 168 kB/s eta 0:03:48�██████████████████████▌  | 459.4 MB 168 kB/s eta 0:03:47��████████████████████▌  | 459.6 MB 168 kB/s eta 0:03:46███████████████████▋  | 459.7 MB 168 kB/s eta 0:03:46    |█████████████████████████████▋  | 459.9 MB 168 kB/s eta 0:03:44█████████████████████████████▋  | 460.0 MB 168 kB/s eta 0:03:44�███████████████████████████▋  | 460.2 MB 168 kB/s eta 0:03:43��█████████████████████████▋  | 460.3 MB 168 kB/s eta 0:03:42████████████████████████▋  | 460.5 MB 168 kB/s eta 0:03:41�██████████████████████▋  | 460.7 MB 168 kB/s eta 0:03:40��████████████████████▋  | 460.8 MB 168 kB/s eta 0:03:39███████████████████▋  | 461.0 MB 168 kB/s eta 0:03:38    |█████████████████████████████▋  | 461.1 MB 170 kB/s eta 0:03:35█████████████████████████████▋  | 461.3 MB 170 kB/s eta 0:03:34�███████████████████████████▊  | 461.5 MB 170 kB/s eta 0:03:33��█████████████████████████▊  | 461.6 MB 170 kB/s eta 0:03:32████████████████████████▊  | 461.8 MB 170 kB/s eta 0:03:31�██████████████████████▊  | 461.9 MB 170 kB/s eta 0:03:30��████████████████████▊  | 462.1 MB 170 kB/s eta 0:03:30███████████████████▊  | 462.2 MB 170 kB/s eta 0:03:29    |█████████████████████████████▊  | 462.4 MB 170 kB/s eta 0:03:28█████████████████████████████▊  | 462.6 MB 170 kB/s eta 0:03:27�███████████████████████████▊  | 462.7 MB 170 kB/s eta 0:03:26��█████████████████████████▊  | 462.9 MB 170 kB/s eta 0:03:25████████████████████████▊  | 463.0 MB 170 kB/s eta 0:03:24�██████████████████████▉  | 463.2 MB 170 kB/s eta 0:03:23��████████████████████▉  | 463.3 MB 170 kB/s eta 0:03:22███████████████████▉  | 463.5 MB 170 kB/s eta 0:03:21    |█████████████████████████████▉  | 463.7 MB 169 kB/s eta 0:03:20█████████████████████████████▉  | 463.8 MB 169 kB/s eta 0:03:20�███████████████████████████▉  | 464.0 MB 169 kB/s eta 0:03:19��█████████████████████████▉  | 464.1 MB 169 kB/s eta 0:03:18████████████████████████▉  | 464.3 MB 169 kB/s eta 0:03:17�██████████████████████▉  | 464.4 MB 169 kB/s eta 0:03:16��████████████████████▉  | 464.6 MB 169 kB/s eta 0:03:15███████████████████▉  | 464.7 MB 169 kB/s eta 0:03:14    |██████████████████████████████  | 464.9 MB 169 kB/s eta 0:03:13██████████████████████████████  | 465.1 MB 169 kB/s eta 0:03:12�████████████████████████████  | 465.2 MB 169 kB/s eta 0:03:11��██████████████████████████  | 465.4 MB 169 kB/s eta 0:03:10█████████████████████████  | 465.5 MB 169 kB/s eta 0:03:09�███████████████████████  | 465.7 MB 169 kB/s eta 0:03:09��█████████████████████  | 465.8 MB 169 kB/s eta 0:03:08████████████████████  | 466.0 MB 169 kB/s eta 0:03:07    |██████████████████████████████  | 466.2 MB 168 kB/s eta 0:03:07██████████████████████████████  | 466.4 MB 168 kB/s eta 0:03:06�████████████████████████████  | 466.5 MB 168 kB/s eta 0:03:05��██████████████████████████  | 466.7 MB 168 kB/s eta 0:03:04█████████████████████████  | 466.8 MB 168 kB/s eta 0:03:03�███████████████████████  | 467.0 MB 168 kB/s eta 0:03:02��█████████████████████  | 467.1 MB 168 kB/s eta 0:03:01████████████████████  | 467.3 MB 168 kB/s eta 0:03:00    |██████████████████████████████  | 467.4 MB 168 kB/s eta 0:02:59██████████████████████████████  | 467.6 MB 168 kB/s eta 0:02:58�████████████████████████████  | 467.8 MB 168 kB/s eta 0:02:57��██████████████████████████  | 467.9 MB 168 kB/s eta 0:02:57█████████████████████████  | 468.1 MB 168 kB/s eta 0:02:56�███████████████████████  | 468.2 MB 168 kB/s eta 0:02:55��███████████████████████████▏ | 468.4 MB 168 kB/s eta 0:02:54 0:02:537 MB 164 kB/s eta 0:02:57█████▏ | 468.8 MB 164 kB/s eta 0:02:56�█████████████▏ | 469.0 MB 164 kB/s eta 0:02:55��█████████████████████▏ | 469.2 MB 164 kB/s eta 0:02:54██████████████████████████████▏ | 469.3 MB 164 kB/s eta 0:02:53B/s eta 0:02:52��█▏ | 469.6 MB 164 kB/s eta 0:02:51██████████▏ | 469.8 MB 164 kB/s eta 0:02:500 MB 164 kB/s eta 0:02:49█████▎ | 470.1 MB 164 kB/s eta 0:02:48�█████████████▎ | 470.3 MB 164 kB/s eta 0:02:47��█████████████████████▎ | 470.4 MB 164 kB/s eta 0:02:46██████████████████████████████▎ | 470.6 MB 164 kB/s eta 0:02:46B/s eta 0:02:45��█▎ | 470.9 MB 164 kB/s eta 0:02:44██████████▎ | 471.0 MB 164 kB/s eta 0:02:432 MB 163 kB/s eta 0:02:43█████▎ | 471.4 MB 163 kB/s eta 0:02:42�█████████████▎ | 471.5 MB 163 kB/s eta 0:02:41��█████████████████████▎ | 471.7 MB 163 kB/s eta 0:02:40██████████████████████████████▍ | 471.8 MB 163 kB/s eta 0:02:39B/s eta 0:02:38��█▍ | 472.1 MB 163 kB/s eta 0:02:37██████████▍ | 472.3 MB 163 kB/s eta 0:02:365 MB 163 kB/s eta 0:02:35█████▍ | 472.6 MB 163 kB/s eta 0:02:34�█████████████▍ | 472.8 MB 163 kB/s eta 0:02:33��█████████████████████▍ | 472.9 MB 163 kB/s eta 0:02:32██████████████████████████████▍ | 473.1 MB 163 kB/s eta 0:02:31B/s eta 0:02:30��█▍ | 473.4 MB 163 kB/s eta 0:02:29██████████▌ | 473.5 MB 163 kB/s eta 0:02:287 MB 163 kB/s eta 0:02:27█████▌ | 473.9 MB 163 kB/s eta 0:02:26�█████████████▌ | 474.1 MB 163 kB/s eta 0:02:25��█████████████████████▌ | 474.2 MB 163 kB/s eta 0:02:24██████████████████████████████▌ | 474.4 MB 163 kB/s eta 0:02:23B/s eta 0:02:22��█▌ | 474.7 MB 163 kB/s eta 0:02:22██████████▌ | 474.8 MB 163 kB/s eta 0:02:210 MB 163 kB/s eta 0:02:19█████▌ | 475.1 MB 163 kB/s eta 0:02:19�█████████████▋ | 475.3 MB 163 kB/s eta 0:02:18��█████████████████████▋ | 475.5 MB 163 kB/s eta 0:02:17██████████████████████████████▋ | 475.6 MB 163 kB/s eta 0:02:16B/s eta 0:02:15��█▋ | 475.9 MB 163 kB/s eta 0:02:14██████████▋ | 476.1 MB 163 kB/s eta 0:02:133 MB 152 kB/s eta 0:02:21█████▋ | 476.4 MB 152 kB/s eta 0:02:20�█████████████▋ | 476.6 MB 152 kB/s eta 0:02:19��█████████████████████▋ | 476.7 MB 152 kB/s eta 0:02:18██████████████████████████████▋ | 476.9 MB 152 kB/s eta 0:02:17B/s eta 0:02:16��█▊ | 477.2 MB 152 kB/s eta 0:02:15██████████▊ | 477.3 MB 152 kB/s eta 0:02:146 MB 152 kB/s eta 0:02:13█████▊ | 477.7 MB 152 kB/s eta 0:02:12�█████████████▊ | 477.9 MB 152 kB/s eta 0:02:11��█████████████████████▊ | 478.0 MB 152 kB/s eta 0:02:10██████████████████████████████▊ | 478.2 MB 152 kB/s eta 0:02:09B/s eta 0:02:08��█▊ | 478.5 MB 152 kB/s eta 0:02:07██████████▊ | 478.6 MB 152 kB/s eta 0:02:068 MB 162 kB/s eta 0:01:56█████▉ | 479.0 MB 162 kB/s eta 0:01:55�█████████████▉ | 479.1 MB 162 kB/s eta 0:01:54��█████████████████████▉ | 479.3 MB 162 kB/s eta 0:01:53██████████████████████████████▉ | 479.4 MB 162 kB/s eta 0:01:52B/s eta 0:01:52��█▉ | 479.7 MB 162 kB/s eta 0:01:51██████████▉ | 479.9 MB 162 kB/s eta 0:01:501 MB 162 kB/s eta 0:01:48█████▉ | 480.2 MB 162 kB/s eta 0:01:48�██████████████ | 480.4 MB 162 kB/s eta 0:01:47��██████████████████████ | 480.5 MB 162 kB/s eta 0:01:46███████████████████████████████ | 480.7 MB 162 kB/s eta 0:01:45B/s eta 0:01:44��██ | 481.0 MB 162 kB/s eta 0:01:43███████████ | 481.1 MB 162 kB/s eta 0:01:423 MB 163 kB/s eta 0:01:40██████ | 481.5 MB 163 kB/s eta 0:01:39�██████████████ | 481.6 MB 163 kB/s eta 0:01:38��██████████████████████ | 481.8 MB 163 kB/s eta 0:01:37███████████████████████████████ | 481.9 MB 163 kB/s eta 0:01:37B/s eta 0:01:36��██ | 482.2 MB 163 kB/s eta 0:01:35███████████ | 482.4 MB 163 kB/s eta 0:01:346 MB 163 kB/s eta 0:01:33██████ | 482.7 MB 163 kB/s eta 0:01:32�██████████████ | 482.9 MB 163 kB/s eta 0:01:31��██████████████████████ | 483.0 MB 163 kB/s eta 0:01:30███████████████████████████████ | 483.2 MB 163 kB/s eta 0:01:29B/s eta 0:01:28��██ | 483.5 MB 163 kB/s eta 0:01:27███████████ | 483.6 MB 163 kB/s eta 0:01:26"
     ]
    },
    {
     "name": "stdout",
     "output_type": "stream",
     "text": [
      "\u001b[K     |████████████████████████████████| 497.6 MB 13 kB/s  eta 0:00:01��████████████████▏| 484.0 MB 166 kB/s eta 0:01:2322��███████▏| 484.3 MB 166 kB/s eta 0:01:21██████████████████████████▏| 484.4 MB 166 kB/s eta 0:01:20 484.6 MB 166 kB/s eta 0:01:19█████████████████▏| 484.7 MB 166 kB/s eta 0:01:18:17███████▏| 485.1 MB 166 kB/s eta 0:01:16�█████████████████████████▏| 485.3 MB 166 kB/s eta 0:01:1585.4 MB 166 kB/s eta 0:01:14�████████████████▏| 485.6 MB 166 kB/s eta 0:01:132�███████▎| 485.8 MB 166 kB/s eta 0:01:11��█████████████████████████▎| 486.0 MB 166 kB/s eta 0:01:11486.1 MB 166 kB/s eta 0:01:10███████▎| 486.4 MB 166 kB/s eta 0:01:08�█████████████████████████▎| 486.5 MB 166 kB/s eta 0:01:0786.7 MB 166 kB/s eta 0:01:06�████████████████▎| 486.8 MB 166 kB/s eta 0:01:055�███████▎| 487.1 MB 166 kB/s eta 0:01:04��█████████████████████████▎| 487.3 MB 166 kB/s eta 0:01:03487.4 MB 166 kB/s eta 0:01:02███████▍| 487.6 MB 166 kB/s eta 0:01:01�█████████████████████████▍| 487.8 MB 166 kB/s eta 0:01:0087.9 MB 166 kB/s eta 0:00:59�████████████████▍| 488.1 MB 166 kB/s eta 0:00:587�███████▍| 488.4 MB 166 kB/s eta 0:00:56��█████████████████████████▍| 488.5 MB 166 kB/s eta 0:00:55488.7 MB 166 kB/s eta 0:00:54███████▍| 488.9 MB 164 kB/s eta 0:00:54�█████████████████████████▌| 489.0 MB 164 kB/s eta 0:00:5389.2 MB 164 kB/s eta 0:00:52�████████████████▌| 489.3 MB 164 kB/s eta 0:00:510�███████▌| 489.6 MB 164 kB/s eta 0:00:49��█████████████████████████▌| 489.8 MB 164 kB/s eta 0:00:48489.9 MB 164 kB/s eta 0:00:47███████▌| 490.1 MB 164 kB/s eta 0:00:46�█████████████████████████▌| 490.3 MB 164 kB/s eta 0:00:4590.4 MB 164 kB/s eta 0:00:44�████████████████▌| 490.6 MB 164 kB/s eta 0:00:432�███████▋| 490.9 MB 164 kB/s eta 0:00:41��█████████████████████████▋| 491.0 MB 164 kB/s eta 0:00:40491.2 MB 164 kB/s eta 0:00:40███████▋| 491.4 MB 151 kB/s eta 0:00:42�█████████████████████████▋| 491.6 MB 151 kB/s eta 0:00:4191.7 MB 151 kB/s eta 0:00:40�████████████████▋| 491.8 MB 151 kB/s eta 0:00:398�███████▋| 492.1 MB 151 kB/s eta 0:00:37��█████████████████████████▋| 492.3 MB 151 kB/s eta 0:00:36492.4 MB 151 kB/s eta 0:00:35███████▊| 492.7 MB 151 kB/s eta 0:00:34�█████████████████████████▊| 492.8 MB 151 kB/s eta 0:00:3293.0 MB 151 kB/s eta 0:00:32�████████████████▊| 493.1 MB 151 kB/s eta 0:00:310�███████▊| 493.4 MB 151 kB/s eta 0:00:29��█████████████████████████▊| 493.6 MB 151 kB/s eta 0:00:28493.7 MB 151 kB/s eta 0:00:27███████▊| 493.9 MB 168 kB/s eta 0:00:23�█████████████████████████▊| 494.1 MB 168 kB/s eta 0:00:2294.2 MB 168 kB/s eta 0:00:21�████████████████▉| 494.4 MB 168 kB/s eta 0:00:209�███████▉| 494.7 MB 168 kB/s eta 0:00:18��█████████████████████████▉| 494.8 MB 168 kB/s eta 0:00:17495.0 MB 168 kB/s eta 0:00:16███████▉| 495.2 MB 168 kB/s eta 0:00:15�█████████████████████████▉| 495.3 MB 168 kB/s eta 0:00:1495.5 MB 168 kB/s eta 0:00:13�████████████████▉| 495.6 MB 168 kB/s eta 0:00:132�████████| 495.9 MB 168 kB/s eta 0:00:11��██████████████████████████| 496.1 MB 168 kB/s eta 0:00:10496.2 MB 168 kB/s eta 0:00:09████████| 496.4 MB 166 kB/s eta 0:00:08�██████████████████████████| 496.6 MB 166 kB/s eta 0:00:0796.7 MB 166 kB/s eta 0:00:06�█████████████████| 496.9 MB 166 kB/s eta 0:00:054�████████| 497.2 MB 166 kB/s eta 0:00:03��██████████████████████████| 497.3 MB 166 kB/s eta 0:00:02497.5 MB 166 kB/s eta 0:00:01\n",
      "\u001b[?25h  Downloading tensorflow_gpu-2.7.4-cp39-cp39-manylinux2010_x86_64.whl (496.1 MB)\n"
     ]
    },
    {
     "name": "stdout",
     "output_type": "stream",
     "text": [
      "\u001b[K     |████▋                           | 72.0 MB 418 kB/s eta 0:16:54330 MB/s eta 0:00:33    | 860 kB 15.0 MB/s eta 0:00:33                    | 1.1 MB 15.0 MB/s eta 0:00:33   |                                | 1.4 MB 15.0 MB/s eta 0:00:33ta 0:00:33:00:330:3333[K     |▏                               | 3.1 MB 15.0 MB/s eta 0:00:33               | 3.6 MB 234 kB/s eta 0:34:57B/s eta 0:34:56                              | 4.2 MB 234 kB/s eta 0:34:55 | 4.4 MB 234 kB/s eta 0:34:543                | 5.0 MB 234 kB/s eta 0:34:51               | 5.5 MB 234 kB/s eta 0:34:49B/s eta 0:34:48                              | 6.1 MB 234 kB/s eta 0:34:47 | 6.4 MB 234 kB/s eta 0:34:464                | 6.9 MB 234 kB/s eta 0:34:43kB/s eta 0:34:42                               | 7.5 MB 234 kB/s eta 0:34:41  | 7.8 MB 234 kB/s eta 0:34:4038                 | 8.3 MB 234 kB/s eta 0:34:37               | 8.7 MB 125 kB/s eta 1:04:30B/s eta 1:04:27                              | 9.2 MB 125 kB/s eta 1:04:25               | 9.9 MB 125 kB/s eta 1:04:20        | 10.2 MB 125 kB/s eta 1:04:18      | 10.5 MB 125 kB/s eta 1:04:15[K     |▊                               | 10.8 MB 154 kB/s eta 0:52:12     |▊                               | 11.1 MB 154 kB/s eta 0:52:10   |▊                               | 11.3 MB 154 kB/s eta 0:52:09 |▊                               | 11.6 MB 154 kB/s eta 0:52:07▊                               | 11.9 MB 154 kB/s eta 0:52:05�                               | 12.2 MB 154 kB/s eta 0:52:03                              | 12.4 MB 154 kB/s eta 0:52:01                            | 12.7 MB 154 kB/s eta 0:52:00                          | 13.0 MB 154 kB/s eta 0:51:58                        | 13.3 MB 154 kB/s eta 0:51:56                      | 13.5 MB 154 kB/s eta 0:51:54                    | 13.8 MB 154 kB/s eta 0:51:52                  | 14.1 MB 154 kB/s eta 0:51:51                | 14.4 MB 154 kB/s eta 0:51:49              | 14.7 MB 154 kB/s eta 0:51:47            | 14.9 MB 154 kB/s eta 0:51:45          | 15.2 MB 154 kB/s eta 0:51:44        | 15.5 MB 154 kB/s eta 0:51:42      | 15.8 MB 471 kB/s eta 0:16:58    | 16.0 MB 471 kB/s eta 0:16:58  | 16.3 MB 471 kB/s eta 0:16:57[K     |█                               | 16.8 MB 471 kB/s eta 0:16:56     |█                               | 17.1 MB 471 kB/s eta 0:16:56471 kB/s eta 0:16:55     |█▏                              | 17.6 MB 471 kB/s eta 0:16:54                  | 17.9 MB 471 kB/s eta 0:16:54 MB 471 kB/s eta 0:16:53                      | 18.7 MB 471 kB/s eta 0:16:5219.0 MB 471 kB/s eta 0:16:52                      | 19.5 MB 135 kB/s eta 0:58:4619.8 MB 135 kB/s eta 0:58:448:42                          | 20.3 MB 135 kB/s eta 0:58:40  | 20.6 MB 135 kB/s eta 0:58:38 0:58:36                              | 21.1 MB 135 kB/s eta 0:58:34      | 21.4 MB 135 kB/s eta 0:58:32 eta 0:58:30�▍                              | 21.9 MB 135 kB/s eta 0:58:28          | 22.2 MB 135 kB/s eta 0:58:26kB/s eta 0:58:24 |█▌                              | 22.7 MB 135 kB/s eta 0:58:22              | 23.0 MB 135 kB/s eta 0:58:20135 kB/s eta 0:58:18     |█▌                              | 23.6 MB 135 kB/s eta 0:58:16                  | 23.8 MB 135 kB/s eta 0:58:14 MB 135 kB/s eta 0:58:12                      | 24.6 MB 135 kB/s eta 0:58:0824.9 MB 135 kB/s eta 0:58:068:04                          | 25.4 MB 525 kB/s eta 0:14:56  | 25.7 MB 525 kB/s eta 0:14:56 0:14:55                              | 26.2 MB 525 kB/s eta 0:14:55      | 26.5 MB 525 kB/s eta 0:14:54 eta 0:14:54�▊                              | 27.1 MB 525 kB/s eta 0:14:53          | 27.3 MB 525 kB/s eta 0:14:53kB/s eta 0:14:52 |█▉                              | 27.9 MB 525 kB/s eta 0:14:52                      | 28.2 MB 158 kB/s eta 0:49:1328.4 MB 158 kB/s eta 0:49:119:10                          | 29.0 MB 158 kB/s eta 0:49:08  | 29.2 MB 158 kB/s eta 0:49:06.6 MB 83 kB/s eta 1:32:35                     | 29.9 MB 83 kB/s eta 1:32:32.7 MB 83 kB/s eta 1:32:23                     | 31.0 MB 83 kB/s eta 1:32:19.7 MB 83 kB/s eta 1:32:10                     | 32.0 MB 83 kB/s eta 1:32:07��▏                             | 32.8 MB 7.7 MB/s eta 0:01:00/s eta 0:01:00            | 33.3 MB 7.7 MB/s eta 0:01:00 |██▏                             | 33.6 MB 7.7 MB/s eta 0:01:007.7 MB/s eta 0:01:00                  | 34.1 MB 7.7 MB/s eta 0:01:00[K     |██▏                             | 34.4 MB 7.7 MB/s eta 0:01:00.6 MB 7.7 MB/s eta 0:01:00                        | 34.9 MB 7.7 MB/s eta 0:01:001:00  | 35.4 MB 7.7 MB/s eta 0:01:00�                             | 35.7 MB 558 kB/s eta 0:13:44ta 0:13:44        | 36.2 MB 558 kB/s eta 0:13:43�█▍                             | 36.5 MB 558 kB/s eta 0:13:4337.0 MB 558 kB/s eta 0:13:42                          | 37.2 MB 558 kB/s eta 0:13:42:13:41▌                             | 38.0 MB 558 kB/s eta 0:13:40 eta 0:13:40          | 38.6 MB 558 kB/s eta 0:13:39██▌                             | 38.8 MB 343 kB/s eta 0:22:113 kB/s eta 0:22:10                | 39.3 MB 343 kB/s eta 0:22:09     |██▌                             | 39.6 MB 343 kB/s eta 0:22:09 MB 343 kB/s eta 0:22:08                      | 40.1 MB 343 kB/s eta 0:22:0706| 40.7 MB 343 kB/s eta 0:22:06                            | 40.9 MB 343 kB/s eta 0:22:05 0:22:04      | 41.4 MB 343 kB/s eta 0:22:03��▊                             | 41.7 MB 343 kB/s eta 0:22:03/s eta 0:22:02            | 42.2 MB 343 kB/s eta 0:22:01 |██▊                             | 42.5 MB 343 kB/s eta 0:22:00343 kB/s eta 0:22:0043.1 MB 150 kB/s eta 0:50:14                          | 43.4 MB 150 kB/s eta 0:50:12:50:10    | 43.9 MB 150 kB/s eta 0:50:09▉                             | 44.2 MB 150 kB/s eta 0:50:07 eta 0:50:05          | 44.7 MB 150 kB/s eta 0:50:03███                             | 44.9 MB 150 kB/s eta 0:50:020 kB/s eta 0:50:00                | 45.5 MB 150 kB/s eta 0:49:5845.8 MB 150 kB/s eta 0:49:56                          | 46.1 MB 150 kB/s eta 0:49:54:49:53    | 46.6 MB 150 kB/s eta 0:49:51█                             | 46.8 MB 150 kB/s eta 0:49:49 eta 0:49:4747.5 MB 179 kB/s eta 0:41:34                          | 47.7 MB 179 kB/s eta 0:41:32:41:31          | 48.3 MB 179 kB/s eta 0:41:29          | 48.5 MB 179 kB/s eta 0:41:28          | 48.8 MB 179 kB/s eta 0:41:26          | 49.0 MB 179 kB/s eta 0:41:25          | 49.3 MB 179 kB/s eta 0:41:24          | 49.5 MB 179 kB/s eta 0:41:22          | 49.8 MB 179 kB/s eta 0:41:21          | 50.0 MB 179 kB/s eta 0:41:19          | 50.3 MB 179 kB/s eta 0:41:18          | 50.6 MB 179 kB/s eta 0:41:16          | 50.8 MB 179 kB/s eta 0:41:15          | 51.1 MB 179 kB/s eta 0:41:14          | 51.3 MB 179 kB/s eta 0:41:12          | 51.6 MB 179 kB/s eta 0:41:11          | 51.8 MB 179 kB/s eta 0:41:09          | 52.1 MB 179 kB/s eta 0:41:08          | 52.3 MB 179 kB/s eta 0:41:07          | 52.6 MB 284 kB/s eta 0:25:57          | 52.9 MB 284 kB/s eta 0:25:56          | 53.1 MB 284 kB/s eta 0:25:55          | 53.4 MB 284 kB/s eta 0:25:55                | 64.0 MB 357 kB/s eta 0:20:10/s eta 0:20:26�█▏                           | 64.5 MB 352 kB/s eta 0:20:26  | 64.7 MB 352 kB/s eta 0:20:25                    | 65.3 MB 352 kB/s eta 0:20:232 kB/s eta 0:20:23��██▎                           | 65.8 MB 352 kB/s eta 0:20:22      | 66.0 MB 352 kB/s eta 0:20:214:41                        | 66.5 MB 488 kB/s eta 0:14:40B 488 kB/s eta 0:14:40████▎                           | 67.0 MB 488 kB/s eta 0:14:39          | 67.3 MB 488 kB/s eta 0:14:39 0:14:38�                           | 67.8 MB 488 kB/s eta 0:14:38.0 MB 488 kB/s eta 0:14:37   |████▍                           | 68.3 MB 488 kB/s eta 0:14:37              | 68.5 MB 488 kB/s eta 0:14:36 eta 0:14:36��▌                           | 69.0 MB 488 kB/s eta 0:14:35| 69.3 MB 488 kB/s eta 0:14:35[K     |████▌                           | 69.5 MB 488 kB/s eta 0:14:34                  | 69.8 MB 488 kB/s eta 0:14:34kB/s eta 0:14:33██▌                           | 70.3 MB 418 kB/s eta 0:16:58    | 70.5 MB 418 kB/s eta 0:16:5757                      | 71.0 MB 418 kB/s eta 0:16:56418 kB/s eta 0:16:55�███▋                           | 71.5 MB 418 kB/s eta 0:16:55        | 71.8 MB 418 kB/s eta 0:16:54"
     ]
    },
    {
     "name": "stdout",
     "output_type": "stream",
     "text": [
      "\u001b[K     |████████▊                       | 135.0 MB 154 kB/s eta 0:39:047B 418 kB/s eta 0:16:52 |████▊                           | 72.8 MB 418 kB/s eta 0:16:52            | 73.0 MB 418 kB/s eta 0:16:51ta 0:16:51▊                           | 73.5 MB 252 kB/s eta 0:27:5573.8 MB 252 kB/s eta 0:27:55     |████▊                           | 74.0 MB 252 kB/s eta 0:27:54                | 74.3 MB 252 kB/s eta 0:27:53/s eta 0:27:52�█▉                           | 74.8 MB 252 kB/s eta 0:27:51  | 75.0 MB 252 kB/s eta 0:27:50                    | 75.7 MB 252 kB/s eta 0:27:472 kB/s eta 0:27:46��███                           | 76.2 MB 252 kB/s eta 0:27:45      | 76.5 MB 252 kB/s eta 0:27:447:43                        | 77.0 MB 252 kB/s eta 0:27:42B 252 kB/s eta 0:27:41█████                           | 77.5 MB 3.2 MB/s eta 0:02:10                    | 77.8 MB 3.2 MB/s eta 0:02:102 MB/s eta 0:02:10��███                           | 78.3 MB 3.2 MB/s eta 0:02:10      | 78.6 MB 3.2 MB/s eta 0:02:102:10                        | 79.1 MB 3.2 MB/s eta 0:02:10              | 79.3 MB 3.2 MB/s eta 0:02:10�▏                          | 79.6 MB 3.2 MB/s eta 0:02:09MB/s eta 0:02:09  | 80.3 MB 3.2 MB/s eta 0:02:09                  | 80.5 MB 3.2 MB/s eta 0:02:09kB/s eta 0:49:48  | 81.2 MB 138 kB/s eta 0:49:46                  | 81.5 MB 138 kB/s eta 0:49:44��█▎                          | 81.7 MB 138 kB/s eta 0:49:42     |█████▎                          | 82.0 MB 138 kB/s eta 0:49:40 eta 0:49:3982.5 MB 138 kB/s eta 0:49:37              | 82.7 MB 138 kB/s eta 0:49:35�▍                          | 82.9 MB 138 kB/s eta 0:49:33 |█████▍                          | 83.2 MB 138 kB/s eta 0:49:32 0:49:30 MB 138 kB/s eta 0:49:28kB/s eta 0:52:54  | 84.4 MB 129 kB/s eta 0:52:52                  | 84.7 MB 129 kB/s eta 0:52:50��█▌                          | 84.9 MB 129 kB/s eta 0:52:48     |█████▌                          | 85.2 MB 129 kB/s eta 0:52:46 eta 0:52:4585.6 MB 129 kB/s eta 0:52:43              | 85.9 MB 129 kB/s eta 0:52:41�▋                          | 86.1 MB 129 kB/s eta 0:52:39 |█████▋                          | 86.4 MB 129 kB/s eta 0:52:37 0:52:35 MB 129 kB/s eta 0:52:33          | 87.1 MB 129 kB/s eta 0:52:31                          | 87.4 MB 129 kB/s eta 0:52:29�████▋                          | 87.6 MB 129 kB/s eta 0:52:282:26129 kB/s eta 0:52:24      | 88.3 MB 129 kB/s eta 0:52:22                      | 88.6 MB 129 kB/s eta 0:52:20███▊                          | 88.8 MB 129 kB/s eta 0:52:18kB/s eta 0:18:05  | 89.5 MB 374 kB/s eta 0:18:05                  | 89.8 MB 374 kB/s eta 0:18:04��█▉                          | 90.0 MB 374 kB/s eta 0:18:03     |█████▉                          | 90.3 MB 374 kB/s eta 0:18:03 eta 0:18:0290.8 MB 374 kB/s eta 0:18:01              | 91.0 MB 374 kB/s eta 0:18:01�▉                          | 91.3 MB 374 kB/s eta 0:18:00 |██████                          | 91.5 MB 374 kB/s eta 0:18:00 0:17:59 MB 6.3 MB/s eta 0:01:04          | 92.2 MB 6.3 MB/s eta 0:01:04                          | 92.5 MB 6.3 MB/s eta 0:01:04�█████                          | 92.7 MB 6.3 MB/s eta 0:01:041:046.3 MB/s eta 0:01:04      | 93.5 MB 6.3 MB/s eta 0:01:04                      | 93.7 MB 6.3 MB/s eta 0:01:04████                          | 93.9 MB 6.3 MB/s eta 0:01:04MB/s eta 0:01:04  | 94.7 MB 6.3 MB/s eta 0:01:04[K     |██████▏                         | 94.9 MB 6.3 MB/s eta 0:01:04�█▏                         | 95.2 MB 6.3 MB/s eta 0:01:04          | 95.4 MB 6.3 MB/s eta 0:01:043 MB/s eta 0:01:04     |██████▏                         | 95.9 MB 6.3 MB/s eta 0:01:04��▏                         | 96.1 MB 6.3 MB/s eta 0:01:04        | 96.3 MB 4.8 MB/s eta 0:01:23MB/s eta 0:01:23   |██████▎                         | 96.8 MB 4.8 MB/s eta 0:01:23▎                         | 97.1 MB 4.8 MB/s eta 0:01:23      | 97.3 MB 4.8 MB/s eta 0:01:23/s eta 0:01:23 |██████▎                         | 97.8 MB 4.8 MB/s eta 0:01:23�                         | 98.0 MB 4.8 MB/s eta 0:01:23    | 98.2 MB 4.8 MB/s eta 0:01:23 eta 0:01:23██████▍                         | 98.7 MB 170 kB/s eta 0:38:52                        | 99.0 MB 170 kB/s eta 0:38:51  | 99.2 MB 170 kB/s eta 0:38:49ta 0:38:48██▍                         | 99.9 MB 170 kB/s eta 0:38:45��                         | 100.1 MB 170 kB/s eta 0:38:44▌                         | 100.3 MB 170 kB/s eta 0:38:42�▌                         | 100.6 MB 170 kB/s eta 0:38:41��▌                         | 100.8 MB 170 kB/s eta 0:38:40█▌                         | 101.0 MB 170 kB/s eta 0:38:38�█▌                         | 101.3 MB 170 kB/s eta 0:38:37��█▌                         | 101.5 MB 170 kB/s eta 0:38:36██▋                         | 101.8 MB 170 kB/s eta 0:38:34████▋                         | 102.0 MB 10.7 MB/s eta 0:00:37 0:00:37| 102.5 MB 10.7 MB/s eta 0:00:37                        | 102.7 MB 10.7 MB/s eta 0:00:37 |██████▋                         | 102.9 MB 10.7 MB/s eta 0:00:37MB/s eta 0:00:37        | 103.4 MB 10.7 MB/s eta 0:00:37�█▊                         | 103.6 MB 10.7 MB/s eta 0:00:37MB 10.7 MB/s eta 0:00:37                | 104.3 MB 10.7 MB/s eta 0:00:37████▊                         | 104.6 MB 10.7 MB/s eta 0:00:37 0:00:37| 105.0 MB 10.7 MB/s eta 0:00:37                        | 105.2 MB 10.7 MB/s eta 0:00:37 |██████▉                         | 105.5 MB 10.7 MB/s eta 0:00:37[K     |██████▉                         | 105.7 MB 6.3 MB/s eta 0:01:02202:021:0201:02:01:020:01:02726:256:23120:196:1703:32                     | 110.5 MB 1.8 MB/s eta 0:03:32ta 0:03:32��                        | 110.9 MB 1.8 MB/s eta 0:03:31B/s eta 0:03:31�█▏                        | 111.4 MB 1.8 MB/s eta 0:03:311.8 MB/s eta 0:03:31███▏                        | 111.9 MB 1.8 MB/s eta 0:03:311 MB 1.8 MB/s eta 0:03:31��████▎                        | 112.3 MB 1.8 MB/s eta 0:03:31 112.5 MB 1.8 MB/s eta 0:03:31                | 113.0 MB 177 kB/s eta 0:35:5635:55                     | 113.4 MB 177 kB/s eta 0:35:53ta 0:35:52��                        | 113.9 MB 177 kB/s eta 0:35:51B/s eta 0:35:49�█▍                        | 114.3 MB 177 kB/s eta 0:35:48177 kB/s eta 0:35:47                | 115.0 MB 177 kB/s eta 0:35:4435:43                     | 115.5 MB 177 kB/s eta 0:35:42ta 0:35:40��                        | 115.9 MB 177 kB/s eta 0:35:39B/s eta 0:35:38�█▌                        | 116.4 MB 177 kB/s eta 0:35:37177 kB/s eta 0:35:35                | 117.1 MB 154 kB/s eta 0:40:5840:56                     | 117.5 MB 154 kB/s eta 0:40:55ta 0:40:53��                        | 118.0 MB 154 kB/s eta 0:40:52B/s eta 0:40:50�█▋                        | 118.4 MB 154 kB/s eta 0:40:49154 kB/s eta 0:40:47                | 119.1 MB 154 kB/s eta 0:40:4440:43                     | 119.6 MB 154 kB/s eta 0:40:41ta 0:40:40��                        | 120.0 MB 154 kB/s eta 0:40:38B/s eta 0:40:37�█▊                        | 120.5 MB 154 kB/s eta 0:40:35154 kB/s eta 0:40:34                | 121.1 MB 170 kB/s eta 0:36:3536:34                     | 121.6 MB 170 kB/s eta 0:36:33ta 0:36:31��                        | 122.1 MB 170 kB/s eta 0:36:30B/s eta 0:36:29�██                        | 122.5 MB 170 kB/s eta 0:36:27170 kB/s eta 0:36:26████                        | 123.0 MB 170 kB/s eta 0:36:25                | 123.4 MB 170 kB/s eta 0:36:2236:21                     | 123.9 MB 170 kB/s eta 0:36:20ta 0:36:18��                        | 124.3 MB 170 kB/s eta 0:36:17B/s eta 0:36:16�██                        | 124.8 MB 170 kB/s eta 0:36:14170 kB/s eta 0:36:13                | 125.5 MB 173 kB/s eta 0:35:3835:37K     |████████▏                       | 125.9 MB 173 kB/s eta 0:35:353:3135:300:35:29a 0:35:28eta 0:35:26s eta 0:35:25B/s eta 0:35:24 kB/s eta 0:35:2273 kB/s eta 0:35:21 173 kB/s eta 0:35:20MB 173 kB/s eta 0:35:181 MB 173 kB/s eta 0:35:179.3 MB 173 kB/s eta 0:35:16129.5 MB 173 kB/s eta 0:35:15| 129.7 MB 173 kB/s eta 0:35:13  | 130.0 MB 173 kB/s eta 0:35:12    | 130.2 MB 173 kB/s eta 0:35:11      | 130.4 MB 5.9 MB/s eta 0:01:02021:02:01:02 0:01:02ta 0:01:02 eta 0:01:02/s eta 0:01:02MB/s eta 0:01:029 MB/s eta 0:01:02189:17:39:15 0:39:14ta 0:39:12 eta 0:39:11/s eta 0:39:09kB/s eta 0:39:084 kB/s eta 0:39:07154 kB/s eta 0:39:05"
     ]
    },
    {
     "name": "stdout",
     "output_type": "stream",
     "text": [
      "\u001b[K     |███████████▍                    | 176.0 MB 4.3 MB/s eta 0:01:14.4 MB 154 kB/s eta 0:39:0135.6 MB 154 kB/s eta 0:38:59 135.9 MB 154 kB/s eta 0:38:58 | 136.1 MB 154 kB/s eta 0:38:56   | 136.3 MB 154 kB/s eta 0:38:55     | 136.5 MB 154 kB/s eta 0:38:53       | 136.8 MB 154 kB/s eta 0:38:52488:47:38:45 0:38:44ta 0:38:42 eta 0:38:41/s eta 0:38:39kB/s eta 0:38:384 kB/s eta 0:38:36154 kB/s eta 0:38:35B 154 kB/s eta 0:38:34 MB 154 kB/s eta 0:38:32.7 MB 154 kB/s eta 0:38:3140.0 MB 154 kB/s eta 0:38:29 140.2 MB 154 kB/s eta 0:38:28 | 140.4 MB 154 kB/s eta 0:38:26   | 140.6 MB 154 kB/s eta 0:38:2521 eta 0:34:20��▏                      | 141.5 MB 172 kB/s eta 0:34:19eta 0:34:17�▏                      | 141.9 MB 172 kB/s eta 0:34:16ta 0:34:15▏                      | 142.4 MB 172 kB/s eta 0:34:14a 0:34:12��                      | 142.8 MB 172 kB/s eta 0:34:11               | 143.1 MB 172 kB/s eta 0:34:09              | 143.5 MB 172 kB/s eta 0:34:07[K     |█████████▎                      | 143.8 MB 172 kB/s eta 0:34:06             | 144.0 MB 172 kB/s eta 0:34:04K     |█████████▎                      | 144.2 MB 172 kB/s eta 0:34:03            | 144.4 MB 172 kB/s eta 0:34:02     |█████████▎                      | 144.7 MB 172 kB/s eta 0:34:00           | 144.9 MB 172 kB/s eta 0:33:59               | 145.1 MB 155 kB/s eta 0:37:36              | 145.6 MB 155 kB/s eta 0:37:33[K     |█████████▍                      | 145.8 MB 155 kB/s eta 0:37:32             | 146.0 MB 155 kB/s eta 0:37:30K     |█████████▍                      | 146.2 MB 155 kB/s eta 0:37:29            | 146.4 MB 155 kB/s eta 0:37:27     |█████████▌                      | 146.7 MB 155 kB/s eta 0:37:26           | 146.9 MB 155 kB/s eta 0:37:25               | 147.1 MB 155 kB/s eta 0:37:23              | 147.6 MB 155 kB/s eta 0:37:20[K     |█████████▌                      | 147.8 MB 155 kB/s eta 0:37:19             | 148.0 MB 155 kB/s eta 0:37:17K     |█████████▋                      | 148.3 MB 155 kB/s eta 0:37:16            | 148.5 MB 155 kB/s eta 0:37:14     |█████████▋                      | 148.7 MB 155 kB/s eta 0:37:13           | 148.9 MB 155 kB/s eta 0:37:12               | 149.1 MB 155 kB/s eta 0:37:14              | 149.6 MB 155 kB/s eta 0:37:11[K     |█████████▋                      | 149.8 MB 155 kB/s eta 0:37:10             | 150.0 MB 155 kB/s eta 0:37:08K     |█████████▊                      | 150.3 MB 155 kB/s eta 0:37:07            | 150.5 MB 155 kB/s eta 0:37:05     |█████████▊                      | 150.7 MB 155 kB/s eta 0:37:04           | 150.9 MB 155 kB/s eta 0:37:03               | 151.1 MB 155 kB/s eta 0:37:01              | 151.6 MB 155 kB/s eta 0:36:58[K     |█████████▉                      | 151.8 MB 155 kB/s eta 0:36:57             | 152.0 MB 155 kB/s eta 0:36:55K     |█████████▉                      | 152.2 MB 155 kB/s eta 0:36:54            | 152.5 MB 155 kB/s eta 0:36:53     |█████████▉                      | 152.7 MB 155 kB/s eta 0:36:51           | 152.9 MB 155 kB/s eta 0:36:50               | 153.1 MB 155 kB/s eta 0:36:49              | 153.6 MB 155 kB/s eta 0:36:46[K     |██████████                      | 153.8 MB 155 kB/s eta 0:36:45             | 154.0 MB 155 kB/s eta 0:36:44               | 154.4 MB 155 kB/s eta 0:36:41              | 154.8 MB 155 kB/s eta 0:36:38[K     |██████████                      | 155.0 MB 155 kB/s eta 0:36:37             | 155.2 MB 155 kB/s eta 0:36:36K     |██████████                      | 155.5 MB 2.3 MB/s eta 0:02:27            | 155.7 MB 2.3 MB/s eta 0:02:27     |██████████                      | 155.9 MB 2.3 MB/s eta 0:02:27           | 156.1 MB 2.3 MB/s eta 0:02:27    |██████████                      | 156.4 MB 2.3 MB/s eta 0:02:27          | 156.6 MB 2.3 MB/s eta 0:02:262:26   |██████████▏                     | 157.2 MB 2.3 MB/s eta 0:02:26    |██████████▏                     | 157.5 MB 2.3 MB/s eta 0:02:26██████████▏                     | 157.7 MB 3.4 MB/s eta 0:01:39�████████▏                     | 158.0 MB 3.4 MB/s eta 0:01:39��██████▏                     | 158.2 MB 3.4 MB/s eta 0:01:39█████▏                     | 158.4 MB 3.4 MB/s eta 0:01:39�███▎                     | 158.6 MB 3.4 MB/s eta 0:01:39��█▎                     | 158.8 MB 3.4 MB/s eta 0:01:39▎                     | 159.0 MB 3.4 MB/s eta 0:01:39                   | 159.2 MB 3.4 MB/s eta 0:01:39              | 159.5 MB 3.4 MB/s eta 0:01:39         | 159.7 MB 3.4 MB/s eta 0:01:39    | 159.9 MB 3.4 MB/s eta 0:01:39 160.1 MB 3.4 MB/s eta 0:01:39    |██████████▍                     | 160.4 MB 162 kB/s eta 0:34:26██████████▍                     | 160.6 MB 162 kB/s eta 0:34:24�████████▍                     | 160.8 MB 162 kB/s eta 0:34:23��██████▍                     | 161.1 MB 162 kB/s eta 0:34:22█████▍                     | 161.3 MB 162 kB/s eta 0:34:20�███▍                     | 161.5 MB 162 kB/s eta 0:34:19��█▍                     | 161.7 MB 162 kB/s eta 0:34:18▌                     | 161.9 MB 162 kB/s eta 0:34:16                   | 162.1 MB 162 kB/s eta 0:34:15    |██████████▌                     | 162.4 MB 162 kB/s eta 0:34:13██████████▌                     | 162.6 MB 162 kB/s eta 0:34:12�████████▌                     | 162.8 MB 162 kB/s eta 0:34:11��██████▌                     | 163.1 MB 162 kB/s eta 0:34:09█████▌                     | 163.3 MB 162 kB/s eta 0:34:08�███▌                     | 163.5 MB 162 kB/s eta 0:34:07��█▋                     | 163.7 MB 162 kB/s eta 0:34:05▋                     | 163.9 MB 162 kB/s eta 0:34:04                   | 164.1 MB 162 kB/s eta 0:34:03    |██████████▋                     | 164.4 MB 156 kB/s eta 0:35:18██████████▋                     | 164.6 MB 156 kB/s eta 0:35:16�████████▋                     | 164.8 MB 156 kB/s eta 0:35:15��██████▋                     | 165.0 MB 156 kB/s eta 0:35:14█████▋                     | 165.3 MB 156 kB/s eta 0:35:12�███▊                     | 165.5 MB 156 kB/s eta 0:35:11��█▊                     | 165.7 MB 156 kB/s eta 0:35:09▊                     | 165.9 MB 156 kB/s eta 0:35:08                   | 166.1 MB 156 kB/s eta 0:35:07              | 166.3 MB 156 kB/s eta 0:35:05         | 166.6 MB 156 kB/s eta 0:35:04    |██████████▊                     | 167.0 MB 144 kB/s eta 0:38:00██████████▉                     | 167.2 MB 144 kB/s eta 0:37:59�████████▉                     | 167.4 MB 144 kB/s eta 0:37:57��██████▉                     | 167.6 MB 144 kB/s eta 0:37:56    |██████████▉                     | 168.0 MB 144 kB/s eta 0:37:53██████████▉                     | 168.2 MB 144 kB/s eta 0:37:51�████████▉                     | 168.4 MB 144 kB/s eta 0:37:50��██████▉                     | 168.7 MB 144 kB/s eta 0:37:48    |███████████                     | 169.1 MB 340 kB/s eta 0:16:01███████████                     | 169.3 MB 340 kB/s eta 0:16:01�█████████                     | 169.5 MB 340 kB/s eta 0:16:00��███████                     | 169.7 MB 340 kB/s eta 0:15:59    |███████████                     | 170.1 MB 340 kB/s eta 0:15:58███████████                     | 170.3 MB 340 kB/s eta 0:15:58�█████████                     | 170.5 MB 340 kB/s eta 0:15:57��███████                     | 170.7 MB 340 kB/s eta 0:15:56    |███████████                     | 171.2 MB 154 kB/s eta 0:35:10███████████                     | 171.4 MB 154 kB/s eta 0:35:09�█████████                     | 171.6 MB 154 kB/s eta 0:35:07��███████                     | 171.8 MB 154 kB/s eta 0:35:06██████                     | 172.0 MB 154 kB/s eta 0:35:04�████                     | 172.2 MB 154 kB/s eta 0:35:03:02         | 172.6 MB 154 kB/s eta 0:35:00��███████▏                    | 172.9 MB 154 kB/s eta 0:34:59 kB/s eta 0:34:58▏                    | 173.3 MB 154 kB/s eta 0:34:56   |███████████▏                    | 173.5 MB 154 kB/s eta 0:34:55| 173.7 MB 154 kB/s eta 0:34:54��████▏                    | 173.9 MB 154 kB/s eta 0:34:52 0:34:51              | 174.3 MB 154 kB/s eta 0:34:49�█████████▎                    | 174.6 MB 154 kB/s eta 0:34:48B 154 kB/s eta 0:34:47��█▎                    | 175.0 MB 154 kB/s eta 0:34:45     | 175.4 MB 4.3 MB/s eta 0:01:14�██████▎                    | 175.6 MB 4.3 MB/s eta 0:01:14s eta 0:01:14"
     ]
    },
    {
     "name": "stdout",
     "output_type": "stream",
     "text": [
      "\u001b[K     |██████████████▎                 | 221.1 MB 150 kB/s eta 0:30:22      | 176.3 MB 4.3 MB/s eta 0:01:14��██████▍                    | 176.5 MB 4.3 MB/s eta 0:01:14/s eta 0:01:14                    | 177.0 MB 4.3 MB/s eta 0:01:14|███████████▍                    | 177.2 MB 4.3 MB/s eta 0:01:1477.4 MB 4.3 MB/s eta 0:01:14��███▌                    | 177.6 MB 4.3 MB/s eta 0:01:1401:14           | 178.0 MB 4.3 MB/s eta 0:01:14      | 178.3 MB 157 kB/s eta 0:33:38��██████▌                    | 178.5 MB 157 kB/s eta 0:33:37/s eta 0:33:35                    | 179.0 MB 157 kB/s eta 0:33:34|███████████▋                    | 179.2 MB 157 kB/s eta 0:33:3379.4 MB 157 kB/s eta 0:33:31��███▋                    | 179.6 MB 157 kB/s eta 0:33:3033:29           | 180.0 MB 157 kB/s eta 0:33:27      | 180.3 MB 157 kB/s eta 0:33:25��██████▋                    | 180.5 MB 157 kB/s eta 0:33:24/s eta 0:33:23                    | 181.0 MB 157 kB/s eta 0:33:21|███████████▊                    | 181.2 MB 157 kB/s eta 0:33:2081.4 MB 157 kB/s eta 0:33:19��███▊                    | 181.6 MB 157 kB/s eta 0:33:1733:16           | 182.0 MB 157 kB/s eta 0:33:15      | 182.3 MB 158 kB/s eta 0:32:58��██████▊                    | 182.5 MB 158 kB/s eta 0:32:57/s eta 0:32:55                    | 182.9 MB 158 kB/s eta 0:32:54|███████████▉                    | 183.2 MB 158 kB/s eta 0:32:5383.4 MB 158 kB/s eta 0:32:51��███▉                    | 183.6 MB 158 kB/s eta 0:32:5032:49           | 184.0 MB 158 kB/s eta 0:32:47�████████▉                    | 184.2 MB 158 kB/s eta 0:32:46      | 184.5 MB 158 kB/s eta 0:32:44��███████                    | 184.7 MB 158 kB/s eta 0:32:43/s eta 0:32:42                    | 185.1 MB 158 kB/s eta 0:32:40|████████████                    | 185.4 MB 158 kB/s eta 0:32:3985.6 MB 158 kB/s eta 0:32:38��████                    | 185.8 MB 158 kB/s eta 0:32:3632:35           | 186.2 MB 158 kB/s eta 0:32:34      | 186.5 MB 155 kB/s eta 0:33:09��███████                    | 186.7 MB 155 kB/s eta 0:33:07/s eta 0:33:06                    | 187.1 MB 155 kB/s eta 0:33:05|████████████                    | 187.4 MB 155 kB/s eta 0:33:0387.6 MB 155 kB/s eta 0:33:02��██████▏                   | 187.8 MB 155 kB/s eta 0:33:01▏                   | 188.0 MB 155 kB/s eta 0:32:59  | 188.2 MB 155 kB/s eta 0:32:58s eta 0:32:57  |████████████▏                   | 188.6 MB 155 kB/s eta 0:32:55�██████▏                   | 188.8 MB 155 kB/s eta 0:32:54��                   | 189.0 MB 155 kB/s eta 0:32:53 | 189.2 MB 155 kB/s eta 0:32:51��████████▎                   | 189.6 MB 156 kB/s eta 0:32:33██▎                   | 189.8 MB 156 kB/s eta 0:32:32        | 190.0 MB 156 kB/s eta 0:32:3056 kB/s eta 0:32:29�████████▎                   | 190.6 MB 156 kB/s eta 0:32:26��█▎                   | 190.8 MB 156 kB/s eta 0:32:25       | 191.0 MB 156 kB/s eta 0:32:246 kB/s eta 0:32:22��████████▍                   | 191.6 MB 156 kB/s eta 0:32:20██▍                   | 191.8 MB 156 kB/s eta 0:32:19        | 192.0 MB 156 kB/s eta 0:32:1856 kB/s eta 0:32:16�████████▍                   | 192.6 MB 156 kB/s eta 0:32:14��█▍                   | 192.8 MB 156 kB/s eta 0:32:12       | 193.0 MB 156 kB/s eta 0:32:116 kB/s eta 0:32:10��████████▌                   | 193.6 MB 128 kB/s eta 0:39:23██▌                   | 193.8 MB 128 kB/s eta 0:39:21        | 194.0 MB 128 kB/s eta 0:39:2028 kB/s eta 0:39:18�████████▌                   | 194.6 MB 128 kB/s eta 0:39:15��█▋                   | 194.8 MB 128 kB/s eta 0:39:13       | 195.0 MB 128 kB/s eta 0:39:128 kB/s eta 0:39:10��████████▋                   | 195.6 MB 128 kB/s eta 0:39:07██▋                   | 195.8 MB 128 kB/s eta 0:39:06        | 196.0 MB 128 kB/s eta 0:39:0428 kB/s eta 0:39:02�████████▊                   | 196.6 MB 128 kB/s eta 0:38:59��█▊                   | 196.8 MB 128 kB/s eta 0:38:58       | 197.0 MB 128 kB/s eta 0:38:568 kB/s eta 0:38:54��████████▊                   | 197.6 MB 153 kB/s eta 0:32:30██▊                   | 197.8 MB 153 kB/s eta 0:32:29        | 198.0 MB 153 kB/s eta 0:32:2853 kB/s eta 0:32:26�████████▉                   | 198.6 MB 153 kB/s eta 0:32:24��█▉                   | 198.8 MB 153 kB/s eta 0:32:22       | 199.0 MB 153 kB/s eta 0:32:213 kB/s eta 0:32:20[K     |████████████▉                   | 199.4 MB 153 kB/s eta 0:32:18████████▉                   | 199.6 MB 153 kB/s eta 0:32:17�██                   | 199.8 MB 153 kB/s eta 0:32:16      | 200.0 MB 153 kB/s eta 0:32:14 kB/s eta 0:32:13��█████████                   | 200.5 MB 126 kB/s eta 0:38:53███                   | 200.7 MB 126 kB/s eta 0:38:51        | 200.9 MB 126 kB/s eta 0:38:5026 kB/s eta 0:38:48███                   | 201.5 MB 82 kB/s eta 0:59:092 kB/s eta 0:59:07█████████                   | 202.0 MB 82 kB/s eta 0:59:04      | 202.2 MB 82 kB/s eta 0:59:01     |█████████████                   | 202.4 MB 82 kB/s eta 0:58:59��█                   | 202.6 MB 82 kB/s eta 0:58:56/s eta 0:58:54��███████                   | 203.0 MB 82 kB/s eta 0:58:51  | 203.2 MB 82 kB/s eta 0:58:493.4 MB 82 kB/s eta 0:58:463.6 MB 82 kB/s eta 0:58:443.8 MB 82 kB/s eta 0:58:414.0 MB 82 kB/s eta 0:58:394.2 MB 82 kB/s eta 0:58:374.4 MB 82 kB/s eta 0:58:344.6 MB 82 kB/s eta 0:58:324.9 MB 82 kB/s eta 0:58:295.1 MB 82 kB/s eta 0:58:275.3 MB 82 kB/s eta 0:58:245.5 MB 82 kB/s eta 0:58:22              | 205.7 MB 3.4 MB/s eta 0:01:26�████▎                  | 205.9 MB 3.4 MB/s eta 0:01:263.4 MB/s eta 0:01:26         | 206.4 MB 3.4 MB/s eta 0:01:26��██▎                  | 206.6 MB 3.4 MB/s eta 0:01:26�█████████▍                  | 206.8 MB 3.4 MB/s eta 0:01:26.4 MB/s eta 0:01:26        | 207.4 MB 3.4 MB/s eta 0:01:26�██▍                  | 207.6 MB 3.4 MB/s eta 0:01:26█████████▍                  | 207.8 MB 3.4 MB/s eta 0:01:26150 kB/s eta 0:31:51         | 208.4 MB 150 kB/s eta 0:31:50��██▌                  | 208.6 MB 150 kB/s eta 0:31:48�█████████▌                  | 208.8 MB 150 kB/s eta 0:31:4750 kB/s eta 0:31:44        | 209.4 MB 150 kB/s eta 0:31:43�██▌                  | 209.6 MB 150 kB/s eta 0:31:42█████████▌                  | 209.8 MB 150 kB/s eta 0:31:40150 kB/s eta 0:31:38         | 210.4 MB 150 kB/s eta 0:31:36��██▋                  | 210.6 MB 150 kB/s eta 0:31:35�█████████▋                  | 210.8 MB 150 kB/s eta 0:31:3450 kB/s eta 0:31:31        | 211.4 MB 150 kB/s eta 0:31:30�██▋                  | 211.6 MB 150 kB/s eta 0:31:28█████████▋                  | 211.8 MB 150 kB/s eta 0:31:27     |█████████████▊                  | 212.0 MB 150 kB/s eta 0:31:26kB/s eta 0:34:00     | 212.4 MB 139 kB/s eta 0:33:58�█▊                  | 212.6 MB 139 kB/s eta 0:33:57████████▊                  | 212.8 MB 139 kB/s eta 0:33:55    |█████████████▊                  | 213.0 MB 139 kB/s eta 0:33:54B/s eta 0:33:52    | 213.4 MB 139 kB/s eta 0:33:51█▉                  | 213.6 MB 139 kB/s eta 0:33:49��███████▉                  | 213.8 MB 139 kB/s eta 0:33:48139 kB/s eta 0:33:45         | 214.4 MB 139 kB/s eta 0:33:44��██▉                  | 214.6 MB 139 kB/s eta 0:33:42�█████████▉                  | 214.8 MB 139 kB/s eta 0:33:4139 kB/s eta 0:33:38        | 215.4 MB 139 kB/s eta 0:33:36�███                  | 215.6 MB 139 kB/s eta 0:33:35██████████                  | 215.8 MB 139 kB/s eta 0:33:34151 kB/s eta 0:30:51         | 216.4 MB 151 kB/s eta 0:30:49��███                  | 216.6 MB 151 kB/s eta 0:30:48�██████████                  | 216.8 MB 151 kB/s eta 0:30:4751 kB/s eta 0:30:44        | 217.4 MB 151 kB/s eta 0:30:43�███                  | 217.6 MB 151 kB/s eta 0:30:41██████████                  | 217.8 MB 151 kB/s eta 0:30:40151 kB/s eta 0:30:37         | 218.4 MB 151 kB/s eta 0:30:36��███                  | 218.6 MB 151 kB/s eta 0:30:35��█████████████▏                 | 218.8 MB 151 kB/s eta 0:30:33�                 | 219.0 MB 151 kB/s eta 0:30:32:30:31█████▏                 | 219.4 MB 151 kB/s eta 0:30:29MB 151 kB/s eta 0:30:28��██████████▏                 | 219.8 MB 151 kB/s eta 0:30:27███▏                 | 220.1 MB 150 kB/s eta 0:30:29 kB/s eta 0:30:27��████████▎                 | 220.5 MB 150 kB/s eta 0:30:26   | 220.7 MB 150 kB/s eta 0:30:25|██████████████▎                 | 220.9 MB 150 kB/s eta 0:30:23"
     ]
    },
    {
     "name": "stdout",
     "output_type": "stream",
     "text": [
      "\u001b[K     |████████████████▌               | 255.3 MB 159 kB/s eta 0:25:14��█████▎                 | 221.5 MB 150 kB/s eta 0:30:197 MB 150 kB/s eta 0:30:18███▎                 | 221.9 MB 150 kB/s eta 0:30:16 kB/s eta 0:30:15��████████▍                 | 222.3 MB 150 kB/s eta 0:30:14   | 222.5 MB 150 kB/s eta 0:30:13|██████████████▍                 | 222.7 MB 150 kB/s eta 0:30:11▍                 | 222.9 MB 150 kB/s eta 0:30:10 0:30:09��█████▍                 | 223.3 MB 150 kB/s eta 0:30:075 MB 150 kB/s eta 0:30:06�███████████▍                 | 223.7 MB 151 kB/s eta 0:30:03           | 223.9 MB 151 kB/s eta 0:30:02��██▌                 | 224.3 MB 151 kB/s eta 0:29:59kB/s eta 0:29:58�████████▌                 | 224.7 MB 151 kB/s eta 0:29:57  | 224.9 MB 151 kB/s eta 0:29:55██████████████▌                 | 225.1 MB 151 kB/s eta 0:29:54��                 | 225.3 MB 151 kB/s eta 0:29:53███▌                 | 225.5 MB 151 kB/s eta 0:29:51 kB/s eta 0:29:50��████████▋                 | 225.9 MB 151 kB/s eta 0:29:49   | 226.1 MB 151 kB/s eta 0:29:47|██████████████▋                 | 226.3 MB 151 kB/s eta 0:29:46▋                 | 226.5 MB 151 kB/s eta 0:29:45 0:29:43��█████▋                 | 226.9 MB 151 kB/s eta 0:29:421 MB 151 kB/s eta 0:29:41�███████████▋                 | 227.3 MB 152 kB/s eta 0:29:27           | 227.5 MB 152 kB/s eta 0:29:26��██▊                 | 227.9 MB 152 kB/s eta 0:29:23kB/s eta 0:29:22�████████▊                 | 228.3 MB 152 kB/s eta 0:29:20  | 228.5 MB 152 kB/s eta 0:29:19██████████████▊                 | 228.7 MB 152 kB/s eta 0:29:18��                 | 228.9 MB 152 kB/s eta 0:29:17███▉                 | 229.1 MB 152 kB/s eta 0:29:15 kB/s eta 0:29:14��████████▉                 | 229.5 MB 152 kB/s eta 0:29:12   | 229.7 MB 152 kB/s eta 0:29:11|██████████████▉                 | 229.9 MB 152 kB/s eta 0:29:10▉                 | 230.1 MB 152 kB/s eta 0:29:09 0:29:07��█████▉                 | 230.5 MB 152 kB/s eta 0:29:067 MB 152 kB/s eta 0:29:05�████████████                 | 230.9 MB 150 kB/s eta 0:29:24           | 231.1 MB 150 kB/s eta 0:29:22��███                 | 231.5 MB 150 kB/s eta 0:29:20kB/s eta 0:29:19�█████████                 | 231.9 MB 150 kB/s eta 0:29:17  | 232.1 MB 150 kB/s eta 0:29:16███████████████                 | 232.3 MB 150 kB/s eta 0:29:15��                 | 232.5 MB 150 kB/s eta 0:29:13████                 | 232.7 MB 150 kB/s eta 0:29:12 kB/s eta 0:29:11��█████████                 | 233.1 MB 150 kB/s eta 0:29:09   | 233.3 MB 150 kB/s eta 0:29:08|███████████████                 | 233.5 MB 150 kB/s eta 0:29:06█                 | 233.7 MB 150 kB/s eta 0:29:05 0:29:04��██████                 | 234.1 MB 150 kB/s eta 0:29:03| 234.3 MB 150 kB/s eta 0:29:01.5 MB 166 kB/s eta 0:26:14 166 kB/s eta 0:26:13kB/s eta 0:26:12eta 0:26:10:26:098     |███████████████▏                | 235.7 MB 166 kB/s eta 0:26:07|███████████████▏                | 235.8 MB 166 kB/s eta 0:26:06    |███████████████▎                | 236.1 MB 166 kB/s eta 0:26:04███████████████▎                | 236.3 MB 166 kB/s eta 0:26:03�█████████████▎                | 236.5 MB 166 kB/s eta 0:26:02��███████████▎                | 236.7 MB 166 kB/s eta 0:26:01██████████▎                | 236.9 MB 166 kB/s eta 0:25:59�████████▎                | 237.1 MB 166 kB/s eta 0:25:58��██████▎                | 237.3 MB 166 kB/s eta 0:25:57█████▎                | 237.5 MB 166 kB/s eta 0:25:56    |███████████████▍                | 237.8 MB 150 kB/s eta 0:28:41███████████████▍                | 238.0 MB 150 kB/s eta 0:28:40�█████████████▍                | 238.2 MB 150 kB/s eta 0:28:38��███████████▍                | 238.3 MB 150 kB/s eta 0:28:37██████████▍                | 238.5 MB 150 kB/s eta 0:28:36�████████▍                | 238.7 MB 150 kB/s eta 0:28:34��██████▍                | 238.9 MB 150 kB/s eta 0:28:33█████▍                | 239.1 MB 150 kB/s eta 0:28:32    |███████████████▍                | 239.4 MB 150 kB/s eta 0:28:30███████████████▌                | 239.6 MB 150 kB/s eta 0:28:29�█████████████▌                | 239.8 MB 150 kB/s eta 0:28:27��███████████▌                | 240.0 MB 150 kB/s eta 0:28:26██████████▌                | 240.2 MB 150 kB/s eta 0:28:25�████████▌                | 240.4 MB 150 kB/s eta 0:28:23��██████▌                | 240.6 MB 150 kB/s eta 0:28:22█████▌                | 240.8 MB 150 kB/s eta 0:28:21    |███████████████▌                | 241.0 MB 166 kB/s eta 0:25:30███████████████▋                | 241.2 MB 166 kB/s eta 0:25:29�█████████████▋                | 241.4 MB 166 kB/s eta 0:25:27��███████████▋                | 241.6 MB 166 kB/s eta 0:25:26██████████▋                | 241.8 MB 166 kB/s eta 0:25:25�████████▋                | 242.0 MB 166 kB/s eta 0:25:24��██████▋                | 242.2 MB 166 kB/s eta 0:25:23█████▋                | 242.4 MB 166 kB/s eta 0:25:22    |███████████████▋                | 242.7 MB 166 kB/s eta 0:25:20███████████████▊                | 242.9 MB 166 kB/s eta 0:25:19�█████████████▊                | 243.1 MB 166 kB/s eta 0:25:18��███████████▊                | 243.3 MB 166 kB/s eta 0:25:16██████████▊                | 243.5 MB 166 kB/s eta 0:25:15�████████▊                | 243.7 MB 166 kB/s eta 0:25:14��██████▊                | 243.8 MB 166 kB/s eta 0:25:13█████▊                | 244.0 MB 166 kB/s eta 0:25:12    |███████████████▊                | 244.3 MB 165 kB/s eta 0:25:25███████████████▊                | 244.5 MB 165 kB/s eta 0:25:24�█████████████▉                | 244.7 MB 165 kB/s eta 0:25:23��███████████▉                | 244.9 MB 165 kB/s eta 0:25:22██████████▉                | 245.1 MB 165 kB/s eta 0:25:21�████████▉                | 245.3 MB 165 kB/s eta 0:25:20��██████▉                | 245.5 MB 165 kB/s eta 0:25:18█████▉                | 245.7 MB 165 kB/s eta 0:25:17    |███████████████▉                | 246.0 MB 165 kB/s eta 0:25:15███████████████▉                | 246.2 MB 165 kB/s eta 0:25:14�██████████████                | 246.4 MB 165 kB/s eta 0:25:13��████████████                | 246.5 MB 165 kB/s eta 0:25:12███████████                | 246.7 MB 165 kB/s eta 0:25:11�█████████                | 246.9 MB 165 kB/s eta 0:25:10��███████                | 247.1 MB 165 kB/s eta 0:25:08██████                | 247.3 MB 165 kB/s eta 0:25:07    |████████████████                | 247.6 MB 166 kB/s eta 0:24:49████████████████                | 247.8 MB 166 kB/s eta 0:24:48�██████████████                | 248.0 MB 166 kB/s eta 0:24:47��████████████                | 248.2 MB 166 kB/s eta 0:24:45███████████                | 248.4 MB 166 kB/s eta 0:24:44�█████████                | 248.6 MB 166 kB/s eta 0:24:43��███████                | 248.8 MB 166 kB/s eta 0:24:42██████                | 249.0 MB 166 kB/s eta 0:24:41    |████████████████                | 249.3 MB 166 kB/s eta 0:24:39████████████████                | 249.5 MB 166 kB/s eta 0:24:38�██████████████                | 249.7 MB 166 kB/s eta 0:24:37[K     |████████████████▏               | 249.9 MB 166 kB/s eta 0:24:36| 250.0 MB 166 kB/s eta 0:24:35█████▏               | 250.2 MB 166 kB/s eta 0:24:33████████████████▏               | 250.4 MB 166 kB/s eta 0:24:32MB 166 kB/s eta 0:24:31  | 250.9 MB 166 kB/s eta 0:24:34��█████▏               | 251.1 MB 166 kB/s eta 0:24:32 |████████████████▏               | 251.3 MB 166 kB/s eta 0:24:315 MB 166 kB/s eta 0:24:30███▎               | 251.7 MB 166 kB/s eta 0:24:29██████████████▎               | 251.9 MB 166 kB/s eta 0:24:28 kB/s eta 0:24:27�▎               | 252.2 MB 166 kB/s eta 0:24:25  | 252.5 MB 166 kB/s eta 0:24:24��█████▎               | 252.7 MB 166 kB/s eta 0:24:23 |████████████████▎               | 252.9 MB 166 kB/s eta 0:24:211 MB 166 kB/s eta 0:24:20███▍               | 253.3 MB 166 kB/s eta 0:24:19██████████████▍               | 253.5 MB 166 kB/s eta 0:24:18 kB/s eta 0:24:17�▍               | 253.9 MB 166 kB/s eta 0:24:16  | 254.2 MB 159 kB/s eta 0:25:21��█████▍               | 254.4 MB 159 kB/s eta 0:25:20 |████████████████▍               | 254.6 MB 159 kB/s eta 0:25:198 MB 159 kB/s eta 0:25:18███▌               | 254.9 MB 159 kB/s eta 0:25:17██████████████▌               | 255.1 MB 159 kB/s eta 0:25:15"
     ]
    },
    {
     "name": "stdout",
     "output_type": "stream",
     "text": [
      "\u001b[K     |██████████████████▋             | 288.8 MB 164 kB/s eta 0:21:013  | 255.8 MB 159 kB/s eta 0:25:11��█████▌               | 256.0 MB 159 kB/s eta 0:25:10 |████████████████▌               | 256.2 MB 159 kB/s eta 0:25:094 MB 159 kB/s eta 0:25:07███▌               | 256.6 MB 159 kB/s eta 0:25:06██████████████▋               | 256.8 MB 159 kB/s eta 0:25:05 kB/s eta 0:25:04�▋               | 257.2 MB 159 kB/s eta 0:25:03  | 257.5 MB 166 kB/s eta 0:23:53��█████▋               | 257.6 MB 166 kB/s eta 0:23:51 |████████████████▋               | 257.8 MB 166 kB/s eta 0:23:500 MB 166 kB/s eta 0:23:49███▋               | 258.2 MB 166 kB/s eta 0:23:48██████████████▊               | 258.4 MB 166 kB/s eta 0:23:47 kB/s eta 0:23:46�▊               | 258.8 MB 166 kB/s eta 0:23:44  | 259.1 MB 166 kB/s eta 0:23:43��█████▊               | 259.3 MB 166 kB/s eta 0:23:42 |████████████████▊               | 259.5 MB 166 kB/s eta 0:23:407 MB 166 kB/s eta 0:23:39███▊               | 259.9 MB 166 kB/s eta 0:23:38██████████████▊               | 260.1 MB 166 kB/s eta 0:23:37 kB/s eta 0:23:36�▉               | 260.4 MB 166 kB/s eta 0:23:35  | 260.7 MB 167 kB/s eta 0:23:24��█████▉               | 260.9 MB 167 kB/s eta 0:23:23 |████████████████▉               | 261.1 MB 167 kB/s eta 0:23:223 MB 167 kB/s eta 0:23:21███▉               | 261.5 MB 167 kB/s eta 0:23:20██████████████▉               | 261.7 MB 167 kB/s eta 0:23:19 kB/s eta 0:23:17�█               | 262.1 MB 167 kB/s eta 0:23:16  | 262.4 MB 167 kB/s eta 0:23:15��██████               | 262.6 MB 167 kB/s eta 0:23:13 |█████████████████               | 262.8 MB 167 kB/s eta 0:23:129 MB 167 kB/s eta 0:23:11████               | 263.1 MB 167 kB/s eta 0:23:10███████████████               | 263.3 MB 167 kB/s eta 0:23:09 kB/s eta 0:23:08�█               | 263.7 MB 167 kB/s eta 0:23:07  | 264.0 MB 168 kB/s eta 0:23:01��██████               | 264.2 MB 168 kB/s eta 0:23:00 |█████████████████               | 264.4 MB 168 kB/s eta 0:22:596 MB 168 kB/s eta 0:22:58████               | 264.8 MB 168 kB/s eta 0:22:56███████████████               | 265.0 MB 168 kB/s eta 0:22:55 kB/s eta 0:22:54��██████▏              | 265.3 MB 168 kB/s eta 0:22:53��███████▏              | 265.6 MB 168 kB/s eta 0:22:51  | 265.8 MB 168 kB/s eta 0:22:50    |█████████████████▏              | 266.0 MB 168 kB/s eta 0:22:49██████▏              | 266.2 MB 168 kB/s eta 0:22:4866.4 MB 168 kB/s eta 0:22:47█████████████████▏              | 266.6 MB 168 kB/s eta 0:22:46�████▏              | 266.8 MB 168 kB/s eta 0:22:44MB 168 kB/s eta 0:22:43��███████▎              | 267.3 MB 164 kB/s eta 0:23:15  | 267.5 MB 164 kB/s eta 0:23:14    |█████████████████▎              | 267.7 MB 164 kB/s eta 0:23:13██████▎              | 267.8 MB 164 kB/s eta 0:23:1268.0 MB 164 kB/s eta 0:23:11█████████████████▎              | 268.2 MB 164 kB/s eta 0:23:10�████▎              | 268.4 MB 164 kB/s eta 0:23:08MB 164 kB/s eta 0:23:07��███████▍              | 268.9 MB 164 kB/s eta 0:23:05  | 269.1 MB 164 kB/s eta 0:23:04    |█████████████████▍              | 269.3 MB 164 kB/s eta 0:23:03██████▍              | 269.5 MB 164 kB/s eta 0:23:0269.7 MB 164 kB/s eta 0:23:01█████████████████▍              | 269.9 MB 164 kB/s eta 0:23:00�████▍              | 270.0 MB 164 kB/s eta 0:22:59MB 164 kB/s eta 0:22:57��███████▌              | 270.6 MB 157 kB/s eta 0:23:54  | 270.7 MB 157 kB/s eta 0:23:53    |█████████████████▌              | 270.9 MB 157 kB/s eta 0:23:51██████▌              | 271.1 MB 157 kB/s eta 0:23:5071.3 MB 157 kB/s eta 0:23:49█████████████████▌              | 271.5 MB 157 kB/s eta 0:23:48�████▌              | 271.7 MB 157 kB/s eta 0:23:47MB 157 kB/s eta 0:23:46��███████▋              | 272.2 MB 157 kB/s eta 0:23:43  | 272.4 MB 157 kB/s eta 0:23:42    |█████████████████▋              | 272.6 MB 157 kB/s eta 0:23:41██████▋              | 272.8 MB 157 kB/s eta 0:23:4072.9 MB 157 kB/s eta 0:23:39█████████████████▋              | 273.1 MB 157 kB/s eta 0:23:37�████▋              | 273.3 MB 157 kB/s eta 0:23:36MB 157 kB/s eta 0:23:35��███████▋              | 273.8 MB 158 kB/s eta 0:23:20  | 274.0 MB 158 kB/s eta 0:23:19    |█████████████████▊              | 274.2 MB 158 kB/s eta 0:23:17██████▊              | 274.4 MB 158 kB/s eta 0:23:1674.6 MB 158 kB/s eta 0:23:15█████████████████▊              | 274.8 MB 158 kB/s eta 0:23:14�████▊              | 275.0 MB 158 kB/s eta 0:23:13MB 158 kB/s eta 0:23:12��███████▊              | 275.5 MB 158 kB/s eta 0:23:10  | 275.7 MB 158 kB/s eta 0:23:08    |█████████████████▉              | 275.9 MB 158 kB/s eta 0:23:07██████▉              | 276.0 MB 158 kB/s eta 0:23:0676.2 MB 158 kB/s eta 0:23:05█████████████████▉              | 276.4 MB 158 kB/s eta 0:23:04�████▉              | 276.6 MB 158 kB/s eta 0:23:02MB 158 kB/s eta 0:23:01��███████▉              | 277.1 MB 150 kB/s eta 0:24:19  | 277.3 MB 150 kB/s eta 0:24:18    |██████████████████              | 277.5 MB 150 kB/s eta 0:24:17███████              | 277.7 MB 150 kB/s eta 0:24:1677.9 MB 150 kB/s eta 0:24:14██████████████████              | 278.1 MB 150 kB/s eta 0:24:13�█████              | 278.2 MB 150 kB/s eta 0:24:12MB 150 kB/s eta 0:24:11��████████              | 278.8 MB 150 kB/s eta 0:24:08  | 278.9 MB 150 kB/s eta 0:24:07    |██████████████████              | 279.1 MB 150 kB/s eta 0:24:06███████              | 279.3 MB 150 kB/s eta 0:24:0579.5 MB 150 kB/s eta 0:24:03██████████████████              | 279.7 MB 150 kB/s eta 0:24:02�█████              | 279.9 MB 150 kB/s eta 0:24:01MB 150 kB/s eta 0:24:00��████████              | 280.4 MB 164 kB/s eta 0:21:52  | 280.6 MB 164 kB/s eta 0:21:51K     |██████████████████▏             | 280.8 MB 164 kB/s eta 0:21:49    |██████████████████▏             | 281.0 MB 164 kB/s eta 0:21:48  |██████████████████▏             | 281.1 MB 164 kB/s eta 0:21:47|██████████████████▏             | 281.3 MB 164 kB/s eta 0:21:46��█████████████████▏             | 281.5 MB 164 kB/s eta 0:21:45█████████████████▏             | 281.7 MB 164 kB/s eta 0:21:44[K     |██████████████████▏             | 282.0 MB 164 kB/s eta 0:21:42     |██████████████████▏             | 282.2 MB 164 kB/s eta 0:21:41   |██████████████████▏             | 282.4 MB 164 kB/s eta 0:21:40 |██████████████████▎             | 282.6 MB 164 kB/s eta 0:21:38██████████████████▎             | 282.8 MB 164 kB/s eta 0:21:37�█████████████████▎             | 283.0 MB 164 kB/s eta 0:21:36��████████████████▎             | 283.1 MB 164 kB/s eta 0:21:35████████████████▎             | 283.3 MB 164 kB/s eta 0:21:34[K     |██████████████████▎             | 283.7 MB 163 kB/s eta 0:21:37     |██████████████████▎             | 283.9 MB 163 kB/s eta 0:21:36   |██████████████████▎             | 284.0 MB 163 kB/s eta 0:21:35 |██████████████████▍             | 284.2 MB 163 kB/s eta 0:21:34██████████████████▍             | 284.4 MB 163 kB/s eta 0:21:33�█████████████████▍             | 284.6 MB 163 kB/s eta 0:21:32��████████████████▍             | 284.8 MB 163 kB/s eta 0:21:30████████████████▍             | 285.0 MB 163 kB/s eta 0:21:29[K     |██████████████████▍             | 285.3 MB 163 kB/s eta 0:21:27     |██████████████████▍             | 285.5 MB 163 kB/s eta 0:21:26   |██████████████████▍             | 285.7 MB 163 kB/s eta 0:21:25 |██████████████████▍             | 285.9 MB 163 kB/s eta 0:21:24██████████████████▌             | 286.0 MB 163 kB/s eta 0:21:23�█████████████████▌             | 286.2 MB 163 kB/s eta 0:21:22��████████████████▌             | 286.4 MB 163 kB/s eta 0:21:20████████████████▌             | 286.6 MB 163 kB/s eta 0:21:19[K     |██████████████████▌             | 286.9 MB 164 kB/s eta 0:21:12     |██████████████████▌             | 287.1 MB 164 kB/s eta 0:21:11   |██████████████████▌             | 287.3 MB 164 kB/s eta 0:21:10 |██████████████████▌             | 287.5 MB 164 kB/s eta 0:21:09██████████████████▋             | 287.7 MB 164 kB/s eta 0:21:08�█████████████████▋             | 287.9 MB 164 kB/s eta 0:21:07��████████████████▋             | 288.1 MB 164 kB/s eta 0:21:06████████████████▋             | 288.2 MB 164 kB/s eta 0:21:05[K     |██████████████████▋             | 288.6 MB 164 kB/s eta 0:21:02"
     ]
    },
    {
     "name": "stdout",
     "output_type": "stream",
     "text": [
      "\u001b[K     |████████████████████▉           | 322.1 MB 147 kB/s eta 0:19:39 |██████████████████▋             | 289.1 MB 164 kB/s eta 0:20:59██████████████████▋             | 289.3 MB 164 kB/s eta 0:20:58�█████████████████▊             | 289.5 MB 164 kB/s eta 0:20:57��████████████████▊             | 289.7 MB 164 kB/s eta 0:20:56████████████████▊             | 289.9 MB 164 kB/s eta 0:20:55[K     |██████████████████▊             | 290.2 MB 165 kB/s eta 0:20:44     |██████████████████▊             | 290.4 MB 165 kB/s eta 0:20:43   |██████████████████▊             | 290.6 MB 165 kB/s eta 0:20:42 |██████████████████▊             | 290.8 MB 165 kB/s eta 0:20:41██████████████████▊             | 291.0 MB 165 kB/s eta 0:20:40�█████████████████▉             | 291.1 MB 165 kB/s eta 0:20:39��████████████████▉             | 291.3 MB 165 kB/s eta 0:20:37████████████████▉             | 291.5 MB 165 kB/s eta 0:20:36[K     |██████████████████▉             | 291.9 MB 165 kB/s eta 0:20:34     |██████████████████▉             | 292.0 MB 165 kB/s eta 0:20:33   |██████████████████▉             | 292.2 MB 165 kB/s eta 0:20:32 |██████████████████▉             | 292.4 MB 165 kB/s eta 0:20:31██████████████████▉             | 292.6 MB 165 kB/s eta 0:20:30�█████████████████▉             | 292.8 MB 165 kB/s eta 0:20:29��█████████████████             | 293.0 MB 165 kB/s eta 0:20:28█████████████████             | 293.2 MB 165 kB/s eta 0:20:26[K     |███████████████████             | 293.5 MB 165 kB/s eta 0:20:21     |███████████████████             | 293.7 MB 165 kB/s eta 0:20:20   |███████████████████             | 293.9 MB 165 kB/s eta 0:20:19 |███████████████████             | 294.1 MB 165 kB/s eta 0:20:17███████████████████             | 294.2 MB 165 kB/s eta 0:20:16�██████████████████             | 294.4 MB 165 kB/s eta 0:20:15��█████████████████             | 294.6 MB 165 kB/s eta 0:20:14█████████████████             | 294.8 MB 165 kB/s eta 0:20:13[K     |███████████████████             | 295.1 MB 165 kB/s eta 0:20:11     |███████████████████             | 295.3 MB 165 kB/s eta 0:20:10   |███████████████████             | 295.5 MB 165 kB/s eta 0:20:09 |███████████████████             | 295.7 MB 165 kB/s eta 0:20:08███████████████████             | 295.9 MB 165 kB/s eta 0:20:07�██████████████████             | 296.1 MB 165 kB/s eta 0:20:05��█████████████████             | 296.2 MB 165 kB/s eta 0:20:04kB/s eta 0:20:03   | 296.8 MB 167 kB/s eta 0:19:52�███████▏            | 296.9 MB 167 kB/s eta 0:19:50��██████████████████▏            | 297.1 MB 167 kB/s eta 0:19:49MB 167 kB/s eta 0:19:48��███▏            | 297.5 MB 167 kB/s eta 0:19:47███████████████▏            | 297.7 MB 167 kB/s eta 0:19:46 eta 0:19:45▎            | 298.0 MB 167 kB/s eta 0:19:44�███████████▎            | 298.2 MB 167 kB/s eta 0:19:432    | 298.6 MB 167 kB/s eta 0:19:41��███████▎            | 298.8 MB 167 kB/s eta 0:19:40███████████████████▎            | 298.9 MB 167 kB/s eta 0:19:39 MB 167 kB/s eta 0:19:38████▎            | 299.3 MB 167 kB/s eta 0:19:36�███████████████▎            | 299.5 MB 167 kB/s eta 0:19:35s eta 0:19:34�▍            | 299.8 MB 167 kB/s eta 0:19:33   | 300.0 MB 150 kB/s eta 0:21:43�███████▍            | 300.2 MB 150 kB/s eta 0:21:42��██████████████████▍            | 300.4 MB 150 kB/s eta 0:21:41MB 150 kB/s eta 0:21:40��███▍            | 300.8 MB 150 kB/s eta 0:21:38███████████████▍            | 301.0 MB 150 kB/s eta 0:21:37 eta 0:21:36▍            | 301.3 MB 150 kB/s eta 0:21:35�███████████▌            | 301.5 MB 150 kB/s eta 0:21:342    | 301.9 MB 150 kB/s eta 0:21:31��███████▌            | 302.0 MB 150 kB/s eta 0:21:30███████████████████▌            | 302.2 MB 150 kB/s eta 0:21:29 MB 150 kB/s eta 0:21:28████▌            | 302.6 MB 150 kB/s eta 0:21:26�███████████████▌            | 302.8 MB 150 kB/s eta 0:21:25s eta 0:21:24�▌            | 303.1 MB 150 kB/s eta 0:21:23   | 303.3 MB 148 kB/s eta 0:21:40�███████▋            | 303.5 MB 148 kB/s eta 0:21:39��██████████████████▋            | 303.7 MB 148 kB/s eta 0:21:37MB 148 kB/s eta 0:21:36��███▋            | 304.0 MB 148 kB/s eta 0:21:35███████████████▋            | 304.2 MB 148 kB/s eta 0:21:34 eta 0:21:33▋            | 304.6 MB 148 kB/s eta 0:21:31�███████████▋            | 304.8 MB 148 kB/s eta 0:21:309    | 305.1 MB 148 kB/s eta 0:21:28��███████▊            | 305.3 MB 148 kB/s eta 0:21:26███████████████████▊            | 305.5 MB 148 kB/s eta 0:21:25 MB 148 kB/s eta 0:21:24████▊            | 305.9 MB 148 kB/s eta 0:21:23�███████████████▊            | 306.0 MB 148 kB/s eta 0:21:22s eta 0:21:20�▊            | 306.4 MB 148 kB/s eta 0:21:19   | 306.6 MB 150 kB/s eta 0:20:58�███████▉            | 306.8 MB 150 kB/s eta 0:20:57��██████████████████▉            | 307.0 MB 150 kB/s eta 0:20:55MB 150 kB/s eta 0:20:54��███▉            | 307.3 MB 150 kB/s eta 0:20:53███████████████▉            | 307.5 MB 150 kB/s eta 0:20:52 eta 0:20:51▉            | 307.9 MB 150 kB/s eta 0:20:49�███████████▉            | 308.0 MB 150 kB/s eta 0:20:487    | 308.4 MB 150 kB/s eta 0:20:46��████████            | 308.6 MB 150 kB/s eta 0:20:44████████████████████            | 308.8 MB 150 kB/s eta 0:20:43 MB 150 kB/s eta 0:20:42█████            | 309.1 MB 150 kB/s eta 0:20:41�████████████████            | 309.3 MB 150 kB/s eta 0:20:40kB/s eta 1:19:06  | 309.7 MB 39 kB/s eta 1:19:01██            | 309.9 MB 39 kB/s eta 1:18:57�███████            | 310.1 MB 39 kB/s eta 1:18:52��████████████            | 310.3 MB 39 kB/s eta 1:18:47██████████████████            | 310.4 MB 39 kB/s eta 1:18:43kB/s eta 1:18:33  | 311.0 MB 39 kB/s eta 1:18:29██            | 311.2 MB 39 kB/s eta 1:18:24�███████            | 311.4 MB 39 kB/s eta 1:18:19��████████████            | 311.5 MB 39 kB/s eta 1:18:15██████████████████            | 311.7 MB 39 kB/s eta 1:18:10311.9 MB 39 kB/s eta 1:18:06████████████▏           | 312.1 MB 39 kB/s eta 1:18:019 kB/s eta 1:17:56████████▏           | 312.5 MB 141 kB/s eta 0:21:40 MB 141 kB/s eta 0:21:38�████████████████▏           | 312.8 MB 141 kB/s eta 0:21:37�█▏           | 313.0 MB 141 kB/s eta 0:21:361:35��█████████▏           | 313.3 MB 141 kB/s eta 0:21:33313.5 MB 141 kB/s eta 0:21:32██████████████████▎           | 313.7 MB 141 kB/s eta 0:21:31███▎           | 313.9 MB 141 kB/s eta 0:21:30�████████▎           | 314.1 MB 141 kB/s eta 0:21:283 MB 141 kB/s eta 0:21:27��████████████████▎           | 314.4 MB 141 kB/s eta 0:21:26��█▎           | 314.6 MB 141 kB/s eta 0:21:2421:23██████████▎           | 315.0 MB 141 kB/s eta 0:21:22 315.2 MB 141 kB/s eta 0:21:21�██████████████████▍           | 315.3 MB 141 kB/s eta 0:21:19�███▍           | 315.5 MB 141 kB/s eta 0:21:18�████████▍           | 315.7 MB 147 kB/s eta 0:20:229 MB 147 kB/s eta 0:20:20��████████████████▍           | 316.1 MB 147 kB/s eta 0:20:19��█▍           | 316.3 MB 147 kB/s eta 0:20:1820:17██████████▍           | 316.6 MB 147 kB/s eta 0:20:16 316.8 MB 147 kB/s eta 0:20:14�██████████████████▌           | 317.0 MB 147 kB/s eta 0:20:13�███▌           | 317.2 MB 147 kB/s eta 0:20:12�████████▌           | 317.4 MB 147 kB/s eta 0:20:115 MB 147 kB/s eta 0:20:09��████████████████▌           | 317.7 MB 147 kB/s eta 0:20:08��█▌           | 317.9 MB 147 kB/s eta 0:20:0720:06██████████▌           | 318.3 MB 147 kB/s eta 0:20:05 318.4 MB 147 kB/s eta 0:20:03�██████████████████▌           | 318.6 MB 147 kB/s eta 0:20:02�███▋           | 318.8 MB 147 kB/s eta 0:20:01�████████▋           | 319.0 MB 147 kB/s eta 0:19:592 MB 147 kB/s eta 0:19:58��████████████████▋           | 319.4 MB 147 kB/s eta 0:19:57��█▋           | 319.5 MB 147 kB/s eta 0:19:5619:55██████████▋           | 319.9 MB 147 kB/s eta 0:19:53 320.1 MB 147 kB/s eta 0:19:52�██████████████████▋           | 320.3 MB 147 kB/s eta 0:19:51�███▊           | 320.4 MB 147 kB/s eta 0:19:50�████████▊           | 320.6 MB 147 kB/s eta 0:19:488 MB 147 kB/s eta 0:19:47��████████████████▊           | 321.0 MB 147 kB/s eta 0:19:46��█▊           | 321.2 MB 147 kB/s eta 0:19:4519:44██████████▊           | 321.5 MB 147 kB/s eta 0:19:42 321.7 MB 147 kB/s eta 0:19:41�██████████████████▊           | 321.9 MB 147 kB/s eta 0:19:40�███▊           | 322.1 MB 147 kB/s eta 0:19:39"
     ]
    },
    {
     "name": "stdout",
     "output_type": "stream",
     "text": [
      "\u001b[K     |███████████████████████         | 355.4 MB 145 kB/s eta 0:16:0835 MB 142 kB/s eta 0:20:22��████████████████▉           | 322.6 MB 142 kB/s eta 0:20:21��█▉           | 322.8 MB 142 kB/s eta 0:20:2020:18██████████▉           | 323.2 MB 142 kB/s eta 0:20:17 323.3 MB 142 kB/s eta 0:20:16�██████████████████▉           | 323.5 MB 142 kB/s eta 0:20:14�███▉           | 323.7 MB 142 kB/s eta 0:20:13�█████████           | 323.9 MB 142 kB/s eta 0:20:121 MB 142 kB/s eta 0:20:11��█████████████████           | 324.3 MB 142 kB/s eta 0:20:09��██           | 324.5 MB 142 kB/s eta 0:20:0820:07███████████           | 324.8 MB 142 kB/s eta 0:20:05 325.0 MB 142 kB/s eta 0:20:04�███████████████████           | 325.2 MB 142 kB/s eta 0:20:03�████           | 325.3 MB 142 kB/s eta 0:20:02�█████████           | 325.6 MB 142 kB/s eta 0:20:017 MB 142 kB/s eta 0:20:00��█████████████████           | 325.9 MB 142 kB/s eta 0:19:58��██           | 326.1 MB 142 kB/s eta 0:19:5719:56███████████           | 326.5 MB 142 kB/s eta 0:19:55 326.6 MB 142 kB/s eta 0:19:53�███████████████████           | 326.8 MB 142 kB/s eta 0:19:52�████           | 327.0 MB 142 kB/s eta 0:19:51�█████████           | 327.2 MB 142 kB/s eta 0:19:49█▏          | 327.4 MB 142 kB/s eta 0:19:48     | 327.5 MB 142 kB/s eta 0:19:477 MB 142 kB/s eta 0:19:46/s eta 0:19:44:43 |█████████████████████▏          | 328.3 MB 142 kB/s eta 0:19:42██████████████████▏          | 328.4 MB 142 kB/s eta 0:19:41�██████████████▏          | 328.6 MB 142 kB/s eta 0:19:39��████████████████████▏          | 328.8 MB 142 kB/s eta 0:19:33█████████████████▎          | 329.0 MB 142 kB/s eta 0:19:32�█████████████▎          | 329.2 MB 142 kB/s eta 0:19:31��█████████▎          | 329.4 MB 142 kB/s eta 0:19:30██████▎          | 329.5 MB 142 kB/s eta 0:19:29�██▎          | 329.7 MB 142 kB/s eta 0:19:27         | 329.9 MB 142 kB/s eta 0:19:26330.1 MB 142 kB/s eta 0:19:252 kB/s eta 0:19:24��████████████████████▎          | 330.4 MB 142 kB/s eta 0:19:22█████████████████▎          | 330.6 MB 142 kB/s eta 0:19:21�█████████████▍          | 330.8 MB 142 kB/s eta 0:19:20��█████████▍          | 331.0 MB 142 kB/s eta 0:19:19██████▍          | 331.1 MB 142 kB/s eta 0:19:17�██▍          | 331.3 MB 142 kB/s eta 0:19:16         | 331.5 MB 142 kB/s eta 0:19:15331.7 MB 142 kB/s eta 0:19:142 kB/s eta 0:19:12��████████████████████▍          | 332.0 MB 142 kB/s eta 0:19:15█████████████████▍          | 332.2 MB 142 kB/s eta 0:19:13�█████████████▍          | 332.4 MB 142 kB/s eta 0:19:12��█████████▌          | 332.6 MB 142 kB/s eta 0:19:11██████▌          | 332.7 MB 142 kB/s eta 0:19:10�██▌          | 332.9 MB 142 kB/s eta 0:19:09         | 333.1 MB 142 kB/s eta 0:19:07333.3 MB 142 kB/s eta 0:19:062 kB/s eta 0:19:05��████████████████████▌          | 333.6 MB 142 kB/s eta 0:19:03█████████████████▌          | 333.8 MB 142 kB/s eta 0:19:02�█████████████▌          | 334.0 MB 142 kB/s eta 0:19:01��█████████▌          | 334.2 MB 142 kB/s eta 0:19:00██████▋          | 334.3 MB 142 kB/s eta 0:18:59�██▋          | 334.5 MB 142 kB/s eta 0:18:57         | 334.7 MB 142 kB/s eta 0:18:56334.8 MB 142 kB/s eta 0:18:552 kB/s eta 0:18:54��████████████████████▋          | 335.2 MB 143 kB/s eta 0:18:43█████████████████▋          | 335.4 MB 143 kB/s eta 0:18:42�█████████████▋          | 335.6 MB 143 kB/s eta 0:18:41��█████████▋          | 335.7 MB 143 kB/s eta 0:18:39██████▊          | 335.9 MB 143 kB/s eta 0:18:38�██▊          | 336.1 MB 143 kB/s eta 0:18:37         | 336.3 MB 143 kB/s eta 0:18:36336.4 MB 143 kB/s eta 0:18:353 kB/s eta 0:18:33��████████████████████▊          | 336.8 MB 143 kB/s eta 0:18:32█████████████████▊          | 337.0 MB 143 kB/s eta 0:18:31�█████████████▊          | 337.2 MB 143 kB/s eta 0:18:30��█████████▊          | 337.3 MB 143 kB/s eta 0:18:28██████▊          | 337.5 MB 143 kB/s eta 0:18:27�██▉          | 337.7 MB 143 kB/s eta 0:18:26         | 337.9 MB 143 kB/s eta 0:18:25338.0 MB 143 kB/s eta 0:18:233 kB/s eta 0:18:22��████████████████████▉          | 338.4 MB 143 kB/s eta 0:18:21█████████████████▉          | 338.6 MB 143 kB/s eta 0:18:20�█████████████▉          | 338.8 MB 143 kB/s eta 0:18:19��█████████▉          | 338.9 MB 143 kB/s eta 0:18:18██████▉          | 339.1 MB 143 kB/s eta 0:18:17�██▉          | 339.3 MB 143 kB/s eta 0:18:15         | 339.5 MB 143 kB/s eta 0:18:14339.6 MB 143 kB/s eta 0:18:133 kB/s eta 0:18:12��█████████████████████          | 340.0 MB 143 kB/s eta 0:18:10██████████████████          | 340.2 MB 143 kB/s eta 0:18:09�██████████████          | 340.4 MB 143 kB/s eta 0:18:08��██████████          | 340.5 MB 143 kB/s eta 0:18:07███████          | 340.7 MB 143 kB/s eta 0:18:05�███          | 340.9 MB 143 kB/s eta 0:18:04         | 341.1 MB 143 kB/s eta 0:18:03341.2 MB 143 kB/s eta 0:18:023 kB/s eta 0:18:00��█████████████████████          | 341.6 MB 143 kB/s eta 0:18:00██████████████████          | 341.8 MB 143 kB/s eta 0:17:59�██████████████          | 342.0 MB 143 kB/s eta 0:17:58��██████████          | 342.1 MB 143 kB/s eta 0:17:57███████          | 342.3 MB 143 kB/s eta 0:17:55�███          | 342.5 MB 143 kB/s eta 0:17:54         | 342.7 MB 143 kB/s eta 0:17:53▏         | 342.8 MB 143 kB/s eta 0:17:52��███████▏         | 343.0 MB 143 kB/s eta 0:17:51MB 143 kB/s eta 0:17:49█▏         | 343.4 MB 143 kB/s eta 0:17:48��████████▏         | 343.6 MB 143 kB/s eta 0:17:47�████████████████▏         | 343.7 MB 143 kB/s eta 0:17:46     |██████████████████████▏         | 343.9 MB 143 kB/s eta 0:17:4443 kB/s eta 0:17:43��         | 344.2 MB 143 kB/s eta 0:17:42�███████▏         | 344.4 MB 143 kB/s eta 0:17:41███████████████▎         | 344.6 MB 143 kB/s eta 0:17:40MB 144 kB/s eta 0:17:24█▎         | 345.0 MB 144 kB/s eta 0:17:23��████████▎         | 345.1 MB 144 kB/s eta 0:17:22�████████████████▎         | 345.3 MB 144 kB/s eta 0:17:20     |██████████████████████▎         | 345.5 MB 144 kB/s eta 0:17:1944 kB/s eta 0:17:18��         | 345.8 MB 144 kB/s eta 0:17:17�███████▎         | 346.0 MB 144 kB/s eta 0:17:16███████████████▎         | 346.2 MB 144 kB/s eta 0:17:14MB 144 kB/s eta 0:17:13█▍         | 346.6 MB 144 kB/s eta 0:17:12��████████▍         | 346.7 MB 144 kB/s eta 0:17:11�████████████████▍         | 346.9 MB 144 kB/s eta 0:17:09:03:08 eta 1:03:049 kB/s eta 1:02:598 MB 39 kB/s eta 1:02:55| 348.0 MB 39 kB/s eta 1:02:51      | 348.1 MB 39 kB/s eta 1:02:46▌         | 348.3 MB 39 kB/s eta 1:02:42██▌         | 348.5 MB 39 kB/s eta 1:02:37████▌         | 348.7 MB 39 kB/s eta 1:02:33██████▌         | 348.8 MB 39 kB/s eta 1:02:28████████▌         | 349.0 MB 39 kB/s eta 1:02:24██████████▌         | 349.2 MB 39 kB/s eta 1:02:20████████████▌         | 349.3 MB 39 kB/s eta 1:02:15██████████████▌         | 349.5 MB 39 kB/s eta 1:02:11B 122 kB/s eta 0:19:51��▋         | 349.9 MB 122 kB/s eta 0:19:50�████████▋         | 350.1 MB 122 kB/s eta 0:19:49████████████████▋         | 350.3 MB 122 kB/s eta 0:19:47    |██████████████████████▋         | 350.5 MB 122 kB/s eta 0:19:462 kB/s eta 0:19:44�         | 350.8 MB 122 kB/s eta 0:19:43███████▋         | 351.0 MB 122 kB/s eta 0:19:42��██████████████▋         | 351.1 MB 122 kB/s eta 0:19:40MB 122 kB/s eta 0:19:38█▊         | 351.5 MB 122 kB/s eta 0:19:37��████████▊         | 351.7 MB 122 kB/s eta 0:19:36�████████████████▊         | 351.9 MB 122 kB/s eta 0:19:34     |██████████████████████▊         | 352.1 MB 122 kB/s eta 0:19:3322 kB/s eta 0:19:31��         | 352.4 MB 122 kB/s eta 0:19:30�███████▊         | 352.6 MB 122 kB/s eta 0:19:29███████████████▊         | 352.7 MB 122 kB/s eta 0:19:27MB 145 kB/s eta 0:16:25█▉         | 353.1 MB 145 kB/s eta 0:16:24��████████▉         | 353.3 MB 145 kB/s eta 0:16:23�████████████████▉         | 353.5 MB 145 kB/s eta 0:16:21     |██████████████████████▉         | 353.6 MB 145 kB/s eta 0:16:2045 kB/s eta 0:16:19��         | 354.0 MB 145 kB/s eta 0:16:18�███████▉         | 354.2 MB 145 kB/s eta 0:16:17███████████████▉         | 354.3 MB 145 kB/s eta 0:16:15MB 145 kB/s eta 0:16:14█▉         | 354.7 MB 145 kB/s eta 0:16:13��█████████         | 354.9 MB 145 kB/s eta 0:16:12�█████████████████         | 355.1 MB 145 kB/s eta 0:16:10     |███████████████████████         | 355.2 MB 145 kB/s eta 0:16:09"
     ]
    },
    {
     "name": "stdout",
     "output_type": "stream",
     "text": [
      "\u001b[K     |�████████████████████████       | 386.5 MB 132 kB/s eta 0:13:4907�████████         | 355.8 MB 145 kB/s eta 0:16:06████████████████         | 355.9 MB 145 kB/s eta 0:16:04MB 145 kB/s eta 0:16:05██         | 356.3 MB 145 kB/s eta 0:16:04��█████████         | 356.5 MB 145 kB/s eta 0:16:03�█████████████████         | 356.7 MB 145 kB/s eta 0:16:01     |███████████████████████         | 356.8 MB 145 kB/s eta 0:16:0045 kB/s eta 0:15:59��         | 357.2 MB 145 kB/s eta 0:15:58�████████         | 357.4 MB 145 kB/s eta 0:15:57████████████████         | 357.5 MB 145 kB/s eta 0:15:55MB 145 kB/s eta 0:15:54██         | 357.9 MB 145 kB/s eta 0:15:53��█████████         | 358.1 MB 145 kB/s eta 0:15:52�█████████████████▏        | 358.3 MB 145 kB/s eta 0:15:50 358.4 MB 145 kB/s eta 0:15:49███████████████▏        | 358.6 MB 145 kB/s eta 0:15:48MB 145 kB/s eta 0:15:47��████████████▏        | 359.0 MB 145 kB/s eta 0:15:46kB/s eta 0:15:45█████▏        | 359.4 MB 144 kB/s eta 0:15:49  |███████████████████████▏        | 359.6 MB 144 kB/s eta 0:15:48��██▏        | 359.7 MB 144 kB/s eta 0:15:47��█████████████████████▏        | 359.9 MB 144 kB/s eta 0:15:46�▎        | 360.1 MB 144 kB/s eta 0:15:45�███████████████████▎        | 360.2 MB 144 kB/s eta 0:15:43     | 360.4 MB 144 kB/s eta 0:15:42█████████████████▎        | 360.6 MB 144 kB/s eta 0:15:41360.7 MB 144 kB/s eta 0:15:40█████▎        | 361.0 MB 144 kB/s eta 0:15:38  |███████████████████████▎        | 361.2 MB 144 kB/s eta 0:15:37��██▎        | 361.3 MB 144 kB/s eta 0:15:36��█████████████████████▎        | 361.5 MB 144 kB/s eta 0:15:35�▎        | 361.7 MB 144 kB/s eta 0:15:33�███████████████████▍        | 361.8 MB 144 kB/s eta 0:15:32     | 362.0 MB 144 kB/s eta 0:15:31█████████████████▍        | 362.2 MB 144 kB/s eta 0:15:30362.3 MB 144 kB/s eta 0:15:29█████▍        | 362.6 MB 131 kB/s eta 0:16:58  |███████████████████████▍        | 362.8 MB 131 kB/s eta 0:16:57��██▍        | 362.9 MB 131 kB/s eta 0:16:55��█████████████████████▍        | 363.1 MB 131 kB/s eta 0:16:54�▍        | 363.3 MB 131 kB/s eta 0:16:53�███████████████████▍        | 363.4 MB 131 kB/s eta 0:16:51     | 363.6 MB 131 kB/s eta 0:16:50█████████████████▌        | 363.8 MB 131 kB/s eta 0:16:49363.9 MB 131 kB/s eta 0:16:48█████▌        | 364.2 MB 131 kB/s eta 0:16:46  |███████████████████████▌        | 364.4 MB 131 kB/s eta 0:16:44��██▌        | 364.5 MB 131 kB/s eta 0:16:43��█████████████████████▌        | 364.7 MB 131 kB/s eta 0:16:42�▌        | 364.9 MB 131 kB/s eta 0:16:40�███████████████████▌        | 365.0 MB 131 kB/s eta 0:16:39     | 365.2 MB 131 kB/s eta 0:16:38█████████████████▋        | 365.4 MB 131 kB/s eta 0:16:37365.5 MB 131 kB/s eta 0:16:35█████▋        | 365.8 MB 142 kB/s eta 0:15:12  |███████████████████████▋        | 366.0 MB 142 kB/s eta 0:15:10��██▋        | 366.1 MB 142 kB/s eta 0:15:09��█████████████████████▋        | 366.3 MB 142 kB/s eta 0:15:08�▋        | 366.5 MB 142 kB/s eta 0:15:07�███████████████████▋        | 366.6 MB 142 kB/s eta 0:15:06     | 366.8 MB 142 kB/s eta 0:15:04█████████████████▊        | 367.0 MB 142 kB/s eta 0:15:03367.1 MB 142 kB/s eta 0:15:02█████▊        | 367.4 MB 142 kB/s eta 0:15:00  |███████████████████████▊        | 367.5 MB 142 kB/s eta 0:14:59��██▊        | 367.7 MB 142 kB/s eta 0:14:58��█████████████████████▊        | 367.9 MB 142 kB/s eta 0:14:57�▊        | 368.0 MB 142 kB/s eta 0:14:56�███████████████████▊        | 368.2 MB 142 kB/s eta 0:14:55     | 368.4 MB 142 kB/s eta 0:14:53█████████████████▊        | 368.6 MB 142 kB/s eta 0:14:52368.7 MB 142 kB/s eta 0:14:51█████▉        | 369.0 MB 145 kB/s eta 0:14:35  |███████████████████████▉        | 369.1 MB 145 kB/s eta 0:14:34��██▉        | 369.3 MB 145 kB/s eta 0:14:33��█████████████████████▉        | 369.5 MB 145 kB/s eta 0:14:32�▉        | 369.6 MB 145 kB/s eta 0:14:31�███████████████████▉        | 369.8 MB 145 kB/s eta 0:14:29     | 370.0 MB 145 kB/s eta 0:14:28█████████████████▉        | 370.2 MB 145 kB/s eta 0:14:27370.3 MB 145 kB/s eta 0:14:26██████        | 370.6 MB 145 kB/s eta 0:14:24  |████████████████████████        | 370.7 MB 145 kB/s eta 0:14:23��███        | 370.9 MB 145 kB/s eta 0:14:22��██████████████████████        | 371.1 MB 145 kB/s eta 0:14:21�█        | 371.2 MB 145 kB/s eta 0:14:20�████████████████████        | 371.4 MB 145 kB/s eta 0:14:18     | 371.6 MB 145 kB/s eta 0:14:17██████████████████        | 371.8 MB 145 kB/s eta 0:14:16371.9 MB 145 kB/s eta 0:14:15██████        | 372.2 MB 146 kB/s eta 0:14:03  |████████████████████████        | 372.3 MB 146 kB/s eta 0:14:02��███        | 372.5 MB 146 kB/s eta 0:14:01��██████████████████████        | 372.7 MB 146 kB/s eta 0:14:00�█        | 372.8 MB 146 kB/s eta 0:13:59�████████████████████        | 373.0 MB 146 kB/s eta 0:13:58     | 373.2 MB 146 kB/s eta 0:13:57██████████████████        | 373.4 MB 146 kB/s eta 0:13:55373.5 MB 146 kB/s eta 0:13:54██████        | 373.8 MB 146 kB/s eta 0:13:53MB 146 kB/s eta 0:13:51|████████████████████████▏       | 374.1 MB 146 kB/s eta 0:13:50��█████████████▏       | 374.3 MB 146 kB/s eta 0:13:49███▏       | 374.4 MB 146 kB/s eta 0:13:486 kB/s eta 0:13:47��██████████████████████▏       | 374.8 MB 146 kB/s eta 0:13:46████████████▏       | 374.9 MB 146 kB/s eta 0:13:45�█▏       | 375.1 MB 146 kB/s eta 0:13:44��████████████████▏       | 375.4 MB 125 kB/s eta 0:16:03██████▎       | 375.5 MB 125 kB/s eta 0:16:015.7 MB 125 kB/s eta 0:16:00    |████████████████████████▎       | 375.9 MB 125 kB/s eta 0:15:59███████████████▎       | 376.0 MB 125 kB/s eta 0:15:57�████▎       | 376.2 MB 125 kB/s eta 0:15:56B 125 kB/s eta 0:15:55████████████████████████▎       | 376.5 MB 125 kB/s eta 0:15:53�█████████████▎       | 376.7 MB 125 kB/s eta 0:15:52��████████████████▎       | 377.0 MB 125 kB/s eta 0:15:50██████▎       | 377.1 MB 125 kB/s eta 0:15:497.3 MB 125 kB/s eta 0:15:47    |████████████████████████▍       | 377.5 MB 125 kB/s eta 0:15:46███████████████▍       | 377.6 MB 125 kB/s eta 0:15:45�████▍       | 377.8 MB 125 kB/s eta 0:15:43B 125 kB/s eta 0:15:42████████████████████████▍       | 378.1 MB 125 kB/s eta 0:15:41�█████████████▍       | 378.3 MB 125 kB/s eta 0:15:39��████████████████▍       | 378.6 MB 142 kB/s eta 0:13:43██████▍       | 378.7 MB 142 kB/s eta 0:13:418.9 MB 142 kB/s eta 0:13:40    |████████████████████████▌       | 379.1 MB 142 kB/s eta 0:13:39███████████████▌       | 379.2 MB 142 kB/s eta 0:13:38�████▌       | 379.4 MB 142 kB/s eta 0:13:37B 142 kB/s eta 0:13:36████████████████████████▌       | 379.7 MB 142 kB/s eta 0:13:34�█████████████▌       | 379.9 MB 142 kB/s eta 0:13:33��██▌       | 380.0 MB 142 kB/s eta 0:13:32 kB/s eta 0:13:31�██████████████████████▌       | 380.4 MB 142 kB/s eta 0:13:30��███████████▌       | 380.5 MB 142 kB/s eta 0:13:29█▋       | 380.7 MB 142 kB/s eta 0:13:27 eta 0:13:26��████████████████████▋       | 381.1 MB 142 kB/s eta 0:13:25██████████▋       | 381.2 MB 142 kB/s eta 0:13:24��████████████████▋       | 381.5 MB 151 kB/s eta 0:12:36██████▋       | 381.7 MB 151 kB/s eta 0:12:351.8 MB 151 kB/s eta 0:12:34    |████████████████████████▋       | 382.0 MB 151 kB/s eta 0:12:32███████████████▋       | 382.2 MB 151 kB/s eta 0:12:31�████▋       | 382.3 MB 151 kB/s eta 0:12:30B 151 kB/s eta 0:12:29████████████████████████▊       | 382.7 MB 151 kB/s eta 0:12:28�███████████▊       | 382.9 MB 24 kB/s eta 1:15:403.1 MB 24 kB/s eta 1:15:34████████████████████▊       | 383.3 MB 24 kB/s eta 1:15:27████▊       | 383.4 MB 24 kB/s eta 1:15:205:13��████████████▊       | 383.8 MB 24 kB/s eta 1:15:06| 383.9 MB 24 kB/s eta 1:15:00�█████████████████████▊       | 384.1 MB 24 kB/s eta 1:14:53�█████▉       | 384.3 MB 24 kB/s eta 1:14:46 1:14:40██████████████▉       | 384.6 MB 24 kB/s eta 1:14:33    | 384.8 MB 24 kB/s eta 1:14:26��██████████████████████▉       | 384.9 MB 24 kB/s eta 1:14:19��██████▉       | 385.1 MB 24 kB/s eta 1:14:13�████████████████▉       | 385.4 MB 132 kB/s eta 0:13:57��█████▉       | 385.5 MB 132 kB/s eta 0:13:56.7 MB 132 kB/s eta 0:13:55   |█████████████████████████       | 385.9 MB 132 kB/s eta 0:13:54��███████████████       | 386.0 MB 132 kB/s eta 0:13:52█████       | 386.2 MB 132 kB/s eta 0:13:51 132 kB/s eta 0:13:50"
     ]
    },
    {
     "name": "stdout",
     "output_type": "stream",
     "text": [
      "\u001b[K     |████████████████████████████    | 433.4 MB 155 kB/s eta 0:06:44�███       | 386.8 MB 132 kB/s eta 0:13:46kB/s eta 0:13:45███████████████████████       | 387.2 MB 132 kB/s eta 0:13:44�████████████       | 387.3 MB 132 kB/s eta 0:13:42��█       | 387.5 MB 132 kB/s eta 0:13:41eta 0:13:40�█████████████████████       | 387.9 MB 132 kB/s eta 0:13:39��██████████       | 388.0 MB 132 kB/s eta 0:13:37       | 388.2 MB 3.6 MB/s eta 0:00:30:00:30��███████████████████       | 388.5 MB 3.6 MB/s eta 0:00:30█████████       | 388.7 MB 3.6 MB/s eta 0:00:30  | 388.8 MB 3.6 MB/s eta 0:00:300██████████████████       | 389.2 MB 3.6 MB/s eta 0:00:30�███████████▏      | 389.3 MB 3.6 MB/s eta 0:00:30�███████████▏      | 389.5 MB 3.6 MB/s eta 0:00:30�███████████▏      | 389.7 MB 3.6 MB/s eta 0:00:30�███████████▏      | 389.8 MB 3.6 MB/s eta 0:00:30�███████████▏      | 390.0 MB 3.6 MB/s eta 0:00:30�███████████▏      | 390.2 MB 3.6 MB/s eta 0:00:30�███████████▏      | 390.3 MB 3.6 MB/s eta 0:00:30 | 405.0 MB 141 kB/s eta 0:10:43�████████▏     | 405.1 MB 141 kB/s eta 0:10:41███████████████████▏     | 405.3 MB 141 kB/s eta 0:10:409  | 405.6 MB 141 kB/s eta 0:10:38��████████▏     | 405.8 MB 141 kB/s eta 0:10:37�███████████████████▏     | 405.9 MB 141 kB/s eta 0:10:3635   | 406.3 MB 141 kB/s eta 0:10:33 | 406.6 MB 130 kB/s eta 0:11:27�████████▎     | 406.7 MB 130 kB/s eta 0:11:26███████████████████▎     | 406.9 MB 130 kB/s eta 0:11:254  | 407.2 MB 130 kB/s eta 0:11:22��████████▎     | 407.4 MB 130 kB/s eta 0:11:21�███████████████████▎     | 407.5 MB 130 kB/s eta 0:11:2019   | 407.8 MB 130 kB/s eta 0:11:18 | 408.2 MB 130 kB/s eta 0:11:15�████████▍     | 408.3 MB 130 kB/s eta 0:11:14███████████████████▍     | 408.5 MB 130 kB/s eta 0:11:131  | 408.8 MB 130 kB/s eta 0:11:10��████████▍     | 409.0 MB 130 kB/s eta 0:11:09�███████████████████▍     | 409.1 MB 130 kB/s eta 0:11:0807   | 409.4 MB 130 kB/s eta 0:11:05 | 409.8 MB 131 kB/s eta 0:10:57�████████▍     | 409.9 MB 131 kB/s eta 0:10:56███████████████████▌     | 410.1 MB 131 kB/s eta 0:10:554  | 410.4 MB 131 kB/s eta 0:10:52��████████▌     | 410.6 MB 131 kB/s eta 0:10:51�███████████████████▌     | 410.7 MB 131 kB/s eta 0:10:5049   | 411.0 MB 131 kB/s eta 0:10:48 | 411.4 MB 131 kB/s eta 0:10:45�████████▌     | 411.5 MB 131 kB/s eta 0:10:44███████████████████▋     | 411.7 MB 131 kB/s eta 0:10:432  | 412.0 MB 131 kB/s eta 0:10:40��████████▋     | 412.2 MB 131 kB/s eta 0:10:39�███████████████████▋     | 412.3 MB 131 kB/s eta 0:10:3837   | 412.6 MB 131 kB/s eta 0:10:35 | 412.9 MB 141 kB/s eta 0:09:49�████████▋     | 413.1 MB 141 kB/s eta 0:09:47███████████████████▋     | 413.3 MB 141 kB/s eta 0:09:465  | 413.6 MB 141 kB/s eta 0:09:44��████████▊     | 413.8 MB 141 kB/s eta 0:09:43�███████████████████▊     | 413.9 MB 141 kB/s eta 0:09:4241   | 414.2 MB 141 kB/s eta 0:09:39 | 414.5 MB 141 kB/s eta 0:09:37�████████▊     | 414.7 MB 141 kB/s eta 0:09:36███████████████████▊     | 414.9 MB 141 kB/s eta 0:09:354  | 415.2 MB 141 kB/s eta 0:09:33��████████▉     | 415.4 MB 141 kB/s eta 0:09:32�███████████████████▉     | 415.5 MB 141 kB/s eta 0:09:3029   | 415.8 MB 141 kB/s eta 0:09:28 | 416.1 MB 130 kB/s eta 0:10:15�████████▉     | 416.3 MB 130 kB/s eta 0:10:14███████████████████▉     | 416.5 MB 130 kB/s eta 0:10:121  | 416.8 MB 130 kB/s eta 0:10:10��█████████     | 417.0 MB 130 kB/s eta 0:10:09�████████████████████     | 417.1 MB 130 kB/s eta 0:10:0706   | 417.4 MB 130 kB/s eta 0:10:05 | 417.7 MB 130 kB/s eta 0:10:02�█████████     | 417.9 MB 130 kB/s eta 0:10:01████████████████████     | 418.1 MB 130 kB/s eta 0:10:009  | 418.4 MB 130 kB/s eta 0:09:58��█████████     | 418.5 MB 130 kB/s eta 0:09:56�████████████████████     | 418.7 MB 130 kB/s eta 0:09:5554   | 419.0 MB 130 kB/s eta 0:09:53 | 419.3 MB 133 kB/s eta 0:09:34�█████████     | 419.5 MB 133 kB/s eta 0:09:33████████████████████     | 419.7 MB 133 kB/s eta 0:09:310  | 420.0 MB 133 kB/s eta 0:09:29��█████████     | 420.1 MB 133 kB/s eta 0:09:28�██████████████████████▏    | 420.3 MB 133 kB/s eta 0:09:27��▏    | 420.5 MB 133 kB/s eta 0:09:25██████████████████████▏    | 420.6 MB 133 kB/s eta 0:09:24��████████▏    | 420.9 MB 133 kB/s eta 0:09:22�████████▏    | 421.2 MB 133 kB/s eta 0:09:20[K     |███████████████████████████▏    | 421.4 MB 133 kB/s eta 0:09:19████████▏    | 421.5 MB 133 kB/s eta 0:09:18K     |███████████████████████████▏    | 421.7 MB 133 kB/s eta 0:09:16��███████▏    | 421.8 MB 133 kB/s eta 0:09:15     |███████████████████████████▏    | 422.0 MB 133 kB/s eta 0:09:14�███████▎    | 422.1 MB 133 kB/s eta 0:09:13    |███████████████████████████▎    | 422.3 MB 145 kB/s eta 0:08:28███████▎    | 422.5 MB 145 kB/s eta 0:08:27   |███████████████████████████▎    | 422.6 MB 145 kB/s eta 0:08:26��██████▎    | 422.8 MB 145 kB/s eta 0:08:25  |███████████████████████████▎    | 422.9 MB 145 kB/s eta 0:08:24�██████▎    | 423.1 MB 145 kB/s eta 0:08:23 |███████████████████████████▎    | 423.3 MB 145 kB/s eta 0:08:22██████▎    | 423.4 MB 145 kB/s eta 0:08:20|███████████████████████████▎    | 423.6 MB 145 kB/s eta 0:08:19��█████▍    | 423.7 MB 145 kB/s eta 0:08:18███████████████████████████▍    | 423.9 MB 145 kB/s eta 0:08:17�█████▍    | 424.0 MB 145 kB/s eta 0:08:16��██████████████████████████▍    | 424.2 MB 145 kB/s eta 0:08:15█████▍    | 424.4 MB 145 kB/s eta 0:08:14�██████████████████████████▍    | 424.5 MB 145 kB/s eta 0:08:13��████▍    | 424.7 MB 145 kB/s eta 0:08:12██████████████████████████▍    | 424.8 MB 145 kB/s eta 0:08:11     |███████████████████████████▍    | 425.0 MB 145 kB/s eta 0:08:10�███████▍    | 425.1 MB 157 kB/s eta 0:07:32    |███████████████████████████▍    | 425.3 MB 157 kB/s eta 0:07:31███████▌    | 425.5 MB 157 kB/s eta 0:07:30   |███████████████████████████▌    | 425.6 MB 157 kB/s eta 0:07:29��██████▌    | 425.8 MB 157 kB/s eta 0:07:28  |███████████████████████████▌    | 425.9 MB 157 kB/s eta 0:07:27�██████▌    | 426.1 MB 157 kB/s eta 0:07:26 |███████████████████████████▌    | 426.3 MB 157 kB/s eta 0:07:25██████▌    | 426.4 MB 157 kB/s eta 0:07:24|███████████████████████████▌    | 426.6 MB 157 kB/s eta 0:07:23��█████▌    | 426.7 MB 157 kB/s eta 0:07:22███████████████████████████▌    | 426.9 MB 157 kB/s eta 0:07:21�█████▌    | 427.0 MB 157 kB/s eta 0:07:20��██████████████████████████▋    | 427.2 MB 157 kB/s eta 0:07:19█████▋    | 427.4 MB 157 kB/s eta 0:07:18�██████████████████████████▋    | 427.5 MB 157 kB/s eta 0:07:17��████▋    | 427.7 MB 157 kB/s eta 0:07:16██████████████████████████▋    | 427.8 MB 157 kB/s eta 0:07:15�████▋    | 428.0 MB 158 kB/s eta 0:07:11��█████████████████████████▋    | 428.2 MB 158 kB/s eta 0:07:10████▋    | 428.3 MB 158 kB/s eta 0:07:09�█████████████████████████▋    | 428.5 MB 158 kB/s eta 0:07:08��███▋    | 428.6 MB 158 kB/s eta 0:07:07█████████████████████████▋    | 428.8 MB 158 kB/s eta 0:07:06�███▊    | 428.9 MB 158 kB/s eta 0:07:05��████████████████████████▊    | 429.1 MB 158 kB/s eta 0:07:04��████████▊    | 429.4 MB 158 kB/s eta 0:07:02�████████▊    | 429.7 MB 158 kB/s eta 0:07:00[K     |███████████████████████████▊    | 429.9 MB 158 kB/s eta 0:06:59████████▊    | 430.0 MB 158 kB/s eta 0:06:58K     |███████████████████████████▊    | 430.2 MB 158 kB/s eta 0:06:57��███████▊    | 430.4 MB 158 kB/s eta 0:06:56     |███████████████████████████▊    | 430.5 MB 158 kB/s eta 0:06:55�███████▉    | 430.7 MB 158 kB/s eta 0:06:54    |███████████████████████████▉    | 430.8 MB 155 kB/s eta 0:07:00███████▉    | 431.0 MB 155 kB/s eta 0:06:59   |███████████████████████████▉    | 431.2 MB 155 kB/s eta 0:06:58��██████▉    | 431.3 MB 155 kB/s eta 0:06:57  |███████████████████████████▉    | 431.5 MB 155 kB/s eta 0:06:56�██████▉    | 431.6 MB 155 kB/s eta 0:06:55 |███████████████████████████▉    | 431.8 MB 155 kB/s eta 0:06:54██████▉    | 431.9 MB 155 kB/s eta 0:06:53|███████████████████████████▉    | 432.1 MB 155 kB/s eta 0:06:52��█████▉    | 432.3 MB 155 kB/s eta 0:06:51████████████████████████████    | 432.4 MB 155 kB/s eta 0:06:50�██████    | 432.6 MB 155 kB/s eta 0:06:49��███████████████████████████    | 432.7 MB 155 kB/s eta 0:06:48██████    | 432.9 MB 155 kB/s eta 0:06:47�███████████████████████████    | 433.1 MB 155 kB/s eta 0:06:46��█████    | 433.2 MB 155 kB/s eta 0:06:45"
     ]
    },
    {
     "name": "stdout",
     "output_type": "stream",
     "text": [
      "\u001b[K     |█████████████████████████████▊  | 460.5 MB 151 kB/s eta 0:03:55�████████    | 433.7 MB 159 kB/s eta 0:06:31    |████████████████████████████    | 433.8 MB 159 kB/s eta 0:06:30████████    | 434.0 MB 159 kB/s eta 0:06:29   |████████████████████████████    | 434.1 MB 159 kB/s eta 0:06:28��███████    | 434.3 MB 159 kB/s eta 0:06:27  |████████████████████████████    | 434.5 MB 159 kB/s eta 0:06:26�███████    | 434.6 MB 159 kB/s eta 0:06:25 |████████████████████████████    | 434.8 MB 159 kB/s eta 0:06:24███████    | 434.9 MB 159 kB/s eta 0:06:23|████████████████████████████    | 435.1 MB 159 kB/s eta 0:06:22��██████    | 435.3 MB 159 kB/s eta 0:06:21████████████████████████████    | 435.4 MB 159 kB/s eta 0:06:20�██████    | 435.6 MB 159 kB/s eta 0:06:19��███████████████████████████    | 435.7 MB 159 kB/s eta 0:06:18��████████████▏   | 435.9 MB 159 kB/s eta 0:06:17█▏   | 436.0 MB 159 kB/s eta 0:06:1706:16��███████████████████▏   | 436.4 MB 160 kB/s eta 0:06:12████████▏   | 436.6 MB 160 kB/s eta 0:06:11.8 MB 160 kB/s eta 0:06:10|████████████████████████████▏   | 436.9 MB 160 kB/s eta 0:06:09��████████████████▏   | 437.1 MB 160 kB/s eta 0:06:08█████▏   | 437.2 MB 160 kB/s eta 0:06:07 kB/s eta 0:06:06�█████████████████████████▎   | 437.5 MB 160 kB/s eta 0:06:05��█████████████▎   | 437.7 MB 160 kB/s eta 0:06:04██▎   | 437.9 MB 160 kB/s eta 0:06:03 0:06:02�██████████████████████▎   | 438.2 MB 160 kB/s eta 0:06:01��██████████▎   | 438.3 MB 160 kB/s eta 0:06:00   | 438.5 MB 160 kB/s eta 0:05:59�███████████████████▎   | 438.8 MB 160 kB/s eta 0:05:57��███████████████████▎   | 439.0 MB 159 kB/s eta 0:05:59████████▎   | 439.1 MB 159 kB/s eta 0:05:58.3 MB 159 kB/s eta 0:05:57|████████████████████████████▍   | 439.4 MB 159 kB/s eta 0:05:56��████████████████▍   | 439.6 MB 159 kB/s eta 0:05:55█████▍   | 439.7 MB 159 kB/s eta 0:05:54 kB/s eta 0:05:53�█████████████████████████▍   | 440.1 MB 159 kB/s eta 0:05:52��█████████████▍   | 440.2 MB 159 kB/s eta 0:05:51██▍   | 440.4 MB 159 kB/s eta 0:05:50 0:05:49�██████████████████████▍   | 440.7 MB 159 kB/s eta 0:05:48��██████████▍   | 440.8 MB 159 kB/s eta 0:05:47   | 441.0 MB 159 kB/s eta 0:05:46�███████████████████▌   | 441.3 MB 159 kB/s eta 0:05:44��███████████████████▌   | 441.5 MB 158 kB/s eta 0:05:44████████▌   | 441.6 MB 158 kB/s eta 0:05:43.8 MB 158 kB/s eta 0:05:42|████████████████████████████▌   | 442.0 MB 158 kB/s eta 0:05:41��████████████████▌   | 442.1 MB 158 kB/s eta 0:05:40█████▌   | 442.3 MB 158 kB/s eta 0:05:39 kB/s eta 0:05:38�█████████████████████████▌   | 442.6 MB 158 kB/s eta 0:05:37��█████████████▋   | 442.7 MB 158 kB/s eta 0:05:36██▋   | 442.9 MB 158 kB/s eta 0:05:36 0:05:35�██████████████████████▋   | 443.2 MB 158 kB/s eta 0:05:34��██████████▋   | 443.4 MB 158 kB/s eta 0:05:33   | 443.5 MB 158 kB/s eta 0:05:32�███████████████████▋   | 443.8 MB 158 kB/s eta 0:05:30��███████████████████▋   | 444.0 MB 158 kB/s eta 0:05:29████████▋   | 444.2 MB 158 kB/s eta 0:05:28.3 MB 158 kB/s eta 0:05:27|████████████████████████████▊   | 444.5 MB 158 kB/s eta 0:05:26��████████████████▊   | 444.6 MB 158 kB/s eta 0:05:25█████▊   | 444.8 MB 158 kB/s eta 0:05:24 kB/s eta 0:05:23�█████████████████████████▊   | 445.1 MB 158 kB/s eta 0:05:22��█████████████▊   | 445.3 MB 158 kB/s eta 0:05:21██▊   | 445.4 MB 158 kB/s eta 0:05:20 0:05:19�██████████████████████▊   | 445.7 MB 158 kB/s eta 0:05:18��██████████▊   | 445.9 MB 158 kB/s eta 0:05:17   | 446.0 MB 158 kB/s eta 0:05:16�███████████████████▉   | 446.4 MB 158 kB/s eta 0:05:14��███████████████████▉   | 446.5 MB 143 kB/s eta 0:05:45████████▉   | 446.7 MB 143 kB/s eta 0:05:44.8 MB 143 kB/s eta 0:05:43|████████████████████████████▉   | 447.0 MB 143 kB/s eta 0:05:42��████████████████▉   | 447.2 MB 143 kB/s eta 0:05:41█████▉   | 447.3 MB 143 kB/s eta 0:05:39 kB/s eta 0:05:38�█████████████████████████▉   | 447.6 MB 143 kB/s eta 0:05:37��█████████████▉   | 447.8 MB 143 kB/s eta 0:05:36███   | 447.9 MB 143 kB/s eta 0:05:35 0:05:34�███████████████████████   | 448.2 MB 143 kB/s eta 0:05:33��███████████   | 448.4 MB 143 kB/s eta 0:05:32   | 448.6 MB 143 kB/s eta 0:05:31�████████████████████   | 448.9 MB 143 kB/s eta 0:05:29��████████████████████   | 449.0 MB 156 kB/s eta 0:05:00█████████   | 449.2 MB 156 kB/s eta 0:04:59.4 MB 156 kB/s eta 0:04:58|█████████████████████████████   | 449.5 MB 156 kB/s eta 0:04:57��█████████████████   | 449.7 MB 156 kB/s eta 0:04:56██████   | 449.8 MB 156 kB/s eta 0:04:55 kB/s eta 0:04:54�██████████████████████████   | 450.1 MB 156 kB/s eta 0:04:53��██████████████   | 450.3 MB 156 kB/s eta 0:04:52███   | 450.4 MB 156 kB/s eta 0:04:51 0:04:50�███████████████████████   | 450.8 MB 156 kB/s eta 0:04:49��███████████   | 450.9 MB 156 kB/s eta 0:04:48   | 451.1 MB 156 kB/s eta 0:04:47███████████████████████████▏  | 451.4 MB 156 kB/s eta 0:04:45    |█████████████████████████████▏  | 451.6 MB 141 kB/s eta 0:05:15█████████████████████████████▏  | 451.7 MB 141 kB/s eta 0:05:14�███████████████████████████▏  | 451.9 MB 141 kB/s eta 0:05:13��█████████████████████████▏  | 452.0 MB 141 kB/s eta 0:05:12████████████████████████▏  | 452.2 MB 141 kB/s eta 0:05:11�██████████████████████▏  | 452.3 MB 141 kB/s eta 0:05:10��████████████████████▏  | 452.5 MB 141 kB/s eta 0:05:09███████████████████▏  | 452.6 MB 141 kB/s eta 0:05:07    |█████████████████████████████▏  | 452.8 MB 141 kB/s eta 0:05:06█████████████████████████████▏  | 453.0 MB 141 kB/s eta 0:05:05�███████████████████████████▎  | 453.1 MB 141 kB/s eta 0:05:04��█████████████████████████▎  | 453.3 MB 141 kB/s eta 0:05:03████████████████████████▎  | 453.4 MB 141 kB/s eta 0:05:02�██████████████████████▎  | 453.6 MB 141 kB/s eta 0:05:01��████████████████████▎  | 453.7 MB 141 kB/s eta 0:05:00███████████████████▎  | 453.9 MB 141 kB/s eta 0:04:59    |█████████████████████████████▎  | 454.1 MB 156 kB/s eta 0:04:28█████████████████████████████▎  | 454.2 MB 156 kB/s eta 0:04:27�███████████████████████████▎  | 454.4 MB 156 kB/s eta 0:04:26��█████████████████████████▎  | 454.5 MB 156 kB/s eta 0:04:26████████████████████████▎  | 454.7 MB 156 kB/s eta 0:04:25�██████████████████████▍  | 454.9 MB 156 kB/s eta 0:04:24��████████████████████▍  | 455.0 MB 156 kB/s eta 0:04:23███████████████████▍  | 455.2 MB 156 kB/s eta 0:04:22    |█████████████████████████████▍  | 455.3 MB 156 kB/s eta 0:04:20█████████████████████████████▍  | 455.5 MB 156 kB/s eta 0:04:19�███████████████████████████▍  | 455.6 MB 156 kB/s eta 0:04:18��█████████████████████████▍  | 455.8 MB 156 kB/s eta 0:04:17████████████████████████▍  | 456.0 MB 156 kB/s eta 0:04:16�██████████████████████▍  | 456.1 MB 156 kB/s eta 0:04:16��████████████████████▍  | 456.3 MB 156 kB/s eta 0:04:15███████████████████▍  | 456.4 MB 156 kB/s eta 0:04:14    |█████████████████████████████▌  | 456.6 MB 152 kB/s eta 0:04:19█████████████████████████████▌  | 456.8 MB 152 kB/s eta 0:04:18�███████████████████████████▌  | 456.9 MB 152 kB/s eta 0:04:17��█████████████████████████▌  | 457.1 MB 152 kB/s eta 0:04:16████████████████████████▌  | 457.2 MB 152 kB/s eta 0:04:15�██████████████████████▌  | 457.4 MB 152 kB/s eta 0:04:14��████████████████████▌  | 457.5 MB 152 kB/s eta 0:04:13███████████████████▌  | 457.7 MB 152 kB/s eta 0:04:12    |█████████████████████████████▌  | 457.9 MB 152 kB/s eta 0:04:11█████████████████████████████▌  | 458.0 MB 152 kB/s eta 0:04:10�███████████████████████████▌  | 458.2 MB 152 kB/s eta 0:04:09��█████████████████████████▋  | 458.3 MB 152 kB/s eta 0:04:08████████████████████████▋  | 458.5 MB 152 kB/s eta 0:04:07�██████████████████████▋  | 458.6 MB 152 kB/s eta 0:04:06��████████████████████▋  | 458.8 MB 152 kB/s eta 0:04:05███████████████████▋  | 458.9 MB 152 kB/s eta 0:04:04    |█████████████████████████████▋  | 459.1 MB 151 kB/s eta 0:04:05█████████████████████████████▋  | 459.3 MB 151 kB/s eta 0:04:04�███████████████████████████▋  | 459.4 MB 151 kB/s eta 0:04:03��█████████████████████████▋  | 459.6 MB 151 kB/s eta 0:04:02████████████████████████▋  | 459.7 MB 151 kB/s eta 0:04:01�██████████████████████▋  | 459.9 MB 151 kB/s eta 0:04:00��████████████████████▊  | 460.0 MB 151 kB/s eta 0:03:59███████████████████▊  | 460.2 MB 151 kB/s eta 0:03:58    |█████████████████████████████▊  | 460.4 MB 151 kB/s eta 0:03:56"
     ]
    },
    {
     "name": "stdout",
     "output_type": "stream",
     "text": [
      "\u001b[K     |███████████████████████████████▋| 489.9 MB 160 kB/s eta 0:00:394��█████████████████████████▊  | 460.8 MB 151 kB/s eta 0:03:53████████████████████████▊  | 461.0 MB 151 kB/s eta 0:03:52�██████████████████████▊  | 461.1 MB 151 kB/s eta 0:03:51��████████████████████▊  | 461.3 MB 151 kB/s eta 0:03:50███████████████████▊  | 461.5 MB 151 kB/s eta 0:03:49    |█████████████████████████████▉  | 461.6 MB 151 kB/s eta 0:03:48█████████████████████████████▉  | 461.8 MB 151 kB/s eta 0:03:47�███████████████████████████▉  | 461.9 MB 151 kB/s eta 0:03:46��█████████████████████████▉  | 462.1 MB 151 kB/s eta 0:03:45████████████████████████▉  | 462.3 MB 151 kB/s eta 0:03:44�██████████████████████▉  | 462.4 MB 151 kB/s eta 0:03:43��████████████████████▉  | 462.6 MB 151 kB/s eta 0:03:41███████████████████▉  | 462.7 MB 151 kB/s eta 0:03:40    |█████████████████████████████▉  | 462.9 MB 151 kB/s eta 0:03:39█████████████████████████████▉  | 463.1 MB 151 kB/s eta 0:03:38�███████████████████████████▉  | 463.2 MB 151 kB/s eta 0:03:37��██████████████████████████  | 463.4 MB 151 kB/s eta 0:03:36█████████████████████████  | 463.5 MB 151 kB/s eta 0:03:35�███████████████████████  | 463.7 MB 151 kB/s eta 0:03:34��█████████████████████  | 463.8 MB 151 kB/s eta 0:03:33████████████████████  | 464.0 MB 151 kB/s eta 0:03:32    |██████████████████████████████  | 464.2 MB 155 kB/s eta 0:03:25██████████████████████████████  | 464.3 MB 155 kB/s eta 0:03:24�████████████████████████████  | 464.5 MB 155 kB/s eta 0:03:23��██████████████████████████  | 464.6 MB 155 kB/s eta 0:03:22█████████████████████████  | 464.8 MB 155 kB/s eta 0:03:21�███████████████████████  | 464.9 MB 155 kB/s eta 0:03:20��█████████████████████  | 465.1 MB 155 kB/s eta 0:03:19████████████████████  | 465.2 MB 155 kB/s eta 0:03:18    |██████████████████████████████  | 465.4 MB 155 kB/s eta 0:03:17██████████████████████████████  | 465.6 MB 155 kB/s eta 0:03:16�████████████████████████████  | 465.7 MB 155 kB/s eta 0:03:15��██████████████████████████  | 465.9 MB 155 kB/s eta 0:03:14█████████████████████████  | 466.0 MB 155 kB/s eta 0:03:13�███████████████████████  | 466.2 MB 155 kB/s eta 0:03:12��█████████████████████  | 466.3 MB 155 kB/s eta 0:03:11████████████████████  | 466.5 MB 155 kB/s eta 0:03:10    |██████████████████████████████  | 466.7 MB 155 kB/s eta 0:03:10[K     |██████████████████████████████▏ | 466.8 MB 155 kB/s eta 0:03:09MB 155 kB/s eta 0:03:08�████▏ | 467.1 MB 155 kB/s eta 0:03:07��████████████▏ | 467.3 MB 155 kB/s eta 0:03:06█████████████████████▏ | 467.4 MB 155 kB/s eta 0:03:05�█████████████████████████████▏ | 467.6 MB 155 kB/s eta 0:03:04s eta 0:03:039 MB 155 kB/s eta 0:03:02█████▏ | 468.1 MB 155 kB/s eta 0:03:01�█████████████▏ | 468.2 MB 155 kB/s eta 0:03:00��█████████████████████▏ | 468.4 MB 155 kB/s eta 0:02:59██████████████████████████████▎ | 468.5 MB 155 kB/s eta 0:02:58B/s eta 0:02:57��█▎ | 468.8 MB 155 kB/s eta 0:02:56██████████▎ | 469.0 MB 155 kB/s eta 0:02:552 MB 156 kB/s eta 0:02:53█████▎ | 469.3 MB 156 kB/s eta 0:02:52�█████████████▎ | 469.5 MB 156 kB/s eta 0:02:51��█████████████████████▎ | 469.6 MB 156 kB/s eta 0:02:50██████████████████████████████▎ | 469.8 MB 156 kB/s eta 0:02:49B/s eta 0:02:48��█▎ | 470.1 MB 156 kB/s eta 0:02:47██████████▍ | 470.3 MB 156 kB/s eta 0:02:465 MB 156 kB/s eta 0:02:45█████▍ | 470.6 MB 156 kB/s eta 0:02:44�█████████████▍ | 470.8 MB 156 kB/s eta 0:02:43��█████████████████████▍ | 470.9 MB 156 kB/s eta 0:02:42██████████████████████████████▍ | 471.1 MB 156 kB/s eta 0:02:41B/s eta 0:02:40��█▍ | 471.4 MB 156 kB/s eta 0:02:39██████████▍ | 471.5 MB 156 kB/s eta 0:02:387 MB 156 kB/s eta 0:02:37█████▍ | 471.9 MB 156 kB/s eta 0:02:36�█████████████▌ | 472.0 MB 156 kB/s eta 0:02:35��█████████████████████▌ | 472.2 MB 156 kB/s eta 0:02:34██████████████████████████████▌ | 472.3 MB 156 kB/s eta 0:02:33B/s eta 0:02:32��█▌ | 472.6 MB 156 kB/s eta 0:02:31██████████▌ | 472.8 MB 156 kB/s eta 0:02:300 MB 156 kB/s eta 0:02:28█████▌ | 473.1 MB 156 kB/s eta 0:02:27�█████████████▌ | 473.3 MB 156 kB/s eta 0:02:26��█████████████████████▌ | 473.4 MB 156 kB/s eta 0:02:25██████████████████████████████▌ | 473.6 MB 156 kB/s eta 0:02:24B/s eta 0:02:24��█▋ | 473.9 MB 156 kB/s eta 0:02:23██████████▋ | 474.0 MB 156 kB/s eta 0:02:222 MB 157 kB/s eta 0:02:20█████▋ | 474.4 MB 157 kB/s eta 0:02:19�█████████████▋ | 474.5 MB 157 kB/s eta 0:02:18��█████████████████████▋ | 474.7 MB 157 kB/s eta 0:02:17██████████████████████████████▋ | 474.8 MB 157 kB/s eta 0:02:16B/s eta 0:02:15��█▋ | 475.1 MB 157 kB/s eta 0:02:14██████████▋ | 475.3 MB 157 kB/s eta 0:02:135 MB 157 kB/s eta 0:02:12█████▊ | 475.6 MB 157 kB/s eta 0:02:11�█████████████▊ | 475.8 MB 157 kB/s eta 0:02:10��█████████████████████▊ | 475.9 MB 157 kB/s eta 0:02:09██████████████████████████████▊ | 476.1 MB 157 kB/s eta 0:02:08B/s eta 0:02:07��█▊ | 476.4 MB 157 kB/s eta 0:02:06██████████▊ | 476.5 MB 157 kB/s eta 0:02:057 MB 156 kB/s eta 0:02:04█████▊ | 476.9 MB 156 kB/s eta 0:02:03�█████████████▊ | 477.1 MB 156 kB/s eta 0:02:02��█████████████████████▉ | 477.2 MB 156 kB/s eta 0:02:01██████████████████████████████▉ | 477.4 MB 156 kB/s eta 0:02:00B/s eta 0:01:59��█▉ | 477.7 MB 156 kB/s eta 0:01:58██████████▉ | 477.8 MB 156 kB/s eta 0:01:570 MB 156 kB/s eta 0:01:56█████▉ | 478.2 MB 156 kB/s eta 0:01:55�█████████████▉ | 478.3 MB 156 kB/s eta 0:01:54��█████████████████████▉ | 478.5 MB 156 kB/s eta 0:01:53██████████████████████████████▉ | 478.6 MB 156 kB/s eta 0:01:52B/s eta 0:01:51��██ | 478.9 MB 156 kB/s eta 0:01:50███████████ | 479.1 MB 156 kB/s eta 0:01:493 MB 157 kB/s eta 0:01:47██████ | 479.4 MB 157 kB/s eta 0:01:46�██████████████ | 479.6 MB 157 kB/s eta 0:01:45��██████████████████████ | 479.7 MB 157 kB/s eta 0:01:44███████████████████████████████ | 479.9 MB 157 kB/s eta 0:01:43B/s eta 0:01:42��██ | 480.2 MB 157 kB/s eta 0:01:41███████████ | 480.3 MB 157 kB/s eta 0:01:405 MB 157 kB/s eta 0:01:39██████ | 480.7 MB 157 kB/s eta 0:01:38�██████████████ | 480.8 MB 157 kB/s eta 0:01:37��██████████████████████ | 481.0 MB 157 kB/s eta 0:01:36███████████████████████████████ | 481.1 MB 157 kB/s eta 0:01:35B/s eta 0:01:34��██ | 481.4 MB 157 kB/s eta 0:01:33███████████ | 481.6 MB 157 kB/s eta 0:01:328 MB 160 kB/s eta 0:01:29██████ | 481.9 MB 160 kB/s eta 0:01:29�██████████████ | 482.1 MB 160 kB/s eta 0:01:28��██████████████████████ | 482.2 MB 160 kB/s eta 0:01:27ta 0:01:26�██████████▏| 482.5 MB 160 kB/s eta 0:01:25��████████████████████████████▏| 482.7 MB 160 kB/s eta 0:01:24�█▏| 482.8 MB 160 kB/s eta 0:01:23███████▏| 483.1 MB 160 kB/s eta 0:01:22�█████████████████████████▏| 483.2 MB 160 kB/s eta 0:01:2183.3 MB 160 kB/s eta 0:01:20�████████████████▏| 483.5 MB 160 kB/s eta 0:01:198�███████▏| 483.8 MB 160 kB/s eta 0:01:17��█████████████████████████▏| 484.0 MB 160 kB/s eta 0:01:16484.1 MB 160 kB/s eta 0:01:15███████▎| 484.3 MB 160 kB/s eta 0:01:14�█████████████████████████▎| 484.5 MB 160 kB/s eta 0:01:1384.6 MB 160 kB/s eta 0:01:12�████████████████▎| 484.8 MB 160 kB/s eta 0:01:110�███████▎| 485.0 MB 160 kB/s eta 0:01:09��█████████████████████████▎| 485.2 MB 160 kB/s eta 0:01:08485.3 MB 160 kB/s eta 0:01:07███████▎| 485.6 MB 160 kB/s eta 0:01:06�█████████████████████████▎| 485.7 MB 160 kB/s eta 0:01:0585.9 MB 160 kB/s eta 0:01:04�████████████████▍| 486.0 MB 160 kB/s eta 0:01:032�███████▍| 486.3 MB 160 kB/s eta 0:01:01��█████████████████████████▍| 486.5 MB 160 kB/s eta 0:01:00486.6 MB 160 kB/s eta 0:00:59███████▍| 486.8 MB 160 kB/s eta 0:00:58�█████████████████████████▍| 487.0 MB 160 kB/s eta 0:00:5787.1 MB 160 kB/s eta 0:00:56�████████████████▍| 487.3 MB 160 kB/s eta 0:00:554�███████▌| 487.6 MB 160 kB/s eta 0:00:53��█████████████████████████▌| 487.7 MB 160 kB/s eta 0:00:52487.9 MB 160 kB/s eta 0:00:52███████▌| 488.1 MB 160 kB/s eta 0:00:50�█████████████████████████▌| 488.2 MB 160 kB/s eta 0:00:4988.4 MB 160 kB/s eta 0:00:48�████████████████▌| 488.5 MB 160 kB/s eta 0:00:476�███████▌| 488.8 MB 160 kB/s eta 0:00:46��█████████████████████████▌| 489.0 MB 160 kB/s eta 0:00:45489.1 MB 160 kB/s eta 0:00:44███████▋| 489.3 MB 160 kB/s eta 0:00:42�█████████████████████████▋| 489.5 MB 160 kB/s eta 0:00:4189.6 MB 160 kB/s eta 0:00:41�████████████████▋| 489.8 MB 160 kB/s eta 0:00:40"
     ]
    },
    {
     "name": "stdout",
     "output_type": "stream",
     "text": [
      "\u001b[K     |████████████████████████████████| 496.1 MB 898 bytes/s  0:00:018��█████████████████████████▋| 490.2 MB 160 kB/s eta 0:00:37490.4 MB 160 kB/s eta 0:00:36███████▋| 490.6 MB 160 kB/s eta 0:00:35�█████████████████████████▋| 490.8 MB 160 kB/s eta 0:00:3490.9 MB 160 kB/s eta 0:00:33�████████████████▊| 491.0 MB 160 kB/s eta 0:00:321�███████▊| 491.3 MB 160 kB/s eta 0:00:30��█████████████████████████▊| 491.5 MB 160 kB/s eta 0:00:29491.6 MB 160 kB/s eta 0:00:28███████▊| 491.9 MB 135 kB/s eta 0:00:31�█████████████████████████▊| 492.0 MB 135 kB/s eta 0:00:3092.2 MB 135 kB/s eta 0:00:29�████████████████▊| 492.3 MB 135 kB/s eta 0:00:287�███████▊| 492.6 MB 135 kB/s eta 0:00:26��█████████████████████████▉| 492.8 MB 135 kB/s eta 0:00:25492.9 MB 135 kB/s eta 0:00:24███████▉| 493.1 MB 135 kB/s eta 0:00:22�█████████████████████████▉| 493.3 MB 135 kB/s eta 0:00:2193.4 MB 135 kB/s eta 0:00:20�████████████████▉| 493.6 MB 135 kB/s eta 0:00:198�███████▉| 493.9 MB 135 kB/s eta 0:00:17��█████████████████████████▉| 494.0 MB 135 kB/s eta 0:00:16494.2 MB 135 kB/s eta 0:00:15████████| 494.4 MB 161 kB/s eta 0:00:11�██████████████████████████| 494.5 MB 161 kB/s eta 0:00:1094.7 MB 161 kB/s eta 0:00:09�█████████████████| 494.8 MB 161 kB/s eta 0:00:087�████████| 495.1 MB 161 kB/s eta 0:00:06��██████████████████████████| 495.3 MB 161 kB/s eta 0:00:05495.4 MB 161 kB/s eta 0:00:04████████| 495.6 MB 161 kB/s eta 0:00:03�██████████████████████████| 495.8 MB 161 kB/s eta 0:00:0295.9 MB 161 kB/s eta 0:00:01\n",
      "\u001b[?25hCollecting gast!=0.5.0,!=0.5.1,!=0.5.2,>=0.2.1\n",
      "  Downloading gast-0.4.0-py3-none-any.whl (9.8 kB)\n",
      "Collecting tensorflow-estimator<2.8,~=2.7.0rc0\n",
      "  Downloading tensorflow_estimator-2.7.0-py2.py3-none-any.whl (463 kB)\n",
      "\u001b[K     |████████████████████████████████| 463 kB 2.1 MB/s eta 0:00:01��██████████▋    | 399 kB 2.1 MB/s eta 0:00:01\n",
      "\u001b[?25hCollecting tensorflow-gpu\n",
      "  Downloading tensorflow_gpu-2.7.3-cp39-cp39-manylinux2010_x86_64.whl (495.6 MB)\n"
     ]
    },
    {
     "name": "stdout",
     "output_type": "stream",
     "text": [
      "\u001b[K     |█████                           | 77.6 MB 349 kB/s eta 0:19:56328 MB/s eta 0:00:32    | 860 kB 15.8 MB/s eta 0:00:32                    | 1.1 MB 15.8 MB/s eta 0:00:32   |                                | 1.4 MB 15.8 MB/s eta 0:00:32ta 0:00:32:00:320:3232[K     |▏                               | 3.1 MB 15.8 MB/s eta 0:00:32     |▏                               | 3.4 MB 15.8 MB/s eta 0:00:32   |▎                               | 3.7 MB 15.8 MB/s eta 0:00:32 |▎                               | 3.9 MB 15.8 MB/s eta 0:00:32               | 4.5 MB 355 kB/s eta 0:23:01B/s eta 0:23:00                              | 5.0 MB 355 kB/s eta 0:22:59kB/s eta 3:02:16    | 5.8 MB 44 kB/s eta 3:02:10                    | 6.1 MB 44 kB/s eta 3:02:04 |▍                               | 6.4 MB 44 kB/s eta 3:01:57 3:01:510 MB 44 kB/s eta 3:01:45            | 7.2 MB 44 kB/s eta 3:01:38                            | 7.5 MB 44 kB/s eta 3:01:32kB/s eta 3:01:19    | 8.4 MB 44 kB/s eta 3:01:13kB/s eta 1:21:38    | 9.0 MB 99 kB/s eta 1:21:35                    | 9.3 MB 99 kB/s eta 1:21:32 |▋                               | 9.5 MB 99 kB/s eta 1:21:29 1:21:26           | 10.1 MB 99 kB/s eta 1:21:23eta 1:21:21                          | 10.7 MB 99 kB/s eta 1:21:180.9 MB 99 kB/s eta 1:21:15K     |▊                               | 11.2 MB 99 kB/s eta 1:21:12            | 11.5 MB 99 kB/s eta 1:21:09               | 11.9 MB 96 kB/s eta 1:23:33B/s eta 1:23:30                              | 12.4 MB 96 kB/s eta 1:23:27 | 12.7 MB 96 kB/s eta 1:23:242                | 13.3 MB 96 kB/s eta 1:23:19kB/s eta 1:23:16               | 13.9 MB 54 kB/s eta 2:26:46B/s eta 2:26:41                              | 14.5 MB 54 kB/s eta 2:26:35               | 15.0 MB 54 kB/s eta 2:26:27B/s eta 2:26:22                              | 15.5 MB 54 kB/s eta 2:26:16               | 16.0 MB 54 kB/s eta 2:26:07B/s eta 2:26:02                              | 16.6 MB 54 kB/s eta 2:25:57 | 16.9 MB 54 kB/s eta 2:25:527/s eta 2:25:42          | 17.7 MB 54 kB/s eta 2:25:37:11                         | 18.2 MB 604 kB/s eta 0:13:10 | 18.5 MB 604 kB/s eta 0:13:100:13:10                             | 19.0 MB 604 kB/s eta 0:13:09     | 19.3 MB 604 kB/s eta 0:13:09eta 0:13:08▎                              | 19.9 MB 604 kB/s eta 0:13:08         | 20.1 MB 604 kB/s eta 0:13:07B/s eta 0:13:07|█▍                              | 20.7 MB 604 kB/s eta 0:13:06             | 20.9 MB 604 kB/s eta 0:13:0604 kB/s eta 0:13:06    |█▍                              | 21.5 MB 604 kB/s eta 0:13:05                 | 21.7 MB 604 kB/s eta 0:13:05                      | 22.3 MB 164 kB/s eta 0:48:0022.5 MB 164 kB/s eta 0:47:597:57                          | 23.1 MB 164 kB/s eta 0:47:56  | 23.3 MB 164 kB/s eta 0:47:54 0:47:52                              | 23.9 MB 164 kB/s eta 0:47:51      | 24.2 MB 164 kB/s eta 0:47:49 eta 0:47:47�▋                              | 24.7 MB 164 kB/s eta 0:47:46                      | 25.2 MB 164 kB/s eta 0:47:4325.5 MB 164 kB/s eta 0:47:417:39                          | 26.0 MB 164 kB/s eta 0:47:38  | 26.3 MB 164 kB/s eta 0:47:36 0:47:34                              | 26.8 MB 164 kB/s eta 0:47:33      | 27.1 MB 164 kB/s eta 0:47:31 eta 0:47:29                      | 27.7 MB 143 kB/s eta 0:54:1427.9 MB 143 kB/s eta 0:54:124:10                          | 28.5 MB 143 kB/s eta 0:54:08  | 28.8 MB 143 kB/s eta 0:54:07 0:54:05                              | 29.3 MB 143 kB/s eta 0:54:03      | 29.6 MB 143 kB/s eta 0:54:01 eta 0:53:59                      | 30.1 MB 143 kB/s eta 0:53:5730.4 MB 143 kB/s eta 0:53:553:53                          | 30.9 MB 143 kB/s eta 0:53:51  | 31.2 MB 143 kB/s eta 0:53:49 0:53:48                              | 31.8 MB 143 kB/s eta 0:53:46      | 32.0 MB 143 kB/s eta 0:53:44 eta 0:53:42                      | 32.6 MB 143 kB/s eta 0:53:48▏                             | 32.9 MB 143 kB/s eta 0:53:46 eta 0:53:44          | 33.4 MB 143 kB/s eta 0:53:42██▏                             | 33.6 MB 143 kB/s eta 0:53:413 kB/s eta 0:53:39                | 34.2 MB 143 kB/s eta 0:53:37     |██▎                             | 34.4 MB 143 kB/s eta 0:53:35 MB 143 kB/s eta 0:53:3335.0 MB 143 kB/s eta 0:53:31                          | 35.3 MB 143 kB/s eta 0:53:29:53:27    | 35.8 MB 143 kB/s eta 0:53:25▎                             | 36.1 MB 143 kB/s eta 0:53:23 eta 0:53:22          | 36.6 MB 143 kB/s eta 0:53:20██▍                             | 36.9 MB 143 kB/s eta 0:53:183 kB/s eta 0:53:1637.4 MB 143 kB/s eta 0:53:08                          | 37.7 MB 143 kB/s eta 0:53:07:53:05    | 38.2 MB 143 kB/s eta 0:53:03▌                             | 38.5 MB 143 kB/s eta 0:53:01 eta 0:52:59          | 39.0 MB 143 kB/s eta 0:52:57██▌                             | 39.3 MB 143 kB/s eta 0:52:563 kB/s eta 0:52:5439.8 MB 143 kB/s eta 0:52:52                          | 40.1 MB 143 kB/s eta 0:52:50:52:48    | 40.6 MB 143 kB/s eta 0:52:46▋                             | 40.9 MB 143 kB/s eta 0:52:44 eta 0:52:43          | 41.4 MB 143 kB/s eta 0:52:41██▊                             | 41.7 MB 143 kB/s eta 0:52:393 kB/s eta 0:52:3742.2 MB 145 kB/s eta 0:51:59                          | 42.5 MB 145 kB/s eta 0:51:58:51:56    | 43.0 MB 145 kB/s eta 0:51:54▉                             | 43.3 MB 145 kB/s eta 0:51:52 eta 0:51:50          | 43.8 MB 145 kB/s eta 0:51:49██▉                             | 44.1 MB 145 kB/s eta 0:51:475 kB/s eta 0:51:4544.6 MB 145 kB/s eta 0:51:43                          | 44.9 MB 145 kB/s eta 0:51:41:51:39    | 45.4 MB 145 kB/s eta 0:51:38█                             | 45.7 MB 145 kB/s eta 0:51:36 eta 0:51:34          | 46.2 MB 145 kB/s eta 0:51:32███                             | 46.5 MB 145 kB/s eta 0:51:305 kB/s eta 0:51:2947.0 MB 145 kB/s eta 0:51:15                          | 47.3 MB 145 kB/s eta 0:51:13:51:12    | 47.8 MB 145 kB/s eta 0:51:10█                             | 48.1 MB 145 kB/s eta 0:51:08            | 48.3 MB 145 kB/s eta 0:51:06            | 48.6 MB 145 kB/s eta 0:51:04            | 48.8 MB 145 kB/s eta 0:51:03            | 49.1 MB 145 kB/s eta 0:51:01      | 63.8 MB 8.7 MB/s eta 0:00:506:13                        | 64.3 MB 443 kB/s eta 0:16:13B 443 kB/s eta 0:16:12████▏                           | 64.8 MB 443 kB/s eta 0:16:12          | 65.1 MB 443 kB/s eta 0:16:11�                           | 65.6 MB 443 kB/s eta 0:16:10.8 MB 443 kB/s eta 0:16:09   |████▎                           | 66.1 MB 443 kB/s eta 0:16:09              | 66.3 MB 443 kB/s eta 0:16:08 eta 0:16:08��▎                           | 66.8 MB 443 kB/s eta 0:16:07| 67.1 MB 443 kB/s eta 0:16:07                    | 67.4 MB 115 kB/s eta 1:01:595 kB/s eta 1:01:57��██▍                           | 67.9 MB 115 kB/s eta 1:01:55      | 68.1 MB 115 kB/s eta 1:01:521:50                        | 68.6 MB 115 kB/s eta 1:01:48B 115 kB/s eta 1:01:46████▌                           | 69.1 MB 115 kB/s eta 1:01:44          | 69.4 MB 115 kB/s eta 1:01:42 1:01:39�                           | 69.9 MB 115 kB/s eta 1:01:37.1 MB 115 kB/s eta 1:01:35   |████▌                           | 70.4 MB 115 kB/s eta 1:01:33              | 70.6 MB 115 kB/s eta 1:01:31 eta 0:00:47��▋                           | 71.1 MB 9.0 MB/s eta 0:00:47| 71.4 MB 9.0 MB/s eta 0:00:47[K     |████▋                           | 71.6 MB 9.0 MB/s eta 0:00:47                  | 71.9 MB 9.0 MB/s eta 0:00:47MB/s eta 0:00:47██▊                           | 72.4 MB 9.0 MB/s eta 0:00:47    | 72.6 MB 9.0 MB/s eta 0:00:4747                      | 73.1 MB 9.0 MB/s eta 0:00:479.0 MB/s eta 0:00:47                    | 73.7 MB 147 kB/s eta 0:47:357 kB/s eta 0:47:33��██▉                           | 74.2 MB 147 kB/s eta 0:47:32      | 74.4 MB 147 kB/s eta 0:47:307:28                        | 74.9 MB 147 kB/s eta 0:47:26B 147 kB/s eta 0:47:25████▉                           | 75.4 MB 147 kB/s eta 0:47:23          | 75.7 MB 147 kB/s eta 0:47:21 0:47:20�                           | 76.2 MB 147 kB/s eta 0:47:18.4 MB 147 kB/s eta 0:47:16   |█████                           | 76.7 MB 147 kB/s eta 0:47:15              | 76.9 MB 147 kB/s eta 0:47:13 eta 0:47:11��█                           | 77.4 MB 147 kB/s eta 0:47:10"
     ]
    },
    {
     "name": "stdout",
     "output_type": "stream",
     "text": [
      "\u001b[K     |█████████▏                      | 142.7 MB 145 kB/s eta 0:40:30                 | 78.2 MB 349 kB/s eta 0:19:55kB/s eta 0:19:54                    | 78.9 MB 349 kB/s eta 0:19:53349 kB/s eta 0:19:52      | 79.4 MB 349 kB/s eta 0:19:51                      | 79.6 MB 349 kB/s eta 0:19:51███▏                          | 79.9 MB 349 kB/s eta 0:19:5015.1 MB/s eta 0:00:28�▏                          | 80.6 MB 15.1 MB/s eta 0:00:28         | 81.0 MB 15.1 MB/s eta 0:00:28    |█████▎                          | 81.2 MB 15.1 MB/s eta 0:00:28    | 81.5 MB 15.1 MB/s eta 0:00:28█████▎                          | 81.7 MB 15.1 MB/s eta 0:00:28/s eta 0:02:54| 82.2 MB 2.4 MB/s eta 0:02:54                | 82.4 MB 2.4 MB/s eta 0:02:54█▍                          | 82.7 MB 2.4 MB/s eta 0:02:54   |█████▍                          | 82.9 MB 2.4 MB/s eta 0:02:54ta 0:02:53.4 MB 2.4 MB/s eta 0:02:53            | 83.7 MB 2.4 MB/s eta 0:02:53��                          | 83.9 MB 2.4 MB/s eta 0:02:53█████▍                          | 84.2 MB 2.4 MB/s eta 0:02:53:02:53B 2.4 MB/s eta 0:02:53        | 84.9 MB 2.4 MB/s eta 0:02:53                        | 85.1 MB 2.4 MB/s eta 0:02:53��███▌                          | 85.4 MB 2.4 MB/s eta 0:02:53524 MB/s eta 0:02:52    | 86.1 MB 972 kB/s eta 0:07:01                    | 86.3 MB 972 kB/s eta 0:07:01�██▋                          | 86.6 MB 972 kB/s eta 0:07:01[K     |█████▋                          | 86.8 MB 972 kB/s eta 0:07:01/s eta 0:07:00| 87.3 MB 972 kB/s eta 0:07:00                | 87.6 MB 972 kB/s eta 0:07:00█▊                          | 87.8 MB 972 kB/s eta 0:07:00   |█████▊                          | 88.1 MB 972 kB/s eta 0:06:59ta 0:06:59.5 MB 972 kB/s eta 0:06:59            | 88.8 MB 972 kB/s eta 0:06:59��                          | 89.0 MB 972 kB/s eta 0:06:58█████▊                          | 89.3 MB 972 kB/s eta 0:06:58:01:12B 5.6 MB/s eta 0:01:12        | 90.0 MB 5.6 MB/s eta 0:01:12                        | 90.2 MB 5.6 MB/s eta 0:01:12��███▉                          | 90.5 MB 5.6 MB/s eta 0:01:12126 MB/s eta 0:01:12    | 91.2 MB 5.6 MB/s eta 0:01:12 |██████                          | 91.5 MB 32 kB/s eta 3:26:27████                          | 91.7 MB 32 kB/s eta 3:26:19�█                          | 92.0 MB 32 kB/s eta 3:26:12                      | 92.2 MB 32 kB/s eta 3:26:04              | 92.5 MB 32 kB/s eta 3:25:57      | 92.7 MB 32 kB/s eta 3:25:4993.0 MB 32 kB/s eta 3:25:4232 kB/s eta 3:25:34 |██████                          | 93.6 MB 32 kB/s eta 3:25:230:05:39MB 1.2 MB/s eta 0:05:39         | 94.3 MB 1.2 MB/s eta 0:05:39                         | 94.6 MB 1.2 MB/s eta 0:05:38 MB/s eta 0:05:38    |██████▏                         | 95.0 MB 1.2 MB/s eta 0:05:38�▏                         | 95.3 MB 1.2 MB/s eta 0:05:38       | 95.5 MB 1.2 MB/s eta 0:05:38B/s eta 0:05:37  |██████▏                         | 96.0 MB 1.2 MB/s eta 0:05:37��                         | 96.2 MB 1.2 MB/s eta 0:05:37     | 96.5 MB 1.2 MB/s eta 0:05:37s eta 0:05:37|██████▎                         | 96.9 MB 1.2 MB/s eta 0:05:36                         | 97.2 MB 1.2 MB/s eta 0:05:36   | 97.4 MB 1.2 MB/s eta 0:05:36eta 0:05:36��█████▎                         | 97.9 MB 1.2 MB/s eta 0:05:36                       | 98.1 MB 4.7 MB/s eta 0:01:24 | 98.4 MB 4.7 MB/s eta 0:01:24     |██████▍                         | 98.5 MB 4.7 MB/s eta 0:01:24��▍                         | 98.7 MB 4.7 MB/s eta 0:01:24        | 98.9 MB 4.7 MB/s eta 0:01:24MB/s eta 0:01:24   |██████▍                         | 99.4 MB 4.7 MB/s eta 0:01:24▍                         | 99.6 MB 4.7 MB/s eta 0:01:24      | 99.9 MB 4.7 MB/s eta 0:01:24| 100.1 MB 4.7 MB/s eta 0:01:24 | 100.4 MB 4.7 MB/s eta 0:01:24  | 100.6 MB 4.7 MB/s eta 0:01:24735:340:32029:271:46646:4660303:032:03          | 110.3 MB 3.2 MB/s eta 0:02:03               | 110.8 MB 3.2 MB/s eta 0:02:032:02                    | 111.2 MB 3.2 MB/s eta 0:02:02a 0:01:54�                        | 111.7 MB 3.4 MB/s eta 0:01:54/s eta 0:01:54█▎                        | 112.1 MB 3.4 MB/s eta 0:01:54.4 MB/s eta 0:01:54��██▎                        | 112.6 MB 3.4 MB/s eta 0:01:54 MB 3.4 MB/s eta 0:01:54�████▎                        | 113.1 MB 3.4 MB/s eta 0:01:54113.3 MB 3.4 MB/s eta 0:01:54██████▎                        | 113.5 MB 3.4 MB/s eta 0:01:54   | 113.8 MB 3.4 MB/s eta 0:01:54 |███████▍                        | 114.0 MB 3.4 MB/s eta 0:01:54        | 114.2 MB 3.4 MB/s eta 0:01:54K     |███████▍                        | 114.5 MB 3.4 MB/s eta 0:01:53             | 114.7 MB 3.4 MB/s eta 0:01:5353                  | 115.1 MB 3.4 MB/s eta 0:01:530:01:44                       | 115.6 MB 3.7 MB/s eta 0:01:44 eta 0:01:44�▌                        | 116.1 MB 3.7 MB/s eta 0:01:44 MB/s eta 0:01:43██▌                        | 116.5 MB 3.7 MB/s eta 0:01:43B 3.7 MB/s eta 0:01:43��███▌                        | 117.0 MB 3.7 MB/s eta 0:01:437.2 MB 3.7 MB/s eta 0:01:43�█████▋                        | 117.4 MB 3.7 MB/s eta 0:01:43 | 117.7 MB 3.7 MB/s eta 0:01:43███████▋                        | 117.9 MB 3.7 MB/s eta 0:01:43                | 118.3 MB 155 kB/s eta 0:40:2940:27                     | 118.8 MB 155 kB/s eta 0:40:26ta 0:40:24��                        | 119.3 MB 155 kB/s eta 0:40:23B/s eta 0:40:21�█▊                        | 119.7 MB 155 kB/s eta 0:40:20155 kB/s eta 0:40:18                | 120.4 MB 155 kB/s eta 0:40:1640:14                     | 120.8 MB 155 kB/s eta 0:40:13ta 0:40:11��                        | 121.3 MB 155 kB/s eta 0:40:10B/s eta 0:40:08�█▉                        | 121.8 MB 155 kB/s eta 0:40:07155 kB/s eta 0:40:05                | 122.4 MB 145 kB/s eta 0:42:4242:41                     | 122.9 MB 145 kB/s eta 0:42:39ta 0:42:38��                        | 123.4 MB 145 kB/s eta 0:42:36B/s eta 0:42:35�██                        | 123.8 MB 145 kB/s eta 0:42:33145 kB/s eta 0:42:31                | 124.5 MB 145 kB/s eta 0:42:2842:27                     | 124.9 MB 145 kB/s eta 0:42:25ta 0:42:24��                        | 125.4 MB 145 kB/s eta 0:42:22 kB/s eta 0:42:2045 kB/s eta 0:42:19 145 kB/s eta 0:42:17MB 145 kB/s eta 0:42:165 MB 145 kB/s eta 0:42:146.8 MB 145 kB/s eta 0:42:13127.0 MB 1.9 MB/s eta 0:03:15| 127.2 MB 1.9 MB/s eta 0:03:15  | 127.4 MB 1.9 MB/s eta 0:03:15    | 127.7 MB 1.9 MB/s eta 0:03:15      | 127.9 MB 1.9 MB/s eta 0:03:15        | 128.1 MB 1.9 MB/s eta 0:03:15          | 128.3 MB 1.9 MB/s eta 0:03:15            | 128.6 MB 1.9 MB/s eta 0:03:15              | 128.8 MB 1.9 MB/s eta 0:03:14                | 129.0 MB 3.7 MB/s eta 0:01:40                  | 129.2 MB 3.7 MB/s eta 0:01:40                    | 129.5 MB 3.7 MB/s eta 0:01:40                      | 129.7 MB 3.7 MB/s eta 0:01:40�                       | 129.9 MB 3.7 MB/s eta 0:01:40▍                       | 130.1 MB 3.7 MB/s eta 0:01:40��▍                       | 130.4 MB 3.7 MB/s eta 0:01:40�█▍                       | 130.6 MB 3.7 MB/s eta 0:01:40██▌                       | 130.8 MB 3.7 MB/s eta 0:01:40��██▌                       | 131.0 MB 3.7 MB/s eta 0:01:40057:03:47:01 0:47:00ta 0:46:58 eta 0:46:56/s eta 0:46:54kB/s eta 0:46:538 kB/s eta 0:46:51128 kB/s eta 0:46:49B 128 kB/s eta 0:46:47 MB 128 kB/s eta 0:46:46.0 MB 128 kB/s eta 0:46:4434.2 MB 388 kB/s eta 0:15:31 134.5 MB 388 kB/s eta 0:15:30 | 134.7 MB 388 kB/s eta 0:15:29   | 134.9 MB 388 kB/s eta 0:15:29     | 135.1 MB 388 kB/s eta 0:15:28275:27:15:26 0:15:26ta 0:15:25 eta 0:15:25/s eta 0:15:24kB/s eta 0:15:238 kB/s eta 0:15:23599 kB/s eta 0:09:58B 599 kB/s eta 0:09:57 MB 599 kB/s eta 0:09:57.2 MB 599 kB/s eta 0:09:5638.4 MB 599 kB/s eta 0:09:56 138.6 MB 599 kB/s eta 0:09:56 | 138.9 MB 599 kB/s eta 0:09:55   | 139.1 MB 599 kB/s eta 0:09:55     | 139.3 MB 599 kB/s eta 0:09:55       | 139.6 MB 599 kB/s eta 0:09:54         | 139.8 MB 599 kB/s eta 0:09:54           | 140.0 MB 599 kB/s eta 0:09:53             | 140.2 MB 599 kB/s eta 0:09:53               | 140.5 MB 599 kB/s eta 0:09:53430:42kB/s eta 0:40:40██▏                      | 141.4 MB 145 kB/s eta 0:40:39               | 141.8 MB 145 kB/s eta 0:40:36              | 142.2 MB 145 kB/s eta 0:40:33[K     |█████████▏                      | 142.5 MB 145 kB/s eta 0:40:31"
     ]
    },
    {
     "name": "stdout",
     "output_type": "stream",
     "text": [
      "\u001b[K     |███████████▌                    | 178.6 MB 144 kB/s eta 0:36:38            | 143.1 MB 145 kB/s eta 0:40:27     |█████████▎                      | 143.3 MB 145 kB/s eta 0:40:25           | 143.6 MB 145 kB/s eta 0:40:24    |█████████▎                      | 143.8 MB 471 kB/s eta 0:12:26          | 144.0 MB 471 kB/s eta 0:12:26   |█████████▎                      | 144.2 MB 471 kB/s eta 0:12:25         | 144.4 MB 471 kB/s eta 0:12:25  |█████████▍                      | 144.7 MB 471 kB/s eta 0:12:24        | 144.9 MB 471 kB/s eta 0:12:24 |█████████▍                      | 145.1 MB 471 kB/s eta 0:12:23               | 145.4 MB 471 kB/s eta 0:12:23              | 145.8 MB 471 kB/s eta 0:12:22[K     |█████████▍                      | 146.0 MB 471 kB/s eta 0:12:21             | 146.2 MB 471 kB/s eta 0:12:21K     |█████████▌                      | 146.5 MB 471 kB/s eta 0:12:20            | 146.7 MB 471 kB/s eta 0:12:20     |█████████▌                      | 146.9 MB 471 kB/s eta 0:12:19           | 147.1 MB 471 kB/s eta 0:12:19    |█████████▌                      | 147.3 MB 471 kB/s eta 0:12:18               | 147.6 MB 146 kB/s eta 0:39:34              | 148.0 MB 146 kB/s eta 0:39:31[K     |█████████▋                      | 148.3 MB 146 kB/s eta 0:39:29             | 148.5 MB 146 kB/s eta 0:39:28K     |█████████▋                      | 148.7 MB 146 kB/s eta 0:39:26            | 148.9 MB 146 kB/s eta 0:39:25     |█████████▋                      | 149.2 MB 146 kB/s eta 0:39:23           | 149.4 MB 146 kB/s eta 0:39:22               | 149.6 MB 146 kB/s eta 0:39:20              | 150.1 MB 146 kB/s eta 0:39:17[K     |█████████▊                      | 150.3 MB 146 kB/s eta 0:39:16             | 150.5 MB 146 kB/s eta 0:39:14K     |█████████▊                      | 150.7 MB 146 kB/s eta 0:39:13            | 150.9 MB 146 kB/s eta 0:39:11     |█████████▊                      | 151.2 MB 146 kB/s eta 0:39:10           | 151.4 MB 146 kB/s eta 0:39:08    |█████████▉                      | 151.6 MB 146 kB/s eta 0:39:07          | 151.8 MB 3.3 MB/s eta 0:01:46   |█████████▉                      | 152.0 MB 3.3 MB/s eta 0:01:463 MB 20 kB/s eta 4:42:29                  | 152.5 MB 20 kB/s eta 4:42:18��█████▉                      | 152.7 MB 20 kB/s eta 4:42:071:57153.2 MB 20 kB/s eta 4:41:45                      | 153.4 MB 20 kB/s eta 4:41:34████████                      | 153.6 MB 20 kB/s eta 4:41:23 4:41:13  | 154.1 MB 20 kB/s eta 4:41:014 MB 20 kB/s eta 4:40:46                  | 154.6 MB 20 kB/s eta 4:40:35              | 155.0 MB 5.1 MB/s eta 0:01:07[K     |██████████                      | 155.3 MB 5.1 MB/s eta 0:01:07             | 155.5 MB 5.1 MB/s eta 0:01:07K     |██████████                      | 155.7 MB 5.1 MB/s eta 0:01:07            | 155.9 MB 5.1 MB/s eta 0:01:07     |██████████                      | 156.1 MB 5.1 MB/s eta 0:01:07           | 156.4 MB 5.1 MB/s eta 0:01:07    |██████████                      | 156.6 MB 5.1 MB/s eta 0:01:07�█████████▏                     | 156.8 MB 5.1 MB/s eta 0:01:07    |██████████▏                     | 157.1 MB 5.1 MB/s eta 0:01:07██████████▏                     | 157.3 MB 5.1 MB/s eta 0:01:07�████████▏                     | 157.5 MB 5.1 MB/s eta 0:01:07��██████▏                     | 157.7 MB 5.1 MB/s eta 0:01:07█████▏                     | 158.0 MB 5.1 MB/s eta 0:01:07�███▏                     | 158.2 MB 5.1 MB/s eta 0:01:07��█▎                     | 158.4 MB 5.1 MB/s eta 0:01:07▎                     | 158.6 MB 5.1 MB/s eta 0:01:07                   | 158.8 MB 5.1 MB/s eta 0:01:07    |██████████▎                     | 159.1 MB 147 kB/s eta 0:38:06██████████▎                     | 159.3 MB 147 kB/s eta 0:38:04�████████▎                     | 159.6 MB 147 kB/s eta 0:38:03��██████▎                     | 159.8 MB 147 kB/s eta 0:38:01█████▎                     | 160.0 MB 147 kB/s eta 0:38:00�███▍                     | 160.2 MB 147 kB/s eta 0:37:59��█▍                     | 160.4 MB 147 kB/s eta 0:37:57▍                     | 160.6 MB 147 kB/s eta 0:37:56                   | 160.8 MB 147 kB/s eta 0:37:54    |██████████▍                     | 161.1 MB 147 kB/s eta 0:37:52██████████▍                     | 161.3 MB 147 kB/s eta 0:37:51�████████▍                     | 161.6 MB 147 kB/s eta 0:37:49��██████▌                     | 161.8 MB 147 kB/s eta 0:37:48█████▌                     | 162.0 MB 147 kB/s eta 0:37:46�███▌                     | 162.2 MB 147 kB/s eta 0:37:45��█▌                     | 162.4 MB 147 kB/s eta 0:37:44▌                     | 162.6 MB 147 kB/s eta 0:37:42                   | 162.8 MB 147 kB/s eta 0:37:41    |██████████▌                     | 163.1 MB 147 kB/s eta 0:37:34██████████▌                     | 163.3 MB 147 kB/s eta 0:37:32�████████▋                     | 163.6 MB 147 kB/s eta 0:37:31��██████▋                     | 163.8 MB 147 kB/s eta 0:37:29█████▋                     | 164.0 MB 147 kB/s eta 0:37:28�███▋                     | 164.2 MB 147 kB/s eta 0:37:27��█▋                     | 164.4 MB 147 kB/s eta 0:37:25▋                     | 164.6 MB 147 kB/s eta 0:37:24                   | 164.8 MB 147 kB/s eta 0:37:22    |██████████▋                     | 165.1 MB 147 kB/s eta 0:37:20██████████▊                     | 165.3 MB 147 kB/s eta 0:37:19�████████▊                     | 165.6 MB 147 kB/s eta 0:37:17��██████▊                     | 165.8 MB 147 kB/s eta 0:37:16█████▊                     | 166.0 MB 147 kB/s eta 0:37:14�███▊                     | 166.2 MB 147 kB/s eta 0:37:13��█▊                     | 166.4 MB 147 kB/s eta 0:37:12▊                     | 166.6 MB 147 kB/s eta 0:37:10                   | 166.8 MB 147 kB/s eta 0:37:09    |██████████▉                     | 167.1 MB 146 kB/s eta 0:37:19██████████▉                     | 167.3 MB 146 kB/s eta 0:37:18�████████▉                     | 167.5 MB 146 kB/s eta 0:37:16��██████▉                     | 167.8 MB 146 kB/s eta 0:37:15█████▉                     | 168.0 MB 146 kB/s eta 0:37:14�███▉                     | 168.2 MB 146 kB/s eta 0:37:12��█▉                     | 168.4 MB 146 kB/s eta 0:37:11▉                     | 168.6 MB 146 kB/s eta 0:37:09                   | 168.8 MB 146 kB/s eta 0:37:08    |███████████                     | 169.1 MB 146 kB/s eta 0:37:06███████████                     | 169.3 MB 146 kB/s eta 0:37:04�█████████                     | 169.5 MB 146 kB/s eta 0:37:03��███████                     | 169.8 MB 146 kB/s eta 0:37:01██████                     | 170.0 MB 146 kB/s eta 0:37:00�████                     | 170.2 MB 146 kB/s eta 0:36:58��██                     | 170.4 MB 146 kB/s eta 0:36:57█                     | 170.6 MB 146 kB/s eta 0:36:56                   | 170.8 MB 146 kB/s eta 0:36:54    |███████████                     | 171.1 MB 144 kB/s eta 0:37:22███████████                     | 171.3 MB 144 kB/s eta 0:37:20�█████████                     | 171.5 MB 144 kB/s eta 0:37:19��███████                     | 171.8 MB 144 kB/s eta 0:37:17██████                     | 172.0 MB 144 kB/s eta 0:37:16███████████▏                    | 172.2 MB 144 kB/s eta 0:37:142.4 MB 144 kB/s eta 0:37:13�███▏                    | 172.6 MB 144 kB/s eta 0:37:117:10      | 173.1 MB 144 kB/s eta 0:37:08��██████▏                    | 173.3 MB 144 kB/s eta 0:37:06/s eta 0:37:05                    | 173.7 MB 144 kB/s eta 0:37:03|███████████▎                    | 173.9 MB 144 kB/s eta 0:37:0274.2 MB 144 kB/s eta 0:37:01��███▎                    | 174.4 MB 144 kB/s eta 0:36:5936:58           | 174.8 MB 144 kB/s eta 0:36:56      | 175.1 MB 144 kB/s eta 0:37:02��██████▎                    | 175.3 MB 144 kB/s eta 0:37:00/s eta 0:36:59                    | 175.7 MB 144 kB/s eta 0:36:57|███████████▍                    | 175.9 MB 144 kB/s eta 0:36:5676.1 MB 144 kB/s eta 0:36:54��███▍                    | 176.4 MB 144 kB/s eta 0:36:5336:51           | 176.8 MB 144 kB/s eta 0:36:50      | 177.1 MB 144 kB/s eta 0:36:48��██████▌                    | 177.3 MB 144 kB/s eta 0:36:46/s eta 0:36:45                    | 177.7 MB 144 kB/s eta 0:36:43|███████████▌                    | 177.9 MB 144 kB/s eta 0:36:4278.1 MB 144 kB/s eta 0:36:40��███▌                    | 178.4 MB 144 kB/s eta 0:36:39"
     ]
    },
    {
     "name": "stdout",
     "output_type": "stream",
     "text": [
      "\u001b[K     |██████████████▍                 | 223.6 MB 144 kB/s eta 0:31:24      | 179.1 MB 145 kB/s eta 0:36:13��██████▋                    | 179.3 MB 145 kB/s eta 0:36:12/s eta 0:36:10                    | 179.7 MB 145 kB/s eta 0:36:09|███████████▋                    | 179.9 MB 145 kB/s eta 0:36:0780.1 MB 145 kB/s eta 0:36:06��███▋                    | 180.4 MB 145 kB/s eta 0:36:0436:03           | 180.8 MB 145 kB/s eta 0:36:01      | 181.1 MB 145 kB/s eta 0:35:59��██████▊                    | 181.3 MB 145 kB/s eta 0:35:58/s eta 0:35:56                    | 181.7 MB 145 kB/s eta 0:35:55|███████████▊                    | 181.9 MB 145 kB/s eta 0:35:5482.1 MB 145 kB/s eta 0:35:52��███▊                    | 182.4 MB 145 kB/s eta 0:35:5135:49           | 182.8 MB 145 kB/s eta 0:35:48      | 183.1 MB 145 kB/s eta 0:35:48��██████▉                    | 183.3 MB 145 kB/s eta 0:35:46/s eta 0:35:45                    | 183.7 MB 145 kB/s eta 0:35:43|███████████▉                    | 183.9 MB 145 kB/s eta 0:35:4284.1 MB 145 kB/s eta 0:35:40��████                    | 184.4 MB 145 kB/s eta 0:35:3935:38           | 184.8 MB 145 kB/s eta 0:35:36      | 185.1 MB 145 kB/s eta 0:35:34��███████                    | 185.3 MB 145 kB/s eta 0:35:33/s eta 0:35:31                    | 185.7 MB 145 kB/s eta 0:35:30|████████████                    | 185.9 MB 145 kB/s eta 0:35:2886.1 MB 145 kB/s eta 0:35:27��████                    | 186.3 MB 145 kB/s eta 0:35:2535:24           | 186.8 MB 145 kB/s eta 0:35:22      | 187.1 MB 135 kB/s eta 0:37:51��███████                    | 187.3 MB 135 kB/s eta 0:37:49/s eta 0:37:48�█████████▏                   | 187.7 MB 135 kB/s eta 0:37:46��██▏                   | 187.9 MB 135 kB/s eta 0:37:45          | 188.1 MB 135 kB/s eta 0:37:43 135 kB/s eta 0:37:420█████████▏                   | 188.7 MB 135 kB/s eta 0:37:39��████████▏                   | 189.1 MB 135 kB/s eta 0:37:36██▏                   | 189.3 MB 135 kB/s eta 0:37:35        | 189.5 MB 135 kB/s eta 0:37:3335 kB/s eta 0:37:32�████████▎                   | 190.1 MB 135 kB/s eta 0:37:29��█▎                   | 190.3 MB 135 kB/s eta 0:37:27       | 190.5 MB 135 kB/s eta 0:37:265 kB/s eta 0:37:24��████████▍                   | 191.1 MB 142 kB/s eta 0:35:33██▍                   | 191.3 MB 142 kB/s eta 0:35:32        | 191.5 MB 142 kB/s eta 0:35:3042 kB/s eta 0:35:29�████████▍                   | 192.1 MB 142 kB/s eta 0:35:26��█▍                   | 192.3 MB 142 kB/s eta 0:35:25       | 192.5 MB 142 kB/s eta 0:35:232 kB/s eta 0:35:22��████████▌                   | 193.1 MB 142 kB/s eta 0:35:19██▌                   | 193.3 MB 142 kB/s eta 0:35:18        | 193.5 MB 142 kB/s eta 0:35:1642 kB/s eta 0:35:15�████████▌                   | 194.1 MB 142 kB/s eta 0:35:12��█▌                   | 194.3 MB 142 kB/s eta 0:35:11       | 194.5 MB 142 kB/s eta 0:35:092 kB/s eta 0:35:08��████████▋                   | 195.1 MB 144 kB/s eta 0:34:47██▋                   | 195.3 MB 144 kB/s eta 0:34:45        | 195.5 MB 144 kB/s eta 0:34:4444 kB/s eta 0:34:43�████████▋                   | 196.1 MB 144 kB/s eta 0:34:40��█▊                   | 196.3 MB 144 kB/s eta 0:34:38       | 196.5 MB 144 kB/s eta 0:34:374 kB/s eta 0:34:35��████████▊                   | 197.1 MB 144 kB/s eta 0:34:33██▊                   | 197.3 MB 144 kB/s eta 0:34:32        | 197.5 MB 144 kB/s eta 0:34:3044 kB/s eta 0:34:29�████████▉                   | 198.1 MB 144 kB/s eta 0:34:26��█▉                   | 198.3 MB 144 kB/s eta 0:34:24       | 198.5 MB 144 kB/s eta 0:34:234 kB/s eta 0:34:22��████████▉                   | 199.1 MB 144 kB/s eta 0:34:12██▉                   | 199.3 MB 144 kB/s eta 0:34:11        | 199.5 MB 144 kB/s eta 0:34:1044 kB/s eta 0:34:08�█████████                   | 200.1 MB 144 kB/s eta 0:34:05��██                   | 200.3 MB 144 kB/s eta 0:34:04       | 200.5 MB 144 kB/s eta 0:34:024 kB/s eta 0:34:01��█████████                   | 201.1 MB 144 kB/s eta 0:33:59███                   | 201.3 MB 144 kB/s eta 0:33:57        | 201.5 MB 144 kB/s eta 0:33:5644 kB/s eta 0:33:54�█████████                   | 202.1 MB 144 kB/s eta 0:33:51��██                   | 202.3 MB 144 kB/s eta 0:33:50       | 202.5 MB 144 kB/s eta 0:33:494 kB/s eta 0:33:47�██████████▏                  | 203.1 MB 144 kB/s eta 0:33:4543B 144 kB/s eta 0:33:42           | 203.7 MB 144 kB/s eta 0:33:41�███▏                  | 203.9 MB 144 kB/s eta 0:33:39██████████▏                  | 204.1 MB 144 kB/s eta 0:33:386 144 kB/s eta 0:33:35          | 204.7 MB 144 kB/s eta 0:33:34144 kB/s eta 0:33:31         | 205.2 MB 144 kB/s eta 0:33:30��██▎                  | 205.4 MB 144 kB/s eta 0:33:28�█████████▎                  | 205.6 MB 144 kB/s eta 0:33:2744 kB/s eta 0:33:24        | 206.3 MB 144 kB/s eta 0:33:23�██▎                  | 206.5 MB 144 kB/s eta 0:33:21█████████▍                  | 206.7 MB 144 kB/s eta 0:33:20145 kB/s eta 0:33:01         | 207.2 MB 145 kB/s eta 0:32:59��██▍                  | 207.4 MB 145 kB/s eta 0:32:58�█████████▍                  | 207.6 MB 145 kB/s eta 0:32:5645 kB/s eta 0:32:54        | 208.3 MB 145 kB/s eta 0:32:52�██▌                  | 208.5 MB 145 kB/s eta 0:32:51█████████▌                  | 208.7 MB 145 kB/s eta 0:32:49145 kB/s eta 0:32:47         | 209.2 MB 145 kB/s eta 0:32:45��██▌                  | 209.4 MB 145 kB/s eta 0:32:44�█████████▌                  | 209.6 MB 145 kB/s eta 0:32:4345 kB/s eta 0:32:40        | 210.2 MB 145 kB/s eta 0:32:39�██▋                  | 210.5 MB 145 kB/s eta 0:32:37█████████▋                  | 210.7 MB 145 kB/s eta 0:32:36142 kB/s eta 0:33:23         | 211.2 MB 142 kB/s eta 0:33:21��██▋                  | 211.4 MB 142 kB/s eta 0:33:20�█████████▋                  | 211.6 MB 142 kB/s eta 0:33:1842 kB/s eta 0:33:16        | 212.2 MB 142 kB/s eta 0:33:14�██▊                  | 212.4 MB 142 kB/s eta 0:33:13█████████▊                  | 212.7 MB 142 kB/s eta 0:33:11     |█████████████▊                  | 212.8 MB 142 kB/s eta 0:33:10kB/s eta 0:33:09     | 213.2 MB 142 kB/s eta 0:33:07�█▉                  | 213.4 MB 142 kB/s eta 0:33:06████████▉                  | 213.6 MB 142 kB/s eta 0:33:04    |█████████████▉                  | 213.8 MB 142 kB/s eta 0:33:03B/s eta 0:33:01    | 214.2 MB 142 kB/s eta 0:33:00█▉                  | 214.4 MB 142 kB/s eta 0:32:59��███████▉                  | 214.7 MB 142 kB/s eta 0:32:57144 kB/s eta 0:32:25         | 215.2 MB 144 kB/s eta 0:32:23��███                  | 215.4 MB 144 kB/s eta 0:32:22�██████████                  | 215.6 MB 144 kB/s eta 0:32:2144 kB/s eta 0:32:18        | 216.2 MB 144 kB/s eta 0:32:16�███                  | 216.4 MB 144 kB/s eta 0:32:15██████████                  | 216.6 MB 144 kB/s eta 0:32:14144 kB/s eta 0:32:11         | 217.2 MB 144 kB/s eta 0:32:10��███                  | 217.4 MB 144 kB/s eta 0:32:08�██████████                  | 217.6 MB 144 kB/s eta 0:32:0744 kB/s eta 0:32:04        | 218.2 MB 144 kB/s eta 0:32:03�███                  | 218.4 MB 144 kB/s eta 0:32:01[K     |██████████████▏                 | 218.6 MB 144 kB/s eta 0:32:00     |██████████████▏                 | 218.8 MB 144 kB/s eta 0:31:59��█▏                 | 219.0 MB 140 kB/s eta 0:32:50s eta 0:32:49�███████▏                 | 219.4 MB 140 kB/s eta 0:32:47 219.6 MB 140 kB/s eta 0:32:46█████████████▏                 | 219.8 MB 140 kB/s eta 0:32:44                | 220.0 MB 140 kB/s eta 0:32:432:42�████▎                 | 220.4 MB 140 kB/s eta 0:32:40 140 kB/s eta 0:32:39██████████▎                 | 220.8 MB 140 kB/s eta 0:32:37       | 221.0 MB 140 kB/s eta 0:32:36    |██████████████▎                 | 221.2 MB 140 kB/s eta 0:32:34�█▎                 | 221.4 MB 140 kB/s eta 0:32:33 eta 0:32:32███████▎                 | 221.8 MB 140 kB/s eta 0:32:30222.0 MB 140 kB/s eta 0:32:29��████████████▍                 | 222.2 MB 140 kB/s eta 0:32:27               | 222.4 MB 140 kB/s eta 0:32:26     |██████████████▍                 | 222.4 MB 140 kB/s eta 0:32:26��█▍                 | 222.6 MB 144 kB/s eta 0:31:30s eta 0:31:29�███████▍                 | 223.0 MB 144 kB/s eta 0:31:28 223.2 MB 144 kB/s eta 0:31:26█████████████▍                 | 223.4 MB 144 kB/s eta 0:31:25"
     ]
    },
    {
     "name": "stdout",
     "output_type": "stream",
     "text": [
      "\u001b[K     |████████████████▌               | 256.0 MB 157 kB/s eta 0:25:22�████▌                 | 224.0 MB 144 kB/s eta 0:31:21 144 kB/s eta 0:31:19██████████▌                 | 224.4 MB 144 kB/s eta 0:31:18       | 224.6 MB 144 kB/s eta 0:31:17    |██████████████▌                 | 224.8 MB 144 kB/s eta 0:31:15�█▌                 | 225.0 MB 144 kB/s eta 0:31:14 eta 0:31:13███████▌                 | 225.4 MB 144 kB/s eta 0:31:11225.6 MB 144 kB/s eta 0:31:10��████████████▋                 | 225.8 MB 144 kB/s eta 0:31:08               | 226.0 MB 144 kB/s eta 0:31:07     |██████████████▋                 | 226.0 MB 144 kB/s eta 0:31:07��█▋                 | 226.2 MB 141 kB/s eta 0:31:45s eta 0:31:44�███████▋                 | 226.6 MB 141 kB/s eta 0:31:42 226.8 MB 141 kB/s eta 0:31:41█████████████▋                 | 227.0 MB 141 kB/s eta 0:31:39                | 227.2 MB 141 kB/s eta 0:31:381:37�████▊                 | 227.6 MB 141 kB/s eta 0:31:35 141 kB/s eta 0:31:34██████████▊                 | 228.0 MB 141 kB/s eta 0:31:32       | 228.2 MB 141 kB/s eta 0:31:31    |██████████████▊                 | 228.4 MB 141 kB/s eta 0:31:29�█▊                 | 228.6 MB 141 kB/s eta 0:31:28 eta 0:31:27███████▉                 | 229.0 MB 141 kB/s eta 0:31:25229.2 MB 141 kB/s eta 0:31:24��████████████▉                 | 229.4 MB 141 kB/s eta 0:31:22               | 229.6 MB 141 kB/s eta 0:31:21     |██████████████▉                 | 229.6 MB 141 kB/s eta 0:31:21��█▉                 | 229.8 MB 143 kB/s eta 0:30:47s eta 0:30:45�███████▉                 | 230.2 MB 143 kB/s eta 0:30:44 230.4 MB 143 kB/s eta 0:30:43█████████████▉                 | 230.6 MB 143 kB/s eta 0:30:41                | 230.8 MB 143 kB/s eta 0:30:400:39�█████                 | 231.2 MB 143 kB/s eta 0:30:37 143 kB/s eta 0:30:36███████████                 | 231.6 MB 143 kB/s eta 0:30:34       | 231.8 MB 143 kB/s eta 0:30:33    |███████████████                 | 232.0 MB 143 kB/s eta 0:30:32�██                 | 232.2 MB 143 kB/s eta 0:30:30 eta 0:30:29████████                 | 232.6 MB 143 kB/s eta 0:30:27232.7 MB 143 kB/s eta 0:30:26��█████████████                 | 232.9 MB 143 kB/s eta 0:30:25               | 233.1 MB 143 kB/s eta 0:30:23     |███████████████                 | 233.2 MB 143 kB/s eta 0:30:23��██                 | 233.4 MB 130 kB/s eta 0:33:25s eta 0:33:23�████████                 | 233.8 MB 130 kB/s eta 0:33:22 234.0 MB 130 kB/s eta 0:33:20s eta 0:33:19 0:33:17:16[K     |███████████████▏                | 234.7 MB 130 kB/s eta 0:33:14    |███████████████▏                | 235.1 MB 130 kB/s eta 0:33:12███████████████▏                | 235.3 MB 130 kB/s eta 0:33:10�█████████████▏                | 235.4 MB 130 kB/s eta 0:33:09��███████████▏                | 235.6 MB 130 kB/s eta 0:33:07██████████▎                | 235.8 MB 130 kB/s eta 0:33:06�████████▎                | 236.0 MB 130 kB/s eta 0:33:04��██████▎                | 236.2 MB 130 kB/s eta 0:33:03█████▎                | 236.4 MB 130 kB/s eta 0:33:01    |███████████████▎                | 236.7 MB 157 kB/s eta 0:27:21███████████████▎                | 236.9 MB 157 kB/s eta 0:27:20�█████████████▎                | 237.1 MB 157 kB/s eta 0:27:19��███████████▎                | 237.3 MB 157 kB/s eta 0:27:18██████████▍                | 237.5 MB 157 kB/s eta 0:27:17�████████▍                | 237.7 MB 157 kB/s eta 0:27:15��██████▍                | 237.9 MB 157 kB/s eta 0:27:14█████▍                | 238.1 MB 157 kB/s eta 0:27:13    |███████████████▍                | 238.3 MB 157 kB/s eta 0:27:11███████████████▍                | 238.5 MB 157 kB/s eta 0:27:10�█████████████▍                | 238.7 MB 157 kB/s eta 0:27:09��███████████▍                | 238.9 MB 157 kB/s eta 0:27:07██████████▍                | 239.1 MB 157 kB/s eta 0:27:06�████████▌                | 239.3 MB 157 kB/s eta 0:27:05��██████▌                | 239.5 MB 157 kB/s eta 0:27:04█████▌                | 239.7 MB 157 kB/s eta 0:27:02    |███████████████▌                | 240.0 MB 156 kB/s eta 0:27:10███████████████▌                | 240.2 MB 156 kB/s eta 0:27:09�█████████████▌                | 240.4 MB 156 kB/s eta 0:27:07��███████████▌                | 240.6 MB 156 kB/s eta 0:27:06██████████▌                | 240.8 MB 156 kB/s eta 0:27:05�████████▋                | 240.9 MB 156 kB/s eta 0:27:04��██████▋                | 241.1 MB 156 kB/s eta 0:27:02█████▋                | 241.3 MB 156 kB/s eta 0:27:01    |███████████████▋                | 241.6 MB 156 kB/s eta 0:26:59███████████████▋                | 241.8 MB 156 kB/s eta 0:26:58�█████████████▋                | 242.0 MB 156 kB/s eta 0:26:57��███████████▋                | 242.2 MB 156 kB/s eta 0:26:56██████████▋                | 242.4 MB 156 kB/s eta 0:26:54�████████▋                | 242.6 MB 156 kB/s eta 0:26:53��██████▊                | 242.8 MB 156 kB/s eta 0:26:52█████▊                | 243.0 MB 156 kB/s eta 0:26:51    |███████████████▊                | 243.3 MB 156 kB/s eta 0:26:52███████████████▊                | 243.4 MB 156 kB/s eta 0:26:50�█████████████▊                | 243.6 MB 156 kB/s eta 0:26:49��███████████▊                | 243.8 MB 156 kB/s eta 0:26:48██████████▊                | 244.0 MB 156 kB/s eta 0:26:47�████████▊                | 244.2 MB 156 kB/s eta 0:26:46��██████▉                | 244.4 MB 156 kB/s eta 0:26:44█████▉                | 244.6 MB 156 kB/s eta 0:26:43    |███████████████▉                | 244.9 MB 156 kB/s eta 0:26:41███████████████▉                | 245.1 MB 156 kB/s eta 0:26:40�█████████████▉                | 245.3 MB 156 kB/s eta 0:26:39��███████████▉                | 245.5 MB 156 kB/s eta 0:26:38██████████▉                | 245.7 MB 156 kB/s eta 0:26:36�████████▉                | 245.9 MB 156 kB/s eta 0:26:35��██████▉                | 246.1 MB 156 kB/s eta 0:26:34██████                | 246.3 MB 156 kB/s eta 0:26:33    |████████████████                | 246.5 MB 143 kB/s eta 0:28:55████████████████                | 246.7 MB 143 kB/s eta 0:28:54�██████████████                | 246.9 MB 143 kB/s eta 0:28:53��████████████                | 247.1 MB 143 kB/s eta 0:28:51███████████                | 247.3 MB 143 kB/s eta 0:28:50�█████████                | 247.5 MB 143 kB/s eta 0:28:49��███████                | 247.7 MB 143 kB/s eta 0:28:47██████                | 247.9 MB 143 kB/s eta 0:28:46    |████████████████                | 248.2 MB 143 kB/s eta 0:28:44████████████████                | 248.4 MB 143 kB/s eta 0:28:43�██████████████                | 248.6 MB 143 kB/s eta 0:28:41��████████████                | 248.8 MB 143 kB/s eta 0:28:40███████████                | 248.9 MB 143 kB/s eta 0:28:39�█████████                | 249.1 MB 143 kB/s eta 0:28:37��███████                | 249.3 MB 143 kB/s eta 0:28:36�███████▏               | 249.5 MB 143 kB/s eta 0:28:34  | 249.8 MB 157 kB/s eta 0:26:03��█████▏               | 250.0 MB 157 kB/s eta 0:26:01 |████████████████▏               | 250.2 MB 157 kB/s eta 0:26:004 MB 157 kB/s eta 0:25:59███▏               | 250.6 MB 157 kB/s eta 0:25:58██████████████▏               | 250.8 MB 157 kB/s eta 0:25:57 kB/s eta 0:25:55�▏               | 251.1 MB 157 kB/s eta 0:25:54  | 251.5 MB 157 kB/s eta 0:25:52��█████▎               | 251.7 MB 157 kB/s eta 0:25:51 |████████████████▎               | 251.9 MB 157 kB/s eta 0:25:501 MB 157 kB/s eta 0:25:48███▎               | 252.3 MB 157 kB/s eta 0:25:47██████████████▎               | 252.4 MB 157 kB/s eta 0:25:46 kB/s eta 0:25:45�▎               | 252.8 MB 157 kB/s eta 0:25:44  | 253.2 MB 157 kB/s eta 0:25:39��█████▍               | 253.4 MB 157 kB/s eta 0:25:38 |████████████████▍               | 253.6 MB 157 kB/s eta 0:25:377 MB 157 kB/s eta 0:25:36███▍               | 253.9 MB 157 kB/s eta 0:25:34██████████████▍               | 254.1 MB 157 kB/s eta 0:25:33 kB/s eta 0:25:32�▍               | 254.5 MB 157 kB/s eta 0:25:31  | 254.8 MB 157 kB/s eta 0:25:29��█████▌               | 255.0 MB 157 kB/s eta 0:25:28 |████████████████▌               | 255.2 MB 157 kB/s eta 0:25:264 MB 157 kB/s eta 0:25:25███▌               | 255.6 MB 157 kB/s eta 0:25:24██████████████▌               | 255.8 MB 157 kB/s eta 0:25:23"
     ]
    },
    {
     "name": "stdout",
     "output_type": "stream",
     "text": [
      "\u001b[K     |██████████████████▊             | 289.5 MB 150 kB/s eta 0:22:470  | 256.5 MB 141 kB/s eta 0:28:13��█████▋               | 256.7 MB 141 kB/s eta 0:28:12 |████████████████▋               | 256.9 MB 141 kB/s eta 0:28:100 MB 141 kB/s eta 0:28:09███▋               | 257.2 MB 141 kB/s eta 0:28:07██████████████▋               | 257.4 MB 141 kB/s eta 0:28:06 kB/s eta 0:28:05�▋               | 257.8 MB 141 kB/s eta 0:28:03  | 258.1 MB 141 kB/s eta 0:28:01��█████▊               | 258.3 MB 141 kB/s eta 0:28:00 |████████████████▊               | 258.5 MB 141 kB/s eta 0:27:587 MB 141 kB/s eta 0:27:57███▊               | 258.9 MB 141 kB/s eta 0:27:56██████████████▊               | 259.1 MB 141 kB/s eta 0:27:54 kB/s eta 0:27:53�▊               | 259.5 MB 141 kB/s eta 0:27:52  | 259.8 MB 153 kB/s eta 0:25:41��█████▉               | 260.0 MB 153 kB/s eta 0:25:40 |████████████████▉               | 260.2 MB 153 kB/s eta 0:25:394 MB 153 kB/s eta 0:25:38███▉               | 260.6 MB 153 kB/s eta 0:25:36██████████████▉               | 260.8 MB 153 kB/s eta 0:25:35 kB/s eta 0:25:34�▉               | 261.1 MB 153 kB/s eta 0:25:33  | 261.4 MB 153 kB/s eta 0:25:31��██████               | 261.6 MB 153 kB/s eta 0:25:29 |█████████████████               | 261.8 MB 153 kB/s eta 0:25:280 MB 153 kB/s eta 0:25:27████               | 262.2 MB 153 kB/s eta 0:25:26███████████████               | 262.4 MB 153 kB/s eta 0:25:24 kB/s eta 0:25:23�█               | 262.8 MB 153 kB/s eta 0:25:22  | 263.1 MB 150 kB/s eta 0:25:41��██████               | 263.3 MB 150 kB/s eta 0:25:40 |█████████████████               | 263.5 MB 150 kB/s eta 0:25:386 MB 150 kB/s eta 0:25:37████               | 263.8 MB 150 kB/s eta 0:25:36███████████████               | 264.0 MB 150 kB/s eta 0:25:35 kB/s eta 0:25:33�█               | 264.4 MB 150 kB/s eta 0:25:32  | 264.7 MB 150 kB/s eta 0:25:30��██████               | 264.9 MB 150 kB/s eta 0:25:29 eta 0:25:28��███████████▏              | 265.3 MB 150 kB/s eta 0:25:26              | 265.5 MB 150 kB/s eta 0:25:250:25:24██████████▏              | 265.9 MB 150 kB/s eta 0:25:23         | 266.0 MB 150 kB/s eta 0:25:21��███████▏              | 266.4 MB 153 kB/s eta 0:24:54  | 266.6 MB 153 kB/s eta 0:24:53    |█████████████████▎              | 266.8 MB 153 kB/s eta 0:24:51██████▎              | 267.0 MB 153 kB/s eta 0:24:5067.1 MB 153 kB/s eta 0:24:49█████████████████▎              | 267.3 MB 153 kB/s eta 0:24:48�████▎              | 267.5 MB 153 kB/s eta 0:24:47MB 153 kB/s eta 0:24:45��███████▎              | 268.0 MB 153 kB/s eta 0:24:43  | 268.2 MB 153 kB/s eta 0:24:42    |█████████████████▎              | 268.4 MB 153 kB/s eta 0:24:41██████▍              | 268.6 MB 153 kB/s eta 0:24:4068.8 MB 153 kB/s eta 0:24:38█████████████████▍              | 269.0 MB 153 kB/s eta 0:24:37�████▍              | 269.1 MB 153 kB/s eta 0:24:36MB 153 kB/s eta 0:24:35��███████▍              | 269.7 MB 149 kB/s eta 0:25:07  | 269.9 MB 149 kB/s eta 0:25:06    |█████████████████▍              | 270.0 MB 149 kB/s eta 0:25:04██████▌              | 270.2 MB 149 kB/s eta 0:25:0370.4 MB 149 kB/s eta 0:25:02█████████████████▌              | 270.6 MB 149 kB/s eta 0:25:01�████▌              | 270.8 MB 149 kB/s eta 0:24:59MB 149 kB/s eta 0:24:58��███████▌              | 271.3 MB 149 kB/s eta 0:24:56  | 271.5 MB 149 kB/s eta 0:24:55    |█████████████████▌              | 271.7 MB 149 kB/s eta 0:24:53██████▌              | 271.9 MB 149 kB/s eta 0:24:5272.0 MB 149 kB/s eta 0:24:51█████████████████▋              | 272.2 MB 149 kB/s eta 0:24:50�████▋              | 272.4 MB 149 kB/s eta 0:24:48MB 149 kB/s eta 0:24:47��███████▋              | 272.9 MB 139 kB/s eta 0:26:40  | 273.1 MB 139 kB/s eta 0:26:38    |█████████████████▋              | 273.3 MB 139 kB/s eta 0:26:37██████▋              | 273.5 MB 139 kB/s eta 0:26:3673.7 MB 139 kB/s eta 0:26:34█████████████████▊              | 273.9 MB 139 kB/s eta 0:26:33�████▊              | 274.1 MB 139 kB/s eta 0:26:32MB 139 kB/s eta 0:26:30��███████▊              | 274.6 MB 139 kB/s eta 0:26:28  | 274.8 MB 139 kB/s eta 0:26:27    |█████████████████▊              | 275.0 MB 139 kB/s eta 0:26:25██████▊              | 275.1 MB 139 kB/s eta 0:26:2475.3 MB 139 kB/s eta 0:26:23█████████████████▉              | 275.5 MB 139 kB/s eta 0:26:21�████▉              | 275.7 MB 139 kB/s eta 0:26:20MB 139 kB/s eta 0:26:19��███████▉              | 276.2 MB 151 kB/s eta 0:24:09  | 276.4 MB 151 kB/s eta 0:24:08    |█████████████████▉              | 276.6 MB 151 kB/s eta 0:24:07██████▉              | 276.8 MB 151 kB/s eta 0:24:0577.0 MB 151 kB/s eta 0:24:04██████████████████              | 277.2 MB 151 kB/s eta 0:24:03�█████              | 277.4 MB 151 kB/s eta 0:24:02MB 151 kB/s eta 0:24:00��████████              | 277.9 MB 151 kB/s eta 0:23:58  | 278.0 MB 151 kB/s eta 0:23:57    |██████████████████              | 278.2 MB 151 kB/s eta 0:23:56███████              | 278.4 MB 151 kB/s eta 0:23:5578.6 MB 151 kB/s eta 0:23:53██████████████████              | 278.8 MB 151 kB/s eta 0:23:52�█████              | 279.0 MB 151 kB/s eta 0:23:51MB 151 kB/s eta 0:23:50��████████              | 279.5 MB 151 kB/s eta 0:23:47  | 279.7 MB 151 kB/s eta 0:23:46    |██████████████████              | 279.9 MB 151 kB/s eta 0:23:44███████              | 280.1 MB 151 kB/s eta 0:23:4380.2 MB 151 kB/s eta 0:23:42██████████████████              | 280.4 MB 151 kB/s eta 0:23:41██████████████▏             | 280.6 MB 151 kB/s eta 0:23:40�█████████████▏             | 280.8 MB 151 kB/s eta 0:23:38[K     |██████████████████▏             | 281.1 MB 151 kB/s eta 0:23:36     |██████████████████▏             | 281.3 MB 151 kB/s eta 0:23:35   |██████████████████▏             | 281.5 MB 151 kB/s eta 0:23:34 |██████████████████▏             | 281.7 MB 151 kB/s eta 0:23:32██████████████████▏             | 281.9 MB 151 kB/s eta 0:23:31�█████████████████▏             | 282.1 MB 151 kB/s eta 0:23:30��████████████████▎             | 282.2 MB 151 kB/s eta 0:23:29████████████████▎             | 282.4 MB 151 kB/s eta 0:23:28[K     |██████████████████▎             | 282.8 MB 150 kB/s eta 0:23:39     |██████████████████▎             | 283.0 MB 150 kB/s eta 0:23:38   |██████████████████▎             | 283.1 MB 150 kB/s eta 0:23:37 |██████████████████▎             | 283.3 MB 150 kB/s eta 0:23:35██████████████████▎             | 283.5 MB 150 kB/s eta 0:23:34�█████████████████▎             | 283.7 MB 150 kB/s eta 0:23:33��████████████████▎             | 283.9 MB 150 kB/s eta 0:23:32████████████████▍             | 284.1 MB 150 kB/s eta 0:23:30[K     |██████████████████▍             | 284.4 MB 150 kB/s eta 0:23:28     |██████████████████▍             | 284.6 MB 150 kB/s eta 0:23:27   |██████████████████▍             | 284.8 MB 150 kB/s eta 0:23:26 |██████████████████▍             | 285.0 MB 150 kB/s eta 0:23:24██████████████████▍             | 285.1 MB 150 kB/s eta 0:23:23�█████████████████▍             | 285.3 MB 150 kB/s eta 0:23:22��████████████████▍             | 285.5 MB 150 kB/s eta 0:23:21████████████████▌             | 285.7 MB 150 kB/s eta 0:23:19[K     |██████████████████▌             | 286.1 MB 138 kB/s eta 0:25:15     |██████████████████▌             | 286.2 MB 138 kB/s eta 0:25:14   |██████████████████▌             | 286.4 MB 138 kB/s eta 0:25:13 |██████████████████▌             | 286.6 MB 138 kB/s eta 0:25:11██████████████████▌             | 286.8 MB 138 kB/s eta 0:25:10�█████████████████▌             | 287.0 MB 138 kB/s eta 0:25:09��████████████████▌             | 287.2 MB 138 kB/s eta 0:25:07████████████████▌             | 287.3 MB 138 kB/s eta 0:25:06[K     |██████████████████▋             | 287.7 MB 138 kB/s eta 0:25:03     |██████████████████▋             | 287.9 MB 138 kB/s eta 0:25:02   |██████████████████▋             | 288.1 MB 138 kB/s eta 0:25:01 |██████████████████▋             | 288.2 MB 138 kB/s eta 0:24:59██████████████████▋             | 288.4 MB 138 kB/s eta 0:24:58�█████████████████▋             | 288.6 MB 138 kB/s eta 0:24:57��████████████████▋             | 288.8 MB 138 kB/s eta 0:24:55████████████████▋             | 289.0 MB 138 kB/s eta 0:24:54[K     |██████████████████▊             | 289.3 MB 150 kB/s eta 0:22:48"
     ]
    },
    {
     "name": "stdout",
     "output_type": "stream",
     "text": [
      "\u001b[K     |█�██████████████████▉           | 323.3 MB 136 kB/s eta 0:21:00 |██████████████████▊             | 289.9 MB 150 kB/s eta 0:22:45██████████████████▊             | 290.1 MB 150 kB/s eta 0:22:43�█████████████████▊             | 290.2 MB 150 kB/s eta 0:22:42��████████████████▊             | 290.4 MB 150 kB/s eta 0:22:41████████████████▊             | 290.6 MB 150 kB/s eta 0:22:40[K     |██████████████████▉             | 291.0 MB 150 kB/s eta 0:22:38     |██████████████████▉             | 291.1 MB 150 kB/s eta 0:22:36   |██████████████████▉             | 291.3 MB 150 kB/s eta 0:22:35 |██████████████████▉             | 291.5 MB 150 kB/s eta 0:22:34██████████████████▉             | 291.7 MB 150 kB/s eta 0:22:33�█████████████████▉             | 291.9 MB 150 kB/s eta 0:22:31��████████████████▉             | 292.1 MB 150 kB/s eta 0:22:30████████████████▉             | 292.2 MB 150 kB/s eta 0:22:29[K     |███████████████████             | 292.6 MB 153 kB/s eta 0:22:06     |███████████████████             | 292.8 MB 153 kB/s eta 0:22:05   |███████████████████             | 293.0 MB 153 kB/s eta 0:22:04 |███████████████████             | 293.2 MB 153 kB/s eta 0:22:03███████████████████             | 293.3 MB 153 kB/s eta 0:22:02�██████████████████             | 293.5 MB 153 kB/s eta 0:22:00��█████████████████             | 293.7 MB 153 kB/s eta 0:21:59█████████████████             | 293.9 MB 153 kB/s eta 0:21:58[K     |███████████████████             | 294.2 MB 153 kB/s eta 0:21:56     |███████████████████             | 294.4 MB 153 kB/s eta 0:21:55   |███████████████████             | 294.6 MB 153 kB/s eta 0:21:53 |███████████████████             | 294.8 MB 153 kB/s eta 0:21:52███████████████████             | 295.0 MB 153 kB/s eta 0:21:51�██████████████████             | 295.2 MB 153 kB/s eta 0:21:50��█████████████████             | 295.3 MB 153 kB/s eta 0:21:49█████████████████             | 295.5 MB 153 kB/s eta 0:21:47[K     |███████████████████             | 295.9 MB 151 kB/s eta 0:21:58 eta 0:21:57▏            | 296.2 MB 151 kB/s eta 0:21:56�███████████▏            | 296.4 MB 151 kB/s eta 0:21:554    | 296.8 MB 151 kB/s eta 0:21:52��███████▏            | 297.0 MB 151 kB/s eta 0:21:51███████████████████▏            | 297.1 MB 151 kB/s eta 0:21:50 MB 151 kB/s eta 0:21:49████▏            | 297.5 MB 151 kB/s eta 0:21:48�███████████████▏            | 297.7 MB 151 kB/s eta 0:21:46s eta 0:21:45�▎            | 298.0 MB 151 kB/s eta 0:21:44��███████████▎            | 298.2 MB 151 kB/s eta 0:21:4342     | 298.6 MB 151 kB/s eta 0:21:40████████▎            | 298.8 MB 151 kB/s eta 0:21:39|███████████████████▎            | 299.0 MB 151 kB/s eta 0:21:381 MB 138 kB/s eta 0:23:34�████▎            | 299.3 MB 138 kB/s eta 0:23:33��███████████████▍            | 299.5 MB 138 kB/s eta 0:23:31/s eta 0:23:30��▍            | 299.9 MB 138 kB/s eta 0:23:29████████████▍            | 300.0 MB 138 kB/s eta 0:23:28:26      | 300.4 MB 138 kB/s eta 0:23:25�████████▍            | 300.6 MB 138 kB/s eta 0:23:24   | 300.8 MB 138 kB/s eta 0:23:22�███████▍            | 301.0 MB 138 kB/s eta 0:23:21��██████████████████▌            | 301.1 MB 138 kB/s eta 0:23:20MB 138 kB/s eta 0:23:18��███▌            | 301.5 MB 138 kB/s eta 0:23:17███████████████▌            | 301.7 MB 138 kB/s eta 0:23:16 eta 0:23:14▌            | 302.0 MB 138 kB/s eta 0:23:13�███████████▌            | 302.2 MB 138 kB/s eta 0:23:123    | 302.6 MB 139 kB/s eta 0:23:02��███████▌            | 302.8 MB 139 kB/s eta 0:23:01███████████████████▋            | 303.0 MB 139 kB/s eta 0:22:59 MB 139 kB/s eta 0:22:58████▋            | 303.3 MB 139 kB/s eta 0:22:57�███████████████▋            | 303.5 MB 139 kB/s eta 0:22:55s eta 0:22:54�▋            | 303.9 MB 139 kB/s eta 0:22:53   | 304.1 MB 139 kB/s eta 0:22:51�███████▋            | 304.2 MB 139 kB/s eta 0:22:50��██████████████████▋            | 304.4 MB 139 kB/s eta 0:22:49MB 139 kB/s eta 0:22:48��███▊            | 304.8 MB 139 kB/s eta 0:22:46███████████████▊            | 305.0 MB 139 kB/s eta 0:22:45 eta 0:22:44▊            | 305.3 MB 139 kB/s eta 0:22:42�███████████▊            | 305.5 MB 139 kB/s eta 0:22:415    | 305.9 MB 153 kB/s eta 0:20:34��███████▊            | 306.1 MB 153 kB/s eta 0:20:33███████████████████▊            | 306.2 MB 153 kB/s eta 0:20:32 MB 153 kB/s eta 0:20:31████▉            | 306.6 MB 153 kB/s eta 0:20:29�███████████████▉            | 306.8 MB 153 kB/s eta 0:20:28s eta 0:20:27�▉            | 307.1 MB 153 kB/s eta 0:20:26   | 307.3 MB 153 kB/s eta 0:20:25�███████▉            | 307.5 MB 153 kB/s eta 0:20:24��██████████████████▉            | 307.7 MB 153 kB/s eta 0:20:22MB 153 kB/s eta 0:20:21��████            | 308.1 MB 153 kB/s eta 0:20:20████████████████            | 308.2 MB 153 kB/s eta 0:20:19 eta 0:20:18█            | 308.6 MB 153 kB/s eta 0:20:16�████████████            | 308.8 MB 153 kB/s eta 0:20:156    | 309.1 MB 136 kB/s eta 0:22:45��████████            | 309.3 MB 136 kB/s eta 0:22:44████████████████████            | 309.5 MB 136 kB/s eta 0:22:42 MB 136 kB/s eta 0:22:41█████            | 309.9 MB 136 kB/s eta 0:22:40�████████████████            | 310.1 MB 136 kB/s eta 0:22:38s eta 0:22:37�█            | 310.4 MB 136 kB/s eta 0:22:36   | 310.6 MB 136 kB/s eta 0:22:34�████████            | 310.8 MB 136 kB/s eta 0:22:33��███████████████████            | 311.0 MB 136 kB/s eta 0:22:31MB 136 kB/s eta 0:22:30��████            | 311.3 MB 136 kB/s eta 0:22:29████████████████████▏           | 311.5 MB 136 kB/s eta 0:22:27█████▏           | 311.7 MB 136 kB/s eta 0:22:26B/s eta 0:22:25�█████████████▏           | 312.1 MB 136 kB/s eta 0:22:24�████████▏           | 312.2 MB 135 kB/s eta 0:22:374 MB 135 kB/s eta 0:22:36��████████████████▏           | 312.6 MB 135 kB/s eta 0:22:34��█▏           | 312.8 MB 135 kB/s eta 0:22:3322:32██████████▏           | 313.1 MB 135 kB/s eta 0:22:30 313.3 MB 135 kB/s eta 0:22:29�██████████████████▎           | 313.5 MB 135 kB/s eta 0:22:28�███▎           | 313.7 MB 135 kB/s eta 0:22:26�████████▎           | 313.9 MB 135 kB/s eta 0:22:251 MB 135 kB/s eta 0:22:24��████████████████▎           | 314.2 MB 135 kB/s eta 0:22:22��█▎           | 314.4 MB 135 kB/s eta 0:22:2122:20██████████▎           | 314.8 MB 135 kB/s eta 0:22:18 315.0 MB 135 kB/s eta 0:22:17�██████████████████▍           | 315.1 MB 135 kB/s eta 0:22:16�███▍           | 315.3 MB 135 kB/s eta 0:22:14�████████▍           | 315.5 MB 135 kB/s eta 0:22:107 MB 135 kB/s eta 0:22:09��████████████████▍           | 315.9 MB 135 kB/s eta 0:22:08��█▍           | 316.1 MB 135 kB/s eta 0:22:0622:05██████████▍           | 316.4 MB 135 kB/s eta 0:22:04 316.6 MB 135 kB/s eta 0:22:02�██████████████████▌           | 316.8 MB 135 kB/s eta 0:22:01�███▌           | 316.9 MB 135 kB/s eta 0:22:00�████████▌           | 317.2 MB 135 kB/s eta 0:21:583 MB 135 kB/s eta 0:21:57��████████████████▌           | 317.5 MB 135 kB/s eta 0:21:55��█▌           | 317.7 MB 135 kB/s eta 0:21:5421:53██████████▌           | 318.1 MB 135 kB/s eta 0:21:52 318.2 MB 135 kB/s eta 0:21:50�██████████████████▋           | 318.4 MB 135 kB/s eta 0:21:49�███▋           | 318.6 MB 135 kB/s eta 0:21:48�████████▋           | 318.8 MB 120 kB/s eta 0:24:250 MB 120 kB/s eta 0:24:24��████████████████▋           | 319.2 MB 120 kB/s eta 0:24:22��█▋           | 319.3 MB 120 kB/s eta 0:24:2124:19██████████▋           | 319.7 MB 120 kB/s eta 0:24:18 319.9 MB 120 kB/s eta 0:24:16�██████████████████▋           | 320.1 MB 120 kB/s eta 0:24:15�███▊           | 320.2 MB 120 kB/s eta 0:24:13�████████▊           | 320.4 MB 120 kB/s eta 0:24:116 MB 120 kB/s eta 0:24:10��████████████████▊           | 320.8 MB 120 kB/s eta 0:24:08��█▊           | 321.0 MB 120 kB/s eta 0:24:0724:06██████████▊           | 321.3 MB 120 kB/s eta 0:24:04 321.5 MB 120 kB/s eta 0:24:03�██████████████████▊           | 321.7 MB 120 kB/s eta 0:24:01�███▉           | 321.9 MB 120 kB/s eta 0:24:00�████████▉           | 322.1 MB 136 kB/s eta 0:21:093 MB 136 kB/s eta 0:21:07��████████████████▉           | 322.4 MB 136 kB/s eta 0:21:06��█▉           | 322.6 MB 136 kB/s eta 0:21:0521:04██████████▉           | 323.0 MB 136 kB/s eta 0:21:02 323.1 MB 136 kB/s eta 0:21:01"
     ]
    },
    {
     "name": "stdout",
     "output_type": "stream",
     "text": [
      "\u001b[K     |███████████████████████         | 356.2 MB 135 kB/s eta 0:17:108�█████████           | 323.7 MB 136 kB/s eta 0:20:579 MB 136 kB/s eta 0:20:56��█████████████████           | 324.1 MB 136 kB/s eta 0:20:54��██           | 324.2 MB 136 kB/s eta 0:20:5320:52███████████           | 324.6 MB 136 kB/s eta 0:20:50 324.8 MB 136 kB/s eta 0:20:49�███████████████████           | 325.0 MB 136 kB/s eta 0:20:48�████           | 325.1 MB 136 kB/s eta 0:20:46�█████████           | 325.4 MB 137 kB/s eta 0:20:415 MB 137 kB/s eta 0:20:40��█████████████████           | 325.7 MB 137 kB/s eta 0:20:38��██           | 325.9 MB 137 kB/s eta 0:20:3720:36███████████           | 326.2 MB 137 kB/s eta 0:20:35 326.4 MB 137 kB/s eta 0:20:33�███████████████████           | 326.6 MB 137 kB/s eta 0:20:32�████           | 326.8 MB 137 kB/s eta 0:20:31��████████████▏          | 327.0 MB 137 kB/s eta 0:20:29█████████▏          | 327.2 MB 137 kB/s eta 0:20:28�█████▏          | 327.3 MB 137 kB/s eta 0:20:27��█▏          | 327.5 MB 137 kB/s eta 0:20:25       | 327.7 MB 137 kB/s eta 0:20:247.9 MB 137 kB/s eta 0:20:23kB/s eta 0:20:2120:20   |█████████████████████▏          | 328.4 MB 137 kB/s eta 0:20:19��████████████████████▏          | 328.6 MB 134 kB/s eta 0:20:40█████████████████▎          | 328.8 MB 134 kB/s eta 0:20:38�█████████████▎          | 329.0 MB 134 kB/s eta 0:20:37��█████████▎          | 329.2 MB 134 kB/s eta 0:20:36██████▎          | 329.3 MB 134 kB/s eta 0:20:35�██▎          | 329.5 MB 134 kB/s eta 0:20:33         | 329.7 MB 134 kB/s eta 0:20:32329.9 MB 134 kB/s eta 0:20:314 kB/s eta 0:20:29��████████████████████▎          | 330.2 MB 134 kB/s eta 0:20:28█████████████████▍          | 330.4 MB 134 kB/s eta 0:20:27�█████████████▍          | 330.6 MB 134 kB/s eta 0:20:25��█████████▍          | 330.8 MB 134 kB/s eta 0:20:24██████▍          | 330.9 MB 134 kB/s eta 0:20:23�██▍          | 331.1 MB 134 kB/s eta 0:20:21         | 331.3 MB 134 kB/s eta 0:20:20331.4 MB 134 kB/s eta 0:20:194 kB/s eta 0:20:17��████████████████████▍          | 331.8 MB 135 kB/s eta 0:20:05█████████████████▍          | 332.0 MB 135 kB/s eta 0:20:04�█████████████▌          | 332.2 MB 135 kB/s eta 0:20:03��█████████▌          | 332.3 MB 135 kB/s eta 0:20:02██████▌          | 332.5 MB 135 kB/s eta 0:20:00�██▌          | 332.7 MB 135 kB/s eta 0:19:59         | 332.9 MB 135 kB/s eta 0:19:58333.0 MB 135 kB/s eta 0:19:565 kB/s eta 0:19:55��████████████████████▌          | 333.4 MB 135 kB/s eta 0:19:54█████████████████▌          | 333.6 MB 135 kB/s eta 0:19:52�█████████████▌          | 333.8 MB 135 kB/s eta 0:19:51��█████████▋          | 333.9 MB 135 kB/s eta 0:19:50██████▋          | 334.1 MB 135 kB/s eta 0:19:49�██▋          | 334.3 MB 135 kB/s eta 0:19:47         | 334.5 MB 135 kB/s eta 0:19:46334.6 MB 135 kB/s eta 0:19:455 kB/s eta 0:19:43��████████████████████▋          | 335.0 MB 132 kB/s eta 0:20:17█████████████████▋          | 335.2 MB 132 kB/s eta 0:20:15�█████████████▋          | 335.4 MB 132 kB/s eta 0:20:14��█████████▋          | 335.5 MB 132 kB/s eta 0:20:13██████▊          | 335.7 MB 132 kB/s eta 0:20:11�██▊          | 335.9 MB 132 kB/s eta 0:20:10         | 336.1 MB 132 kB/s eta 0:20:09336.2 MB 132 kB/s eta 0:20:072 kB/s eta 0:20:06��████████████████████▊          | 336.6 MB 132 kB/s eta 0:20:05█████████████████▊          | 336.8 MB 132 kB/s eta 0:20:03�█████████████▊          | 337.0 MB 132 kB/s eta 0:20:02��█████████▊          | 337.1 MB 132 kB/s eta 0:20:01██████▉          | 337.3 MB 132 kB/s eta 0:19:59�██▉          | 337.5 MB 132 kB/s eta 0:19:58         | 337.7 MB 132 kB/s eta 0:19:57337.8 MB 132 kB/s eta 0:19:552 kB/s eta 0:19:54��████████████████████▉          | 338.2 MB 133 kB/s eta 0:19:42█████████████████▉          | 338.4 MB 133 kB/s eta 0:19:41�█████████████▉          | 338.6 MB 133 kB/s eta 0:19:39��█████████▉          | 338.7 MB 133 kB/s eta 0:19:38██████▉          | 338.9 MB 133 kB/s eta 0:19:37�███          | 339.1 MB 133 kB/s eta 0:19:35         | 339.3 MB 133 kB/s eta 0:19:34339.4 MB 133 kB/s eta 0:19:333 kB/s eta 0:19:31��█████████████████████          | 339.8 MB 133 kB/s eta 0:19:30██████████████████          | 340.0 MB 133 kB/s eta 0:19:29�██████████████          | 340.2 MB 133 kB/s eta 0:19:27��██████████          | 340.3 MB 133 kB/s eta 0:19:26███████          | 340.5 MB 133 kB/s eta 0:19:25�███          | 340.7 MB 133 kB/s eta 0:19:23         | 340.9 MB 133 kB/s eta 0:19:22341.0 MB 133 kB/s eta 0:19:213 kB/s eta 0:19:19��█████████████████████          | 341.4 MB 134 kB/s eta 0:19:07██████████████████          | 341.6 MB 134 kB/s eta 0:19:06�██████████████          | 341.8 MB 134 kB/s eta 0:19:05��██████████          | 341.9 MB 134 kB/s eta 0:19:04███████          | 342.1 MB 134 kB/s eta 0:19:02�███          | 342.3 MB 134 kB/s eta 0:19:01█▏         | 342.5 MB 134 kB/s eta 0:19:00��████████▏         | 342.6 MB 134 kB/s eta 0:18:58�████████████████▏         | 342.8 MB 134 kB/s eta 0:18:57MB 134 kB/s eta 0:18:56█▏         | 343.2 MB 134 kB/s eta 0:18:54��████████▏         | 343.3 MB 134 kB/s eta 0:18:53�████████████████▏         | 343.5 MB 134 kB/s eta 0:18:52     |██████████████████████▏         | 343.7 MB 134 kB/s eta 0:18:5034 kB/s eta 0:18:49��         | 344.0 MB 134 kB/s eta 0:18:48�███████▎         | 344.2 MB 134 kB/s eta 0:18:47███████████████▎         | 344.4 MB 134 kB/s eta 0:18:45MB 135 kB/s eta 0:18:37█▎         | 344.8 MB 135 kB/s eta 0:18:36��████████▎         | 344.9 MB 135 kB/s eta 0:18:35�████████████████▎         | 345.1 MB 135 kB/s eta 0:18:33     |██████████████████████▎         | 345.3 MB 135 kB/s eta 0:18:3235 kB/s eta 0:18:31��         | 345.6 MB 135 kB/s eta 0:18:30�███████▎         | 345.8 MB 135 kB/s eta 0:18:28███████████████▍         | 346.0 MB 135 kB/s eta 0:18:27:17:03 eta 1:16:582 kB/s eta 1:16:527 MB 32 kB/s eta 1:16:47| 346.9 MB 32 kB/s eta 1:16:41      | 347.1 MB 32 kB/s eta 1:16:36▍         | 347.3 MB 32 kB/s eta 1:16:31██▍         | 347.4 MB 32 kB/s eta 1:16:25████▌         | 347.6 MB 32 kB/s eta 1:16:20██████▌         | 347.8 MB 32 kB/s eta 1:16:14████████▌         | 348.0 MB 32 kB/s eta 1:16:09██████████▌         | 348.1 MB 32 kB/s eta 1:16:04████████████▌         | 348.3 MB 32 kB/s eta 1:15:58██████████████▌         | 348.5 MB 32 kB/s eta 1:15:53████████████████▌         | 348.7 MB 32 kB/s eta 1:15:48██████████████████▌         | 348.8 MB 32 kB/s eta 1:15:42MB 136 kB/s eta 0:17:55█▌         | 349.2 MB 136 kB/s eta 0:17:53��████████▋         | 349.4 MB 136 kB/s eta 0:17:52�████████████████▋         | 349.6 MB 136 kB/s eta 0:17:51     |██████████████████████▋         | 349.8 MB 136 kB/s eta 0:17:5036 kB/s eta 0:17:48��         | 350.1 MB 136 kB/s eta 0:17:47�███████▋         | 350.3 MB 136 kB/s eta 0:17:46███████████████▋         | 350.5 MB 136 kB/s eta 0:17:45MB 136 kB/s eta 0:17:43█▋         | 350.9 MB 136 kB/s eta 0:17:41��████████▊         | 351.0 MB 136 kB/s eta 0:17:40�████████████████▊         | 351.2 MB 136 kB/s eta 0:17:39     |██████████████████████▊         | 351.4 MB 136 kB/s eta 0:17:3836 kB/s eta 0:17:36��         | 351.7 MB 136 kB/s eta 0:17:35�███████▊         | 351.9 MB 136 kB/s eta 0:17:34███████████████▊         | 352.1 MB 136 kB/s eta 0:17:33MB 133 kB/s eta 0:17:52█▊         | 352.5 MB 133 kB/s eta 0:17:51��████████▊         | 352.6 MB 133 kB/s eta 0:17:50�████████████████▉         | 352.8 MB 133 kB/s eta 0:17:48     |██████████████████████▉         | 353.0 MB 133 kB/s eta 0:17:4733 kB/s eta 0:17:46��         | 353.3 MB 133 kB/s eta 0:17:44�███████▉         | 353.5 MB 133 kB/s eta 0:17:43███████████████▉         | 353.7 MB 133 kB/s eta 0:17:42MB 133 kB/s eta 0:17:40█▉         | 354.1 MB 133 kB/s eta 0:17:39��████████▉         | 354.2 MB 133 kB/s eta 0:17:38�████████████████▉         | 354.4 MB 133 kB/s eta 0:17:36     |███████████████████████         | 354.6 MB 133 kB/s eta 0:17:3533 kB/s eta 0:17:34��         | 354.9 MB 133 kB/s eta 0:17:33�████████         | 355.1 MB 133 kB/s eta 0:17:31████████████████         | 355.3 MB 133 kB/s eta 0:17:30MB 135 kB/s eta 0:17:15██         | 355.7 MB 135 kB/s eta 0:17:14��█████████         | 355.8 MB 135 kB/s eta 0:17:13�█████████████████         | 356.0 MB 135 kB/s eta 0:17:11"
     ]
    },
    {
     "name": "stdout",
     "output_type": "stream",
     "text": [
      "\u001b[K     |██████████�██████████████       | 388.0 MB 115 kB/s eta 0:15:31��         | 356.5 MB 135 kB/s eta 0:17:07�████████         | 356.7 MB 135 kB/s eta 0:17:06████████████████         | 356.9 MB 135 kB/s eta 0:17:05MB 135 kB/s eta 0:17:03██         | 357.3 MB 135 kB/s eta 0:17:02��█████████         | 357.4 MB 135 kB/s eta 0:17:01�█████████████████         | 357.6 MB 135 kB/s eta 0:16:59     |███████████████████████         | 357.8 MB 135 kB/s eta 0:16:587.9 MB 135 kB/s eta 0:16:57██████████████▏        | 358.1 MB 519 kB/s eta 0:04:25█████▏        | 358.7 MB 519 kB/s eta 0:04:24█████▏        | 359.0 MB 519 kB/s eta 0:04:24  |███████████████████████▏        | 359.2 MB 519 kB/s eta 0:04:23��██▏        | 359.3 MB 519 kB/s eta 0:04:23��█████████████████████▏        | 359.5 MB 519 kB/s eta 0:04:23�▎        | 359.7 MB 2.2 MB/s eta 0:01:01█████▎        | 360.5 MB 2.2 MB/s eta 0:01:01█████▎        | 360.7 MB 2.2 MB/s eta 0:01:01█████▎        | 361.2 MB 2.5 MB/s eta 0:00:54  |███████████████████████▍        | 361.4 MB 2.5 MB/s eta 0:00:54��██▍        | 361.6 MB 2.5 MB/s eta 0:00:54��█████████████████████▍        | 361.7 MB 2.5 MB/s eta 0:00:54�▍        | 361.9 MB 2.5 MB/s eta 0:00:54�███████████████████▍        | 362.1 MB 2.5 MB/s eta 0:00:54     | 362.2 MB 2.5 MB/s eta 0:00:54█████████████████▍        | 362.4 MB 2.5 MB/s eta 0:00:54362.6 MB 2.5 MB/s eta 0:00:54��██████████████▍        | 362.8 MB 2.5 MB/s eta 0:00:54B 2.5 MB/s eta 0:00:54�████████████▌        | 363.1 MB 2.5 MB/s eta 0:00:53B/s eta 0:00:53██████████▌        | 363.4 MB 2.5 MB/s eta 0:00:53 0:00:53��███████▌        | 363.8 MB 2.5 MB/s eta 0:00:533�█████▌        | 364.1 MB 2.5 MB/s eta 0:00:53█████▌        | 364.3 MB 138 kB/s eta 0:15:45  |███████████████████████▌        | 364.5 MB 138 kB/s eta 0:15:44��██▌        | 364.7 MB 138 kB/s eta 0:15:43��█████████████████████▋        | 364.9 MB 138 kB/s eta 0:15:42�▋        | 365.0 MB 138 kB/s eta 0:15:41�███████████████████▋        | 365.2 MB 138 kB/s eta 0:15:39     | 365.4 MB 138 kB/s eta 0:15:38█████████████████▋        | 365.5 MB 138 kB/s eta 0:15:37365.7 MB 138 kB/s eta 0:15:36█████▋        | 365.9 MB 138 kB/s eta 0:15:34  |███████████████████████▋        | 366.1 MB 138 kB/s eta 0:15:33��██▋        | 366.3 MB 138 kB/s eta 0:15:31��█████████████████████▋        | 366.4 MB 138 kB/s eta 0:15:30�▊        | 366.6 MB 138 kB/s eta 0:15:29�███████████████████▊        | 366.8 MB 138 kB/s eta 0:15:28     | 367.0 MB 138 kB/s eta 0:15:27█████████████████▊        | 367.1 MB 138 kB/s eta 0:15:25367.3 MB 138 kB/s eta 0:15:24█████▊        | 367.5 MB 136 kB/s eta 0:15:40  |███████████████████████▊        | 367.7 MB 136 kB/s eta 0:15:39��██▊        | 367.9 MB 136 kB/s eta 0:15:38��█████████████████████▊        | 368.0 MB 136 kB/s eta 0:15:36�▊        | 368.2 MB 136 kB/s eta 0:15:35�███████████████████▉        | 368.4 MB 136 kB/s eta 0:15:34     | 368.5 MB 136 kB/s eta 0:15:33█████████████████▉        | 368.7 MB 136 kB/s eta 0:15:31368.9 MB 136 kB/s eta 0:15:30█████▉        | 369.1 MB 136 kB/s eta 0:15:28  |███████████████████████▉        | 369.3 MB 136 kB/s eta 0:15:27��██▉        | 369.5 MB 136 kB/s eta 0:15:26��█████████████████████▉        | 369.6 MB 136 kB/s eta 0:15:25�▉        | 369.8 MB 136 kB/s eta 0:15:23�████████████████████        | 370.0 MB 136 kB/s eta 0:15:22     | 370.1 MB 136 kB/s eta 0:15:21██████████████████        | 370.3 MB 136 kB/s eta 0:15:20370.5 MB 136 kB/s eta 0:15:19██████        | 370.7 MB 136 kB/s eta 0:15:18  |████████████████████████        | 370.9 MB 136 kB/s eta 0:15:17��███        | 371.1 MB 136 kB/s eta 0:15:16��██████████████████████        | 371.2 MB 136 kB/s eta 0:15:14�█        | 371.4 MB 136 kB/s eta 0:15:13�████████████████████        | 371.6 MB 136 kB/s eta 0:15:12     | 371.7 MB 136 kB/s eta 0:15:11██████████████████        | 371.9 MB 136 kB/s eta 0:15:09372.1 MB 136 kB/s eta 0:15:08██████        | 372.3 MB 136 kB/s eta 0:15:06  |████████████████████████        | 372.5 MB 136 kB/s eta 0:15:05��███        | 372.7 MB 136 kB/s eta 0:15:04��██████████████████████        | 372.8 MB 136 kB/s eta 0:15:03�█        | 373.0 MB 136 kB/s eta 0:15:01�████████████████████        | 373.2 MB 136 kB/s eta 0:15:00     | 373.3 MB 136 kB/s eta 0:14:59   |████████████████████████▏       | 373.5 MB 136 kB/s eta 0:14:58��██████████████▏       | 373.7 MB 136 kB/s eta 0:14:56��████████████████▏       | 373.9 MB 136 kB/s eta 0:14:52██████▏       | 374.1 MB 136 kB/s eta 0:14:514.3 MB 136 kB/s eta 0:14:49    |████████████████████████▏       | 374.4 MB 136 kB/s eta 0:14:48███████████████▏       | 374.6 MB 136 kB/s eta 0:14:47�████▏       | 374.8 MB 136 kB/s eta 0:14:46B 136 kB/s eta 0:14:44████████████████████████▏       | 375.1 MB 136 kB/s eta 0:14:43�█████████████▎       | 375.3 MB 136 kB/s eta 0:14:42��████████████████▎       | 375.5 MB 136 kB/s eta 0:14:40██████▎       | 375.7 MB 136 kB/s eta 0:14:395.8 MB 136 kB/s eta 0:14:38    |████████████████████████▎       | 376.0 MB 136 kB/s eta 0:14:36███████████████▎       | 376.2 MB 136 kB/s eta 0:14:35�████▎       | 376.4 MB 136 kB/s eta 0:14:34B 136 kB/s eta 0:14:33████████████████████████▎       | 376.7 MB 136 kB/s eta 0:14:31�█████████████▍       | 376.9 MB 136 kB/s eta 0:14:30��████████████████▍       | 377.1 MB 135 kB/s eta 0:14:34██████▍       | 377.3 MB 135 kB/s eta 0:14:337.4 MB 135 kB/s eta 0:14:32    |████████████████████████▍       | 377.6 MB 135 kB/s eta 0:14:30███████████████▍       | 377.8 MB 135 kB/s eta 0:14:29�████▍       | 377.9 MB 135 kB/s eta 0:14:28B 135 kB/s eta 0:14:27████████████████████████▍       | 378.3 MB 135 kB/s eta 0:14:26�█████████████▍       | 378.4 MB 135 kB/s eta 0:14:24��████████████████▌       | 378.7 MB 135 kB/s eta 0:14:22██████▌       | 378.9 MB 135 kB/s eta 0:14:219.0 MB 135 kB/s eta 0:14:20    |████████████████████████▌       | 379.2 MB 135 kB/s eta 0:14:19███████████████▌       | 379.4 MB 135 kB/s eta 0:14:17�████▌       | 379.5 MB 135 kB/s eta 0:14:16B 135 kB/s eta 0:14:15████████████████████████▌       | 379.9 MB 135 kB/s eta 0:14:14�█████████████▌       | 380.0 MB 135 kB/s eta 0:14:13��████████████████▋       | 380.3 MB 135 kB/s eta 0:14:12██████▋       | 380.5 MB 135 kB/s eta 0:14:110.6 MB 135 kB/s eta 0:14:09    |████████████████████████▋       | 380.8 MB 135 kB/s eta 0:14:08███████████████▋       | 381.0 MB 135 kB/s eta 0:14:07�████▋       | 381.1 MB 135 kB/s eta 0:14:06B 135 kB/s eta 0:14:04████████████████████████▋       | 381.5 MB 135 kB/s eta 0:14:03�█████████████▋       | 381.6 MB 135 kB/s eta 0:14:02��████████████████▋       | 381.9 MB 135 kB/s eta 0:14:00██████▊       | 382.1 MB 135 kB/s eta 0:13:592.2 MB 135 kB/s eta 0:13:58    |████████████████████████▊       | 382.4 MB 135 kB/s eta 0:13:56███████████████▊       | 382.6 MB 135 kB/s eta 0:13:55�████▊       | 382.7 MB 135 kB/s eta 0:13:54B 135 kB/s eta 0:13:53████████████████████████▊       | 383.1 MB 135 kB/s eta 0:13:51�█████████████▊       | 383.2 MB 135 kB/s eta 0:13:50��████████████████▊       | 383.5 MB 135 kB/s eta 0:13:48██████▊       | 383.7 MB 135 kB/s eta 0:13:473.8 MB 135 kB/s eta 0:13:46    |████████████████████████▉       | 384.0 MB 135 kB/s eta 0:13:45███████████████▉       | 384.2 MB 135 kB/s eta 0:13:44�████▉       | 384.3 MB 135 kB/s eta 0:13:42B 135 kB/s eta 0:13:41████████████████████████▉       | 384.7 MB 135 kB/s eta 0:13:40�█████████████▉       | 384.8 MB 135 kB/s eta 0:13:39��████████████████▉       | 385.1 MB 135 kB/s eta 0:13:37██████▉       | 385.3 MB 135 kB/s eta 0:13:355.4 MB 135 kB/s eta 0:13:34    |█████████████████████████       | 385.6 MB 135 kB/s eta 0:13:33████████████████       | 385.8 MB 135 kB/s eta 0:13:32�█████       | 385.9 MB 135 kB/s eta 0:13:31B 135 kB/s eta 0:13:29█████████████████████████       | 386.3 MB 135 kB/s eta 0:13:28�██████████████       | 386.4 MB 135 kB/s eta 0:13:27��█████████████████       | 386.7 MB 115 kB/s eta 0:15:43███████       | 386.9 MB 115 kB/s eta 0:15:417.0 MB 115 kB/s eta 0:15:40    |█████████████████████████       | 387.2 MB 115 kB/s eta 0:15:38████████████████       | 387.4 MB 115 kB/s eta 0:15:37�█████       | 387.5 MB 115 kB/s eta 0:15:35B 115 kB/s eta 0:15:34█████████████████████████       | 387.9 MB 115 kB/s eta 0:15:32"
     ]
    },
    {
     "name": "stdout",
     "output_type": "stream",
     "text": [
      "\u001b[K     |███████████████████�████████    | 434.0 MB 146 kB/s eta 0:07:01��█████████████████       | 388.3 MB 115 kB/s eta 0:15:29███████       | 388.5 MB 115 kB/s eta 0:15:278.6 MB 115 kB/s eta 0:15:26    |█████████████████████████       | 388.8 MB 115 kB/s eta 0:15:24��████████████████████▏      | 389.0 MB 115 kB/s eta 0:15:23��████████████████████▏      | 389.1 MB 115 kB/s eta 0:15:22��████████████████████▏      | 389.3 MB 115 kB/s eta 0:15:20��████████████████████▏      | 389.5 MB 115 kB/s eta 0:15:19��████████████████████▏      | 389.6 MB 115 kB/s eta 0:15:17 eta 0:11:29��█▏     | 404.6 MB 132 kB/s eta 0:11:28�████████████▏     | 404.8 MB 132 kB/s eta 0:11:27███████████████████████▏     | 404.9 MB 132 kB/s eta 0:11:25s eta 0:11:24██▏     | 405.2 MB 132 kB/s eta 0:11:23��████████████▏     | 405.4 MB 132 kB/s eta 0:11:22�███████████████████████▏     | 405.6 MB 132 kB/s eta 0:11:21 | 405.9 MB 132 kB/s eta 0:11:19�████████▏     | 406.0 MB 132 kB/s eta 0:11:18███████████████████▎     | 406.2 MB 132 kB/s eta 0:11:176  | 406.5 MB 132 kB/s eta 0:11:14��████████▎     | 406.7 MB 132 kB/s eta 0:11:13�███████████████████▎     | 406.8 MB 132 kB/s eta 0:11:1211   | 407.2 MB 132 kB/s eta 0:11:09 | 407.5 MB 132 kB/s eta 0:11:07�████████▎     | 407.6 MB 132 kB/s eta 0:11:06███████████████████▎     | 407.8 MB 132 kB/s eta 0:11:053  | 408.1 MB 132 kB/s eta 0:11:02��████████▍     | 408.3 MB 132 kB/s eta 0:11:01�███████████████████▍     | 408.4 MB 132 kB/s eta 0:11:0059   | 408.8 MB 132 kB/s eta 0:10:57 | 409.1 MB 131 kB/s eta 0:10:57�████████▍     | 409.2 MB 131 kB/s eta 0:10:56███████████████████▍     | 409.4 MB 131 kB/s eta 0:10:554  | 409.7 MB 131 kB/s eta 0:10:52��████████▌     | 409.9 MB 131 kB/s eta 0:10:51�███████████████████▌     | 410.0 MB 131 kB/s eta 0:10:5049   | 410.3 MB 131 kB/s eta 0:10:48 | 410.7 MB 131 kB/s eta 0:10:45�████████▌     | 410.8 MB 131 kB/s eta 0:10:44███████████████████▌     | 411.0 MB 131 kB/s eta 0:10:432  | 411.3 MB 131 kB/s eta 0:10:40��████████▋     | 411.5 MB 131 kB/s eta 0:10:39�███████████████████▋     | 411.6 MB 131 kB/s eta 0:10:3837   | 411.9 MB 131 kB/s eta 0:10:35 | 412.3 MB 131 kB/s eta 0:10:35�████████▋     | 412.4 MB 131 kB/s eta 0:10:34███████████████████▋     | 412.6 MB 131 kB/s eta 0:10:332  | 412.9 MB 131 kB/s eta 0:10:30��████████▊     | 413.1 MB 131 kB/s eta 0:10:29�███████████████████▊     | 413.2 MB 131 kB/s eta 0:10:2827   | 413.5 MB 131 kB/s eta 0:10:25 | 413.8 MB 131 kB/s eta 0:10:23�████████▊     | 414.0 MB 131 kB/s eta 0:10:22███████████████████▊     | 414.2 MB 131 kB/s eta 0:10:219  | 414.5 MB 131 kB/s eta 0:10:18��████████▊     | 414.7 MB 131 kB/s eta 0:10:17�███████████████████▉     | 414.8 MB 131 kB/s eta 0:10:1614   | 415.1 MB 131 kB/s eta 0:10:13 | 415.5 MB 132 kB/s eta 0:10:04�████████▉     | 415.6 MB 132 kB/s eta 0:10:03███████████████████▉     | 415.8 MB 132 kB/s eta 0:10:021  | 416.1 MB 132 kB/s eta 0:10:00��████████▉     | 416.3 MB 132 kB/s eta 0:09:58�████████████████████     | 416.4 MB 132 kB/s eta 0:09:5756   | 416.7 MB 132 kB/s eta 0:09:55 | 417.0 MB 132 kB/s eta 0:09:52�█████████     | 417.2 MB 132 kB/s eta 0:09:51████████████████████     | 417.4 MB 132 kB/s eta 0:09:509  | 417.7 MB 132 kB/s eta 0:09:48��█████████     | 417.9 MB 132 kB/s eta 0:09:46�████████████████████     | 418.0 MB 132 kB/s eta 0:09:4544   | 418.3 MB 132 kB/s eta 0:09:43 | 418.6 MB 131 kB/s eta 0:09:47�█████████     | 418.8 MB 131 kB/s eta 0:09:46████████████████████     | 419.0 MB 131 kB/s eta 0:09:443  | 419.3 MB 131 kB/s eta 0:09:42��█████████     | 419.5 MB 131 kB/s eta 0:09:41�████████████████████     | 419.6 MB 131 kB/s eta 0:09:3938�███▏    | 419.9 MB 131 kB/s eta 0:09:37     |███████████████████████████▏    | 420.1 MB 131 kB/s eta 0:09:36�███████▏    | 420.2 MB 131 kB/s eta 0:09:35    |███████████████████████████▏    | 420.4 MB 131 kB/s eta 0:09:34███████▏    | 420.5 MB 131 kB/s eta 0:09:32   |███████████████████████████▏    | 420.7 MB 131 kB/s eta 0:09:31��██████▏    | 420.8 MB 131 kB/s eta 0:09:30  |███████████████████████████▏    | 421.0 MB 131 kB/s eta 0:09:29�██████▏    | 421.2 MB 131 kB/s eta 0:09:28 |███████████████████████████▏    | 421.3 MB 131 kB/s eta 0:09:26██████▏    | 421.5 MB 131 kB/s eta 0:09:25|███████████████████████████▎    | 421.6 MB 146 kB/s eta 0:08:26��█████▎    | 421.8 MB 146 kB/s eta 0:08:25███████████████████████████▎    | 422.0 MB 146 kB/s eta 0:08:24�█████▎    | 422.1 MB 146 kB/s eta 0:08:23��██████████████████████████▎    | 422.3 MB 146 kB/s eta 0:08:22█████▎    | 422.4 MB 146 kB/s eta 0:08:21�██████████████████████████▎    | 422.6 MB 146 kB/s eta 0:08:20��████▎    | 422.7 MB 146 kB/s eta 0:08:19██████████████████████████▎    | 422.9 MB 146 kB/s eta 0:08:18�████▎    | 423.1 MB 146 kB/s eta 0:08:17��█████████████████████████▎    | 423.2 MB 146 kB/s eta 0:08:16████▍    | 423.4 MB 146 kB/s eta 0:08:14�█████████████████████████▍    | 423.5 MB 146 kB/s eta 0:08:13��███▍    | 423.7 MB 146 kB/s eta 0:08:12█████████████████████████▍    | 423.9 MB 146 kB/s eta 0:08:11�███▍    | 424.0 MB 146 kB/s eta 0:08:10��████████████████████████▍    | 424.2 MB 146 kB/s eta 0:08:09��████████▍    | 424.5 MB 146 kB/s eta 0:08:06�████████▍    | 424.8 MB 146 kB/s eta 0:08:03[K     |███████████████████████████▍    | 425.0 MB 146 kB/s eta 0:08:02████████▌    | 425.1 MB 146 kB/s eta 0:08:01K     |███████████████████████████▌    | 425.3 MB 146 kB/s eta 0:08:00��███████▌    | 425.4 MB 146 kB/s eta 0:07:59     |███████████████████████████▌    | 425.6 MB 146 kB/s eta 0:07:58�███████▌    | 425.7 MB 146 kB/s eta 0:07:57    |███████████████████████████▌    | 425.9 MB 146 kB/s eta 0:07:56███████▌    | 426.1 MB 146 kB/s eta 0:07:55   |███████████████████████████▌    | 426.2 MB 146 kB/s eta 0:07:54��██████▌    | 426.4 MB 146 kB/s eta 0:07:53  |███████████████████████████▌    | 426.5 MB 146 kB/s eta 0:07:51�██████▌    | 426.7 MB 146 kB/s eta 0:07:50 |███████████████████████████▋    | 426.9 MB 146 kB/s eta 0:07:49██████▋    | 427.0 MB 146 kB/s eta 0:07:48|███████████████████████████▋    | 427.2 MB 146 kB/s eta 0:07:47��█████▋    | 427.3 MB 146 kB/s eta 0:07:47███████████████████████████▋    | 427.5 MB 146 kB/s eta 0:07:46�█████▋    | 427.7 MB 146 kB/s eta 0:07:45��██████████████████████████▋    | 427.8 MB 146 kB/s eta 0:07:44█████▋    | 428.0 MB 146 kB/s eta 0:07:43�██████████████████████████▋    | 428.1 MB 146 kB/s eta 0:07:42��████▋    | 428.3 MB 146 kB/s eta 0:07:41██████████████████████████▋    | 428.5 MB 146 kB/s eta 0:07:40     |███████████████████████████▊    | 428.6 MB 146 kB/s eta 0:07:39�███████▊    | 428.7 MB 146 kB/s eta 0:07:38    |███████████████████████████▊    | 428.9 MB 146 kB/s eta 0:07:37███████▊    | 429.1 MB 146 kB/s eta 0:07:36   |███████████████████████████▊    | 429.2 MB 146 kB/s eta 0:07:34��██████▊    | 429.4 MB 146 kB/s eta 0:07:33  |███████████████████████████▊    | 429.5 MB 146 kB/s eta 0:07:32�██████▊    | 429.7 MB 146 kB/s eta 0:07:31 |███████████████████████████▊    | 429.9 MB 146 kB/s eta 0:07:30██████▊    | 430.0 MB 146 kB/s eta 0:07:29|███████████████████████████▊    | 430.2 MB 146 kB/s eta 0:07:27��█████▉    | 430.3 MB 146 kB/s eta 0:07:26███████████████████████████▉    | 430.5 MB 146 kB/s eta 0:07:25�█████▉    | 430.6 MB 146 kB/s eta 0:07:24��██████████████████████████▉    | 430.8 MB 146 kB/s eta 0:07:23█████▉    | 431.0 MB 146 kB/s eta 0:07:22�██████████████████████████▉    | 431.1 MB 146 kB/s eta 0:07:21��████▉    | 431.3 MB 146 kB/s eta 0:07:20██████████████████████████▉    | 431.4 MB 146 kB/s eta 0:07:19�████▉    | 431.6 MB 146 kB/s eta 0:07:18��█████████████████████████▉    | 431.8 MB 146 kB/s eta 0:07:16█████    | 431.9 MB 146 kB/s eta 0:07:15�██████████████████████████    | 432.1 MB 146 kB/s eta 0:07:14��████    | 432.2 MB 146 kB/s eta 0:07:13██████████████████████████    | 432.4 MB 146 kB/s eta 0:07:12�████    | 432.5 MB 146 kB/s eta 0:07:11��█████████████████████████    | 432.7 MB 146 kB/s eta 0:07:10��█████████    | 433.0 MB 146 kB/s eta 0:07:07�█████████    | 433.3 MB 146 kB/s eta 0:07:05[K     |████████████████████████████    | 433.5 MB 146 kB/s eta 0:07:04█████████    | 433.7 MB 146 kB/s eta 0:07:03K     |████████████████████████████    | 433.8 MB 146 kB/s eta 0:07:02"
     ]
    },
    {
     "name": "stdout",
     "output_type": "stream",
     "text": [
      "\u001b[K     |█████████████████████████████▊  | 461.0 MB 145 kB/s eta 0:03:58�████████    | 434.3 MB 146 kB/s eta 0:06:58    |████████████████████████████    | 434.5 MB 146 kB/s eta 0:06:57████████    | 434.6 MB 146 kB/s eta 0:06:56   |████████████████████████████    | 434.8 MB 146 kB/s eta 0:06:55��███████    | 434.9 MB 146 kB/s eta 0:06:54  |████████████████████████████    | 435.1 MB 146 kB/s eta 0:06:53�███████    | 435.2 MB 146 kB/s eta 0:06:5251�████████████████████▏   | 435.6 MB 146 kB/s eta 0:06:50��███████████████████▏   | 435.8 MB 147 kB/s eta 0:06:46████████▏   | 436.0 MB 147 kB/s eta 0:06:45.1 MB 147 kB/s eta 0:06:44��██████████████▏   | 436.4 MB 84 kB/s eta 0:11:40| 436.5 MB 84 kB/s eta 0:11:38��████████████████████████▏   | 436.7 MB 84 kB/s eta 0:11:36████████▏   | 436.8 MB 84 kB/s eta 0:11:34ta 0:11:32██████████████████▎   | 437.2 MB 84 kB/s eta 0:11:30�█▎   | 437.3 MB 84 kB/s eta 0:11:29████████████████████████████▎   | 437.5 MB 84 kB/s eta 0:11:27�███████████▎   | 437.6 MB 84 kB/s eta 0:11:25 84 kB/s eta 0:11:23�█████████████████████▎   | 438.0 MB 84 kB/s eta 0:11:21��████▎   | 438.1 MB 84 kB/s eta 0:11:19��███████████████████▎   | 438.4 MB 148 kB/s eta 0:06:25████████▎   | 438.6 MB 148 kB/s eta 0:06:24.8 MB 148 kB/s eta 0:06:23|████████████████████████████▍   | 438.9 MB 148 kB/s eta 0:06:22��████████████████▍   | 439.1 MB 148 kB/s eta 0:06:21█████▍   | 439.2 MB 148 kB/s eta 0:06:20 kB/s eta 0:06:19�█████████████████████████▍   | 439.5 MB 148 kB/s eta 0:06:18��███████████████████▍   | 439.7 MB 148 kB/s eta 0:06:16████████▍   | 439.9 MB 148 kB/s eta 0:06:15.0 MB 148 kB/s eta 0:06:14|████████████████████████████▍   | 440.2 MB 148 kB/s eta 0:06:13��████████████████▍   | 440.4 MB 148 kB/s eta 0:06:12█████▌   | 440.5 MB 148 kB/s eta 0:06:11 kB/s eta 0:06:10�█████████████████████████▌   | 440.8 MB 148 kB/s eta 0:06:09��███████████████████▌   | 441.0 MB 145 kB/s eta 0:06:15████████▌   | 441.2 MB 145 kB/s eta 0:06:14.3 MB 145 kB/s eta 0:06:13|████████████████████████████▌   | 441.5 MB 145 kB/s eta 0:06:12��████████████████▌   | 441.6 MB 145 kB/s eta 0:06:11█████▌   | 441.8 MB 145 kB/s eta 0:06:10 kB/s eta 0:06:09�█████████████████████████▌   | 442.1 MB 145 kB/s eta 0:06:08��█████████████▋   | 442.3 MB 145 kB/s eta 0:06:07██▋   | 442.4 MB 145 kB/s eta 0:06:06 0:06:05�██████████████████████▋   | 442.7 MB 145 kB/s eta 0:06:03��██████████▋   | 442.9 MB 145 kB/s eta 0:06:02   | 443.0 MB 145 kB/s eta 0:06:01�███████████████████▋   | 443.4 MB 145 kB/s eta 0:05:59��███████████████████▋   | 443.5 MB 123 kB/s eta 0:07:02████████▋   | 443.7 MB 123 kB/s eta 0:07:01.8 MB 123 kB/s eta 0:07:00|████████████████████████████▊   | 444.0 MB 123 kB/s eta 0:06:59��████████████████▊   | 444.2 MB 123 kB/s eta 0:06:57█████▊   | 444.3 MB 123 kB/s eta 0:06:56 kB/s eta 0:06:55�█████████████████████████▊   | 444.6 MB 123 kB/s eta 0:06:54��█████████████▊   | 444.8 MB 123 kB/s eta 0:06:52██▊   | 444.9 MB 123 kB/s eta 0:06:51 0:06:50�██████████████████████▊   | 445.3 MB 123 kB/s eta 0:06:48��██████████▊   | 445.4 MB 123 kB/s eta 0:06:47   | 445.6 MB 123 kB/s eta 0:06:46�███████████████████▉   | 445.9 MB 123 kB/s eta 0:06:43��███████████████████▉   | 446.1 MB 133 kB/s eta 0:06:11████████▉   | 446.2 MB 133 kB/s eta 0:06:10.4 MB 133 kB/s eta 0:06:09|████████████████████████████▉   | 446.5 MB 133 kB/s eta 0:06:08��████████████████▉   | 446.7 MB 133 kB/s eta 0:06:06█████▉   | 446.8 MB 133 kB/s eta 0:06:05 kB/s eta 0:06:04�█████████████████████████▉   | 447.2 MB 133 kB/s eta 0:06:03��█████████████▉   | 447.3 MB 133 kB/s eta 0:06:02███   | 447.5 MB 133 kB/s eta 0:06:01 0:05:59�███████████████████████   | 447.8 MB 133 kB/s eta 0:05:58��███████████   | 447.9 MB 133 kB/s eta 0:05:57   | 448.1 MB 133 kB/s eta 0:05:56�████████████████████   | 448.4 MB 133 kB/s eta 0:05:54��████████████████████   | 448.6 MB 145 kB/s eta 0:05:24█████████   | 448.7 MB 145 kB/s eta 0:05:23.9 MB 145 kB/s eta 0:05:22|█████████████████████████████   | 449.0 MB 145 kB/s eta 0:05:21��█████████████████   | 449.2 MB 145 kB/s eta 0:05:19██████   | 449.4 MB 145 kB/s eta 0:05:18 kB/s eta 0:05:17�██████████████████████████   | 449.7 MB 145 kB/s eta 0:05:16��██████████████   | 449.8 MB 145 kB/s eta 0:05:15███   | 450.0 MB 145 kB/s eta 0:05:14 0:05:13�███████████████████████   | 450.3 MB 145 kB/s eta 0:05:12��███████████   | 450.4 MB 145 kB/s eta 0:05:11   | 450.6 MB 145 kB/s eta 0:05:10��█████████████████████████▏  | 450.9 MB 145 kB/s eta 0:05:08    |█████████████████████████████▏  | 451.1 MB 145 kB/s eta 0:05:05█████████████████████████████▏  | 451.2 MB 145 kB/s eta 0:05:04�███████████████████████████▏  | 451.4 MB 145 kB/s eta 0:05:03��█████████████████████████▏  | 451.6 MB 145 kB/s eta 0:05:02████████████████████████▏  | 451.7 MB 145 kB/s eta 0:05:01�██████████████████████▏  | 451.9 MB 145 kB/s eta 0:05:00��████████████████████▏  | 452.0 MB 145 kB/s eta 0:04:59███████████████████▏  | 452.2 MB 145 kB/s eta 0:04:58    |█████████████████████████████▏  | 452.4 MB 145 kB/s eta 0:04:57█████████████████████████████▏  | 452.5 MB 145 kB/s eta 0:04:56�███████████████████████████▎  | 452.7 MB 145 kB/s eta 0:04:55��█████████████████████████▎  | 452.8 MB 145 kB/s eta 0:04:54████████████████████████▎  | 453.0 MB 145 kB/s eta 0:04:53�██████████████████████▎  | 453.1 MB 145 kB/s eta 0:04:52��████████████████████▎  | 453.3 MB 145 kB/s eta 0:04:50███████████████████▎  | 453.4 MB 145 kB/s eta 0:04:49    |█████████████████████████████▎  | 453.6 MB 145 kB/s eta 0:04:49█████████████████████████████▎  | 453.8 MB 145 kB/s eta 0:04:48�███████████████████████████▎  | 453.9 MB 145 kB/s eta 0:04:47��█████████████████████████▎  | 454.1 MB 145 kB/s eta 0:04:46████████████████████████▎  | 454.2 MB 145 kB/s eta 0:04:44�██████████████████████▍  | 454.4 MB 145 kB/s eta 0:04:43��████████████████████▍  | 454.5 MB 145 kB/s eta 0:04:42███████████████████▍  | 454.7 MB 145 kB/s eta 0:04:41    |█████████████████████████████▍  | 454.9 MB 145 kB/s eta 0:04:40█████████████████████████████▍  | 455.0 MB 145 kB/s eta 0:04:39�███████████████████████████▍  | 455.2 MB 145 kB/s eta 0:04:38��█████████████████████████▍  | 455.3 MB 145 kB/s eta 0:04:37████████████████████████▍  | 455.5 MB 145 kB/s eta 0:04:36�██████████████████████▍  | 455.6 MB 145 kB/s eta 0:04:35��████████████████████▍  | 455.8 MB 145 kB/s eta 0:04:34███████████████████▍  | 455.9 MB 145 kB/s eta 0:04:33    |█████████████████████████████▌  | 456.1 MB 145 kB/s eta 0:04:32█████████████████████████████▌  | 456.3 MB 145 kB/s eta 0:04:31�███████████████████████████▌  | 456.4 MB 145 kB/s eta 0:04:30��█████████████████████████▌  | 456.6 MB 145 kB/s eta 0:04:29████████████████████████▌  | 456.7 MB 145 kB/s eta 0:04:28�██████████████████████▌  | 456.9 MB 145 kB/s eta 0:04:27��████████████████████▌  | 457.1 MB 145 kB/s eta 0:04:26███████████████████▌  | 457.2 MB 145 kB/s eta 0:04:25    |█████████████████████████████▌  | 457.4 MB 145 kB/s eta 0:04:24█████████████████████████████▌  | 457.5 MB 145 kB/s eta 0:04:23�███████████████████████████▌  | 457.7 MB 145 kB/s eta 0:04:21��█████████████████████████▋  | 457.9 MB 145 kB/s eta 0:04:20████████████████████████▋  | 458.0 MB 145 kB/s eta 0:04:19�██████████████████████▋  | 458.2 MB 145 kB/s eta 0:04:18��████████████████████▋  | 458.3 MB 145 kB/s eta 0:04:17███████████████████▋  | 458.5 MB 145 kB/s eta 0:04:16    |█████████████████████████████▋  | 458.6 MB 145 kB/s eta 0:04:14█████████████████████████████▋  | 458.8 MB 145 kB/s eta 0:04:13�███████████████████████████▋  | 459.0 MB 145 kB/s eta 0:04:12��█████████████████████████▋  | 459.1 MB 145 kB/s eta 0:04:11████████████████████████▋  | 459.3 MB 145 kB/s eta 0:04:10�██████████████████████▋  | 459.4 MB 145 kB/s eta 0:04:08��████████████████████▊  | 459.6 MB 145 kB/s eta 0:04:07███████████████████▊  | 459.7 MB 145 kB/s eta 0:04:06    |█████████████████████████████▊  | 459.9 MB 145 kB/s eta 0:04:05█████████████████████████████▊  | 460.1 MB 145 kB/s eta 0:04:04�███████████████████████████▊  | 460.2 MB 145 kB/s eta 0:04:03��█████████████████████████▊  | 460.4 MB 145 kB/s eta 0:04:02████████████████████████▊  | 460.5 MB 145 kB/s eta 0:04:01�██████████████████████▊  | 460.7 MB 145 kB/s eta 0:04:00��████████████████████▊  | 460.8 MB 145 kB/s eta 0:03:59"
     ]
    },
    {
     "name": "stdout",
     "output_type": "stream",
     "text": [
      "\u001b[K     |███████████████████████████████▊| 490.7 MB 145 kB/s eta 0:00:34    |█████████████████████████████▉  | 461.2 MB 146 kB/s eta 0:03:56█████████████████████████████▉  | 461.3 MB 146 kB/s eta 0:03:55�███████████████████████████▉  | 461.5 MB 146 kB/s eta 0:03:54��█████████████████████████▉  | 461.6 MB 146 kB/s eta 0:03:53████████████████████████▉  | 461.8 MB 146 kB/s eta 0:03:52�██████████████████████▉  | 461.9 MB 146 kB/s eta 0:03:51��████████████████████▉  | 462.1 MB 146 kB/s eta 0:03:50███████████████████▉  | 462.3 MB 146 kB/s eta 0:03:49    |█████████████████████████████▉  | 462.4 MB 146 kB/s eta 0:03:47█████████████████████████████▉  | 462.6 MB 146 kB/s eta 0:03:46�███████████████████████████▉  | 462.7 MB 146 kB/s eta 0:03:45��██████████████████████████  | 462.9 MB 146 kB/s eta 0:03:44█████████████████████████  | 463.0 MB 146 kB/s eta 0:03:43�███████████████████████  | 463.2 MB 146 kB/s eta 0:03:42��█████████████████████  | 463.3 MB 146 kB/s eta 0:03:41████████████████████  | 463.5 MB 146 kB/s eta 0:03:40    |██████████████████████████████  | 463.7 MB 145 kB/s eta 0:03:39██████████████████████████████  | 463.8 MB 145 kB/s eta 0:03:38�████████████████████████████  | 464.0 MB 145 kB/s eta 0:03:37��██████████████████████████  | 464.1 MB 145 kB/s eta 0:03:36█████████████████████████  | 464.3 MB 145 kB/s eta 0:03:35�███████████████████████  | 464.5 MB 145 kB/s eta 0:03:34��█████████████████████  | 464.6 MB 145 kB/s eta 0:03:33████████████████████  | 464.8 MB 145 kB/s eta 0:03:32    |██████████████████████████████  | 464.9 MB 145 kB/s eta 0:03:31██████████████████████████████  | 465.1 MB 145 kB/s eta 0:03:29�████████████████████████████  | 465.3 MB 145 kB/s eta 0:03:28��██████████████████████████  | 465.4 MB 145 kB/s eta 0:03:27█████████████████████████  | 465.6 MB 145 kB/s eta 0:03:26�███████████████████████  | 465.7 MB 145 kB/s eta 0:03:25��█████████████████████  | 465.9 MB 145 kB/s eta 0:03:24████████████████████  | 466.0 MB 145 kB/s eta 0:03:23    |██████████████████████████████  | 466.2 MB 145 kB/s eta 0:03:22     |██████████████████████████████▏ | 466.4 MB 145 kB/s eta 0:03:21 145 kB/s eta 0:03:20��███▏ | 466.7 MB 145 kB/s eta 0:03:19████████████▏ | 466.8 MB 145 kB/s eta 0:03:18�████████████████████▏ | 467.0 MB 145 kB/s eta 0:03:17��████████████████████████████▏ | 467.1 MB 145 kB/s eta 0:03:16eta 0:03:155 MB 145 kB/s eta 0:03:14█████▏ | 467.6 MB 145 kB/s eta 0:03:13�█████████████▏ | 467.8 MB 145 kB/s eta 0:03:12��█████████████████████▏ | 467.9 MB 145 kB/s eta 0:03:11██████████████████████████████▎ | 468.1 MB 145 kB/s eta 0:03:10B/s eta 0:03:09��█▎ | 468.4 MB 145 kB/s eta 0:03:08██████████▎ | 468.5 MB 145 kB/s eta 0:03:067 MB 133 kB/s eta 0:03:21█████▎ | 468.9 MB 133 kB/s eta 0:03:20�█████████████▎ | 469.0 MB 133 kB/s eta 0:03:19��█████████████████████▎ | 469.2 MB 133 kB/s eta 0:03:18██████████████████████████████▎ | 469.3 MB 133 kB/s eta 0:03:16B/s eta 0:03:15��█▎ | 469.6 MB 133 kB/s eta 0:03:14██████████▍ | 469.8 MB 133 kB/s eta 0:03:130 MB 133 kB/s eta 0:03:12█████▍ | 470.1 MB 133 kB/s eta 0:03:11�█████████████▍ | 470.3 MB 133 kB/s eta 0:03:09��█████████████████████▍ | 470.4 MB 133 kB/s eta 0:03:08██████████████████████████████▍ | 470.6 MB 133 kB/s eta 0:03:07B/s eta 0:03:06��█▍ | 470.9 MB 133 kB/s eta 0:03:05██████████▍ | 471.0 MB 133 kB/s eta 0:03:042 MB 144 kB/s eta 0:02:49█████▍ | 471.4 MB 144 kB/s eta 0:02:48�█████████████▌ | 471.6 MB 144 kB/s eta 0:02:47��█████████████████████▌ | 471.7 MB 144 kB/s eta 0:02:46██████████████████████████████▌ | 471.9 MB 144 kB/s eta 0:02:45B/s eta 0:02:44��█▌ | 472.2 MB 144 kB/s eta 0:02:43██████████▌ | 472.3 MB 144 kB/s eta 0:02:425 MB 144 kB/s eta 0:02:40█████▌ | 472.6 MB 144 kB/s eta 0:02:39�█████████████▌ | 472.8 MB 144 kB/s eta 0:02:38��█████████████████████▌ | 473.0 MB 144 kB/s eta 0:02:37██████████████████████████████▌ | 473.1 MB 144 kB/s eta 0:02:36B/s eta 0:02:35��█▋ | 473.4 MB 144 kB/s eta 0:02:34██████████▋ | 473.6 MB 144 kB/s eta 0:02:338 MB 144 kB/s eta 0:02:31█████▋ | 473.9 MB 144 kB/s eta 0:02:30�█████████████▋ | 474.1 MB 144 kB/s eta 0:02:29��█████████████████████▋ | 474.2 MB 144 kB/s eta 0:02:28██████████████████████████████▋ | 474.4 MB 144 kB/s eta 0:02:27B/s eta 0:02:26��█▋ | 474.7 MB 144 kB/s eta 0:02:25██████████▋ | 474.8 MB 144 kB/s eta 0:02:240 MB 144 kB/s eta 0:02:23█████▊ | 475.2 MB 144 kB/s eta 0:02:22�█████████████▊ | 475.3 MB 144 kB/s eta 0:02:21��█████████████████████▊ | 475.5 MB 144 kB/s eta 0:02:20██████████████████████████████▊ | 475.6 MB 144 kB/s eta 0:02:18B/s eta 0:02:17��█▊ | 475.9 MB 144 kB/s eta 0:02:16██████████▊ | 476.1 MB 144 kB/s eta 0:02:153 MB 145 kB/s eta 0:02:13█████▊ | 476.4 MB 145 kB/s eta 0:02:12�█████████████▊ | 476.6 MB 145 kB/s eta 0:02:11��█████████████████████▉ | 476.7 MB 145 kB/s eta 0:02:10██████████████████████████████▉ | 476.9 MB 145 kB/s eta 0:02:09B/s eta 0:02:08��█▉ | 477.2 MB 145 kB/s eta 0:02:07██████████▉ | 477.3 MB 145 kB/s eta 0:02:065 MB 145 kB/s eta 0:02:05█████▉ | 477.7 MB 145 kB/s eta 0:02:04�█████████████▉ | 477.8 MB 145 kB/s eta 0:02:02��█████████████████████▉ | 478.0 MB 145 kB/s eta 0:02:01██████████████████████████████▉ | 478.1 MB 145 kB/s eta 0:02:00B/s eta 0:01:59��██ | 478.4 MB 145 kB/s eta 0:01:58███████████ | 478.6 MB 145 kB/s eta 0:01:578 MB 142 kB/s eta 0:01:59██████ | 478.9 MB 142 kB/s eta 0:01:58�██████████████ | 479.1 MB 142 kB/s eta 0:01:57��██████████████████████ | 479.3 MB 142 kB/s eta 0:01:55███████████████████████████████ | 479.4 MB 142 kB/s eta 0:01:54B/s eta 0:01:53��██ | 479.7 MB 142 kB/s eta 0:01:52███████████ | 479.9 MB 142 kB/s eta 0:01:511 MB 142 kB/s eta 0:01:50██████ | 480.2 MB 142 kB/s eta 0:01:49�██████████████ | 480.4 MB 142 kB/s eta 0:01:48��██████████████████████ | 480.5 MB 142 kB/s eta 0:01:47███████████████████████████████ | 480.7 MB 142 kB/s eta 0:01:45B/s eta 0:01:44��██ | 481.0 MB 142 kB/s eta 0:01:43███████████ | 481.1 MB 142 kB/s eta 0:01:423 MB 141 kB/s eta 0:01:41██████ | 481.5 MB 141 kB/s eta 0:01:40�██████████████ | 481.6 MB 141 kB/s eta 0:01:39��██████████████████████ | 481.8 MB 141 kB/s eta 0:01:38 eta 0:01:37███████████▏| 482.1 MB 141 kB/s eta 0:01:36�█████████████████████████████▏| 482.2 MB 141 kB/s eta 0:01:35██▏| 482.4 MB 141 kB/s eta 0:01:34███████▏| 482.6 MB 141 kB/s eta 0:01:32�█████████████████████████▏| 482.7 MB 141 kB/s eta 0:01:3182.9 MB 141 kB/s eta 0:01:30�████████████████▏| 483.0 MB 141 kB/s eta 0:01:298�███████▏| 483.3 MB 141 kB/s eta 0:01:27��█████████████████████████▏| 483.5 MB 141 kB/s eta 0:01:26483.6 MB 141 kB/s eta 0:01:25███████▎| 483.8 MB 140 kB/s eta 0:01:24�█████████████████████████▎| 484.0 MB 140 kB/s eta 0:01:2384.1 MB 140 kB/s eta 0:01:22�████████████████▎| 484.3 MB 140 kB/s eta 0:01:210�███████▎| 484.6 MB 140 kB/s eta 0:01:19��█████████████████████████▎| 484.7 MB 140 kB/s eta 0:01:18484.9 MB 140 kB/s eta 0:01:17███████▎| 485.1 MB 140 kB/s eta 0:01:15�█████████████████████████▎| 485.2 MB 140 kB/s eta 0:01:1485.4 MB 140 kB/s eta 0:01:13�████████████████▍| 485.5 MB 140 kB/s eta 0:01:121�███████▍| 485.8 MB 140 kB/s eta 0:01:10��█████████████████████████▍| 486.0 MB 140 kB/s eta 0:01:09486.1 MB 140 kB/s eta 0:01:08███████▍| 486.4 MB 145 kB/s eta 0:01:04�█████████████████████████▍| 486.5 MB 145 kB/s eta 0:01:0386.7 MB 145 kB/s eta 0:01:02�████████████████▍| 486.8 MB 145 kB/s eta 0:01:010�███████▌| 487.1 MB 145 kB/s eta 0:00:59��█████████████████████████▌| 487.3 MB 145 kB/s eta 0:00:58487.4 MB 145 kB/s eta 0:00:57███████▌| 487.6 MB 145 kB/s eta 0:00:55�█████████████████████████▌| 487.8 MB 145 kB/s eta 0:00:5487.9 MB 145 kB/s eta 0:00:53�████████████████▌| 488.1 MB 145 kB/s eta 0:00:521�███████▌| 488.4 MB 145 kB/s eta 0:00:50��█████████████████████████▌| 488.5 MB 145 kB/s eta 0:00:49488.7 MB 145 kB/s eta 0:00:48███████▋| 488.9 MB 145 kB/s eta 0:00:46�█████████████████████████▋| 489.0 MB 145 kB/s eta 0:00:4589.2 MB 145 kB/s eta 0:00:44�████████████████▋| 489.3 MB 145 kB/s eta 0:00:432�███████▋| 489.6 MB 145 kB/s eta 0:00:41��█████████████████████████▋| 489.8 MB 145 kB/s eta 0:00:40489.9 MB 145 kB/s eta 0:00:39███████▋| 490.1 MB 145 kB/s eta 0:00:38�█████████████████████████▋| 490.3 MB 145 kB/s eta 0:00:3790.4 MB 145 kB/s eta 0:00:36�████████████████▊| 490.6 MB 145 kB/s eta 0:00:35"
     ]
    },
    {
     "name": "stdout",
     "output_type": "stream",
     "text": [
      "\u001b[K     |████████████████████████████████| 495.6 MB 31 kB/s  eta 0:00:013��█████████████████████████▊| 491.0 MB 145 kB/s eta 0:00:32491.2 MB 145 kB/s eta 0:00:31███████▊| 491.4 MB 145 kB/s eta 0:00:29�█████████████████████████▊| 491.5 MB 145 kB/s eta 0:00:2891.7 MB 145 kB/s eta 0:00:27�████████████████▊| 491.8 MB 145 kB/s eta 0:00:265�███████▉| 492.1 MB 145 kB/s eta 0:00:24��█████████████████████████▉| 492.3 MB 145 kB/s eta 0:00:23492.4 MB 145 kB/s eta 0:00:22███████▉| 492.6 MB 145 kB/s eta 0:00:21�█████████████████████████▉| 492.8 MB 145 kB/s eta 0:00:2092.9 MB 145 kB/s eta 0:00:19�████████████████▉| 493.1 MB 145 kB/s eta 0:00:177�███████▉| 493.4 MB 145 kB/s eta 0:00:15��█████████████████████████▉| 493.5 MB 145 kB/s eta 0:00:14493.7 MB 145 kB/s eta 0:00:13████████| 493.9 MB 146 kB/s eta 0:00:12�██████████████████████████| 494.1 MB 146 kB/s eta 0:00:1194.2 MB 146 kB/s eta 0:00:10�█████████████████| 494.4 MB 146 kB/s eta 0:00:098�████████| 494.7 MB 146 kB/s eta 0:00:07��██████████████████████████| 494.8 MB 146 kB/s eta 0:00:06495.0 MB 146 kB/s eta 0:00:05████████| 495.2 MB 146 kB/s eta 0:00:03�██████████████████████████| 495.3 MB 146 kB/s eta 0:00:0295.5 MB 146 kB/s eta 0:00:01\n",
      "\u001b[?25h  Downloading tensorflow_gpu-2.7.2-cp39-cp39-manylinux2010_x86_64.whl (495.6 MB)\n"
     ]
    },
    {
     "name": "stdout",
     "output_type": "stream",
     "text": [
      "\u001b[K     |████▍                           | 67.9 MB 6.0 MB/s eta 0:01:112                   | 296 kB 7.0 MB/s eta 0:01:11         | 583 kB 7.0 MB/s eta 0:01:1170 kB 7.0 MB/s eta 0:01:11/s eta 0:01:1111 |▏                               | 1.7 MB 7.0 MB/s eta 0:01:11       | 2.0 MB 7.0 MB/s eta 0:01:110:01:11                      | 2.6 MB 7.0 MB/s eta 0:01:11B 7.0 MB/s eta 0:01:11  |▏                               | 3.1 MB 7.0 MB/s eta 0:01:11kB/s eta 3:08:33    | 3.7 MB 43 kB/s eta 3:08:26                    | 4.0 MB 43 kB/s eta 3:08:20 |▎                               | 4.3 MB 43 kB/s eta 3:08:13 3:08:079 MB 43 kB/s eta 3:08:00            | 5.2 MB 43 kB/s eta 3:07:54                            | 5.4 MB 43 kB/s eta 3:07:47kB/s eta 3:07:34    | 6.3 MB 43 kB/s eta 3:07:28                    | 6.6 MB 43 kB/s eta 3:07:21 |▍                               | 6.9 MB 43 kB/s eta 3:07:14 3:07:084 MB 43 kB/s eta 3:07:01            | 7.7 MB 43 kB/s eta 3:06:55ta 0:02:19                         | 8.3 MB 3.5 MB/s eta 0:02:196 MB 3.5 MB/s eta 0:02:19     |▋                               | 8.8 MB 3.5 MB/s eta 0:02:19           | 9.1 MB 3.5 MB/s eta 0:02:19eta 0:02:19                          | 9.7 MB 3.5 MB/s eta 0:02:180.0 MB 3.5 MB/s eta 0:02:182 MB 3.5 MB/s eta 0:02:18MB 3.5 MB/s eta 0:02:18 3.5 MB/s eta 0:02:18   | 11.1 MB 11.7 MB/s eta 0:00:42                            | 11.3 MB 11.7 MB/s eta 0:00:42a 0:00:42   | 11.9 MB 11.7 MB/s eta 0:00:42                            | 12.2 MB 11.7 MB/s eta 0:00:42a 0:00:42   | 12.7 MB 11.7 MB/s eta 0:00:42                            | 13.0 MB 11.7 MB/s eta 0:00:42a 0:00:42   | 13.5 MB 11.7 MB/s eta 0:00:42                            | 13.8 MB 11.7 MB/s eta 0:00:42a 0:00:42   | 14.3 MB 11.7 MB/s eta 0:00:42                           | 14.6 MB 5.5 MB/s eta 0:01:28                         | 14.9 MB 5.5 MB/s eta 0:01:28                       | 15.2 MB 5.5 MB/s eta 0:01:28                     | 15.4 MB 5.5 MB/s eta 0:01:28                   | 15.7 MB 5.5 MB/s eta 0:01:27                 | 16.0 MB 5.5 MB/s eta 0:01:27               | 16.3 MB 5.5 MB/s eta 0:01:27             | 16.5 MB 5.5 MB/s eta 0:01:27           | 16.8 MB 5.5 MB/s eta 0:01:27         | 17.1 MB 5.5 MB/s eta 0:01:27    |█▏                              | 17.4 MB 5.5 MB/s eta 0:01:27                 | 17.6 MB 5.5 MB/s eta 0:01:27MB 5.5 MB/s eta 0:01:27                      | 18.4 MB 138 kB/s eta 0:57:2318.7 MB 138 kB/s eta 0:57:217:19                          | 19.3 MB 138 kB/s eta 0:57:17  | 19.5 MB 138 kB/s eta 0:57:15 0:57:13                              | 20.1 MB 138 kB/s eta 0:57:11      | 20.3 MB 138 kB/s eta 0:57:09 eta 0:57:07�▍                              | 20.9 MB 138 kB/s eta 0:57:05          | 21.1 MB 138 kB/s eta 0:57:03kB/s eta 0:57:02 |█▍                              | 21.7 MB 138 kB/s eta 0:57:00              | 21.9 MB 138 kB/s eta 0:56:58138 kB/s eta 0:56:56     |█▌                              | 22.5 MB 138 kB/s eta 0:56:54                  | 22.8 MB 3.9 MB/s eta 0:02:01 MB 3.9 MB/s eta 0:02:01                      | 23.6 MB 3.9 MB/s eta 0:02:0123.8 MB 3.9 MB/s eta 0:02:012:01                          | 24.4 MB 3.9 MB/s eta 0:02:01  | 24.6 MB 3.9 MB/s eta 0:02:01 0:02:01                              | 25.2 MB 3.9 MB/s eta 0:02:01      | 25.4 MB 3.9 MB/s eta 0:02:00 eta 0:02:00�▊                              | 26.0 MB 3.9 MB/s eta 0:02:00          | 26.3 MB 7.0 MB/s eta 0:01:08MB/s eta 0:01:07 |█▊                              | 26.8 MB 7.0 MB/s eta 0:01:07              | 27.1 MB 7.0 MB/s eta 0:01:07                      | 27.5 MB 7.0 MB/s eta 0:01:0727.8 MB 7.0 MB/s eta 0:01:071:07                      | 28.6 MB 371 kB/s eta 0:20:5728.9 MB 371 kB/s eta 0:20:560:55                          | 29.4 MB 371 kB/s eta 0:20:55  | 29.7 MB 371 kB/s eta 0:20:54 0:20:53                              | 30.2 MB 371 kB/s eta 0:20:52                      | 30.7 MB 153 kB/s eta 0:50:3231.0 MB 153 kB/s eta 0:50:300:28                          | 31.5 MB 153 kB/s eta 0:50:26  | 31.8 MB 153 kB/s eta 0:50:25 0:50:23                              | 32.3 MB 153 kB/s eta 0:50:21                | 32.8 MB 88 kB/s eta 1:27:12                  | 33.1 MB 88 kB/s eta 1:27:09                    | 33.3 MB 88 kB/s eta 1:27:06                      | 33.6 MB 88 kB/s eta 1:27:03                        | 33.9 MB 88 kB/s eta 1:27:00                          | 34.1 MB 88 kB/s eta 1:26:57                            | 34.4 MB 88 kB/s eta 1:26:54�                             | 34.7 MB 88 kB/s eta 1:26:51▎                             | 34.9 MB 88 kB/s eta 1:26:48��▎                             | 35.2 MB 88 kB/s eta 1:26:45�█▎                             | 35.5 MB 88 kB/s eta 1:26:42██▎                             | 35.7 MB 88 kB/s eta 1:26:39 |██▎                             | 36.0 MB 88 kB/s eta 1:26:36   |██▍                             | 36.2 MB 88 kB/s eta 1:26:33     |██▍                             | 36.5 MB 88 kB/s eta 1:26:3037.0 MB 172 kB/s eta 0:44:14                          | 37.2 MB 172 kB/s eta 0:44:12:44:11    | 37.8 MB 172 kB/s eta 0:44:09▌                             | 38.0 MB 172 kB/s eta 0:44:07 eta 0:44:06          | 38.6 MB 172 kB/s eta 0:44:04██▌                             | 38.8 MB 172 kB/s eta 0:44:032 kB/s eta 0:44:01                | 39.3 MB 172 kB/s eta 0:44:00     |██▋                             | 39.6 MB 172 kB/s eta 0:43:58 MB 172 kB/s eta 0:43:57                      | 40.1 MB 172 kB/s eta 0:43:5554| 40.7 MB 172 kB/s eta 0:43:52                            | 40.9 MB 418 kB/s eta 0:18:06 0:18:05      | 41.4 MB 418 kB/s eta 0:18:04��▊                             | 41.7 MB 418 kB/s eta 0:18:04/s eta 0:18:03            | 42.2 MB 418 kB/s eta 0:18:03 |██▊                             | 42.5 MB 418 kB/s eta 0:18:02418 kB/s eta 0:18:0143.6 MB 231 kB/s eta 0:32:33                          | 43.9 MB 231 kB/s eta 0:32:3144.3 MB 231 kB/s eta 0:32:29                          | 44.6 MB 231 kB/s eta 0:32:28:32:2745.2 MB 231 kB/s eta 0:32:26                          | 45.5 MB 231 kB/s eta 0:32:24:10:29    | 46.0 MB 716 kB/s eta 0:10:28█                             | 46.2 MB 716 kB/s eta 0:10:28 eta 0:10:27          | 46.8 MB 716 kB/s eta 0:10:27███                             | 47.0 MB 716 kB/s eta 0:10:2747.5 MB 716 kB/s eta 0:10:26                          | 47.7 MB 716 kB/s eta 0:10:26:10:25                | 63.9 MB 2.0 MB/s eta 0:03:41/s eta 0:03:41                    | 64.5 MB 124 kB/s eta 0:57:454 kB/s eta 0:57:43��██▏                           | 65.0 MB 124 kB/s eta 0:57:41                    | 65.4 MB 124 kB/s eta 0:57:384 kB/s eta 0:57:36��██▎                           | 65.9 MB 124 kB/s eta 0:57:34                    | 66.4 MB 124 kB/s eta 0:57:304 kB/s eta 0:57:28��██▎                           | 66.9 MB 124 kB/s eta 0:57:26      | 67.1 MB 124 kB/s eta 0:57:241:11                        | 67.6 MB 6.0 MB/s eta 0:01:11B 6.0 MB/s eta 0:01:11\r",
      "\u001b[K     |████▍                           | 67.9 MB 6.0 MB/s eta 0:01:11\r",
      "\u001b[K     |████▍                           | 67.9 MB 6.0 MB/s eta 0:01:11\r",
      "\u001b[K     |████▍                           | 67.9 MB 6.0 MB/s eta 0:01:11\r",
      "\u001b[K     |████▍                           | 67.9 MB 6.0 MB/s eta 0:01:11\r",
      "\u001b[K     |████▍                           | 67.9 MB 6.0 MB/s eta 0:01:11\r",
      "\u001b[K     |████▍                           | 67.9 MB 6.0 MB/s eta 0:01:11\r",
      "\u001b[K     |████▍                           | 67.9 MB 6.0 MB/s eta 0:01:11\r",
      "\u001b[K     |████▍                           | 67.9 MB 6.0 MB/s eta 0:01:11\r",
      "\u001b[K     |████▍                           | 68.0 MB 6.0 MB/s eta 0:01:11\r",
      "\u001b[K     |████▍                           | 68.0 MB 6.0 MB/s eta 0:01:11\r",
      "\u001b[K     |████▍                           | 68.0 MB 6.0 MB/s eta 0:01:11\r",
      "\u001b[K     |████▍                           | 68.0 MB 6.0 MB/s eta 0:01:11\r",
      "\u001b[K     |████▍                           | 68.0 MB 6.0 MB/s eta 0:01:11\r",
      "\u001b[K     |████▍                           | 68.0 MB 6.0 MB/s eta 0:01:11\r",
      "\u001b[K     |████▍                           | 68.0 MB 6.0 MB/s eta 0:01:11\r",
      "\u001b[K     |████▍                           | 68.0 MB 6.0 MB/s eta 0:01:11\r",
      "\u001b[K     |████▍                           | 68.0 MB 6.0 MB/s eta 0:01:11\r",
      "\u001b[K     |████▍                           | 68.0 MB 6.0 MB/s eta 0:01:11\r",
      "\u001b[K     |████▍                           | 68.1 MB 6.0 MB/s eta 0:01:11\r",
      "\u001b[K     |████▍                           | 68.1 MB 6.0 MB/s eta 0:01:11\r",
      "\u001b[K     |████▍                           | 68.1 MB 6.0 MB/s eta 0:01:11\r",
      "\u001b[K     |████▍                           | 68.1 MB 6.0 MB/s eta 0:01:11\r",
      "\u001b[K     |████▍                           | 68.1 MB 6.0 MB/s eta 0:01:11\r",
      "\u001b[K     |████▍                           | 68.1 MB 6.0 MB/s eta 0:01:11\r",
      "\u001b[K     |"
     ]
    },
    {
     "name": "stdout",
     "output_type": "stream",
     "text": [
      "\u001b[K     |████████▌                       | 131.5 MB 3.8 MB/s eta 0:01:370:01:11�                           | 68.9 MB 6.0 MB/s eta 0:01:11.1 MB 6.0 MB/s eta 0:01:11   |████▌                           | 69.4 MB 6.0 MB/s eta 0:01:11              | 69.6 MB 6.0 MB/s eta 0:01:11 eta 0:01:11��▌                           | 70.1 MB 6.0 MB/s eta 0:01:11| 70.4 MB 175 kB/s eta 0:40:20[K     |████▋                           | 70.6 MB 175 kB/s eta 0:40:18                  | 70.9 MB 175 kB/s eta 0:40:17kB/s eta 0:40:15██▋                           | 71.4 MB 175 kB/s eta 0:40:14    | 71.6 MB 175 kB/s eta 0:40:1211                      | 72.1 MB 175 kB/s eta 0:40:10175 kB/s eta 0:40:08�███▊                           | 72.6 MB 175 kB/s eta 0:40:07        | 72.9 MB 175 kB/s eta 0:40:05:40:04                          | 73.4 MB 175 kB/s eta 0:40:03 MB 175 kB/s eta 0:40:01 |████▊                           | 73.9 MB 175 kB/s eta 0:40:00            | 74.1 MB 175 kB/s eta 0:39:58ta 0:03:32▉                           | 74.6 MB 2.0 MB/s eta 0:03:3274.9 MB 2.0 MB/s eta 0:03:31     |████▉                           | 75.1 MB 2.0 MB/s eta 0:03:31                | 75.4 MB 2.0 MB/s eta 0:03:31/s eta 0:03:31�██                           | 75.9 MB 2.0 MB/s eta 0:03:31  | 76.1 MB 2.0 MB/s eta 0:03:31                    | 76.6 MB 2.0 MB/s eta 0:03:310 MB/s eta 0:03:30��███                           | 77.1 MB 2.0 MB/s eta 0:03:30                    | 77.5 MB 133 kB/s eta 0:52:173 kB/s eta 0:52:15��███                           | 78.0 MB 133 kB/s eta 0:52:13      | 78.3 MB 133 kB/s eta 0:52:112:09                        | 78.8 MB 133 kB/s eta 0:52:07B 133 kB/s eta 0:52:06/s eta 0:52:04| 79.5 MB 133 kB/s eta 0:52:02kB/s eta 0:51:59  | 80.2 MB 133 kB/s eta 0:51:57                  | 80.4 MB 133 kB/s eta 0:51:55��█▏                          | 80.7 MB 133 kB/s eta 0:51:53     |█████▎                          | 80.9 MB 133 kB/s eta 0:51:51 eta 0:51:5081.4 MB 133 kB/s eta 0:51:48              | 81.6 MB 133 kB/s eta 0:51:46�▎                          | 81.9 MB 133 kB/s eta 0:51:44kB/s eta 0:51:23  | 82.6 MB 134 kB/s eta 0:51:21                  | 82.8 MB 134 kB/s eta 0:51:19��█▍                          | 83.0 MB 134 kB/s eta 0:51:17     |█████▍                          | 83.3 MB 134 kB/s eta 0:51:16 eta 0:51:1483.8 MB 134 kB/s eta 0:51:12              | 84.0 MB 134 kB/s eta 0:51:10�▍                          | 84.3 MB 134 kB/s eta 0:51:08kB/s eta 0:51:05  | 85.0 MB 134 kB/s eta 0:51:03                  | 85.2 MB 134 kB/s eta 0:51:01��█▌                          | 85.4 MB 134 kB/s eta 0:51:00     |█████▌                          | 85.7 MB 134 kB/s eta 0:50:58 eta 0:50:5686.2 MB 134 kB/s eta 0:50:54              | 86.4 MB 134 kB/s eta 0:50:52�▋                          | 86.7 MB 134 kB/s eta 0:50:51kB/s eta 0:50:54  | 87.3 MB 133 kB/s eta 0:50:52                  | 87.6 MB 133 kB/s eta 0:50:50��█▊                          | 87.8 MB 133 kB/s eta 0:50:48     |█████▊                          | 88.1 MB 133 kB/s eta 0:50:46 eta 0:50:4588.6 MB 133 kB/s eta 0:50:43              | 88.8 MB 133 kB/s eta 0:50:41�▊                          | 89.1 MB 133 kB/s eta 0:50:39 |█████▊                          | 89.3 MB 133 kB/s eta 0:50:37kB/s eta 0:50:34  | 90.0 MB 133 kB/s eta 0:50:32                  | 90.2 MB 133 kB/s eta 0:50:30��█▉                          | 90.5 MB 133 kB/s eta 0:50:28     |█████▉                          | 90.7 MB 133 kB/s eta 0:50:27 eta 0:50:2591.2 MB 133 kB/s eta 0:50:23              | 91.5 MB 133 kB/s eta 0:50:21�█                          | 91.7 MB 133 kB/s eta 0:50:19kB/s eta 0:49:55  | 92.4 MB 134 kB/s eta 0:49:53                  | 92.6 MB 134 kB/s eta 0:49:51��██                          | 92.9 MB 134 kB/s eta 0:49:49     |██████                          | 93.1 MB 134 kB/s eta 0:49:48 eta 0:49:4693.6 MB 134 kB/s eta 0:49:44              | 93.8 MB 134 kB/s eta 0:49:42�█                          | 94.1 MB 134 kB/s eta 0:49:40kB/s eta 0:49:37��▏                         | 94.8 MB 134 kB/s eta 0:49:35        | 95.0 MB 134 kB/s eta 0:49:34kB/s eta 0:49:32   |██████▏                         | 95.5 MB 134 kB/s eta 0:49:30▏                         | 95.7 MB 134 kB/s eta 0:49:28      | 96.0 MB 134 kB/s eta 0:49:27/s eta 0:49:25 |██████▎                         | 96.5 MB 134 kB/s eta 0:49:23     |██████▎                         | 96.5 MB 134 kB/s eta 0:49:22��▎                         | 96.8 MB 134 kB/s eta 0:49:25        | 97.0 MB 134 kB/s eta 0:49:23kB/s eta 0:49:21   |██████▎                         | 97.5 MB 134 kB/s eta 0:49:20▎                         | 97.7 MB 134 kB/s eta 0:49:18      | 97.9 MB 134 kB/s eta 0:49:16/s eta 0:49:14 |██████▍                         | 98.4 MB 134 kB/s eta 0:49:13�                         | 98.7 MB 134 kB/s eta 0:49:11    | 98.9 MB 134 kB/s eta 0:49:09 eta 0:49:07██████▍                         | 99.4 MB 134 kB/s eta 0:49:06                        | 99.6 MB 134 kB/s eta 0:49:04  | 99.9 MB 134 kB/s eta 0:49:02 MB 134 kB/s eta 0:49:003 MB 134 kB/s eta 0:48:59523:213:1953:17:53:150:53:13 0:53:11806:043:0253:00:52:580:52:56 0:52:55159:572:5642:54:42:530:42:51 0:42:50745:442:4242:41:42:390:42:38 0:42:36a 0:42:35ta 0:42:33eta 0:05:43 eta 0:05:42s eta 0:05:42/s eta 0:05:42 1.1 MB/s eta 0:05:42�███▏                        | 110.5 MB 1.1 MB/s eta 0:05:41.7 MB 1.1 MB/s eta 0:05:41█████▏                        | 110.9 MB 1.1 MB/s eta 0:05:41| 111.1 MB 1.1 MB/s eta 0:05:41��██████▏                        | 111.4 MB 1.1 MB/s eta 0:05:41     | 111.6 MB 1.1 MB/s eta 0:05:40   |███████▏                        | 111.8 MB 1.1 MB/s eta 0:05:40                | 112.3 MB 152 kB/s eta 0:41:5441:52                     | 112.7 MB 152 kB/s eta 0:41:51ta 0:41:49��                        | 113.2 MB 152 kB/s eta 0:41:47B/s eta 0:41:46�█▍                        | 113.7 MB 152 kB/s eta 0:41:44152 kB/s eta 0:41:438 MB 54 kB/s eta 1:56:25                  | 115.0 MB 54 kB/s eta 1:56:21█████▍                        | 115.2 MB 54 kB/s eta 1:56:166 MB 54 kB/s eta 1:56:10                  | 115.8 MB 54 kB/s eta 1:56:05█████▌                        | 116.1 MB 54 kB/s eta 1:56:01 1:55:576 MB 47 kB/s eta 2:12:39                  | 116.9 MB 47 kB/s eta 2:12:35█████▋                        | 117.1 MB 47 kB/s eta 2:12:30 2:12:25  | 117.6 MB 47 kB/s eta 2:12:20��                        | 117.8 MB 47 kB/s eta 2:12:15 |███████▋                        | 118.0 MB 47 kB/s eta 2:12:10kB/s eta 2:12:05          | 118.5 MB 47 kB/s eta 2:12:00�██▊                        | 118.7 MB 47 kB/s eta 2:11:552 MB 47 kB/s eta 2:11:46               | 119.6 MB 156 kB/s eta 0:40:090:07                    | 120.1 MB 156 kB/s eta 0:40:06a 0:40:04�                        | 120.5 MB 156 kB/s eta 0:40:03/s eta 0:40:01█▉                        | 121.0 MB 156 kB/s eta 0:40:0056 kB/s eta 0:39:58                | 121.6 MB 156 kB/s eta 0:39:5539:54                     | 122.1 MB 156 kB/s eta 0:39:52ta 0:39:51��                        | 122.6 MB 156 kB/s eta 0:39:50B/s eta 0:39:48�██                        | 123.0 MB 156 kB/s eta 0:39:47156 kB/s eta 0:39:45                | 123.7 MB 151 kB/s eta 0:40:5840:57                     | 124.1 MB 151 kB/s eta 0:40:55ta 0:40:54��                        | 124.6 MB 151 kB/s eta 0:40:52B/s eta 0:40:51�██                        | 125.1 MB 151 kB/s eta 0:40:49151 kB/s eta 0:40:47��████▏                       | 125.7 MB 151 kB/s eta 0:40:45�█████▏                       | 126.0 MB 151 kB/s eta 0:40:43██████▏                       | 126.2 MB 151 kB/s eta 0:40:42��██████▏                       | 126.4 MB 151 kB/s eta 0:40:40�███████▏                       | 126.6 MB 151 kB/s eta 0:40:39████████▏                       | 126.9 MB 632 kB/s eta 0:09:43 |████████▏                       | 127.1 MB 632 kB/s eta 0:09:43   |████████▏                       | 127.3 MB 632 kB/s eta 0:09:42     |████████▎                       | 127.5 MB 632 kB/s eta 0:09:42419:41:09:41 0:09:40ta 0:09:40 eta 0:09:40/s eta 0:09:39kB/s eta 0:09:392 kB/s eta 0:09:39632 kB/s eta 0:09:38B 632 kB/s eta 0:09:38 MB 632 kB/s eta 0:09:37.6 MB 3.8 MB/s eta 0:01:3730.8 MB 3.8 MB/s eta 0:01:37 131.0 MB 3.8 MB/s eta 0:01:37 | 131.3 MB 3.8 MB/s eta 0:01:37"
     ]
    },
    {
     "name": "stdout",
     "output_type": "stream",
     "text": [
      "\u001b[K     |█�█████████                     | 171.4 MB 135 kB/s eta 0:39:48       | 131.9 MB 3.8 MB/s eta 0:01:37         | 132.2 MB 3.8 MB/s eta 0:01:37           | 132.4 MB 3.8 MB/s eta 0:01:37             | 132.6 MB 3.8 MB/s eta 0:01:37               | 132.8 MB 152 kB/s eta 0:39:36                 | 133.1 MB 152 kB/s eta 0:39:35                   | 133.3 MB 152 kB/s eta 0:39:33                     | 133.5 MB 152 kB/s eta 0:39:32                       | 133.7 MB 152 kB/s eta 0:39:30��                       | 134.0 MB 152 kB/s eta 0:39:29�▋                       | 134.2 MB 152 kB/s eta 0:39:27█▊                       | 134.4 MB 152 kB/s eta 0:39:26��█▊                       | 134.6 MB 152 kB/s eta 0:39:24239:21:39:20 0:39:18ta 0:39:17 eta 0:39:15/s eta 0:39:14kB/s eta 0:39:122 kB/s eta 0:39:11523:50:43:49 0:43:47ta 0:43:45 eta 0:43:44/s eta 0:43:42kB/s eta 0:43:416 kB/s eta 0:43:39136 kB/s eta 0:43:37B 136 kB/s eta 0:43:36 MB 136 kB/s eta 0:43:34.6 MB 136 kB/s eta 0:43:3239.9 MB 2.2 MB/s eta 0:02:40 140.1 MB 2.2 MB/s eta 0:02:40 | 140.3 MB 2.2 MB/s eta 0:02:40   | 140.5 MB 2.2 MB/s eta 0:02:40     | 140.8 MB 2.2 MB/s eta 0:02:40       | 141.0 MB 2.2 MB/s eta 0:02:40��██▏                      | 141.2 MB 2.2 MB/s eta 0:02:40 MB/s eta 0:02:39�██▏                      | 141.7 MB 2.2 MB/s eta 0:02:39MB/s eta 0:02:39██▏                      | 142.1 MB 2.2 MB/s eta 0:02:39B/s eta 0:02:39��█▏                      | 142.5 MB 2.2 MB/s eta 0:02:39/s eta 0:02:39�█▎                      | 143.0 MB 2.2 MB/s eta 0:02:39s eta 0:02:39█▎                      | 143.4 MB 2.2 MB/s eta 0:02:39 eta 0:01:51��▎                      | 143.9 MB 3.2 MB/s eta 0:01:51eta 0:01:51�▎                      | 144.3 MB 3.2 MB/s eta 0:01:50ta 0:01:50▍                      | 144.7 MB 3.2 MB/s eta 0:01:50               | 145.0 MB 3.2 MB/s eta 0:01:50              | 145.4 MB 3.2 MB/s eta 0:01:50[K     |█████████▍                      | 145.6 MB 3.2 MB/s eta 0:01:50             | 145.9 MB 3.2 MB/s eta 0:01:50K     |█████████▍                      | 146.1 MB 3.2 MB/s eta 0:01:50            | 146.3 MB 3.2 MB/s eta 0:01:50     |█████████▌                      | 146.5 MB 3.2 MB/s eta 0:01:50           | 146.7 MB 3.2 MB/s eta 0:01:50               | 147.0 MB 134 kB/s eta 0:43:19              | 147.4 MB 134 kB/s eta 0:43:16[K     |█████████▌                      | 147.6 MB 134 kB/s eta 0:43:14             | 147.9 MB 134 kB/s eta 0:43:13K     |█████████▋                      | 148.1 MB 134 kB/s eta 0:43:11            | 148.3 MB 134 kB/s eta 0:43:09     |█████████▋                      | 148.5 MB 134 kB/s eta 0:43:08           | 148.7 MB 134 kB/s eta 0:43:06               | 149.0 MB 134 kB/s eta 0:43:04              | 149.4 MB 134 kB/s eta 0:43:01[K     |█████████▋                      | 149.6 MB 134 kB/s eta 0:42:59             | 149.9 MB 134 kB/s eta 0:42:58K     |█████████▊                      | 150.1 MB 134 kB/s eta 0:42:56            | 150.3 MB 134 kB/s eta 0:42:54     |█████████▊                      | 150.5 MB 134 kB/s eta 0:42:53           | 150.7 MB 134 kB/s eta 0:42:51               | 151.0 MB 134 kB/s eta 0:42:35              | 151.4 MB 134 kB/s eta 0:42:32[K     |█████████▉                      | 151.6 MB 134 kB/s eta 0:42:30             | 151.8 MB 134 kB/s eta 0:42:29K     |█████████▉                      | 152.1 MB 134 kB/s eta 0:42:27            | 152.3 MB 134 kB/s eta 0:42:25     |█████████▉                      | 152.5 MB 134 kB/s eta 0:42:24           | 152.7 MB 134 kB/s eta 0:42:22               | 153.0 MB 134 kB/s eta 0:42:20              | 153.4 MB 134 kB/s eta 0:42:17[K     |██████████                      | 153.6 MB 134 kB/s eta 0:42:15             | 153.8 MB 134 kB/s eta 0:42:14K     |██████████                      | 154.1 MB 134 kB/s eta 0:42:12            | 154.3 MB 134 kB/s eta 0:42:11     |██████████                      | 154.5 MB 134 kB/s eta 0:42:09           | 154.7 MB 134 kB/s eta 0:42:07               | 155.0 MB 118 kB/s eta 0:48:03              | 155.4 MB 118 kB/s eta 0:47:59[K     |██████████                      | 155.6 MB 118 kB/s eta 0:47:57             | 155.8 MB 118 kB/s eta 0:47:55K     |██████████                      | 156.1 MB 118 kB/s eta 0:47:53            | 156.3 MB 118 kB/s eta 0:47:52     |██████████                      | 156.5 MB 118 kB/s eta 0:47:50█████▏                     | 156.7 MB 118 kB/s eta 0:47:48    |██████████▏                     | 157.0 MB 118 kB/s eta 0:47:46██████████▏                     | 157.2 MB 118 kB/s eta 0:47:44�████████▏                     | 157.4 MB 118 kB/s eta 0:47:42��██████▏                     | 157.6 MB 118 kB/s eta 0:47:40█████▏                     | 157.8 MB 118 kB/s eta 0:47:39�███▏                     | 158.0 MB 118 kB/s eta 0:47:37��█▏                     | 158.2 MB 118 kB/s eta 0:47:35▎                     | 158.5 MB 118 kB/s eta 0:47:33                   | 158.7 MB 118 kB/s eta 0:47:31    |██████████▎                     | 159.0 MB 130 kB/s eta 0:43:07██████████▎                     | 159.2 MB 130 kB/s eta 0:43:05�████████▎                     | 159.4 MB 130 kB/s eta 0:43:03��██████▎                     | 159.6 MB 130 kB/s eta 0:43:02█████▎                     | 159.8 MB 130 kB/s eta 0:43:00�███▍                     | 160.0 MB 130 kB/s eta 0:42:58��█▍                     | 160.2 MB 130 kB/s eta 0:42:57▍                     | 160.5 MB 130 kB/s eta 0:42:55                   | 160.7 MB 130 kB/s eta 0:42:53    |██████████▍                     | 161.0 MB 130 kB/s eta 0:42:51██████████▍                     | 161.2 MB 130 kB/s eta 0:42:50�████████▍                     | 161.4 MB 130 kB/s eta 0:42:48��██████▍                     | 161.6 MB 130 kB/s eta 0:42:46█████▌                     | 161.8 MB 130 kB/s eta 0:42:45�███▌                     | 162.0 MB 130 kB/s eta 0:42:43��█▌                     | 162.2 MB 130 kB/s eta 0:42:41▌                     | 162.5 MB 130 kB/s eta 0:42:40                   | 162.7 MB 130 kB/s eta 0:42:38    |██████████▌                     | 162.9 MB 116 kB/s eta 0:47:39██████████▌                     | 163.2 MB 116 kB/s eta 0:47:37�████████▌                     | 163.4 MB 116 kB/s eta 0:47:35��██████▋                     | 163.6 MB 116 kB/s eta 0:47:33█████▋                     | 163.8 MB 116 kB/s eta 0:47:31�███▋                     | 164.0 MB 116 kB/s eta 0:47:29��█▋                     | 164.2 MB 116 kB/s eta 0:47:28▋                     | 164.5 MB 116 kB/s eta 0:47:26                   | 164.7 MB 116 kB/s eta 0:47:24    |██████████▋                     | 164.9 MB 116 kB/s eta 0:47:22██████████▋                     | 165.2 MB 116 kB/s eta 0:47:20�████████▊                     | 165.4 MB 116 kB/s eta 0:47:18��██████▊                     | 165.6 MB 116 kB/s eta 0:47:16█████▊                     | 165.8 MB 116 kB/s eta 0:47:14�███▊                     | 166.0 MB 116 kB/s eta 0:47:12��█▊                     | 166.2 MB 116 kB/s eta 0:47:10▊                     | 166.5 MB 116 kB/s eta 0:47:09                   | 166.7 MB 116 kB/s eta 0:47:07    |██████████▉                     | 166.9 MB 133 kB/s eta 0:41:04██████████▉                     | 167.2 MB 133 kB/s eta 0:41:03�████████▉                     | 167.4 MB 133 kB/s eta 0:41:01��██████▉                     | 167.6 MB 133 kB/s eta 0:40:59█████▉                     | 167.8 MB 133 kB/s eta 0:40:58�███▉                     | 168.0 MB 133 kB/s eta 0:40:56��█▉                     | 168.2 MB 133 kB/s eta 0:40:55▉                     | 168.4 MB 133 kB/s eta 0:40:53                   | 168.7 MB 133 kB/s eta 0:40:51    |███████████                     | 168.9 MB 133 kB/s eta 0:40:49███████████                     | 169.2 MB 133 kB/s eta 0:40:48�█████████                     | 169.4 MB 133 kB/s eta 0:40:46��███████                     | 169.6 MB 133 kB/s eta 0:40:44██████                     | 169.8 MB 133 kB/s eta 0:40:43�████                     | 170.0 MB 133 kB/s eta 0:40:41��██                     | 170.2 MB 133 kB/s eta 0:40:40█                     | 170.4 MB 133 kB/s eta 0:40:38                   | 170.7 MB 133 kB/s eta 0:40:36    |███████████                     | 170.9 MB 135 kB/s eta 0:39:51███████████                     | 171.2 MB 135 kB/s eta 0:39:50"
     ]
    },
    {
     "name": "stdout",
     "output_type": "stream",
     "text": [
      "\u001b[K     |███�██████████                  | 217.4 MB 135 kB/s eta 0:34:0847██████                     | 171.8 MB 135 kB/s eta 0:39:45�████                     | 172.0 MB 135 kB/s eta 0:39:44  |███████████▏                    | 172.2 MB 135 kB/s eta 0:39:42 172.4 MB 135 kB/s eta 0:39:40�████▏                    | 172.6 MB 135 kB/s eta 0:39:39      | 172.9 MB 135 kB/s eta 0:39:37��██████▏                    | 173.1 MB 135 kB/s eta 0:39:35/s eta 0:39:34                    | 173.6 MB 135 kB/s eta 0:39:32|███████████▏                    | 173.8 MB 135 kB/s eta 0:39:3174.0 MB 135 kB/s eta 0:39:29��███▎                    | 174.2 MB 135 kB/s eta 0:39:2839:26           | 174.6 MB 135 kB/s eta 0:39:24      | 174.9 MB 136 kB/s eta 0:39:16��██████▎                    | 175.1 MB 136 kB/s eta 0:39:14/s eta 0:39:13                    | 175.6 MB 136 kB/s eta 0:39:11|███████████▍                    | 175.8 MB 136 kB/s eta 0:39:1076.0 MB 136 kB/s eta 0:39:08��███▍                    | 176.2 MB 136 kB/s eta 0:39:0639:05           | 176.6 MB 136 kB/s eta 0:39:03      | 176.9 MB 136 kB/s eta 0:39:01��██████▍                    | 177.1 MB 136 kB/s eta 0:39:00/s eta 0:38:58                    | 177.6 MB 136 kB/s eta 0:38:56|███████████▌                    | 177.8 MB 136 kB/s eta 0:38:5578.0 MB 136 kB/s eta 0:38:53��███▌                    | 178.2 MB 136 kB/s eta 0:38:5238:50           | 178.6 MB 136 kB/s eta 0:38:49      | 178.9 MB 135 kB/s eta 0:38:50��██████▋                    | 179.1 MB 135 kB/s eta 0:38:49/s eta 0:38:47                    | 179.5 MB 135 kB/s eta 0:38:46|███████████▋                    | 179.8 MB 135 kB/s eta 0:38:4480.0 MB 135 kB/s eta 0:38:43��███▋                    | 180.2 MB 135 kB/s eta 0:38:4138:40           | 180.6 MB 135 kB/s eta 0:38:38     |███████████▊                    | 180.7 MB 135 kB/s eta 0:38:37  | 180.9 MB 135 kB/s eta 0:38:36�█████▊                    | 181.1 MB 135 kB/s eta 0:38:34ta 0:38:33                | 181.5 MB 135 kB/s eta 0:38:31██████████▊                    | 181.8 MB 135 kB/s eta 0:38:29 MB 135 kB/s eta 0:38:28�██▊                    | 182.2 MB 135 kB/s eta 0:38:265       | 182.6 MB 135 kB/s eta 0:38:23      | 182.9 MB 135 kB/s eta 0:38:21��██████▉                    | 183.1 MB 135 kB/s eta 0:38:19/s eta 0:38:18                    | 183.5 MB 135 kB/s eta 0:38:16|███████████▉                    | 183.8 MB 135 kB/s eta 0:38:1584.0 MB 135 kB/s eta 0:38:13��████                    | 184.2 MB 135 kB/s eta 0:38:1238:10           | 184.6 MB 135 kB/s eta 0:38:09      | 184.9 MB 135 kB/s eta 0:38:06��███████                    | 185.1 MB 135 kB/s eta 0:38:05/s eta 0:38:03                    | 185.5 MB 135 kB/s eta 0:38:02|████████████                    | 185.8 MB 135 kB/s eta 0:38:0086.0 MB 135 kB/s eta 0:37:59��████                    | 186.2 MB 135 kB/s eta 0:37:5737:55           | 186.6 MB 135 kB/s eta 0:37:54      | 186.9 MB 133 kB/s eta 0:38:30��███████                    | 187.1 MB 133 kB/s eta 0:38:28/s eta 0:38:27                    | 187.5 MB 133 kB/s eta 0:38:257.7 MB 133 kB/s eta 0:38:240:38:22███████████▏                   | 188.2 MB 133 kB/s eta 0:38:21�████▏                   | 188.4 MB 133 kB/s eta 0:38:19               | 188.6 MB 133 kB/s eta 0:38:17��████████▏                   | 188.9 MB 133 kB/s eta 0:38:15██▏                   | 189.1 MB 133 kB/s eta 0:38:13        | 189.3 MB 133 kB/s eta 0:38:1233 kB/s eta 0:38:10�████████▎                   | 189.9 MB 133 kB/s eta 0:38:07��█▎                   | 190.1 MB 133 kB/s eta 0:38:06       | 190.3 MB 133 kB/s eta 0:38:043 kB/s eta 0:38:03��████████▎                   | 190.9 MB 124 kB/s eta 0:40:52██▍                   | 191.1 MB 124 kB/s eta 0:40:50        | 191.3 MB 124 kB/s eta 0:40:4824 kB/s eta 0:40:47�████████▍                   | 191.9 MB 124 kB/s eta 0:40:43��█▍                   | 192.1 MB 124 kB/s eta 0:40:42       | 192.3 MB 124 kB/s eta 0:40:404 kB/s eta 0:40:38��████████▌                   | 192.9 MB 124 kB/s eta 0:40:36██▌                   | 193.1 MB 124 kB/s eta 0:40:34        | 193.3 MB 124 kB/s eta 0:40:3224 kB/s eta 0:40:31�████████▌                   | 193.9 MB 124 kB/s eta 0:40:27��█▌                   | 194.1 MB 124 kB/s eta 0:40:26       | 194.3 MB 124 kB/s eta 0:40:244 kB/s eta 0:40:22��████████▋                   | 194.9 MB 132 kB/s eta 0:37:46██▋                   | 195.1 MB 132 kB/s eta 0:37:45        | 195.3 MB 132 kB/s eta 0:37:4332 kB/s eta 0:37:42�████████▋                   | 195.9 MB 132 kB/s eta 0:37:38��█▋                   | 196.1 MB 132 kB/s eta 0:37:37       | 196.3 MB 132 kB/s eta 0:37:352 kB/s eta 0:37:34��████████▊                   | 196.9 MB 132 kB/s eta 0:37:31██▊                   | 197.1 MB 132 kB/s eta 0:37:30        | 197.3 MB 132 kB/s eta 0:37:2832 kB/s eta 0:37:27�████████▉                   | 197.9 MB 132 kB/s eta 0:37:23��█▉                   | 198.1 MB 132 kB/s eta 0:37:22       | 198.3 MB 132 kB/s eta 0:37:202 kB/s eta 0:37:19��████████▉                   | 198.9 MB 132 kB/s eta 0:37:23██▉                   | 199.1 MB 132 kB/s eta 0:37:22        | 199.3 MB 132 kB/s eta 0:37:2032 kB/s eta 0:37:19�█████████                   | 199.9 MB 132 kB/s eta 0:37:16��██                   | 200.1 MB 132 kB/s eta 0:37:14       | 200.3 MB 132 kB/s eta 0:37:122 kB/s eta 0:37:11��█████████                   | 200.9 MB 132 kB/s eta 0:37:08███                   | 201.1 MB 132 kB/s eta 0:37:07        | 201.3 MB 132 kB/s eta 0:37:0532 kB/s eta 0:37:04�█████████                   | 201.9 MB 132 kB/s eta 0:37:00��██                   | 202.1 MB 132 kB/s eta 0:36:59       | 202.3 MB 132 kB/s eta 0:36:572 kB/s eta 0:36:56��█████████                   | 202.9 MB 126 kB/s eta 0:38:41█████▏                  | 203.1 MB 126 kB/s eta 0:38:39��███████████▏                  | 203.3 MB 126 kB/s eta 0:38:38:38:36.7 MB 126 kB/s eta 0:38:35               | 203.9 MB 126 kB/s eta 0:38:33��████▏                  | 204.1 MB 126 kB/s eta 0:38:31�███████████▏                  | 204.3 MB 126 kB/s eta 0:38:3038:28126 kB/s eta 0:38:25         | 205.1 MB 126 kB/s eta 0:38:24��██▎                  | 205.3 MB 126 kB/s eta 0:38:22�█████████▎                  | 205.5 MB 126 kB/s eta 0:38:2026 kB/s eta 0:38:17        | 206.1 MB 126 kB/s eta 0:38:16�██▎                  | 206.3 MB 126 kB/s eta 0:38:14█████████▍                  | 206.5 MB 126 kB/s eta 0:38:12124 kB/s eta 0:38:43         | 207.1 MB 124 kB/s eta 0:38:41��██▍                  | 207.3 MB 124 kB/s eta 0:38:40�█████████▍                  | 207.5 MB 124 kB/s eta 0:38:3824 kB/s eta 0:38:35        | 208.1 MB 124 kB/s eta 0:38:33�██▌                  | 208.3 MB 124 kB/s eta 0:38:32█████████▌                  | 208.5 MB 124 kB/s eta 0:38:30124 kB/s eta 0:38:27         | 209.1 MB 124 kB/s eta 0:38:25��██▌                  | 209.3 MB 124 kB/s eta 0:38:24�█████████▌                  | 209.5 MB 124 kB/s eta 0:38:2224 kB/s eta 0:38:19        | 210.1 MB 124 kB/s eta 0:38:17�██▋                  | 210.3 MB 124 kB/s eta 0:38:16█████████▋                  | 210.5 MB 124 kB/s eta 0:38:14134 kB/s eta 0:35:11         | 211.1 MB 134 kB/s eta 0:35:09��██▋                  | 211.3 MB 134 kB/s eta 0:35:08�█████████▋                  | 211.5 MB 134 kB/s eta 0:35:0634 kB/s eta 0:35:03        | 212.1 MB 134 kB/s eta 0:35:02�██▊                  | 212.3 MB 134 kB/s eta 0:35:00█████████▊                  | 212.5 MB 134 kB/s eta 0:34:59134 kB/s eta 0:34:56         | 213.1 MB 134 kB/s eta 0:34:54��██▊                  | 213.3 MB 134 kB/s eta 0:34:53�█████████▉                  | 213.5 MB 134 kB/s eta 0:34:5134 kB/s eta 0:34:48        | 214.1 MB 134 kB/s eta 0:34:47�██▉                  | 214.3 MB 134 kB/s eta 0:34:45█████████▉                  | 214.5 MB 134 kB/s eta 0:34:44135 kB/s eta 0:34:27         | 215.1 MB 135 kB/s eta 0:34:26��███                  | 215.3 MB 135 kB/s eta 0:34:24�██████████                  | 215.5 MB 135 kB/s eta 0:34:2335 kB/s eta 0:34:20        | 216.1 MB 135 kB/s eta 0:34:18�███                  | 216.3 MB 135 kB/s eta 0:34:17██████████                  | 216.5 MB 135 kB/s eta 0:34:15135 kB/s eta 0:34:12         | 217.0 MB 135 kB/s eta 0:34:11��███                  | 217.3 MB 135 kB/s eta 0:34:09"
     ]
    },
    {
     "name": "stdout",
     "output_type": "stream",
     "text": [
      "\u001b[K     |████████████████▍               | 253.1 MB 150 kB/s eta 0:26:5145 kB/s eta 0:34:05        | 218.1 MB 135 kB/s eta 0:34:03�███                  | 218.3 MB 135 kB/s eta 0:34:02██████████                  | 218.5 MB 135 kB/s eta 0:34:00███▏                 | 218.8 MB 135 kB/s eta 0:33:58 kB/s eta 0:33:57��████████▏                 | 219.2 MB 135 kB/s eta 0:33:55   | 219.4 MB 135 kB/s eta 0:33:54|██████████████▏                 | 219.6 MB 135 kB/s eta 0:33:52▏                 | 219.8 MB 135 kB/s eta 0:33:51 0:33:50��█████▏                 | 220.2 MB 135 kB/s eta 0:33:484 MB 135 kB/s eta 0:33:47�███████████▎                 | 220.6 MB 135 kB/s eta 0:33:45           | 220.8 MB 135 kB/s eta 0:33:44��██▎                 | 221.2 MB 135 kB/s eta 0:33:41kB/s eta 0:33:39�████████▎                 | 221.6 MB 135 kB/s eta 0:33:38  | 221.8 MB 135 kB/s eta 0:33:36██████████████▍                 | 222.0 MB 135 kB/s eta 0:33:35��                 | 222.2 MB 135 kB/s eta 0:33:33███▍                 | 222.4 MB 135 kB/s eta 0:33:32 kB/s eta 0:33:31��████████▍                 | 222.8 MB 135 kB/s eta 0:33:30   | 223.0 MB 135 kB/s eta 0:33:28|██████████████▍                 | 223.2 MB 135 kB/s eta 0:33:27▍                 | 223.4 MB 135 kB/s eta 0:33:25 0:33:24��█████▌                 | 223.8 MB 135 kB/s eta 0:33:220 MB 135 kB/s eta 0:33:21�███████████▌                 | 224.2 MB 135 kB/s eta 0:33:19           | 224.4 MB 135 kB/s eta 0:33:18��██▌                 | 224.8 MB 135 kB/s eta 0:33:15kB/s eta 0:33:13�████████▌                 | 225.2 MB 135 kB/s eta 0:33:12  | 225.4 MB 135 kB/s eta 0:33:11██████████████▋                 | 225.6 MB 135 kB/s eta 0:33:09��                 | 225.8 MB 135 kB/s eta 0:33:08███▋                 | 226.0 MB 136 kB/s eta 0:32:55 kB/s eta 0:32:53��████████▋                 | 226.4 MB 136 kB/s eta 0:32:52   | 226.6 MB 136 kB/s eta 0:32:50|██████████████▋                 | 226.8 MB 136 kB/s eta 0:32:49▋                 | 227.0 MB 136 kB/s eta 0:32:48 0:32:46��█████▊                 | 227.4 MB 136 kB/s eta 0:32:456 MB 136 kB/s eta 0:32:43�███████████▊                 | 227.8 MB 136 kB/s eta 0:32:42           | 228.0 MB 136 kB/s eta 0:32:40��██▊                 | 228.4 MB 136 kB/s eta 0:32:37kB/s eta 0:32:36�████████▊                 | 228.8 MB 136 kB/s eta 0:32:34  | 229.0 MB 136 kB/s eta 0:32:33██████████████▉                 | 229.2 MB 136 kB/s eta 0:32:32��                 | 229.4 MB 136 kB/s eta 0:32:30███▉                 | 229.6 MB 127 kB/s eta 0:34:51          | 229.8 MB 55 kB/s eta 1:19:18██████████▉                 | 230.1 MB 55 kB/s eta 1:19:155 kB/s eta 1:19:11��██▉                 | 230.5 MB 55 kB/s eta 1:19:08     |███████████████                 | 230.7 MB 55 kB/s eta 1:19:04      | 230.9 MB 55 kB/s eta 1:19:00��█████████                 | 231.1 MB 55 kB/s eta 1:18:57/s eta 1:18:53�██                 | 231.5 MB 55 kB/s eta 1:18:50 |███████████████                 | 231.7 MB 55 kB/s eta 1:18:46  | 231.9 MB 55 kB/s eta 1:18:42�████████                 | 232.1 MB 55 kB/s eta 1:18:39ta 1:18:35█                 | 232.5 MB 55 kB/s eta 1:18:32�██████████████                 | 232.7 MB 55 kB/s eta 1:18:28     | 232.9 MB 595 kB/s eta 0:07:21  |███████████████                 | 233.1 MB 595 kB/s eta 0:07:21��█                 | 233.3 MB 595 kB/s eta 0:07:21ta 0:07:20�███████                 | 233.7 MB 595 kB/s eta 0:07:203.9 MB 595 kB/s eta 0:07:20███████████████▏                | 234.1 MB 595 kB/s eta 0:07:19�█████████████▏                | 234.3 MB 595 kB/s eta 0:07:19��███████████▏                | 234.4 MB 595 kB/s eta 0:07:19██████████▏                | 234.6 MB 595 kB/s eta 0:07:18    |███████████████▏                | 235.1 MB 131 kB/s eta 0:33:07███████████████▏                | 235.3 MB 131 kB/s eta 0:33:06�█████████████▏                | 235.5 MB 131 kB/s eta 0:33:04��███████████▏                | 235.7 MB 131 kB/s eta 0:33:03██████████▎                | 235.9 MB 131 kB/s eta 0:33:01�████████▎                | 236.1 MB 131 kB/s eta 0:33:00��██████▎                | 236.3 MB 131 kB/s eta 0:32:58█████▎                | 236.5 MB 131 kB/s eta 0:32:57�███▎                | 236.6 MB 131 kB/s eta 0:32:56��█▎                | 236.8 MB 131 kB/s eta 0:32:54▎                | 237.0 MB 4.5 MB/s eta 0:00:58              | 237.2 MB 4.5 MB/s eta 0:00:57         | 237.4 MB 4.5 MB/s eta 0:00:57    | 237.6 MB 4.5 MB/s eta 0:00:57 237.8 MB 4.5 MB/s eta 0:00:57    |███████████████▍                | 238.1 MB 4.5 MB/s eta 0:00:57███████████████▍                | 238.3 MB 4.5 MB/s eta 0:00:57�█████████████▍                | 238.5 MB 4.5 MB/s eta 0:00:57��███████████▍                | 238.7 MB 4.5 MB/s eta 0:00:57██████████▍                | 238.9 MB 4.5 MB/s eta 0:00:57�████████▍                | 239.1 MB 4.5 MB/s eta 0:00:57��██████▌                | 239.3 MB 415 kB/s eta 0:10:17█████▌                | 239.5 MB 415 kB/s eta 0:10:17�███▌                | 239.7 MB 415 kB/s eta 0:10:16��█▌                | 239.9 MB 415 kB/s eta 0:10:16▌                | 240.0 MB 415 kB/s eta 0:10:15              | 240.2 MB 415 kB/s eta 0:10:15         | 240.4 MB 415 kB/s eta 0:10:14    | 240.6 MB 415 kB/s eta 0:10:14 240.8 MB 415 kB/s eta 0:10:13    |███████████████▋                | 241.1 MB 415 kB/s eta 0:10:13███████████████▋                | 241.3 MB 415 kB/s eta 0:10:12�█████████████▋                | 241.5 MB 415 kB/s eta 0:10:12��███████████▋                | 241.7 MB 415 kB/s eta 0:10:11██████████▋                | 241.9 MB 415 kB/s eta 0:10:11�████████▋                | 242.1 MB 415 kB/s eta 0:10:10██████████▋                | 242.3 MB 79.1 MB/s eta 0:00:04��██████████████▋                | 242.5 MB 79.1 MB/s eta 0:00:04/s eta 0:00:043.0 MB 79.1 MB/s eta 0:00:04          | 243.2 MB 79.1 MB/s eta 0:00:04��█▊                | 243.4 MB 79.1 MB/s eta 0:00:04�██████▊                | 243.5 MB 79.1 MB/s eta 0:00:04███████████▊                | 243.7 MB 79.1 MB/s eta 0:00:04 |███████████████▊                | 243.9 MB 79.1 MB/s eta 0:00:04:00:04     |███████████████▉                | 244.4 MB 150 kB/s eta 0:27:55|███████████████▉                | 244.6 MB 150 kB/s eta 0:27:53��█████████████▉                | 244.8 MB 150 kB/s eta 0:27:52████████████▉                | 245.0 MB 150 kB/s eta 0:27:51�██████████▉                | 245.2 MB 150 kB/s eta 0:27:49��████████▉                | 245.4 MB 150 kB/s eta 0:27:48███████▉                | 245.6 MB 150 kB/s eta 0:27:47�█████▉                | 245.8 MB 150 kB/s eta 0:27:46��███▉                | 246.0 MB 150 kB/s eta 0:27:44███                | 246.2 MB 150 kB/s eta 0:27:43�█                | 246.4 MB 150 kB/s eta 0:27:42               | 246.6 MB 150 kB/s eta 0:27:40          | 246.8 MB 150 kB/s eta 0:27:39     | 247.0 MB 150 kB/s eta 0:27:38    |████████████████                | 247.3 MB 155 kB/s eta 0:26:37████████████████                | 247.5 MB 155 kB/s eta 0:26:36�██████████████                | 247.7 MB 155 kB/s eta 0:26:35��████████████                | 247.9 MB 155 kB/s eta 0:26:33███████████                | 248.1 MB 155 kB/s eta 0:26:32�█████████                | 248.2 MB 155 kB/s eta 0:26:31��███████                | 248.4 MB 155 kB/s eta 0:26:30██████                | 248.6 MB 155 kB/s eta 0:26:28    |████████████████                | 248.9 MB 155 kB/s eta 0:26:27████████████████                | 249.1 MB 155 kB/s eta 0:26:25�██████████████                | 249.3 MB 155 kB/s eta 0:26:24��████████████                | 249.5 MB 155 kB/s eta 0:26:23eta 0:26:22             | 249.9 MB 155 kB/s eta 0:26:20�█████████▏               | 250.1 MB 155 kB/s eta 0:26:19:18  | 250.5 MB 150 kB/s eta 0:27:08��█████▏               | 250.7 MB 150 kB/s eta 0:27:07 |████████████████▏               | 250.9 MB 150 kB/s eta 0:27:051 MB 150 kB/s eta 0:27:04███▎               | 251.3 MB 150 kB/s eta 0:27:03██████████████▎               | 251.5 MB 150 kB/s eta 0:27:02 kB/s eta 0:27:00�▎               | 251.9 MB 150 kB/s eta 0:26:59  | 252.2 MB 150 kB/s eta 0:26:57��█████▎               | 252.4 MB 150 kB/s eta 0:26:56 |████████████████▎               | 252.6 MB 150 kB/s eta 0:26:548 MB 150 kB/s eta 0:26:53███▎               | 252.9 MB 150 kB/s eta 0:26:52"
     ]
    },
    {
     "name": "stdout",
     "output_type": "stream",
     "text": [
      "\u001b[K     |████████████████████            | 311.0 MB 992 kB/s eta 0:03:0603               | 253.5 MB 150 kB/s eta 0:26:48  | 253.8 MB 150 kB/s eta 0:26:47��█████▍               | 254.0 MB 150 kB/s eta 0:26:45 |████████████████▍               | 254.2 MB 150 kB/s eta 0:26:444 MB 150 kB/s eta 0:26:43███▍               | 254.6 MB 150 kB/s eta 0:26:42██████████████▌               | 254.8 MB 150 kB/s eta 0:26:40 kB/s eta 0:26:39�▌               | 255.2 MB 150 kB/s eta 0:26:38     |████████████████▌               | 255.3 MB 150 kB/s eta 0:26:37255.5 MB 150 kB/s eta 0:26:36�████▌               | 255.7 MB 150 kB/s eta 0:26:34�███████████████▌               | 255.8 MB 150 kB/s eta 0:26:33 150 kB/s eta 0:26:32��█▌               | 256.2 MB 150 kB/s eta 0:26:31��████████████▋               | 256.4 MB 150 kB/s eta 0:26:29s eta 0:10:35               | 256.8 MB 376 kB/s eta 0:10:34██████████▋               | 257.0 MB 376 kB/s eta 0:10:3410:33       | 257.4 MB 376 kB/s eta 0:10:33�███████▋               | 257.6 MB 376 kB/s eta 0:10:32K     |████████████████▋               | 257.8 MB 376 kB/s eta 0:10:32 257.9 MB 376 kB/s eta 0:10:31��████▊               | 258.1 MB 376 kB/s eta 0:10:31��███████████████▊               | 258.3 MB 376 kB/s eta 0:10:30B 376 kB/s eta 0:10:30██▊               | 258.7 MB 376 kB/s eta 0:10:29█████████████▊               | 258.9 MB 376 kB/s eta 0:10:29/s eta 0:10:28  | 259.4 MB 153 kB/s eta 0:25:34��█████▊               | 259.6 MB 153 kB/s eta 0:25:33 |████████████████▊               | 259.8 MB 153 kB/s eta 0:25:320 MB 153 kB/s eta 0:25:31███▉               | 260.2 MB 153 kB/s eta 0:25:29██████████████▉               | 260.4 MB 153 kB/s eta 0:25:28 kB/s eta 0:25:27�▉               | 260.7 MB 153 kB/s eta 0:25:26  | 261.0 MB 153 kB/s eta 0:25:24��█████▉               | 261.2 MB 153 kB/s eta 0:25:23 |████████████████▉               | 261.4 MB 153 kB/s eta 0:25:216 MB 153 kB/s eta 0:25:20████               | 261.8 MB 153 kB/s eta 0:25:19███████████████               | 262.0 MB 153 kB/s eta 0:25:18 kB/s eta 0:25:16�█               | 262.4 MB 153 kB/s eta 0:25:15  | 262.7 MB 149 kB/s eta 0:25:55��██████               | 262.9 MB 149 kB/s eta 0:25:54 |█████████████████               | 263.1 MB 149 kB/s eta 0:25:532 MB 149 kB/s eta 0:25:52████               | 263.4 MB 149 kB/s eta 0:25:50███████████████               | 263.6 MB 149 kB/s eta 0:25:49 kB/s eta 0:25:48�█               | 264.0 MB 149 kB/s eta 0:25:46  | 264.3 MB 149 kB/s eta 0:25:44��██████               | 264.5 MB 149 kB/s eta 0:25:43 |█████████████████               | 264.7 MB 149 kB/s eta 0:25:429 MB 149 kB/s eta 0:25:41��████████▏              | 265.1 MB 149 kB/s eta 0:25:39     | 265.3 MB 149 kB/s eta 0:25:38[K     |█████████████████▏              | 265.5 MB 149 kB/s eta 0:25:37███████▏              | 265.6 MB 149 kB/s eta 0:25:36| 265.8 MB 149 kB/s eta 0:25:34  |█████████████████▏              | 266.0 MB 149 kB/s eta 0:25:33�█████▏              | 266.2 MB 3.8 MB/s eta 0:01:00��███████▏              | 266.5 MB 3.8 MB/s eta 0:01:00  | 266.7 MB 3.8 MB/s eta 0:01:00    |█████████████████▎              | 266.9 MB 3.8 MB/s eta 0:01:00██████▎              | 267.1 MB 3.8 MB/s eta 0:01:0067.3 MB 3.8 MB/s eta 0:01:00█████████████████▎              | 267.5 MB 3.8 MB/s eta 0:01:00�████▎              | 267.6 MB 3.8 MB/s eta 0:01:00MB 5.6 MB/s eta 0:00:41�███████████████▎              | 268.0 MB 5.6 MB/s eta 0:00:41��██▎              | 268.2 MB 5.6 MB/s eta 0:00:416 MB/s eta 0:00:41��█████████████▍              | 268.6 MB 5.6 MB/s eta 0:00:41█▍              | 268.8 MB 5.6 MB/s eta 0:00:41��███████▍              | 269.1 MB 5.6 MB/s eta 0:00:41  | 269.3 MB 5.6 MB/s eta 0:00:41    |█████████████████▍              | 269.5 MB 5.6 MB/s eta 0:00:41��██████████████▍              | 269.7 MB 104.2 MB/s eta 0:00:03██████████████▍              | 269.8 MB 104.2 MB/s eta 0:00:03�█████████████▍              | 270.0 MB 104.2 MB/s eta 0:00:03��████████████▌              | 270.2 MB 104.2 MB/s eta 0:00:03████████████▌              | 270.4 MB 104.2 MB/s eta 0:00:03[K     |█████████████████▌              | 270.7 MB 104.2 MB/s eta 0:00:03     |█████████████████▌              | 270.9 MB 104.2 MB/s eta 0:00:03   |█████████████████▌              | 271.1 MB 104.2 MB/s eta 0:00:03 |█████████████████▌              | 271.3 MB 104.2 MB/s eta 0:00:03█████████████████▌              | 271.5 MB 104.2 MB/s eta 0:00:03�████████████████▌              | 271.7 MB 104.2 MB/s eta 0:00:03��███████████████▌              | 271.8 MB 104.2 MB/s eta 0:00:03███████████████▋              | 272.0 MB 104.2 MB/s eta 0:00:03�████████▋              | 272.4 MB 137 kB/s eta 0:27:07    | 272.6 MB 137 kB/s eta 0:27:06K     |█████████████████▋              | 272.8 MB 137 kB/s eta 0:27:04��██████▋              | 272.9 MB 137 kB/s eta 0:27:03 273.1 MB 137 kB/s eta 0:27:02 |█████████████████▋              | 273.3 MB 137 kB/s eta 0:27:00█████▋              | 273.5 MB 137 kB/s eta 0:26:597 MB 137 kB/s eta 0:26:58��███████▊              | 274.0 MB 137 kB/s eta 0:26:55  | 274.2 MB 137 kB/s eta 0:26:54    |█████████████████▊              | 274.4 MB 137 kB/s eta 0:26:52██████▊              | 274.6 MB 137 kB/s eta 0:26:5174.8 MB 137 kB/s eta 0:26:50█████████████████▊              | 275.0 MB 137 kB/s eta 0:26:48�████▊              | 275.1 MB 137 kB/s eta 0:26:47MB 137 kB/s eta 0:26:46��███████▉              | 275.7 MB 145 kB/s eta 0:25:17  | 275.8 MB 145 kB/s eta 0:25:16    |█████████████████▉              | 276.0 MB 145 kB/s eta 0:25:15██████▉              | 276.2 MB 145 kB/s eta 0:25:13"
     ]
    }
   ],
   "source": [
    "!pip install labelme tensorflow tensorflow-gpu opencv-python matplotlib albumentations"
   ]
  },
  {
   "cell_type": "markdown",
   "metadata": {},
   "source": [
    "### 1.2 Collect Images Using OpenCV"
   ]
  },
  {
   "cell_type": "code",
   "execution_count": null,
   "metadata": {
    "tags": []
   },
   "outputs": [],
   "source": [
    "import os\n",
    "import time\n",
    "import uuid\n",
    "import cv2"
   ]
  },
  {
   "cell_type": "code",
   "execution_count": null,
   "metadata": {
    "tags": []
   },
   "outputs": [],
   "source": [
    "IMAGES_PATH = os.path.join('data','images')\n",
    "number_images = 30"
   ]
  },
  {
   "cell_type": "code",
   "execution_count": null,
   "metadata": {
    "tags": []
   },
   "outputs": [],
   "source": [
    "cap = cv2.VideoCapture(1)\n",
    "for imgnum in range(number_images):\n",
    "    print('Collecting image {}'.format(imgnum))\n",
    "    ret, frame = cap.read()\n",
    "    imgname = os.path.join(IMAGES_PATH,f'{str(uuid.uuid1())}.jpg')\n",
    "    cv2.imwrite(imgname, frame)\n",
    "    cv2.imshow('frame', frame)\n",
    "    time.sleep(0.5)\n",
    "\n",
    "    if cv2.waitKey(1) & 0xFF == ord('q'):\n",
    "        break\n",
    "cap.release()\n",
    "cv2.destroyAllWindows()"
   ]
  },
  {
   "cell_type": "markdown",
   "metadata": {},
   "source": [
    "### 1.3 Annotate Images with LabelMe"
   ]
  },
  {
   "cell_type": "code",
   "execution_count": null,
   "metadata": {
    "tags": []
   },
   "outputs": [],
   "source": [
    "!labelme"
   ]
  },
  {
   "cell_type": "markdown",
   "metadata": {},
   "source": [
    "# 2. Review Dataset and Build Image Loading Function"
   ]
  },
  {
   "cell_type": "markdown",
   "metadata": {},
   "source": [
    "### 2.1 Import TF and Deps"
   ]
  },
  {
   "cell_type": "code",
   "execution_count": null,
   "metadata": {
    "tags": []
   },
   "outputs": [],
   "source": [
    "import tensorflow as tf\n",
    "import json\n",
    "import numpy as np\n",
    "from matplotlib import pyplot as plt"
   ]
  },
  {
   "cell_type": "markdown",
   "metadata": {},
   "source": [
    "### 2.2 Limit GPU Memory Growth"
   ]
  },
  {
   "cell_type": "code",
   "execution_count": null,
   "metadata": {
    "tags": []
   },
   "outputs": [],
   "source": [
    "# Avoid OOM errors by setting GPU Memory Consumption Growth\n",
    "gpus = tf.config.experimental.list_physical_devices('GPU')\n",
    "for gpu in gpus: \n",
    "    tf.config.experimental.set_memory_growth(gpu, True)"
   ]
  },
  {
   "cell_type": "code",
   "execution_count": null,
   "metadata": {
    "tags": []
   },
   "outputs": [],
   "source": [
    "tf.config.list_physical_devices('GPU')"
   ]
  },
  {
   "cell_type": "markdown",
   "metadata": {},
   "source": [
    "### 2.3 Load Image into TF Data Pipeline"
   ]
  },
  {
   "cell_type": "code",
   "execution_count": null,
   "metadata": {
    "tags": []
   },
   "outputs": [],
   "source": [
    "images = tf.data.Dataset.list_files('data\\\\images\\\\*.jpg')"
   ]
  },
  {
   "cell_type": "code",
   "execution_count": null,
   "metadata": {},
   "outputs": [],
   "source": [
    "images.as_numpy_iterator().next()"
   ]
  },
  {
   "cell_type": "code",
   "execution_count": null,
   "metadata": {
    "tags": []
   },
   "outputs": [],
   "source": [
    "def load_image(x): \n",
    "    byte_img = tf.io.read_file(x)\n",
    "    img = tf.io.decode_jpeg(byte_img)\n",
    "    return img"
   ]
  },
  {
   "cell_type": "code",
   "execution_count": null,
   "metadata": {
    "tags": []
   },
   "outputs": [],
   "source": [
    "images = images.map(load_image)"
   ]
  },
  {
   "cell_type": "code",
   "execution_count": null,
   "metadata": {
    "scrolled": true,
    "tags": []
   },
   "outputs": [],
   "source": [
    "images.as_numpy_iterator().next()"
   ]
  },
  {
   "cell_type": "code",
   "execution_count": null,
   "metadata": {},
   "outputs": [],
   "source": [
    "type(images)"
   ]
  },
  {
   "cell_type": "markdown",
   "metadata": {},
   "source": [
    "### 2.4 View Raw Images with Matplotlib"
   ]
  },
  {
   "cell_type": "code",
   "execution_count": null,
   "metadata": {
    "tags": []
   },
   "outputs": [],
   "source": [
    "image_generator = images.batch(4).as_numpy_iterator()"
   ]
  },
  {
   "cell_type": "code",
   "execution_count": null,
   "metadata": {
    "tags": []
   },
   "outputs": [],
   "source": [
    "plot_images = image_generator.next()"
   ]
  },
  {
   "cell_type": "code",
   "execution_count": null,
   "metadata": {
    "tags": []
   },
   "outputs": [],
   "source": [
    "fig, ax = plt.subplots(ncols=4, figsize=(20,20))\n",
    "for idx, image in enumerate(plot_images):\n",
    "    ax[idx].imshow(image) \n",
    "plt.show()"
   ]
  },
  {
   "cell_type": "markdown",
   "metadata": {},
   "source": [
    "# 3. Partition Unaugmented Data"
   ]
  },
  {
   "cell_type": "markdown",
   "metadata": {},
   "source": [
    "### 3.1 MANUALLY SPLT DATA INTO TRAIN TEST AND VAL"
   ]
  },
  {
   "cell_type": "code",
   "execution_count": null,
   "metadata": {},
   "outputs": [],
   "source": [
    "90*.7 # 63 to train"
   ]
  },
  {
   "cell_type": "code",
   "execution_count": null,
   "metadata": {},
   "outputs": [],
   "source": [
    "90*.15 # 14 and 13 to test and val"
   ]
  },
  {
   "cell_type": "markdown",
   "metadata": {},
   "source": [
    "### 3.2 Move the Matching Labels"
   ]
  },
  {
   "cell_type": "code",
   "execution_count": null,
   "metadata": {
    "tags": []
   },
   "outputs": [],
   "source": [
    "for folder in ['train','test','val']:\n",
    "    for file in os.listdir(os.path.join('data', folder, 'images')):\n",
    "        \n",
    "        filename = file.split('.')[0]+'.json'\n",
    "        existing_filepath = os.path.join('data','labels', filename)\n",
    "        if os.path.exists(existing_filepath): \n",
    "            new_filepath = os.path.join('data',folder,'labels',filename)\n",
    "            os.replace(existing_filepath, new_filepath)      "
   ]
  },
  {
   "cell_type": "markdown",
   "metadata": {},
   "source": [
    "# 4. Apply Image Augmentation on Images and Labels using Albumentations"
   ]
  },
  {
   "cell_type": "markdown",
   "metadata": {},
   "source": [
    "### 4.1 Setup Albumentations Transform Pipeline"
   ]
  },
  {
   "cell_type": "code",
   "execution_count": null,
   "metadata": {
    "tags": []
   },
   "outputs": [],
   "source": [
    "import albumentations as alb"
   ]
  },
  {
   "cell_type": "code",
   "execution_count": null,
   "metadata": {
    "tags": []
   },
   "outputs": [],
   "source": [
    "augmentor = alb.Compose([alb.RandomCrop(width=450, height=450), \n",
    "                         alb.HorizontalFlip(p=0.5), \n",
    "                         alb.RandomBrightnessContrast(p=0.2),\n",
    "                         alb.RandomGamma(p=0.2), \n",
    "                         alb.RGBShift(p=0.2), \n",
    "                         alb.VerticalFlip(p=0.5)], \n",
    "                       bbox_params=alb.BboxParams(format='albumentations', \n",
    "                                                  label_fields=['class_labels']))"
   ]
  },
  {
   "cell_type": "markdown",
   "metadata": {},
   "source": [
    "### 4.2 Load a Test Image and Annotation with OpenCV and JSON"
   ]
  },
  {
   "cell_type": "code",
   "execution_count": null,
   "metadata": {
    "tags": []
   },
   "outputs": [],
   "source": [
    "img = cv2.imread(os.path.join('data','train', 'images','ffd85fc5-cc1a-11ec-bfb8-a0cec8d2d278.jpg'))"
   ]
  },
  {
   "cell_type": "code",
   "execution_count": null,
   "metadata": {
    "tags": []
   },
   "outputs": [],
   "source": [
    "with open(os.path.join('data', 'train', 'labels', 'ffd85fc5-cc1a-11ec-bfb8-a0cec8d2d278.json'), 'r') as f:\n",
    "    label = json.load(f)"
   ]
  },
  {
   "cell_type": "code",
   "execution_count": null,
   "metadata": {},
   "outputs": [],
   "source": [
    "label['shapes'][0]['points']"
   ]
  },
  {
   "cell_type": "markdown",
   "metadata": {},
   "source": [
    "### 4.3 Extract Coordinates and Rescale to Match Image Resolution"
   ]
  },
  {
   "cell_type": "code",
   "execution_count": null,
   "metadata": {
    "tags": []
   },
   "outputs": [],
   "source": [
    "coords = [0,0,0,0]\n",
    "coords[0] = label['shapes'][0]['points'][0][0]\n",
    "coords[1] = label['shapes'][0]['points'][0][1]\n",
    "coords[2] = label['shapes'][0]['points'][1][0]\n",
    "coords[3] = label['shapes'][0]['points'][1][1]"
   ]
  },
  {
   "cell_type": "code",
   "execution_count": null,
   "metadata": {},
   "outputs": [],
   "source": [
    "coords"
   ]
  },
  {
   "cell_type": "code",
   "execution_count": null,
   "metadata": {
    "tags": []
   },
   "outputs": [],
   "source": [
    "coords = list(np.divide(coords, [640,480,640,480]))"
   ]
  },
  {
   "cell_type": "code",
   "execution_count": null,
   "metadata": {},
   "outputs": [],
   "source": [
    "coords"
   ]
  },
  {
   "cell_type": "markdown",
   "metadata": {},
   "source": [
    "### 4.4 Apply Augmentations and View Results"
   ]
  },
  {
   "cell_type": "code",
   "execution_count": null,
   "metadata": {
    "tags": []
   },
   "outputs": [],
   "source": [
    "augmented = augmentor(image=img, bboxes=[coords], class_labels=['face'])"
   ]
  },
  {
   "cell_type": "code",
   "execution_count": null,
   "metadata": {
    "tags": []
   },
   "outputs": [],
   "source": [
    "augmented['bboxes'][0][2:]"
   ]
  },
  {
   "cell_type": "code",
   "execution_count": null,
   "metadata": {},
   "outputs": [],
   "source": [
    "augmented['bboxes']"
   ]
  },
  {
   "cell_type": "code",
   "execution_count": null,
   "metadata": {
    "tags": []
   },
   "outputs": [],
   "source": [
    "cv2.rectangle(augmented['image'], \n",
    "              tuple(np.multiply(augmented['bboxes'][0][:2], [450,450]).astype(int)),\n",
    "              tuple(np.multiply(augmented['bboxes'][0][2:], [450,450]).astype(int)), \n",
    "                    (255,0,0), 2)\n",
    "\n",
    "plt.imshow(augmented['image'])"
   ]
  },
  {
   "cell_type": "markdown",
   "metadata": {},
   "source": [
    "# 5. Build and Run Augmentation Pipeline"
   ]
  },
  {
   "cell_type": "markdown",
   "metadata": {},
   "source": [
    "### 5.1 Run Augmentation Pipeline"
   ]
  },
  {
   "cell_type": "code",
   "execution_count": null,
   "metadata": {
    "tags": []
   },
   "outputs": [],
   "source": [
    "for partition in ['train','test','val']: \n",
    "    for image in os.listdir(os.path.join('data', partition, 'images')):\n",
    "        img = cv2.imread(os.path.join('data', partition, 'images', image))\n",
    "\n",
    "        coords = [0,0,0.00001,0.00001]\n",
    "        label_path = os.path.join('data', partition, 'labels', f'{image.split(\".\")[0]}.json')\n",
    "        if os.path.exists(label_path):\n",
    "            with open(label_path, 'r') as f:\n",
    "                label = json.load(f)\n",
    "\n",
    "            coords[0] = label['shapes'][0]['points'][0][0]\n",
    "            coords[1] = label['shapes'][0]['points'][0][1]\n",
    "            coords[2] = label['shapes'][0]['points'][1][0]\n",
    "            coords[3] = label['shapes'][0]['points'][1][1]\n",
    "            coords = list(np.divide(coords, [640,480,640,480]))\n",
    "\n",
    "        try: \n",
    "            for x in range(60):\n",
    "                augmented = augmentor(image=img, bboxes=[coords], class_labels=['face'])\n",
    "                cv2.imwrite(os.path.join('aug_data', partition, 'images', f'{image.split(\".\")[0]}.{x}.jpg'), augmented['image'])\n",
    "\n",
    "                annotation = {}\n",
    "                annotation['image'] = image\n",
    "\n",
    "                if os.path.exists(label_path):\n",
    "                    if len(augmented['bboxes']) == 0: \n",
    "                        annotation['bbox'] = [0,0,0,0]\n",
    "                        annotation['class'] = 0 \n",
    "                    else: \n",
    "                        annotation['bbox'] = augmented['bboxes'][0]\n",
    "                        annotation['class'] = 1\n",
    "                else: \n",
    "                    annotation['bbox'] = [0,0,0,0]\n",
    "                    annotation['class'] = 0 \n",
    "\n",
    "\n",
    "                with open(os.path.join('aug_data', partition, 'labels', f'{image.split(\".\")[0]}.{x}.json'), 'w') as f:\n",
    "                    json.dump(annotation, f)\n",
    "\n",
    "        except Exception as e:\n",
    "            print(e)"
   ]
  },
  {
   "cell_type": "markdown",
   "metadata": {},
   "source": [
    "### 5.2 Load Augmented Images to Tensorflow Dataset"
   ]
  },
  {
   "cell_type": "code",
   "execution_count": null,
   "metadata": {
    "tags": []
   },
   "outputs": [],
   "source": [
    "train_images = tf.data.Dataset.list_files('aug_data\\\\train\\\\images\\\\*.jpg', shuffle=False)\n",
    "train_images = train_images.map(load_image)\n",
    "train_images = train_images.map(lambda x: tf.image.resize(x, (120,120)))\n",
    "train_images = train_images.map(lambda x: x/255)"
   ]
  },
  {
   "cell_type": "code",
   "execution_count": null,
   "metadata": {
    "tags": []
   },
   "outputs": [],
   "source": [
    "test_images = tf.data.Dataset.list_files('aug_data\\\\test\\\\images\\\\*.jpg', shuffle=False)\n",
    "test_images = test_images.map(load_image)\n",
    "test_images = test_images.map(lambda x: tf.image.resize(x, (120,120)))\n",
    "test_images = test_images.map(lambda x: x/255)"
   ]
  },
  {
   "cell_type": "code",
   "execution_count": null,
   "metadata": {
    "tags": []
   },
   "outputs": [],
   "source": [
    "val_images = tf.data.Dataset.list_files('aug_data\\\\val\\\\images\\\\*.jpg', shuffle=False)\n",
    "val_images = val_images.map(load_image)\n",
    "val_images = val_images.map(lambda x: tf.image.resize(x, (120,120)))\n",
    "val_images = val_images.map(lambda x: x/255)"
   ]
  },
  {
   "cell_type": "code",
   "execution_count": null,
   "metadata": {
    "tags": []
   },
   "outputs": [],
   "source": [
    "train_images.as_numpy_iterator().next()"
   ]
  },
  {
   "cell_type": "markdown",
   "metadata": {},
   "source": [
    "# 6. Prepare Labels"
   ]
  },
  {
   "cell_type": "markdown",
   "metadata": {},
   "source": [
    "### 6.1 Build Label Loading Function"
   ]
  },
  {
   "cell_type": "code",
   "execution_count": null,
   "metadata": {
    "tags": []
   },
   "outputs": [],
   "source": [
    "def load_labels(label_path):\n",
    "    with open(label_path.numpy(), 'r', encoding = \"utf-8\") as f:\n",
    "        label = json.load(f)\n",
    "        \n",
    "    return [label['class']], label['bbox']"
   ]
  },
  {
   "cell_type": "markdown",
   "metadata": {},
   "source": [
    "### 6.2 Load Labels to Tensorflow Dataset"
   ]
  },
  {
   "cell_type": "code",
   "execution_count": null,
   "metadata": {
    "tags": []
   },
   "outputs": [],
   "source": [
    "train_labels = tf.data.Dataset.list_files('aug_data\\\\train\\\\labels\\\\*.json', shuffle=False)\n",
    "train_labels = train_labels.map(lambda x: tf.py_function(load_labels, [x], [tf.uint8, tf.float16]))"
   ]
  },
  {
   "cell_type": "code",
   "execution_count": null,
   "metadata": {
    "tags": []
   },
   "outputs": [],
   "source": [
    "test_labels = tf.data.Dataset.list_files('aug_data\\\\test\\\\labels\\\\*.json', shuffle=False)\n",
    "test_labels = test_labels.map(lambda x: tf.py_function(load_labels, [x], [tf.uint8, tf.float16]))"
   ]
  },
  {
   "cell_type": "code",
   "execution_count": null,
   "metadata": {
    "tags": []
   },
   "outputs": [],
   "source": [
    "val_labels = tf.data.Dataset.list_files('aug_data\\\\val\\\\labels\\\\*.json', shuffle=False)\n",
    "val_labels = val_labels.map(lambda x: tf.py_function(load_labels, [x], [tf.uint8, tf.float16]))"
   ]
  },
  {
   "cell_type": "code",
   "execution_count": null,
   "metadata": {},
   "outputs": [],
   "source": [
    "train_labels.as_numpy_iterator().next()"
   ]
  },
  {
   "cell_type": "markdown",
   "metadata": {},
   "source": [
    "# 7. Combine Label and Image Samples"
   ]
  },
  {
   "cell_type": "markdown",
   "metadata": {},
   "source": [
    "### 7.1 Check Partition Lengths"
   ]
  },
  {
   "cell_type": "code",
   "execution_count": null,
   "metadata": {
    "tags": []
   },
   "outputs": [],
   "source": [
    "len(train_images), len(train_labels), len(test_images), len(test_labels), len(val_images), len(val_labels)"
   ]
  },
  {
   "cell_type": "markdown",
   "metadata": {},
   "source": [
    "### 7.2 Create Final Datasets (Images/Labels)"
   ]
  },
  {
   "cell_type": "code",
   "execution_count": null,
   "metadata": {
    "tags": []
   },
   "outputs": [],
   "source": [
    "train = tf.data.Dataset.zip((train_images, train_labels))\n",
    "train = train.shuffle(5000)\n",
    "train = train.batch(8)\n",
    "train = train.prefetch(4)"
   ]
  },
  {
   "cell_type": "code",
   "execution_count": null,
   "metadata": {
    "tags": []
   },
   "outputs": [],
   "source": [
    "test = tf.data.Dataset.zip((test_images, test_labels))\n",
    "test = test.shuffle(1300)\n",
    "test = test.batch(8)\n",
    "test = test.prefetch(4)"
   ]
  },
  {
   "cell_type": "code",
   "execution_count": null,
   "metadata": {
    "tags": []
   },
   "outputs": [],
   "source": [
    "val = tf.data.Dataset.zip((val_images, val_labels))\n",
    "val = val.shuffle(1000)\n",
    "val = val.batch(8)\n",
    "val = val.prefetch(4)"
   ]
  },
  {
   "cell_type": "code",
   "execution_count": null,
   "metadata": {
    "tags": []
   },
   "outputs": [],
   "source": [
    "train.as_numpy_iterator().next()[1]"
   ]
  },
  {
   "cell_type": "markdown",
   "metadata": {},
   "source": [
    "### 7.3 View Images and Annotations"
   ]
  },
  {
   "cell_type": "code",
   "execution_count": null,
   "metadata": {
    "scrolled": true,
    "tags": []
   },
   "outputs": [],
   "source": [
    "data_samples = train.as_numpy_iterator()"
   ]
  },
  {
   "cell_type": "code",
   "execution_count": null,
   "metadata": {
    "tags": []
   },
   "outputs": [],
   "source": [
    "res = data_samples.next()"
   ]
  },
  {
   "cell_type": "code",
   "execution_count": null,
   "metadata": {
    "tags": []
   },
   "outputs": [],
   "source": [
    "fig, ax = plt.subplots(ncols=4, figsize=(20,20))\n",
    "for idx in range(4): \n",
    "    sample_image = res[0][idx]\n",
    "    sample_coords = res[1][1][idx]\n",
    "    \n",
    "    cv2.rectangle(sample_image, \n",
    "                  tuple(np.multiply(sample_coords[:2], [120,120]).astype(int)),\n",
    "                  tuple(np.multiply(sample_coords[2:], [120,120]).astype(int)), \n",
    "                        (255,0,0), 2)\n",
    "\n",
    "    ax[idx].imshow(sample_image)"
   ]
  },
  {
   "cell_type": "markdown",
   "metadata": {},
   "source": [
    "# 8. Build Deep Learning using the Functional API"
   ]
  },
  {
   "cell_type": "markdown",
   "metadata": {},
   "source": [
    "### 8.1 Import Layers and Base Network"
   ]
  },
  {
   "cell_type": "code",
   "execution_count": null,
   "metadata": {
    "tags": []
   },
   "outputs": [],
   "source": [
    "from tensorflow.keras.models import Model\n",
    "from tensorflow.keras.layers import Input, Conv2D, Dense, GlobalMaxPooling2D\n",
    "from tensorflow.keras.applications import VGG16"
   ]
  },
  {
   "cell_type": "markdown",
   "metadata": {},
   "source": [
    "### 8.2 Download VGG16"
   ]
  },
  {
   "cell_type": "code",
   "execution_count": null,
   "metadata": {
    "tags": []
   },
   "outputs": [],
   "source": [
    "vgg = VGG16(include_top=False)"
   ]
  },
  {
   "cell_type": "code",
   "execution_count": null,
   "metadata": {
    "tags": []
   },
   "outputs": [],
   "source": [
    "vgg.summary()"
   ]
  },
  {
   "cell_type": "markdown",
   "metadata": {},
   "source": [
    "### 8.3 Build instance of Network"
   ]
  },
  {
   "cell_type": "code",
   "execution_count": null,
   "metadata": {
    "tags": []
   },
   "outputs": [],
   "source": [
    "def build_model(): \n",
    "    input_layer = Input(shape=(120,120,3))\n",
    "    \n",
    "    vgg = VGG16(include_top=False)(input_layer)\n",
    "\n",
    "    # Classification Model  \n",
    "    f1 = GlobalMaxPooling2D()(vgg)\n",
    "    class1 = Dense(2048, activation='relu')(f1)\n",
    "    class2 = Dense(1, activation='sigmoid')(class1)\n",
    "    \n",
    "    # Bounding box model\n",
    "    f2 = GlobalMaxPooling2D()(vgg)\n",
    "    regress1 = Dense(2048, activation='relu')(f2)\n",
    "    regress2 = Dense(4, activation='sigmoid')(regress1)\n",
    "    \n",
    "    facetracker = Model(inputs=input_layer, outputs=[class2, regress2])\n",
    "    return facetracker"
   ]
  },
  {
   "cell_type": "markdown",
   "metadata": {},
   "source": [
    "### 8.4 Test out Neural Network"
   ]
  },
  {
   "cell_type": "code",
   "execution_count": null,
   "metadata": {
    "tags": []
   },
   "outputs": [],
   "source": [
    "facetracker = build_model()"
   ]
  },
  {
   "cell_type": "code",
   "execution_count": null,
   "metadata": {
    "tags": []
   },
   "outputs": [],
   "source": [
    "facetracker.summary()"
   ]
  },
  {
   "cell_type": "code",
   "execution_count": null,
   "metadata": {
    "tags": []
   },
   "outputs": [],
   "source": [
    "X, y = train.as_numpy_iterator().next()"
   ]
  },
  {
   "cell_type": "code",
   "execution_count": null,
   "metadata": {
    "tags": []
   },
   "outputs": [],
   "source": [
    "X.shape"
   ]
  },
  {
   "cell_type": "code",
   "execution_count": null,
   "metadata": {
    "tags": []
   },
   "outputs": [],
   "source": [
    "classes, coords = facetracker.predict(X)"
   ]
  },
  {
   "cell_type": "code",
   "execution_count": null,
   "metadata": {
    "tags": []
   },
   "outputs": [],
   "source": [
    "classes, coords"
   ]
  },
  {
   "cell_type": "markdown",
   "metadata": {},
   "source": [
    "# 9. Define Losses and Optimizers"
   ]
  },
  {
   "cell_type": "markdown",
   "metadata": {},
   "source": [
    "### 9.1 Define Optimizer and LR"
   ]
  },
  {
   "cell_type": "code",
   "execution_count": null,
   "metadata": {
    "tags": []
   },
   "outputs": [],
   "source": [
    "batches_per_epoch = len(train)\n",
    "lr_decay = (1./0.75 -1)/batches_per_epoch"
   ]
  },
  {
   "cell_type": "code",
   "execution_count": null,
   "metadata": {
    "tags": []
   },
   "outputs": [],
   "source": [
    "opt = tf.keras.optimizers.Adam(learning_rate=0.0001, decay=lr_decay)"
   ]
  },
  {
   "cell_type": "markdown",
   "metadata": {},
   "source": [
    "### 9.2 Create Localization Loss and Classification Loss"
   ]
  },
  {
   "cell_type": "code",
   "execution_count": null,
   "metadata": {
    "tags": []
   },
   "outputs": [],
   "source": [
    "def localization_loss(y_true, yhat):            \n",
    "    delta_coord = tf.reduce_sum(tf.square(y_true[:,:2] - yhat[:,:2]))\n",
    "                  \n",
    "    h_true = y_true[:,3] - y_true[:,1] \n",
    "    w_true = y_true[:,2] - y_true[:,0] \n",
    "\n",
    "    h_pred = yhat[:,3] - yhat[:,1] \n",
    "    w_pred = yhat[:,2] - yhat[:,0] \n",
    "    \n",
    "    delta_size = tf.reduce_sum(tf.square(w_true - w_pred) + tf.square(h_true-h_pred))\n",
    "    \n",
    "    return delta_coord + delta_size"
   ]
  },
  {
   "cell_type": "code",
   "execution_count": null,
   "metadata": {
    "tags": []
   },
   "outputs": [],
   "source": [
    "classloss = tf.keras.losses.BinaryCrossentropy()\n",
    "regressloss = localization_loss"
   ]
  },
  {
   "cell_type": "markdown",
   "metadata": {},
   "source": [
    "### 9.3 Test out Loss Metrics"
   ]
  },
  {
   "cell_type": "code",
   "execution_count": null,
   "metadata": {
    "tags": []
   },
   "outputs": [],
   "source": [
    "localization_loss(y[1], coords)"
   ]
  },
  {
   "cell_type": "code",
   "execution_count": null,
   "metadata": {
    "tags": []
   },
   "outputs": [],
   "source": [
    "classloss(y[0], classes)"
   ]
  },
  {
   "cell_type": "code",
   "execution_count": null,
   "metadata": {
    "tags": []
   },
   "outputs": [],
   "source": [
    "regressloss(y[1], coords)"
   ]
  },
  {
   "cell_type": "markdown",
   "metadata": {},
   "source": [
    "# 10. Train Neural Network"
   ]
  },
  {
   "cell_type": "markdown",
   "metadata": {},
   "source": [
    "### 10.1 Create Custom Model Class"
   ]
  },
  {
   "cell_type": "code",
   "execution_count": null,
   "metadata": {
    "tags": []
   },
   "outputs": [],
   "source": [
    "class FaceTracker(Model): \n",
    "    def __init__(self, eyetracker,  **kwargs): \n",
    "        super().__init__(**kwargs)\n",
    "        self.model = eyetracker\n",
    "\n",
    "    def compile(self, opt, classloss, localizationloss, **kwargs):\n",
    "        super().compile(**kwargs)\n",
    "        self.closs = classloss\n",
    "        self.lloss = localizationloss\n",
    "        self.opt = opt\n",
    "    \n",
    "    def train_step(self, batch, **kwargs): \n",
    "        \n",
    "        X, y = batch\n",
    "        \n",
    "        with tf.GradientTape() as tape: \n",
    "            classes, coords = self.model(X, training=True)\n",
    "            \n",
    "            batch_classloss = self.closs(y[0], classes)\n",
    "            batch_localizationloss = self.lloss(tf.cast(y[1], tf.float32), coords)\n",
    "            \n",
    "            total_loss = batch_localizationloss+0.5*batch_classloss\n",
    "            \n",
    "            grad = tape.gradient(total_loss, self.model.trainable_variables)\n",
    "        \n",
    "        opt.apply_gradients(zip(grad, self.model.trainable_variables))\n",
    "        \n",
    "        return {\"total_loss\":total_loss, \"class_loss\":batch_classloss, \"regress_loss\":batch_localizationloss}\n",
    "    \n",
    "    def test_step(self, batch, **kwargs): \n",
    "        X, y = batch\n",
    "        \n",
    "        classes, coords = self.model(X, training=False)\n",
    "        \n",
    "        batch_classloss = self.closs(y[0], classes)\n",
    "        batch_localizationloss = self.lloss(tf.cast(y[1], tf.float32), coords)\n",
    "        total_loss = batch_localizationloss+0.5*batch_classloss\n",
    "        \n",
    "        return {\"total_loss\":total_loss, \"class_loss\":batch_classloss, \"regress_loss\":batch_localizationloss}\n",
    "        \n",
    "    def call(self, X, **kwargs): \n",
    "        return self.model(X, **kwargs)"
   ]
  },
  {
   "cell_type": "code",
   "execution_count": null,
   "metadata": {
    "tags": []
   },
   "outputs": [],
   "source": [
    "model = FaceTracker(facetracker)"
   ]
  },
  {
   "cell_type": "code",
   "execution_count": null,
   "metadata": {
    "tags": []
   },
   "outputs": [],
   "source": [
    "model.compile(opt, classloss, regressloss)"
   ]
  },
  {
   "cell_type": "markdown",
   "metadata": {},
   "source": [
    "### 10.2 Train"
   ]
  },
  {
   "cell_type": "code",
   "execution_count": null,
   "metadata": {
    "tags": []
   },
   "outputs": [],
   "source": [
    "logdir='logs'"
   ]
  },
  {
   "cell_type": "code",
   "execution_count": null,
   "metadata": {
    "tags": []
   },
   "outputs": [],
   "source": [
    "tensorboard_callback = tf.keras.callbacks.TensorBoard(log_dir=logdir)"
   ]
  },
  {
   "cell_type": "code",
   "execution_count": null,
   "metadata": {
    "scrolled": true,
    "tags": []
   },
   "outputs": [],
   "source": [
    "hist = model.fit(train, epochs=10, validation_data=val, callbacks=[tensorboard_callback])"
   ]
  },
  {
   "cell_type": "markdown",
   "metadata": {},
   "source": [
    "### 10.3 Plot Performance"
   ]
  },
  {
   "cell_type": "code",
   "execution_count": null,
   "metadata": {
    "scrolled": true,
    "tags": []
   },
   "outputs": [],
   "source": [
    "hist.history"
   ]
  },
  {
   "cell_type": "code",
   "execution_count": null,
   "metadata": {
    "tags": []
   },
   "outputs": [],
   "source": [
    "fig, ax = plt.subplots(ncols=3, figsize=(20,5))\n",
    "\n",
    "ax[0].plot(hist.history['total_loss'], color='teal', label='loss')\n",
    "ax[0].plot(hist.history['val_total_loss'], color='orange', label='val loss')\n",
    "ax[0].title.set_text('Loss')\n",
    "ax[0].legend()\n",
    "\n",
    "ax[1].plot(hist.history['class_loss'], color='teal', label='class loss')\n",
    "ax[1].plot(hist.history['val_class_loss'], color='orange', label='val class loss')\n",
    "ax[1].title.set_text('Classification Loss')\n",
    "ax[1].legend()\n",
    "\n",
    "ax[2].plot(hist.history['regress_loss'], color='teal', label='regress loss')\n",
    "ax[2].plot(hist.history['val_regress_loss'], color='orange', label='val regress loss')\n",
    "ax[2].title.set_text('Regression Loss')\n",
    "ax[2].legend()\n",
    "\n",
    "plt.show()"
   ]
  },
  {
   "cell_type": "markdown",
   "metadata": {},
   "source": [
    "# 11. Make Predictions"
   ]
  },
  {
   "cell_type": "markdown",
   "metadata": {},
   "source": [
    "### 11.1 Make Predictions on Test Set"
   ]
  },
  {
   "cell_type": "code",
   "execution_count": null,
   "metadata": {
    "tags": []
   },
   "outputs": [],
   "source": [
    "test_data = test.as_numpy_iterator()"
   ]
  },
  {
   "cell_type": "code",
   "execution_count": null,
   "metadata": {
    "tags": []
   },
   "outputs": [],
   "source": [
    "test_sample = test_data.next()"
   ]
  },
  {
   "cell_type": "code",
   "execution_count": null,
   "metadata": {
    "tags": []
   },
   "outputs": [],
   "source": [
    "yhat = facetracker.predict(test_sample[0])"
   ]
  },
  {
   "cell_type": "code",
   "execution_count": null,
   "metadata": {
    "tags": []
   },
   "outputs": [],
   "source": [
    "fig, ax = plt.subplots(ncols=4, figsize=(20,20))\n",
    "for idx in range(4): \n",
    "    sample_image = test_sample[0][idx]\n",
    "    sample_coords = yhat[1][idx]\n",
    "    \n",
    "    if yhat[0][idx] > 0.9:\n",
    "        cv2.rectangle(sample_image, \n",
    "                      tuple(np.multiply(sample_coords[:2], [120,120]).astype(int)),\n",
    "                      tuple(np.multiply(sample_coords[2:], [120,120]).astype(int)), \n",
    "                            (255,0,0), 2)\n",
    "    \n",
    "    ax[idx].imshow(sample_image)"
   ]
  },
  {
   "cell_type": "markdown",
   "metadata": {},
   "source": [
    "### 11.2 Save the Model"
   ]
  },
  {
   "cell_type": "code",
   "execution_count": null,
   "metadata": {
    "tags": []
   },
   "outputs": [],
   "source": [
    "from tensorflow.keras.models import load_model"
   ]
  },
  {
   "cell_type": "code",
   "execution_count": null,
   "metadata": {
    "tags": []
   },
   "outputs": [],
   "source": [
    "facetracker.save('facetracker.h5')"
   ]
  },
  {
   "cell_type": "code",
   "execution_count": null,
   "metadata": {
    "tags": []
   },
   "outputs": [],
   "source": [
    "facetracker = load_model('facetracker.h5')"
   ]
  },
  {
   "cell_type": "markdown",
   "metadata": {},
   "source": [
    "### 11.3 Real Time Detection"
   ]
  },
  {
   "cell_type": "code",
   "execution_count": null,
   "metadata": {
    "tags": []
   },
   "outputs": [],
   "source": [
    "cap = cv2.VideoCapture(1)\n",
    "while cap.isOpened():\n",
    "    _ , frame = cap.read()\n",
    "    frame = frame[50:500, 50:500,:]\n",
    "    \n",
    "    rgb = cv2.cvtColor(frame, cv2.COLOR_BGR2RGB)\n",
    "    resized = tf.image.resize(rgb, (120,120))\n",
    "    \n",
    "    yhat = facetracker.predict(np.expand_dims(resized/255,0))\n",
    "    sample_coords = yhat[1][0]\n",
    "    \n",
    "    if yhat[0] > 0.5: \n",
    "        # Controls the main rectangle\n",
    "        cv2.rectangle(frame, \n",
    "                      tuple(np.multiply(sample_coords[:2], [450,450]).astype(int)),\n",
    "                      tuple(np.multiply(sample_coords[2:], [450,450]).astype(int)), \n",
    "                            (255,0,0), 2)\n",
    "        # Controls the label rectangle\n",
    "        cv2.rectangle(frame, \n",
    "                      tuple(np.add(np.multiply(sample_coords[:2], [450,450]).astype(int), \n",
    "                                    [0,-30])),\n",
    "                      tuple(np.add(np.multiply(sample_coords[:2], [450,450]).astype(int),\n",
    "                                    [80,0])), \n",
    "                            (255,0,0), -1)\n",
    "        \n",
    "        # Controls the text rendered\n",
    "        cv2.putText(frame, 'face', tuple(np.add(np.multiply(sample_coords[:2], [450,450]).astype(int),\n",
    "                                               [0,-5])),\n",
    "                    cv2.FONT_HERSHEY_SIMPLEX, 1, (255,255,255), 2, cv2.LINE_AA)\n",
    "    \n",
    "    cv2.imshow('EyeTrack', frame)\n",
    "    \n",
    "    if cv2.waitKey(1) & 0xFF == ord('q'):\n",
    "        break\n",
    "cap.release()\n",
    "cv2.destroyAllWindows()"
   ]
  },
  {
   "cell_type": "code",
   "execution_count": null,
   "metadata": {},
   "outputs": [],
   "source": []
  }
 ],
 "metadata": {
  "kernelspec": {
   "display_name": "Python 3 (ipykernel)",
   "language": "python",
   "name": "python3"
  },
  "language_info": {
   "codemirror_mode": {
    "name": "ipython",
    "version": 3
   },
   "file_extension": ".py",
   "mimetype": "text/x-python",
   "name": "python",
   "nbconvert_exporter": "python",
   "pygments_lexer": "ipython3",
   "version": "3.9.12"
  }
 },
 "nbformat": 4,
 "nbformat_minor": 4
}
